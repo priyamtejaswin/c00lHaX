{
 "cells": [
  {
   "cell_type": "code",
   "execution_count": 1,
   "metadata": {},
   "outputs": [],
   "source": [
    "import numpy as np\n",
    "np.random.seed(1234)"
   ]
  },
  {
   "cell_type": "code",
   "execution_count": 2,
   "metadata": {
    "collapsed": true
   },
   "outputs": [],
   "source": [
    "from IPython.core.debugger import set_trace"
   ]
  },
  {
   "cell_type": "code",
   "execution_count": 38,
   "metadata": {
    "collapsed": true
   },
   "outputs": [],
   "source": [
    "target_phrase = np.array(list(\"et tu brute?\".lower()))\n",
    "target_len = len(target_phrase)"
   ]
  },
  {
   "cell_type": "code",
   "execution_count": 39,
   "metadata": {
    "collapsed": true
   },
   "outputs": [],
   "source": [
    "import string"
   ]
  },
  {
   "cell_type": "code",
   "execution_count": 52,
   "metadata": {
    "collapsed": true
   },
   "outputs": [],
   "source": [
    "vocab = np.array(list(set(string.ascii_lowercase).union(set(target_phrase))))"
   ]
  },
  {
   "cell_type": "code",
   "execution_count": 53,
   "metadata": {},
   "outputs": [
    {
     "data": {
      "text/plain": [
       "array(['a', 'c', 'b', 'e', 'd', 'g', 'f', 'i', 'h', 'k', 'j', 'm', 'l',\n",
       "       'o', 'n', 'q', 'p', 's', 'r', 'u', 't', 'w', 'v', 'y', 'x', 'z',\n",
       "       '?'], dtype='|S1')"
      ]
     },
     "execution_count": 53,
     "metadata": {},
     "output_type": "execute_result"
    }
   ],
   "source": [
    "vocab"
   ]
  },
  {
   "cell_type": "code",
   "execution_count": 54,
   "metadata": {
    "collapsed": true
   },
   "outputs": [],
   "source": [
    "POP_SIZE = 500\n",
    "MUTATION_RATE = 0.005"
   ]
  },
  {
   "cell_type": "code",
   "execution_count": 55,
   "metadata": {
    "collapsed": true
   },
   "outputs": [],
   "source": [
    "class Organism:\n",
    "    def __init__(self, dna=None):\n",
    "        if dna is None:\n",
    "            self.dna = np.random.choice(vocab, target_len, replace=True)\n",
    "        else:\n",
    "            self.dna = dna\n",
    "        self.name = \"\".join(self.dna)\n",
    "        self.size = len(self.dna)\n",
    "        self.mid = self.size // 2\n",
    "    \n",
    "    def fitness(self):\n",
    "        return np.mean(self.dna == target_phrase)"
   ]
  },
  {
   "cell_type": "code",
   "execution_count": 56,
   "metadata": {},
   "outputs": [],
   "source": [
    "def create_population(n=POP_SIZE):\n",
    "    return [Organism() for _ in range(n)]"
   ]
  },
  {
   "cell_type": "code",
   "execution_count": 57,
   "metadata": {
    "collapsed": true
   },
   "outputs": [],
   "source": [
    "def create_pool(org_list):\n",
    "    num = len(org_list)\n",
    "    scores = np.array([o.fitness() for o in org_list])\n",
    "    proba = scores / np.sum(scores)\n",
    "    return np.random.choice(org_list, num, p=proba)"
   ]
  },
  {
   "cell_type": "code",
   "execution_count": 58,
   "metadata": {
    "collapsed": true
   },
   "outputs": [],
   "source": [
    "def natural_selection(org_list):\n",
    "    num = len(org_list)\n",
    "    next_gen = []\n",
    "    for _ in range(num):\n",
    "        a, b = np.random.choice(org_list, 2, replace=False)\n",
    "        child = crossover(a, b)\n",
    "        child = mutate(child)\n",
    "        next_gen.append(child)\n",
    "        \n",
    "    return next_gen"
   ]
  },
  {
   "cell_type": "code",
   "execution_count": 59,
   "metadata": {
    "collapsed": true
   },
   "outputs": [],
   "source": [
    "def crossover(a, b):\n",
    "    mid = a.mid\n",
    "    dna = np.hstack((a.dna[:mid], b.dna[mid:]))\n",
    "    return Organism(dna)"
   ]
  },
  {
   "cell_type": "code",
   "execution_count": 60,
   "metadata": {
    "collapsed": true
   },
   "outputs": [],
   "source": [
    "def mutate(org):\n",
    "    new_dna = []\n",
    "    for gene in org.dna:\n",
    "        if np.random.rand() < MUTATION_RATE:\n",
    "            ## mutate\n",
    "            new_dna.append(np.random.choice(vocab))\n",
    "        else:\n",
    "            new_dna.append(gene)\n",
    "    return Organism(np.array(new_dna))"
   ]
  },
  {
   "cell_type": "code",
   "execution_count": 61,
   "metadata": {
    "collapsed": true
   },
   "outputs": [],
   "source": [
    "def get_best(org_list):\n",
    "    cur_best = -1\n",
    "    for o in org_list:\n",
    "        score = o.fitness()\n",
    "        if score>cur_best:\n",
    "            best = o\n",
    "            cur_best = score\n",
    "            \n",
    "    return best"
   ]
  },
  {
   "cell_type": "code",
   "execution_count": 62,
   "metadata": {
    "collapsed": true
   },
   "outputs": [],
   "source": [
    "def main():\n",
    "    found = False\n",
    "    generation = 0\n",
    "    population = create_population()\n",
    "    \n",
    "    while not found:\n",
    "        generation += 1\n",
    "        best_org = get_best(population)\n",
    "        if np.alltrue(best_org.dna == target_phrase):\n",
    "            found = True\n",
    "            break\n",
    "        \n",
    "        if generation%100==0:\n",
    "            print \"Generation: %d, Best organism: %s, Fitness: %f\"%(generation, best_org.name, best_org.fitness())\n",
    "            \n",
    "        population = natural_selection(population)\n",
    "    \n",
    "    print \"FOUND\"\n",
    "    print \"Generation: %d, Best organism: %s, Fitness: %f\"%(generation, best_org.name, best_org.fitness()) "
   ]
  },
  {
   "cell_type": "code",
   "execution_count": 63,
   "metadata": {},
   "outputs": [
    {
     "name": "stdout",
     "output_type": "stream",
     "text": [
      "Generation: 100, Best organism: jytxsniiag, Fitness: 0.100000\n",
      "Generation: 200, Best organism: uytxsxmpx?, Fitness: 0.200000\n",
      "Generation: 300, Best organism: cqlugpbpx?, Fitness: 0.200000\n",
      "Generation: 400, Best organism: wptegvctfe, Fitness: 0.200000\n",
      "Generation: 500, Best organism: bflvw?ctfk, Fitness: 0.100000\n"
     ]
    },
    {
     "ename": "KeyboardInterrupt",
     "evalue": "",
     "output_type": "error",
     "traceback": [
      "\u001b[0;31m---------------------------------------------------------------------------\u001b[0m",
      "\u001b[0;31mKeyboardInterrupt\u001b[0m                         Traceback (most recent call last)",
      "\u001b[0;32m<ipython-input-63-58ca95c5b364>\u001b[0m in \u001b[0;36m<module>\u001b[0;34m()\u001b[0m\n\u001b[0;32m----> 1\u001b[0;31m \u001b[0mmain\u001b[0m\u001b[0;34m(\u001b[0m\u001b[0;34m)\u001b[0m\u001b[0;34m\u001b[0m\u001b[0m\n\u001b[0m",
      "\u001b[0;32m<ipython-input-62-a80d9fac44f3>\u001b[0m in \u001b[0;36mmain\u001b[0;34m()\u001b[0m\n\u001b[1;32m     14\u001b[0m             \u001b[0;32mprint\u001b[0m \u001b[0;34m\"Generation: %d, Best organism: %s, Fitness: %f\"\u001b[0m\u001b[0;34m%\u001b[0m\u001b[0;34m(\u001b[0m\u001b[0mgeneration\u001b[0m\u001b[0;34m,\u001b[0m \u001b[0mbest_org\u001b[0m\u001b[0;34m.\u001b[0m\u001b[0mname\u001b[0m\u001b[0;34m,\u001b[0m \u001b[0mbest_org\u001b[0m\u001b[0;34m.\u001b[0m\u001b[0mfitness\u001b[0m\u001b[0;34m(\u001b[0m\u001b[0;34m)\u001b[0m\u001b[0;34m)\u001b[0m\u001b[0;34m\u001b[0m\u001b[0m\n\u001b[1;32m     15\u001b[0m \u001b[0;34m\u001b[0m\u001b[0m\n\u001b[0;32m---> 16\u001b[0;31m         \u001b[0mpopulation\u001b[0m \u001b[0;34m=\u001b[0m \u001b[0mnatural_selection\u001b[0m\u001b[0;34m(\u001b[0m\u001b[0mpopulation\u001b[0m\u001b[0;34m)\u001b[0m\u001b[0;34m\u001b[0m\u001b[0m\n\u001b[0m\u001b[1;32m     17\u001b[0m \u001b[0;34m\u001b[0m\u001b[0m\n\u001b[1;32m     18\u001b[0m     \u001b[0;32mprint\u001b[0m \u001b[0;34m\"FOUND\"\u001b[0m\u001b[0;34m\u001b[0m\u001b[0m\n",
      "\u001b[0;32m<ipython-input-58-791c5a5dce94>\u001b[0m in \u001b[0;36mnatural_selection\u001b[0;34m(org_list)\u001b[0m\n\u001b[1;32m      3\u001b[0m     \u001b[0mnext_gen\u001b[0m \u001b[0;34m=\u001b[0m \u001b[0;34m[\u001b[0m\u001b[0;34m]\u001b[0m\u001b[0;34m\u001b[0m\u001b[0m\n\u001b[1;32m      4\u001b[0m     \u001b[0;32mfor\u001b[0m \u001b[0m_\u001b[0m \u001b[0;32min\u001b[0m \u001b[0mrange\u001b[0m\u001b[0;34m(\u001b[0m\u001b[0mnum\u001b[0m\u001b[0;34m)\u001b[0m\u001b[0;34m:\u001b[0m\u001b[0;34m\u001b[0m\u001b[0m\n\u001b[0;32m----> 5\u001b[0;31m         \u001b[0ma\u001b[0m\u001b[0;34m,\u001b[0m \u001b[0mb\u001b[0m \u001b[0;34m=\u001b[0m \u001b[0mnp\u001b[0m\u001b[0;34m.\u001b[0m\u001b[0mrandom\u001b[0m\u001b[0;34m.\u001b[0m\u001b[0mchoice\u001b[0m\u001b[0;34m(\u001b[0m\u001b[0morg_list\u001b[0m\u001b[0;34m,\u001b[0m \u001b[0;36m2\u001b[0m\u001b[0;34m,\u001b[0m \u001b[0mreplace\u001b[0m\u001b[0;34m=\u001b[0m\u001b[0mFalse\u001b[0m\u001b[0;34m)\u001b[0m\u001b[0;34m\u001b[0m\u001b[0m\n\u001b[0m\u001b[1;32m      6\u001b[0m         \u001b[0mchild\u001b[0m \u001b[0;34m=\u001b[0m \u001b[0mcrossover\u001b[0m\u001b[0;34m(\u001b[0m\u001b[0ma\u001b[0m\u001b[0;34m,\u001b[0m \u001b[0mb\u001b[0m\u001b[0;34m)\u001b[0m\u001b[0;34m\u001b[0m\u001b[0m\n\u001b[1;32m      7\u001b[0m         \u001b[0mchild\u001b[0m \u001b[0;34m=\u001b[0m \u001b[0mmutate\u001b[0m\u001b[0;34m(\u001b[0m\u001b[0mchild\u001b[0m\u001b[0;34m)\u001b[0m\u001b[0;34m\u001b[0m\u001b[0m\n",
      "\u001b[0;32mmtrand.pyx\u001b[0m in \u001b[0;36mmtrand.RandomState.choice\u001b[0;34m()\u001b[0m\n",
      "\u001b[0;32m/Users/tejaswin.p/anaconda2/lib/python2.7/site-packages/numpy/core/fromnumeric.pyc\u001b[0m in \u001b[0;36mprod\u001b[0;34m(a, axis, dtype, out, keepdims)\u001b[0m\n\u001b[1;32m   2454\u001b[0m \u001b[0;34m\u001b[0m\u001b[0m\n\u001b[1;32m   2455\u001b[0m \u001b[0;34m\u001b[0m\u001b[0m\n\u001b[0;32m-> 2456\u001b[0;31m \u001b[0;32mdef\u001b[0m \u001b[0mprod\u001b[0m\u001b[0;34m(\u001b[0m\u001b[0ma\u001b[0m\u001b[0;34m,\u001b[0m \u001b[0maxis\u001b[0m\u001b[0;34m=\u001b[0m\u001b[0mNone\u001b[0m\u001b[0;34m,\u001b[0m \u001b[0mdtype\u001b[0m\u001b[0;34m=\u001b[0m\u001b[0mNone\u001b[0m\u001b[0;34m,\u001b[0m \u001b[0mout\u001b[0m\u001b[0;34m=\u001b[0m\u001b[0mNone\u001b[0m\u001b[0;34m,\u001b[0m \u001b[0mkeepdims\u001b[0m\u001b[0;34m=\u001b[0m\u001b[0mnp\u001b[0m\u001b[0;34m.\u001b[0m\u001b[0m_NoValue\u001b[0m\u001b[0;34m)\u001b[0m\u001b[0;34m:\u001b[0m\u001b[0;34m\u001b[0m\u001b[0m\n\u001b[0m\u001b[1;32m   2457\u001b[0m     \"\"\"\n\u001b[1;32m   2458\u001b[0m     \u001b[0mReturn\u001b[0m \u001b[0mthe\u001b[0m \u001b[0mproduct\u001b[0m \u001b[0mof\u001b[0m \u001b[0marray\u001b[0m \u001b[0melements\u001b[0m \u001b[0mover\u001b[0m \u001b[0ma\u001b[0m \u001b[0mgiven\u001b[0m \u001b[0maxis\u001b[0m\u001b[0;34m.\u001b[0m\u001b[0;34m\u001b[0m\u001b[0m\n",
      "\u001b[0;31mKeyboardInterrupt\u001b[0m: "
     ]
    }
   ],
   "source": [
    "main()"
   ]
  },
  {
   "cell_type": "code",
   "execution_count": 17,
   "metadata": {
    "collapsed": true
   },
   "outputs": [],
   "source": [
    "population = create_population(25)"
   ]
  },
  {
   "cell_type": "code",
   "execution_count": 18,
   "metadata": {},
   "outputs": [
    {
     "name": "stdout",
     "output_type": "stream",
     "text": [
      "r?tuu bbbe?r 0.25\n",
      "?uue?e  ut b 0.16666666666666666\n",
      "??e rute?err 0.0\n",
      " br rerubrrr 0.0\n",
      "eb?ruer?ubtu 0.25\n",
      " uttbtbubut  0.16666666666666666\n",
      "b  u? ?uerbe 0.16666666666666666\n",
      "t?ett?urt??u 0.16666666666666666\n",
      "?eeuuebr?eb? 0.3333333333333333\n",
      "ub bebebebbt 0.08333333333333333\n",
      "ubeu tubebb? 0.08333333333333333\n",
      "r?utbtre uru 0.08333333333333333\n",
      " ? u ub ?b e 0.16666666666666666\n",
      " reer?ebu bb 0.08333333333333333\n",
      "eetureuttb   0.08333333333333333\n",
      "tru  tb ?rbb 0.08333333333333333\n",
      "?brrbruutubr 0.0\n",
      "?tb??eb  uu  0.16666666666666666\n",
      " btt?trbubre 0.16666666666666666\n",
      "rtee? ?bbrru 0.16666666666666666\n",
      "reuebre bbr? 0.08333333333333333\n",
      "uruerbt t  b 0.0\n",
      "e?rburb tbue 0.25\n",
      "rbebur ??tut 0.16666666666666666\n",
      "ru   ?bru? b 0.3333333333333333\n"
     ]
    }
   ],
   "source": [
    "for org in population:\n",
    "    print org.name, org.fitness()"
   ]
  },
  {
   "cell_type": "code",
   "execution_count": 19,
   "metadata": {},
   "outputs": [
    {
     "name": "stdout",
     "output_type": "stream",
     "text": [
      "?eeuuebr?eb? 0.3333333333333333\n",
      "r?tuu bbbe?r 0.25\n",
      "?eeuuebr?eb? 0.3333333333333333\n",
      " uttbtbubut  0.16666666666666666\n",
      " ? u ub ?b e 0.16666666666666666\n",
      "reuebre bbr? 0.08333333333333333\n",
      " ? u ub ?b e 0.16666666666666666\n",
      " ? u ub ?b e 0.16666666666666666\n",
      "r?tuu bbbe?r 0.25\n",
      "?eeuuebr?eb? 0.3333333333333333\n",
      " btt?trbubre 0.16666666666666666\n",
      "ru   ?bru? b 0.3333333333333333\n",
      " reer?ebu bb 0.08333333333333333\n",
      "t?ett?urt??u 0.16666666666666666\n",
      "?tb??eb  uu  0.16666666666666666\n",
      "ru   ?bru? b 0.3333333333333333\n",
      " uttbtbubut  0.16666666666666666\n",
      "ru   ?bru? b 0.3333333333333333\n",
      " ? u ub ?b e 0.16666666666666666\n",
      "rtee? ?bbrru 0.16666666666666666\n",
      " ? u ub ?b e 0.16666666666666666\n",
      "eetureuttb   0.08333333333333333\n",
      "?eeuuebr?eb? 0.3333333333333333\n",
      "?uue?e  ut b 0.16666666666666666\n",
      " ? u ub ?b e 0.16666666666666666\n"
     ]
    }
   ],
   "source": [
    "pool = create_pool(population)\n",
    "for org in pool:\n",
    "    print org.name, org.fitness()"
   ]
  },
  {
   "cell_type": "code",
   "execution_count": 20,
   "metadata": {
    "collapsed": true
   },
   "outputs": [],
   "source": [
    "child = crossover(pool[-1], pool[-2])"
   ]
  },
  {
   "cell_type": "code",
   "execution_count": 21,
   "metadata": {},
   "outputs": [
    {
     "data": {
      "text/plain": [
       "(' ? u u  ut b', 0.25)"
      ]
     },
     "execution_count": 21,
     "metadata": {},
     "output_type": "execute_result"
    }
   ],
   "source": [
    "child.name, child.fitness()"
   ]
  },
  {
   "cell_type": "code",
   "execution_count": 22,
   "metadata": {},
   "outputs": [
    {
     "data": {
      "text/plain": [
       "('?eeuuebr?eb?', 0.3333333333333333)"
      ]
     },
     "execution_count": 22,
     "metadata": {},
     "output_type": "execute_result"
    }
   ],
   "source": [
    "best = get_best(population)\n",
    "best.name, best.fitness()"
   ]
  },
  {
   "cell_type": "code",
   "execution_count": 118,
   "metadata": {
    "collapsed": true
   },
   "outputs": [],
   "source": [
    "org = population[-2]"
   ]
  },
  {
   "cell_type": "code",
   "execution_count": 119,
   "metadata": {},
   "outputs": [],
   "source": [
    "new_org = mutate(org)"
   ]
  },
  {
   "cell_type": "code",
   "execution_count": 120,
   "metadata": {},
   "outputs": [
    {
     "data": {
      "text/plain": [
       "'zjtwchsiotu?'"
      ]
     },
     "execution_count": 120,
     "metadata": {},
     "output_type": "execute_result"
    }
   ],
   "source": [
    "new_org.name"
   ]
  }
 ],
 "metadata": {
  "kernelspec": {
   "display_name": "Python 2",
   "language": "python",
   "name": "python2"
  },
  "language_info": {
   "codemirror_mode": {
    "name": "ipython",
    "version": 2
   },
   "file_extension": ".py",
   "mimetype": "text/x-python",
   "name": "python",
   "nbconvert_exporter": "python",
   "pygments_lexer": "ipython2",
   "version": "2.7.14"
  }
 },
 "nbformat": 4,
 "nbformat_minor": 2
}
