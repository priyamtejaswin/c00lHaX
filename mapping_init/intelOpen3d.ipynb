{
 "cells": [
  {
   "cell_type": "code",
   "execution_count": 65,
   "metadata": {},
   "outputs": [],
   "source": [
    "import open3d as o3d"
   ]
  },
  {
   "cell_type": "code",
   "execution_count": 66,
   "metadata": {},
   "outputs": [],
   "source": [
    "import numpy as np"
   ]
  },
  {
   "cell_type": "code",
   "execution_count": 67,
   "metadata": {},
   "outputs": [
    {
     "name": "stdout",
     "output_type": "stream",
     "text": [
      "2.2071337769398349 -0.57246687743109814 0.0063190026686639261\r",
      "\r\n",
      "2.2074899780633594 -0.57139798631431638 0.0062885515820606816\r",
      "\r\n",
      "2.2898921641350372 -0.35992564165744445 0.0026378870197998382\r",
      "\r\n",
      "2.3598144992077077 -0.22874276281227213 0.0051284651639679603\r",
      "\r\n",
      "2.3824483401842533 -0.17576088338268703 0.0046302431731109744\r",
      "\r\n",
      "2.2133796663482768 -0.5589271910297815 0.0062990506986162114\r",
      "\r\n",
      "2.2626683788814863 -0.43291713700420864 0.0043211917688277864\r",
      "\r\n",
      "2.3805930398856603 -0.17994657339945452 0.0046579168570395823\r",
      "\r\n",
      "2.4029035357477961 -0.13291408992664588 0.0048681878501773404\r",
      "\r\n",
      "2.2944771931721957 -0.35034309869834002 0.0026673326599542186\r",
      "\r\n"
     ]
    }
   ],
   "source": [
    "!head ./test_points.csv"
   ]
  },
  {
   "cell_type": "code",
   "execution_count": 68,
   "metadata": {},
   "outputs": [],
   "source": [
    "pcd = o3d.io.read_point_cloud('./test_points.csv', format='xyz')"
   ]
  },
  {
   "cell_type": "code",
   "execution_count": 69,
   "metadata": {},
   "outputs": [],
   "source": [
    "cam1_points = np.array([\n",
    "    [0, 0, 0],\n",
    "    [1, 0, 0],\n",
    "    [0, 1, 0],\n",
    "    [0, 0, 1]\n",
    "]) * 0.25\n",
    "cam1_lines = np.array([[0, i] for i in range(1, len(cam1_points))])\n",
    "cam1_axes = o3d.geometry.LineSet(\n",
    "    points=o3d.utility.Vector3dVector(cam1_points),\n",
    "    lines=o3d.utility.Vector2iVector(cam1_lines),\n",
    ")\n",
    "\n",
    "proj2 = np.array([[-0.55642393,  0.77158627, -0.308297  , 0.40010816],\n",
    "       [ 0.77013306,  0.61820095,  0.1572344 ,  -0.50446149],\n",
    "       [-0.3119094 ,  0.14994073,  0.93820589, 0.76513533]])\n",
    "\n",
    "cam2_points = np.hstack([cam1_points, np.ones((len(cam1_points), 1))]).dot(proj2.T)\n",
    "cam2_axes = o3d.geometry.LineSet(\n",
    "    points=o3d.utility.Vector3dVector(cam2_points),\n",
    "    lines=o3d.utility.Vector2iVector(cam1_lines),\n",
    ")"
   ]
  },
  {
   "cell_type": "code",
   "execution_count": 70,
   "metadata": {},
   "outputs": [],
   "source": [
    "o3d.visualization.draw_geometries([pcd.select_by_index(range(10, 20)), cam1_axes, cam2_axes])"
   ]
  },
  {
   "cell_type": "code",
   "execution_count": null,
   "metadata": {},
   "outputs": [],
   "source": []
  }
 ],
 "metadata": {
  "kernelspec": {
   "display_name": "py36",
   "language": "python",
   "name": "py36"
  },
  "language_info": {
   "codemirror_mode": {
    "name": "ipython",
    "version": 3
   },
   "file_extension": ".py",
   "mimetype": "text/x-python",
   "name": "python",
   "nbconvert_exporter": "python",
   "pygments_lexer": "ipython3",
   "version": "3.6.8"
  }
 },
 "nbformat": 4,
 "nbformat_minor": 2
}
