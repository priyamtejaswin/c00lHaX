{
 "cells": [
  {
   "cell_type": "code",
   "execution_count": 1,
   "metadata": {},
   "outputs": [],
   "source": [
    "import numpy as np\n",
    "import scipy as sp\n",
    "import cv2 as cv\n",
    "from matplotlib import pyplot as plt\n",
    "%matplotlib inline\n",
    "# %matplotlib notebook"
   ]
  },
  {
   "cell_type": "code",
   "execution_count": 2,
   "metadata": {},
   "outputs": [],
   "source": [
    "from operator import itemgetter as get\n",
    "from itertools import combinations"
   ]
  },
  {
   "cell_type": "code",
   "execution_count": 3,
   "metadata": {},
   "outputs": [
    {
     "data": {
      "text/plain": [
       "'4.2.0'"
      ]
     },
     "execution_count": 3,
     "metadata": {},
     "output_type": "execute_result"
    }
   ],
   "source": [
    "cv.contr"
   ]
  },
  {
   "cell_type": "code",
   "execution_count": 15,
   "metadata": {},
   "outputs": [
    {
     "data": {
      "text/plain": [
       "array([[1., 0., 0., 0.],\n",
       "       [0., 1., 0., 0.],\n",
       "       [0., 0., 1., 0.]])"
      ]
     },
     "execution_count": 15,
     "metadata": {},
     "output_type": "execute_result"
    }
   ],
   "source": [
    "P_canon = np.hstack([np.eye(3), np.zeros((3, 1))])\n",
    "P_canon"
   ]
  },
  {
   "cell_type": "markdown",
   "metadata": {},
   "source": [
    "This form $(\\text{I} | \\text{0})$ is the canonical form.\n",
    "\n",
    "It assumes that the World Coordinate System (WCS) is at the camera's center.\n",
    "\n",
    "For 3D triangulation, this is fine... everything will be relative to this point."
   ]
  },
  {
   "cell_type": "code",
   "execution_count": 16,
   "metadata": {},
   "outputs": [
    {
     "data": {
      "text/plain": [
       "(array([[0.],\n",
       "        [0.],\n",
       "        [0.]]), array([[ 0. ,  0. ,  0. ],\n",
       "        [ 0. ,  0. , -0.5],\n",
       "        [ 0. ,  0.5,  0. ],\n",
       "        [ 0. ,  0. ,  0.5],\n",
       "        [ 0. ,  0. ,  0. ],\n",
       "        [-0.5,  0. ,  0. ],\n",
       "        [ 0. , -0.5,  0. ],\n",
       "        [ 0.5,  0. ,  0. ],\n",
       "        [ 0. ,  0. ,  0. ]]))"
      ]
     },
     "execution_count": 16,
     "metadata": {},
     "output_type": "execute_result"
    }
   ],
   "source": [
    "cv.Rodrigues(P_canon[:, :3])"
   ]
  },
  {
   "cell_type": "markdown",
   "metadata": {},
   "source": [
    "This can be used to \"draw\" a camera frame ...\n",
    "\n",
    "1. Assume camera height is 300 and camera width is 500\n",
    "2. Consider 4 points at some depth, along ratio of the height and width (3:5) -- [(3, 5, 7), (3, -5, 7), (-3, -5, 7), (-3, 5, 7)]"
   ]
  },
  {
   "cell_type": "code",
   "execution_count": 29,
   "metadata": {},
   "outputs": [],
   "source": [
    "def decompose(P):\n",
    "    assert P.shape == (3, 4)\n",
    "    M = P[:, :3]\n",
    "    K = np.linalg.cholesky(M.dot(M.T))\n",
    "    K = K / K[2, 2]\n",
    "    \n",
    "    full = np.dot(np.linalg.inv(K), P)\n",
    "    \n",
    "    A = full[:, :3]\n",
    "    lbd = np.cbrt(1.0 / np.linalg.det(A))\n",
    "    \n",
    "    matrix = lbd * full\n",
    "    R = matrix[:, :3]\n",
    "    t = matrix[:, -1].dot(-R.T)\n",
    "    return K, R, t"
   ]
  },
  {
   "cell_type": "code",
   "execution_count": 25,
   "metadata": {},
   "outputs": [],
   "source": [
    "K_canon, R_canon, t_canon = decompose(P_canon)"
   ]
  },
  {
   "cell_type": "code",
   "execution_count": 26,
   "metadata": {},
   "outputs": [
    {
     "data": {
      "text/plain": [
       "array([[1., 0., 0.],\n",
       "       [0., 1., 0.],\n",
       "       [0., 0., 1.]])"
      ]
     },
     "execution_count": 26,
     "metadata": {},
     "output_type": "execute_result"
    }
   ],
   "source": [
    "K_canon"
   ]
  },
  {
   "cell_type": "code",
   "execution_count": 27,
   "metadata": {},
   "outputs": [
    {
     "data": {
      "text/plain": [
       "array([[1., 0., 0.],\n",
       "       [0., 1., 0.],\n",
       "       [0., 0., 1.]])"
      ]
     },
     "execution_count": 27,
     "metadata": {},
     "output_type": "execute_result"
    }
   ],
   "source": [
    "R_canon"
   ]
  },
  {
   "cell_type": "code",
   "execution_count": 28,
   "metadata": {},
   "outputs": [
    {
     "data": {
      "text/plain": [
       "array([0., 0., 0.])"
      ]
     },
     "execution_count": 28,
     "metadata": {},
     "output_type": "execute_result"
    }
   ],
   "source": [
    "t_canon"
   ]
  },
  {
   "cell_type": "code",
   "execution_count": 73,
   "metadata": {},
   "outputs": [],
   "source": [
    "frame = np.array([(3, 0, 0), (0, 3, 0), (0, 0, 3)])"
   ]
  },
  {
   "cell_type": "code",
   "execution_count": 79,
   "metadata": {},
   "outputs": [],
   "source": [
    "def draw_lines(points, center, ax):\n",
    "    combined = points.tolist()\n",
    "    combined.append(center.tolist())\n",
    "    # for p1, p2 in combinations(combined, 2):\n",
    "    colors = ['red', 'green', 'blue']\n",
    "    for i ,p1 in enumerate(points):\n",
    "        p2 = center\n",
    "        ax.plot([p1[0], p2[0]], [p1[1], p2[1]], [p1[2], p2[2]], c=colors[i])"
   ]
  },
  {
   "cell_type": "code",
   "execution_count": 91,
   "metadata": {},
   "outputs": [
    {
     "data": {
      "text/plain": [
       "array([[ 0.8660254,  0.       ,  0.5      ],\n",
       "       [ 0.       ,  1.       ,  0.       ],\n",
       "       [-0.5      ,  0.       ,  0.8660254]])"
      ]
     },
     "execution_count": 91,
     "metadata": {},
     "output_type": "execute_result"
    }
   ],
   "source": [
    "rod = cv.Rodrigues(R_canon)[0]\n",
    "rod[1] = 30/180.0 * np.pi\n",
    "R_camera = cv.Rodrigues(rod)[0]\n",
    "R_camera"
   ]
  },
  {
   "cell_type": "code",
   "execution_count": 92,
   "metadata": {},
   "outputs": [],
   "source": [
    "t_camera = t_canon + 10.0\n",
    "cam_frame = R_camera.dot(frame.T).T + t_camera "
   ]
  },
  {
   "cell_type": "code",
   "execution_count": 93,
   "metadata": {},
   "outputs": [
    {
     "data": {
      "image/png": "[encoded data removed]",
      "text/plain": [
       "<Figure size 432x288 with 1 Axes>"
      ]
     },
     "metadata": {
      "needs_background": "light"
     },
     "output_type": "display_data"
    }
   ],
   "source": [
    "from mpl_toolkits.mplot3d import Axes3D  # noqa: F401 unused import\n",
    "\n",
    "fig = plt.figure()\n",
    "ax = fig.add_subplot(111, projection='3d')\n",
    "\n",
    "# ax.scatter(frame[:, 0], frame[:, 1], frame[:, 2]);\n",
    "ax.set_xlabel('X Label')\n",
    "ax.set_ylabel('Y Label')\n",
    "ax.set_zlabel('Z Label')\n",
    "\n",
    "draw_lines(frame, t_canon, ax);\n",
    "\n",
    "draw_lines(cam_frame, t_camera, ax);"
   ]
  },
  {
   "cell_type": "code",
   "execution_count": 61,
   "metadata": {},
   "outputs": [
    {
     "data": {
      "text/plain": [
       "array([[ 0.15425145,  0.        , -0.98803162],\n",
       "       [ 0.        ,  1.        ,  0.        ],\n",
       "       [ 0.98803162,  0.        ,  0.15425145]])"
      ]
     },
     "execution_count": 61,
     "metadata": {},
     "output_type": "execute_result"
    }
   ],
   "source": []
  },
  {
   "cell_type": "code",
   "execution_count": null,
   "metadata": {},
   "outputs": [],
   "source": []
  },
  {
   "cell_type": "code",
   "execution_count": 94,
   "metadata": {},
   "outputs": [
    {
     "name": "stdout",
     "output_type": "stream",
     "text": [
      "([3, 0, 0], [0, 3, 0])\n",
      "([3, 0, 0], [0, 0, 3])\n",
      "([0, 3, 0], [0, 0, 3])\n"
     ]
    }
   ],
   "source": [
    "for row in combinations(frame.tolist(), 2):\n",
    "    print row"
   ]
  },
  {
   "cell_type": "code",
   "execution_count": null,
   "metadata": {},
   "outputs": [],
   "source": []
  }
 ],
 "metadata": {
  "kernelspec": {
   "display_name": "Python 2",
   "language": "python",
   "name": "python2"
  },
  "language_info": {
   "codemirror_mode": {
    "name": "ipython",
    "version": 2
   },
   "file_extension": ".py",
   "mimetype": "text/x-python",
   "name": "python",
   "nbconvert_exporter": "python",
   "pygments_lexer": "ipython2",
   "version": "2.7.14"
  }
 },
 "nbformat": 4,
 "nbformat_minor": 2
}
