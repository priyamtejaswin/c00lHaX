{
 "cells": [
  {
   "cell_type": "markdown",
   "id": "b42c2c68",
   "metadata": {},
   "source": [
    "**5th June 2021 to 19th June 2021**\n",
    "\n",
    "# Problems covered"
   ]
  },
  {
   "cell_type": "markdown",
   "id": "9ad4c020",
   "metadata": {},
   "source": [
    "1. Find the topK most frequent items in a list. Return in any order. Solution must be better than $O(NlogN)$\n",
    "2. Median of two sorted lists `m` and `n`. Solution must be better than or equal to `log(m + n)`.\n",
    "3. Make sentences by breaking a string into valid words.\n",
    "4. Regex matching for `.` and `*`\n",
    "5. Merge two sorted linked lists by splicing.\n",
    "6. Find the minimum substring that contains all characters in `t`\n",
    "7. CountAndSay\n",
    "8. Check if a string can be broken into words using a dictionary.\n",
    "9. $(6^*)$ Find the minimum substring that contains all characters in `t`; revisited.\n",
    "10. Deepcopy linked-list with random pointers, and no extra space."
   ]
  },
  {
   "cell_type": "markdown",
   "id": "04a99d6a",
   "metadata": {},
   "source": [
    "## 1. Find the topK most frequent items in a list. Return in any order. Solution must be better than $O(NlogN)$"
   ]
  },
  {
   "cell_type": "markdown",
   "id": "351a3e0d",
   "metadata": {},
   "source": [
    "`[1 2 1 1 2 3]` -- for `k=2`, you should return [1, 2]\n",
    "\n",
    "### Questions\n",
    "\n",
    "You can run a counter to get the counter -- O(n)\n",
    "\n",
    "To get the top K most frequent, you'll have sort by counts, and then pick first K. Sorting will take $nLogn$.\n",
    "\n",
    "**Solution**\n",
    "* Start a heap with K elements --> heapify will take K.log.K time\n",
    "* For the remaining (N - K) elements, pop the smallest element, and then add the next element\n",
    "\n",
    "KlogK + (N - K)logK ==> NlogK time total."
   ]
  },
  {
   "cell_type": "code",
   "execution_count": 7,
   "id": "5c159ae6",
   "metadata": {},
   "outputs": [],
   "source": [
    "import heapq\n",
    "from collections import Counter\n",
    "\n",
    "class TopKMostFrequent:\n",
    "    def solve(self, items, k):\n",
    "        counts = Counter(items).items()\n",
    "        size = len(counts)\n",
    "        counts = iter(counts)\n",
    "        \n",
    "        holder = []\n",
    "        for _ in range(k):\n",
    "            item, freq = next(counts)\n",
    "            heapq.heappush(holder, (freq, item))\n",
    "            \n",
    "        for _ in range(size - k):\n",
    "            item, freq = next(counts)\n",
    "            if freq > holder[0][0]:\n",
    "                heapq.heappop()\n",
    "                heapq.heappush(holder, (freq, item))\n",
    "                \n",
    "        return [t[1] for t in holder]"
   ]
  },
  {
   "cell_type": "code",
   "execution_count": 8,
   "id": "c604d3be",
   "metadata": {},
   "outputs": [],
   "source": [
    "o = TopKMostFrequent()"
   ]
  },
  {
   "cell_type": "code",
   "execution_count": 13,
   "id": "723847ff",
   "metadata": {},
   "outputs": [
    {
     "data": {
      "text/plain": [
       "[2, 1]"
      ]
     },
     "execution_count": 13,
     "metadata": {},
     "output_type": "execute_result"
    }
   ],
   "source": [
    "o.solve([1, 2, 1, 1, 2, 3], 2)"
   ]
  },
  {
   "cell_type": "markdown",
   "id": "338be2ee",
   "metadata": {},
   "source": [
    "## 2. Median of two sorted lists `m` and `n`. Solution must be better than or equal to `log(m + n)`."
   ]
  },
  {
   "cell_type": "markdown",
   "id": "9072e45b",
   "metadata": {},
   "source": [
    "There is a linear scan solution -- put everything in one list, and then compute its median.\n",
    "\n",
    "This will be `O(m+n)`.\n",
    "\n",
    "### Questions\n",
    "```\n",
    "   x1 | x2 x2 x4\n",
    "y1 y2 y3 y4 | y5 y6\n",
    "```\n",
    "\n",
    "The median value will split the JOINT lists into two parts, such that:\n",
    "* y4 <= x2 and x1 <= y5\n",
    "\n",
    "Assuming that the first list is smaller, we just need to run a binary search over it, and check each time if we meet this condition."
   ]
  },
  {
   "cell_type": "code",
   "execution_count": 37,
   "id": "8140b10e",
   "metadata": {},
   "outputs": [],
   "source": [
    "class MedianOfTwoSorted:\n",
    "    def solve(self, arr1, arr2):\n",
    "        s1, s2 = len(arr1), len(arr2)\n",
    "        if len(arr2) < len(arr1):\n",
    "            arr1, arr2 = arr2, arr1\n",
    "            s1, s2 = s2, s1\n",
    "            \n",
    "        i = 0\n",
    "        j = s1\n",
    "        \n",
    "        while i <= j:\n",
    "            mid = i + (j - i)//2\n",
    "            x2 = arr1[mid] if mid < s1 else float('inf')\n",
    "            x1 = arr1[mid-1] if mid > 0 else -float('inf')\n",
    "            \n",
    "            other = (s1+s2)//2 - mid\n",
    "            \n",
    "            print(mid, other)\n",
    "            \n",
    "            y2 = arr2[other] if other < s2 else float('inf')\n",
    "            y1 = arr2[other-1] if other > 0 else -float('inf')\n",
    "            \n",
    "            if x1 <= y2 and y1 <= x2:\n",
    "                if (s1+s2)%2 == 0:\n",
    "                    return (max(x1, y1) + min(x2, y2))/2.0\n",
    "                else:\n",
    "                    return min(x2, y2)\n",
    "            elif x1 > y2:\n",
    "                j = mid - 1\n",
    "            else:\n",
    "                i = mid + 1"
   ]
  },
  {
   "cell_type": "code",
   "execution_count": 38,
   "id": "12cc7457",
   "metadata": {},
   "outputs": [],
   "source": [
    "o = MedianOfTwoSorted()"
   ]
  },
  {
   "cell_type": "code",
   "execution_count": 42,
   "id": "355929b0",
   "metadata": {},
   "outputs": [
    {
     "name": "stdout",
     "output_type": "stream",
     "text": [
      "1 3\n",
      "2 2\n",
      "3 1\n"
     ]
    },
    {
     "data": {
      "text/plain": [
       "1.5"
      ]
     },
     "execution_count": 42,
     "metadata": {},
     "output_type": "execute_result"
    }
   ],
   "source": [
    "o.solve([0, 0, 1], [1, 2, 3, 4, 9])"
   ]
  },
  {
   "cell_type": "markdown",
   "id": "21c8233a",
   "metadata": {},
   "source": [
    "## 3. From a string, construct all possible valid sentences by splitting into different words.\n",
    "\n",
    "`applet, {'app', 'applet', 'ap', 'let'}` ==> `[applet, app let]`\n",
    "\n",
    "`bluesky, {'blues', 'sky'}` ==> `[]`\n",
    "\n",
    "All words in the sentence should be in the dictionary.\n",
    "\n",
    "A word from the dictionary may be used/repeated multiple times."
   ]
  },
  {
   "cell_type": "markdown",
   "id": "1da9257e",
   "metadata": {},
   "source": [
    "### Questions.\n",
    "\n",
    "I have to create all possible sentences, starting from the first character.\n",
    "\n",
    "1. Start from 1st char, and move to next char, if you can continue to construct ANY word with the first two chars as predfix.\n",
    "2. At each point, keep checking IF a word can be made at this point AND word can be made from the NEXT char ...\n",
    "    * If yes, then you can recursive-call at this letter\n",
    "    * Else, continue on original path ..."
   ]
  },
  {
   "cell_type": "code",
   "execution_count": 241,
   "id": "a91b74ce",
   "metadata": {},
   "outputs": [],
   "source": [
    "from collections import defaultdict\n",
    "\n",
    "class MakeSentences:\n",
    "    def solve(self, text, words):\n",
    "        \"\"\"\n",
    "        text: Input text, which you have to split to make words.\n",
    "        words: List of valid words. Can be reused.\n",
    "        \n",
    "        Soln1\n",
    "        =====\n",
    "        \n",
    "        Start iterating from the first letter\n",
    "            Check all prefixes in the set.\n",
    "                If you find a valid prefix:\n",
    "                    Prefix can be added to sentence IFF you can split the remainder as well.\n",
    "                    If remainder can be split, then take a cross with it's sentences, and add to master.\n",
    "                    \n",
    "        return master\n",
    "        \"\"\"\n",
    "        words = set(words)\n",
    "\n",
    "        if len(text) == 0:\n",
    "            return []\n",
    "        if len(text) == 1:\n",
    "            return [] if text not in words else [text]\n",
    "        \n",
    "        self.ans = []\n",
    "        def search(start, temp):\n",
    "            if start == len(text):\n",
    "                self.ans.append(' '.join(temp))\n",
    "            \n",
    "            for i in range(start, len(text)):\n",
    "                prefix = text[start:i+1]\n",
    "                if prefix in words:\n",
    "                    search(i+1, temp+[prefix])\n",
    "        \n",
    "        # search(0, [])\n",
    "        # return self.ans\n",
    "    \n",
    "        self.memo = {}\n",
    "        def withmemo(start):\n",
    "            if start in self.memo:\n",
    "                return self.memo[start]\n",
    "            \n",
    "            master = []\n",
    "            for i in range(start, len(text)):\n",
    "                prefix = text[start : i+1]\n",
    "                if prefix in words:\n",
    "                    if i+1 == len(text):\n",
    "                        master.append([prefix])\n",
    "                    else:\n",
    "                        future = withmemo(i+1)\n",
    "                        if len(future):\n",
    "                            for sent in future:\n",
    "                                master.append([prefix]+sent)\n",
    "        \n",
    "            self.memo[start] = master\n",
    "            return master\n",
    "        \n",
    "        master = withmemo(0)\n",
    "        return [' '.join(s) for s in master]"
   ]
  },
  {
   "cell_type": "markdown",
   "id": "dc3b1ed0",
   "metadata": {},
   "source": [
    "`applet, {'app', 'applet', 'ap', 'let'}` ==> `[applet, app let]`"
   ]
  },
  {
   "cell_type": "code",
   "execution_count": 242,
   "id": "1722cd3e",
   "metadata": {},
   "outputs": [],
   "source": [
    "o = MakeSentences()"
   ]
  },
  {
   "cell_type": "code",
   "execution_count": 243,
   "id": "31620ebc",
   "metadata": {},
   "outputs": [
    {
     "data": {
      "text/plain": [
       "['ap p let', 'app let', 'applet']"
      ]
     },
     "execution_count": 243,
     "metadata": {},
     "output_type": "execute_result"
    }
   ],
   "source": [
    "o.solve('applet', ['app', 'applet', 'ap', 'let', 'p'])"
   ]
  },
  {
   "cell_type": "markdown",
   "id": "999e17b5",
   "metadata": {},
   "source": [
    "## 4. Regex matching for `.` and  `*`."
   ]
  },
  {
   "cell_type": "markdown",
   "id": "964481a8",
   "metadata": {},
   "source": [
    "Give a pattern, and an input string, check if the entire string matches the full pattern.\n",
    "\n",
    "`s = \"ab\", p = \".*\"` ==> `true`\n",
    "* `*` means that the preceeding character can repeat 0 or more times\n",
    "* `.` means any chracter can appear once\n",
    "* `.*` means the character `.` can appear 0 or more times\n",
    "\n",
    "`s = \"aab\", p = \"c*a*b\"` ==> `true`"
   ]
  },
  {
   "cell_type": "code",
   "execution_count": 269,
   "id": "befae712",
   "metadata": {},
   "outputs": [],
   "source": [
    "from string import ascii_lowercase\n",
    "from collections import deque\n",
    "\n",
    "class RegexMatch:\n",
    "    def solve(self, s, p):\n",
    "        if len(s) == len(p) == 0:\n",
    "            return True\n",
    "        if len(p) == 0:\n",
    "            return False\n",
    "        \n",
    "        pattern = []\n",
    "        letters = set(ascii_lowercase)\n",
    "        \n",
    "        i = len(p) - 1\n",
    "        while i >= 0:\n",
    "            if p[i] in letters or p[i] == '.':\n",
    "                pattern.append(p[i])\n",
    "                i -= 1\n",
    "            else:\n",
    "                pattern.append(p[i-1:i+1])\n",
    "                i -= 2\n",
    "                \n",
    "        pattern = pattern[::-1]\n",
    "        print(\"pattern:\", pattern)\n",
    "        \n",
    "        lower = len([x for x in pattern if x[-1] != '*'])\n",
    "        if len(s) < lower:\n",
    "            return False\n",
    "        \n",
    "        # Can I just solve it via DFS?\n",
    "        def dfs(i, j):\n",
    "            if i < len(s) and j < len(pattern):\n",
    "                if pattern[j] in letters:\n",
    "                    if s[i] == pattern[j]:\n",
    "                        return dfs(i+1, j+1)\n",
    "                    else:\n",
    "                        return False\n",
    "                elif pattern[j] == '.':\n",
    "                    return dfs(i+1, j+1)\n",
    "                else:\n",
    "                    skip = dfs(i, j+1)\n",
    "                    if skip:\n",
    "                        return True\n",
    "                    else:\n",
    "                        char = pattern[j][0]\n",
    "                        if char in letters:\n",
    "                            if char == s[i]:\n",
    "                                return dfs(i+1, j)\n",
    "                            else:\n",
    "                                return False\n",
    "                        else:\n",
    "                            return dfs(i+1, j)\n",
    "            \n",
    "            elif i == len(s) and j == len(pattern):\n",
    "                return True\n",
    "            \n",
    "            elif i == len(s):\n",
    "                # Blocks remain.\n",
    "                if pattern[j] in letters or pattern[j] == '.':\n",
    "                    return False  # You can't add anything more.\n",
    "                else:\n",
    "                    # This is a *, but you can only skip.\n",
    "                    # Because you can't add anything more.\n",
    "                    return dfs(i, j+1)\n",
    "            else:\n",
    "                # j == len(pattern)\n",
    "                # You are out of patterns.\n",
    "                if pattern[-1] in letters or pattern[-1] == '.':\n",
    "                    return False  # You can't add anything.\n",
    "                else:\n",
    "                    char = pattern[-1][0]\n",
    "                    if char in letters:\n",
    "                        if char == s[i]:\n",
    "                            return dfs(i+1, j)\n",
    "                        else:\n",
    "                            return False\n",
    "                    else:\n",
    "                        return dfs(i+1, j)\n",
    "                    \n",
    "        return dfs(0, 0)"
   ]
  },
  {
   "cell_type": "code",
   "execution_count": 270,
   "id": "635a7a0a",
   "metadata": {},
   "outputs": [
    {
     "name": "stdout",
     "output_type": "stream",
     "text": [
      "pattern: ['a', 'b*']\n",
      "pattern: ['.*']\n",
      "pattern: ['.*']\n",
      "pattern: ['.*', '.']\n",
      "pattern: ['.*', '.', '.']\n",
      "pattern: ['a', 'b', '.']\n",
      "pattern: ['m', 'i', 's*', 'i', 's*', 'p', '.*']\n"
     ]
    }
   ],
   "source": [
    "o = RegexMatch()\n",
    "assert o.solve('a', 'ab*') == True\n",
    "assert o.solve('a', '.*') == True\n",
    "assert o.solve('ab', '.*') == True\n",
    "assert o.solve('ab', '.*.') == True\n",
    "assert o.solve('ab', '.*..') == True\n",
    "assert o.solve('ab', 'ab.') == False\n",
    "assert o.solve('mississipi', 'mis*is*p.*') == False"
   ]
  },
  {
   "cell_type": "markdown",
   "id": "7b04eaab",
   "metadata": {},
   "source": [
    "## 5. Merge two sorted linked lists by splicing."
   ]
  },
  {
   "cell_type": "markdown",
   "id": "3cde99b6",
   "metadata": {},
   "source": [
    "1 => 2 => 3\n",
    "\n",
    "1 => 3 => 4\n",
    "\n",
    "Return 1 => 1 => 2 => 3 => 3 => 4"
   ]
  },
  {
   "cell_type": "code",
   "execution_count": 280,
   "id": "511017e9",
   "metadata": {},
   "outputs": [],
   "source": [
    "class ListNode:\n",
    "    def __init__(self, val=0, next=None):\n",
    "        self.val = val\n",
    "        self.next = next\n",
    "\n",
    "\n",
    "class MergeTwoSorted:\n",
    "    def solve(self, l1, l2):\n",
    "        \"\"\"\n",
    "        i, j\n",
    "        \n",
    "        i: 1 => 2 => 3\n",
    "        j: 1 => 3\n",
    "        \"\"\"\n",
    "        if l1 is None and l2 is None:\n",
    "            return []\n",
    "        \n",
    "        if l1 is None:\n",
    "            return l2\n",
    "        \n",
    "        if l2 is None:\n",
    "            return l1\n",
    "        \n",
    "        if l2.val < l1.val:\n",
    "            l1, l2 = l2, l1\n",
    "            \n",
    "        # Now, l1 is the smallest. Eventually, return l1\n",
    "        i = l1\n",
    "        j = l2\n",
    "        \n",
    "        prev = None\n",
    "        while i is not None and j is not None:\n",
    "            if i.val < j.val:\n",
    "                prev = i\n",
    "                i = i.next\n",
    "            else:\n",
    "                # Add node from L2 before i.\n",
    "                if prev is None:\n",
    "                    # j becomes the 1st node.\n",
    "                    l1 = j\n",
    "                    \n",
    "                    prev = j\n",
    "                    after = j.next\n",
    "                    j.next = i\n",
    "                    j = after\n",
    "                else:\n",
    "                    prev.next = j\n",
    "                    after = j.next\n",
    "                    j.next = i\n",
    "                    prev = prev.next\n",
    "                    j = after\n",
    "        \n",
    "        if i is None:\n",
    "            if j is not None:\n",
    "                prev.next = j\n",
    "        \n",
    "        return l1"
   ]
  },
  {
   "cell_type": "code",
   "execution_count": 282,
   "id": "a2c36f4d",
   "metadata": {},
   "outputs": [
    {
     "name": "stdout",
     "output_type": "stream",
     "text": [
      "<__main__.ListNode object at 0x7fcb6c2d1e90> 1\n",
      "<__main__.ListNode object at 0x7fcb6c2d1f90> 2\n",
      "<__main__.ListNode object at 0x7fcb6c2d1910> 2\n",
      "<__main__.ListNode object at 0x7fcb6c2d1d90> 3\n",
      "<__main__.ListNode object at 0x7fcb6c2d1250> 3\n"
     ]
    }
   ],
   "source": [
    "o = MergeTwoSorted()\n",
    "one = ListNode(1)\n",
    "two = ListNode(2)\n",
    "three = ListNode(3)\n",
    "\n",
    "_one = ListNode(2)\n",
    "_three = ListNode(3)\n",
    "# _four = ListNode(4)\n",
    "\n",
    "l1 = one\n",
    "one.next = two\n",
    "two.next = three\n",
    "\n",
    "l2 = _one\n",
    "_one.next = _three\n",
    "# _three.next = _four\n",
    "\n",
    "ans = o.solve(l1, l2)\n",
    "while ans is not None:\n",
    "    print(ans, ans.val)\n",
    "    ans = ans.next"
   ]
  },
  {
   "cell_type": "markdown",
   "id": "772aff2d",
   "metadata": {},
   "source": [
    "## 6. Find the minimum substring that contains all characters in `t`"
   ]
  },
  {
   "cell_type": "markdown",
   "id": "f3cb4480",
   "metadata": {},
   "source": [
    "Consider string `s = 'abdobecodebanc'` and target string `t = 'abc'`.\n",
    "\n",
    "You need to find the smallest substring in `s` which contains all characters of `t`.\n",
    "\n",
    "Each testcase will have a unique answer.\n",
    "\n",
    "If no such substring exists, return an empty string `''`."
   ]
  },
  {
   "cell_type": "code",
   "execution_count": 32,
   "id": "e67ae71e",
   "metadata": {},
   "outputs": [],
   "source": [
    "from collections import Counter, defaultdict\n",
    "\n",
    "class MinimumSubstringContains:\n",
    "    def solve(self, s, t):\n",
    "        if len(s) == 0 or len(t) == 0:\n",
    "            return ''\n",
    "        \n",
    "        include = Counter(t)\n",
    "        relevant = []\n",
    "        for i, c in enumerate(s):\n",
    "            if c in include:\n",
    "                relevant.append((i, c))\n",
    "                \n",
    "        # Now, you have a sorted list of relevant characters,\n",
    "        # with their positions.\n",
    "        # Use two pointers.\n",
    "        \n",
    "        i = 0\n",
    "        ans = None\n",
    "        best = len(s) + 1\n",
    "        temp = defaultdict(int)\n",
    "        j = 0\n",
    "        \n",
    "        while j < len(relevant):\n",
    "            if len(temp) == len(include) and all([include[k]<=temp[k] for k in temp.keys()]):\n",
    "                while i < j and len(temp) == len(include) and all([include[k]<=temp[k] for k in temp.keys()]):\n",
    "                    size = relevant[j-1][0] - relevant[i][0] + 1\n",
    "                    if size < best:\n",
    "                        best = size\n",
    "                        ans = (relevant[i][0], relevant[j-1][0])\n",
    "                    \n",
    "                    _, char = relevant[i]\n",
    "                    temp[char] -= 1\n",
    "                    if temp[char] == 0:\n",
    "                        del temp[char]\n",
    "                    i += 1\n",
    "                    \n",
    "            else:\n",
    "                _, char = relevant[j]\n",
    "                temp[char] += 1\n",
    "                j += 1\n",
    "                \n",
    "\n",
    "        if len(temp) == len(include) and all([include[k]<=temp[k] for k in temp.keys()]):\n",
    "                while i < j and len(temp) == len(include) and all([include[k]<=temp[k] for k in temp.keys()]):\n",
    "                    size = relevant[j-1][0] - relevant[i][0] + 1\n",
    "                    if size < best:\n",
    "                        best = size\n",
    "                        ans = (relevant[i][0], relevant[j-1][0])\n",
    "                    \n",
    "                    _, char = relevant[i]\n",
    "                    temp[char] -= 1\n",
    "                    if temp[char] == 0:\n",
    "                        del temp[char]\n",
    "                    i += 1\n",
    "        \n",
    "        if best == len(s)+1:\n",
    "            return ''\n",
    "        \n",
    "        return s[ans[0]:ans[1]+1]"
   ]
  },
  {
   "cell_type": "code",
   "execution_count": 36,
   "id": "0be406cf",
   "metadata": {},
   "outputs": [
    {
     "data": {
      "text/plain": [
       "''"
      ]
     },
     "execution_count": 36,
     "metadata": {},
     "output_type": "execute_result"
    }
   ],
   "source": [
    "o = MinimumSubstringContains()\n",
    "o.solve('AA', 'ABC')"
   ]
  },
  {
   "cell_type": "markdown",
   "id": "465dfade",
   "metadata": {},
   "source": [
    "## 7. CountAndSay"
   ]
  },
  {
   "cell_type": "markdown",
   "id": "6df6edbe",
   "metadata": {},
   "source": [
    "Given a digit string `332211`, you will:\n",
    "* group by the contiguous digits (33, 22, 11)\n",
    "* count the number of each digit => (Two 3, Two 2, Two 1)\n",
    "* and return this as a string => `232221`"
   ]
  },
  {
   "cell_type": "markdown",
   "id": "c4826ba8",
   "metadata": {},
   "source": [
    "You can to return `CountAndSay(n)` for some `n`, recursively, starting from `n=1`:\n",
    "* `CountAndSay(1) = '1'`\n",
    "* `CountAndSay(2) = One 1s => 11`\n",
    "* `CountAndSay(3) = Two 1s => 21`\n",
    "* `CountAndSay(4) = One 2s and One 1s => 1211`"
   ]
  },
  {
   "cell_type": "code",
   "execution_count": 41,
   "id": "4c01f22e",
   "metadata": {},
   "outputs": [],
   "source": [
    "class CountAndSay:\n",
    "    def solve(self, n):\n",
    "        if n == 1:\n",
    "            return '1'\n",
    "        \n",
    "        def count(string):\n",
    "            sequence = ''\n",
    "            i = 0\n",
    "            prev = None\n",
    "            for char in string:\n",
    "                if prev is not None:\n",
    "                    if prev == char:\n",
    "                        i += 1\n",
    "                    else:\n",
    "                        sequence += str(i)+prev\n",
    "                        i = 1\n",
    "                        \n",
    "                else:\n",
    "                    i = 1\n",
    "                    \n",
    "                prev = char\n",
    "                \n",
    "            sequence += str(i)+prev\n",
    "            return sequence\n",
    "        \n",
    "        \n",
    "        s = '1'\n",
    "        for i in range(2, n+1):\n",
    "            s = count(s)\n",
    "            \n",
    "        return s"
   ]
  },
  {
   "cell_type": "code",
   "execution_count": 43,
   "id": "e03bd0b2",
   "metadata": {},
   "outputs": [
    {
     "name": "stdout",
     "output_type": "stream",
     "text": [
      "1 1\n",
      "2 11\n",
      "3 21\n",
      "4 1211\n",
      "5 111221\n"
     ]
    },
    {
     "data": {
      "text/plain": [
       "'111221'"
      ]
     },
     "execution_count": 43,
     "metadata": {},
     "output_type": "execute_result"
    }
   ],
   "source": [
    "o = CountAndSay()\n",
    "o.solve(5)"
   ]
  },
  {
   "cell_type": "markdown",
   "id": "02975601",
   "metadata": {},
   "source": [
    "## 8. Check if a string can be broken into words using a dictionary.\n",
    "\n",
    "*Every sub-word should be present in the dictionary!*\n",
    "\n",
    "* dict: [apple, pen, app]\n",
    "* string: 'applepenapple'\n",
    "* output: True\n",
    "\n",
    "**Time Complexity**:\n",
    "* Any string of length $n$ will have $O(n^2)$ sub-strings.\n",
    "* And to \"select\" these substrings, you will spend a minimum of $O(n^3)$\n",
    "* With memoization, you have ensured that you will only do this once, for each position.\n",
    "\n",
    "Thus, Time Complexity will be $O(n^3)$.\n",
    "\n",
    "Space Complexity will be $O(n)$ -- depth of recursion, and the size of holding the string."
   ]
  },
  {
   "cell_type": "code",
   "execution_count": 57,
   "id": "7aa85e44",
   "metadata": {},
   "outputs": [],
   "source": [
    "from functools import lru_cache\n",
    "\n",
    "class SubWordDict:\n",
    "    def solve(self, dictionary, string):\n",
    "        dictionary = set(dictionary)\n",
    "        \n",
    "        @lru_cache(maxsize=None)\n",
    "        def check(start):\n",
    "            if start == len(string):\n",
    "                return True  # Reached the end. Valid.\n",
    "            \n",
    "            for i in range(start, len(string)):\n",
    "                prefix = string[start : i+1]\n",
    "                if prefix in dictionary:\n",
    "                    if check(i+1):\n",
    "                        return True\n",
    "                \n",
    "            return False\n",
    "        \n",
    "        return check(0)"
   ]
  },
  {
   "cell_type": "code",
   "execution_count": 55,
   "id": "06c80850",
   "metadata": {},
   "outputs": [],
   "source": [
    "o = SubWordDict()"
   ]
  },
  {
   "cell_type": "code",
   "execution_count": 56,
   "id": "8383c446",
   "metadata": {},
   "outputs": [
    {
     "name": "stdout",
     "output_type": "stream",
     "text": [
      "93.2 µs ± 1.46 µs per loop (mean ± std. dev. of 7 runs, 10000 loops each)\n"
     ]
    }
   ],
   "source": [
    "%timeit o.solve(['apple', 'app', 'pen', 'lepe'], 'applepenappleapplepenappleapplepenappleapplepenapple')"
   ]
  },
  {
   "cell_type": "code",
   "execution_count": 58,
   "id": "4e2f325c",
   "metadata": {},
   "outputs": [
    {
     "name": "stdout",
     "output_type": "stream",
     "text": [
      "92.3 µs ± 1.22 µs per loop (mean ± std. dev. of 7 runs, 10000 loops each)\n"
     ]
    }
   ],
   "source": [
    "%timeit o.solve(['apple', 'app', 'pen', 'lepe'], 'applepenappleapplepenappleapplepenappleapplepenapple')"
   ]
  },
  {
   "cell_type": "markdown",
   "id": "eb942c51",
   "metadata": {},
   "source": [
    "## 9. $(6^*)$ Find the minimum substring that contains all characters in `t`; revisited."
   ]
  },
  {
   "cell_type": "markdown",
   "id": "03295f52",
   "metadata": {},
   "source": [
    "Given string `s: 'ababaacdba'` and a target sring `t: 'abc'`, find the smallest substring in `s` that contains all the characters (including repeatitions) of `t`.\n",
    "\n",
    "*Test cases will ensure that there is only one unique answer.*"
   ]
  },
  {
   "cell_type": "code",
   "execution_count": 72,
   "id": "b51e3155",
   "metadata": {},
   "outputs": [],
   "source": [
    "from collections import Counter\n",
    "from collections import defaultdict\n",
    "\n",
    "\n",
    "class MinimumSubstring:\n",
    "    def solve(self, s, t):\n",
    "        \"\"\"\n",
    "        Find the distribution of `t`\n",
    "        target = Counter(t)\n",
    "        \n",
    "        Two pointer.\n",
    "        j will keep moving forward, adding new chars to temp.\n",
    "        i will chase j, dropping characters.\n",
    "        \n",
    "        Each char will be visited twice.\n",
    "        \"\"\"\n",
    "        if len(t) == 0:\n",
    "            return ''\n",
    "        \n",
    "        target = Counter(t)\n",
    "        temp = defaultdict(int)\n",
    "        \n",
    "        complete = 0\n",
    "        \n",
    "        size = len(s)+1\n",
    "        start, end = None, None\n",
    "        \n",
    "        i = 0\n",
    "        \n",
    "        for j in range(len(s)):\n",
    "            if s[j] in target:\n",
    "                temp[s[j]] += 1\n",
    "                \n",
    "                if temp[s[j]] == target[s[j]]:\n",
    "                    complete += 1\n",
    "                    \n",
    "            while i <= j and complete == len(target):\n",
    "                if j-i+1 < size:\n",
    "                    size = j-i+1\n",
    "                    start, end = i, j\n",
    "                    \n",
    "                if s[i] in temp:\n",
    "                    temp[s[i]] -= 1\n",
    "                    if temp[s[i]] < target[s[i]]:\n",
    "                        complete -= 1\n",
    "                        \n",
    "                i += 1\n",
    "        \n",
    "        if size < len(s)+1:\n",
    "            return s[start:end+1]\n",
    "        \n",
    "        return None"
   ]
  },
  {
   "cell_type": "code",
   "execution_count": 77,
   "id": "71474705",
   "metadata": {},
   "outputs": [
    {
     "data": {
      "text/plain": [
       "'ABC'"
      ]
     },
     "execution_count": 77,
     "metadata": {},
     "output_type": "execute_result"
    }
   ],
   "source": [
    "o = MinimumSubstring()\n",
    "o.solve('ADBDDABCNAB', 'CAB')"
   ]
  },
  {
   "cell_type": "markdown",
   "id": "f34558d9",
   "metadata": {},
   "source": [
    "## 10. Deepcopy a linked-list with random-pointers to nodes. Do not use any additional space."
   ]
  },
  {
   "cell_type": "code",
   "execution_count": 91,
   "id": "68fca58b",
   "metadata": {},
   "outputs": [],
   "source": [
    "class Node:\n",
    "    def __init__(self, val, next=None, random=None):\n",
    "        self.val = val\n",
    "        self.next = next\n",
    "        self.random = random\n",
    "        \n",
    "class DeepcopyLL:\n",
    "    def solve(self, og):\n",
    "        if og is None:\n",
    "            return None\n",
    "        \n",
    "        start = og\n",
    "        while start is not None:\n",
    "            n = Node(start.val)\n",
    "            after = start.next\n",
    "            \n",
    "            start.next = n\n",
    "            n.next = after\n",
    "            start = after\n",
    "            \n",
    "        # Now: A => A' => B => B' => C => C' => null\n",
    "        old = og  # A\n",
    "        ans = og.next\n",
    "        \n",
    "        # Assign the random pointers to the copy.\n",
    "        while old is not None:\n",
    "            new = old.next  # A'\n",
    "            if old.random is not None:\n",
    "                new.random = old.random.next\n",
    "                \n",
    "            old = new.next\n",
    "                \n",
    "        # Fix the `next` pointers for both.\n",
    "        old = og\n",
    "        while old is not None:\n",
    "            new = old.next\n",
    "            old.next = None if new is None else new.next\n",
    "            old = old.next\n",
    "            new.next = None if old is None else old.next\n",
    "            new = new.next\n",
    "            \n",
    "        return ans"
   ]
  },
  {
   "cell_type": "code",
   "execution_count": 92,
   "id": "e8415592",
   "metadata": {},
   "outputs": [
    {
     "name": "stdout",
     "output_type": "stream",
     "text": [
      "0\n",
      "  None\n",
      "1\n",
      "  0\n",
      "2\n",
      "  3\n",
      "3\n",
      "  1\n",
      "==================================================\n",
      "0\n",
      "  None\n",
      "1\n",
      "  0\n",
      "2\n",
      "  3\n",
      "3\n",
      "  1\n"
     ]
    }
   ],
   "source": [
    "zero = Node(0)\n",
    "one = Node(1)\n",
    "two = Node(2)\n",
    "three = Node(3)\n",
    "\n",
    "zero.next = one\n",
    "one.next = two\n",
    "two.next = three\n",
    "\n",
    "zero.random = None\n",
    "one.random = zero\n",
    "two.random = three\n",
    "three.random = one\n",
    "\n",
    "start = zero\n",
    "while start is not None:\n",
    "    print(start.val)\n",
    "    print(\" \", None if start.random is None else start.random.val)\n",
    "    start = start.next\n",
    "    \n",
    "print(\"=\"*50)\n",
    "\n",
    "o = DeepcopyLL()\n",
    "ans = o.solve(zero)\n",
    "while ans is not None:\n",
    "    print(ans.val)\n",
    "    print(\" \", None if ans.random is None else ans.random.val)\n",
    "    ans = ans.next"
   ]
  },
  {
   "cell_type": "code",
   "execution_count": null,
   "id": "b0105657",
   "metadata": {},
   "outputs": [],
   "source": []
  },
  {
   "cell_type": "code",
   "execution_count": null,
   "id": "b8920886",
   "metadata": {},
   "outputs": [],
   "source": []
  },
  {
   "cell_type": "code",
   "execution_count": null,
   "id": "01bcc483",
   "metadata": {},
   "outputs": [],
   "source": []
  },
  {
   "cell_type": "code",
   "execution_count": null,
   "id": "97748fda",
   "metadata": {},
   "outputs": [],
   "source": []
  },
  {
   "cell_type": "code",
   "execution_count": null,
   "id": "a5f1c730",
   "metadata": {},
   "outputs": [],
   "source": []
  },
  {
   "cell_type": "code",
   "execution_count": null,
   "id": "ac837a3f",
   "metadata": {},
   "outputs": [],
   "source": []
  },
  {
   "cell_type": "code",
   "execution_count": null,
   "id": "c7958c1f",
   "metadata": {},
   "outputs": [],
   "source": []
  },
  {
   "cell_type": "code",
   "execution_count": null,
   "id": "92a31a5c",
   "metadata": {},
   "outputs": [],
   "source": []
  },
  {
   "cell_type": "code",
   "execution_count": null,
   "id": "11741fb5",
   "metadata": {},
   "outputs": [],
   "source": []
  },
  {
   "cell_type": "code",
   "execution_count": null,
   "id": "79b6e529",
   "metadata": {},
   "outputs": [],
   "source": []
  },
  {
   "cell_type": "code",
   "execution_count": null,
   "id": "fed08a41",
   "metadata": {},
   "outputs": [],
   "source": []
  },
  {
   "cell_type": "code",
   "execution_count": null,
   "id": "a98699f6",
   "metadata": {},
   "outputs": [],
   "source": []
  },
  {
   "cell_type": "code",
   "execution_count": null,
   "id": "b54e8081",
   "metadata": {},
   "outputs": [],
   "source": []
  }
 ],
 "metadata": {
  "kernelspec": {
   "display_name": "Python 3",
   "language": "python",
   "name": "python3"
  },
  "language_info": {
   "codemirror_mode": {
    "name": "ipython",
    "version": 3
   },
   "file_extension": ".py",
   "mimetype": "text/x-python",
   "name": "python",
   "nbconvert_exporter": "python",
   "pygments_lexer": "ipython3",
   "version": "3.8.8"
  }
 },
 "nbformat": 4,
 "nbformat_minor": 5
}
