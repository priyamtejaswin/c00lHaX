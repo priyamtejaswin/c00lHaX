{
 "cells": [
  {
   "cell_type": "markdown",
   "id": "04f71a21",
   "metadata": {},
   "source": [
    "1. Generate all permutations of a given string.\n",
    "2. Generate all unique letter combinations of a string.\n",
    "3. Return indices which add up to a sum.\n",
    "4. Search for a number in a sorted, but rotated array.\n",
    "5. Implement nCk\n",
    "6. Combination sum -- all possible combinations which lead to the target sum.\n",
    "7. Combination sum -- single use only, without repeatitions.\n",
    "8. Palindrome Partitions\n",
    "9. Skyline problem (revist later).\n",
    "10. Jump to last index.\n",
    "---"
   ]
  },
  {
   "cell_type": "markdown",
   "id": "472f2e60",
   "metadata": {},
   "source": [
    "# 1. Generate all permutations of a string.\n",
    "\n",
    "```\n",
    "abc:\n",
    "\n",
    "abc\n",
    "acb\n",
    "\n",
    "bac\n",
    "bca\n",
    "\n",
    "cab\n",
    "cba\n",
    "```"
   ]
  },
  {
   "cell_type": "markdown",
   "id": "bebeac69",
   "metadata": {},
   "source": [
    "If you fix a character `anchor`, then you can find the permutations `p` of the remaining characters, and generate a *complete* permutation as `[anchor] + p`.\n",
    "\n",
    "This process can be followed recursively. The base case is when your sequence has only 1 character. Then you just return the `[seq]` as the list of all permutations."
   ]
  },
  {
   "cell_type": "code",
   "execution_count": 20,
   "id": "c77ef09d",
   "metadata": {},
   "outputs": [],
   "source": [
    "class GenPermutations:\n",
    "    def solve(self, text):\n",
    "        def permute(seq):\n",
    "            \"\"\"\n",
    "            Generates all permutations for a string.\n",
    "            \"\"\"\n",
    "            if len(seq) == 1:\n",
    "                return [seq]\n",
    "            else:\n",
    "                current = []\n",
    "                for i in range(len(seq)):\n",
    "                    anchor = seq[i]\n",
    "                    remainder = seq[:i] + seq[i+1:]\n",
    "                    for p in permute(remainder):\n",
    "                        current.append([anchor] + p)\n",
    "                        \n",
    "                return current\n",
    "            \n",
    "        return permute(text)"
   ]
  },
  {
   "cell_type": "code",
   "execution_count": 19,
   "id": "632f2113",
   "metadata": {},
   "outputs": [
    {
     "data": {
      "text/plain": [
       "[['a', 'b', 'c'],\n",
       " ['a', 'c', 'b'],\n",
       " ['b', 'a', 'c'],\n",
       " ['b', 'c', 'a'],\n",
       " ['c', 'a', 'b'],\n",
       " ['c', 'b', 'a']]"
      ]
     },
     "execution_count": 19,
     "metadata": {},
     "output_type": "execute_result"
    }
   ],
   "source": [
    "o = GenPermutations()\n",
    "o.solve(list('abc'))"
   ]
  },
  {
   "cell_type": "markdown",
   "id": "abd50833",
   "metadata": {},
   "source": [
    "# 2. Generate all unique combinations of a string.\n",
    "\n",
    "This is also a powerset. And it includes the empty string."
   ]
  },
  {
   "cell_type": "code",
   "execution_count": 51,
   "id": "8a19e11b",
   "metadata": {},
   "outputs": [],
   "source": [
    "class Combinations:\n",
    "    def solve(self, text):\n",
    "        ans = []\n",
    "        chars = list(text)\n",
    "        \n",
    "        def search(start, temp):\n",
    "            ans.append(''.join(temp))\n",
    "            if start < len(chars):\n",
    "                for i in range(start, len(chars)):\n",
    "                    temp.append(chars[i])\n",
    "                    search(i+1, temp)\n",
    "                    temp.pop()\n",
    "                    \n",
    "        search(0, [])\n",
    "        return ans"
   ]
  },
  {
   "cell_type": "code",
   "execution_count": 52,
   "id": "93eb531b",
   "metadata": {},
   "outputs": [
    {
     "data": {
      "text/plain": [
       "['', 'a', 'ab', 'abc', 'ac', 'b', 'bc', 'c']"
      ]
     },
     "execution_count": 52,
     "metadata": {},
     "output_type": "execute_result"
    }
   ],
   "source": [
    "o = Combinations()\n",
    "o.solve('abc')"
   ]
  },
  {
   "cell_type": "markdown",
   "id": "9ecf7d24",
   "metadata": {},
   "source": [
    "# 3. Return indices of an array, which add up to a sum."
   ]
  },
  {
   "cell_type": "markdown",
   "id": "a2fd08dc",
   "metadata": {},
   "source": [
    "```\n",
    "nums: [2, 10, 7, 5]\n",
    "target: 9\n",
    "output: [0, 2]\n",
    "```"
   ]
  },
  {
   "cell_type": "code",
   "execution_count": 40,
   "id": "4f76de69",
   "metadata": {},
   "outputs": [],
   "source": [
    "class Indices:\n",
    "    def solve(self, array, target):\n",
    "        positions = {}\n",
    "        for ix, num in enumerate(array):\n",
    "            diff = target - num\n",
    "            if diff == 0:\n",
    "                return [ix]\n",
    "            else:\n",
    "                if diff in positions:\n",
    "                    return [ix, positions[diff]]\n",
    "                else:\n",
    "                    positions[num] = ix\n",
    "                    \n",
    "        return None"
   ]
  },
  {
   "cell_type": "code",
   "execution_count": 42,
   "id": "718a3fc9",
   "metadata": {},
   "outputs": [
    {
     "data": {
      "text/plain": [
       "[2, 0]"
      ]
     },
     "execution_count": 42,
     "metadata": {},
     "output_type": "execute_result"
    }
   ],
   "source": [
    "o = Indices()\n",
    "o.solve([2, 10, 7, 5], 9)"
   ]
  },
  {
   "cell_type": "markdown",
   "id": "051c3def",
   "metadata": {},
   "source": [
    "# 4. Search for a number in a sorted but rotated array."
   ]
  },
  {
   "cell_type": "markdown",
   "id": "70837c94",
   "metadata": {},
   "source": [
    "*Can you do this in `log n` time?*"
   ]
  },
  {
   "cell_type": "markdown",
   "id": "ba6532d0",
   "metadata": {},
   "source": [
    "```\n",
    "1 2 3 4 5\n",
    "---------\n",
    "4 5 1 2 3\n",
    "```\n",
    "A rotated array will always result in TWO sorted sub-arrays."
   ]
  },
  {
   "cell_type": "code",
   "execution_count": 43,
   "id": "3997a8c7",
   "metadata": {},
   "outputs": [],
   "source": [
    "class SearchRotated:\n",
    "    def solve(self, array, x):\n",
    "        i = 0\n",
    "        j = len(array)-1\n",
    "        \n",
    "        while i <= j:\n",
    "            mid = i + (j-i)//2\n",
    "            if array[mid] == x:\n",
    "                return True\n",
    "            else:\n",
    "                if array[mid] <= array[-1]:\n",
    "                    # mid to end is sorted.\n",
    "                    if x > array[mid] and x <= array[-1]:\n",
    "                        i = mid + 1\n",
    "                    else:\n",
    "                        j = mid - 1\n",
    "                else:\n",
    "                    # start to mid is sorted.\n",
    "                    if x >= array[0] and x < array[mid]:\n",
    "                        j = mid - 1\n",
    "                    else:\n",
    "                        i = mid + 1\n",
    "                        \n",
    "        return None"
   ]
  },
  {
   "cell_type": "code",
   "execution_count": 47,
   "id": "51d9bbc3",
   "metadata": {},
   "outputs": [
    {
     "name": "stdout",
     "output_type": "stream",
     "text": [
      "None\n"
     ]
    }
   ],
   "source": [
    "o = SearchRotated()\n",
    "print(o.solve([4, 5, 7, 1, 2, 3], 9))"
   ]
  },
  {
   "cell_type": "markdown",
   "id": "b056c553",
   "metadata": {},
   "source": [
    "# 5. Implement `n C k`"
   ]
  },
  {
   "cell_type": "code",
   "execution_count": 92,
   "id": "5612c845",
   "metadata": {},
   "outputs": [],
   "source": [
    "class NCK:\n",
    "    def solve(self, n, k):\n",
    "        \"\"\"\n",
    "        n: [1, 2, 3, ..., n]\n",
    "        Return all possible combinations of k numbers from n.\n",
    "        \n",
    "        [1 2 3]\n",
    "        \n",
    "        1\n",
    "        1 2\n",
    "        1 pop because exceeded\n",
    "        1 3\n",
    "        pop\n",
    "        end of loop\n",
    "        2 3\n",
    "        end of loop\n",
    "        \"\"\"\n",
    "        nums = list(range(1, n+1))\n",
    "        ans = []\n",
    "        \n",
    "        def choose(start, t, temp):\n",
    "            \"\"\"\n",
    "            Choose t numbers, starting from position `start`.\n",
    "            \"\"\"\n",
    "            if t == 0:\n",
    "                ans.append(list(temp))  # Recursion stops here.\n",
    "            else:\n",
    "                for i in range(start, len(nums)):\n",
    "                    temp.append(nums[i])\n",
    "                    choose(i+1, t-1, temp)\n",
    "                    temp.pop()\n",
    "                \n",
    "        choose(0, k, [])\n",
    "        return ans"
   ]
  },
  {
   "cell_type": "code",
   "execution_count": 93,
   "id": "ef4820c0",
   "metadata": {},
   "outputs": [
    {
     "data": {
      "text/plain": [
       "[[1], [2], [3], [4]]"
      ]
     },
     "execution_count": 93,
     "metadata": {},
     "output_type": "execute_result"
    }
   ],
   "source": [
    "o = NCK()\n",
    "o.solve(4, 1)"
   ]
  },
  {
   "cell_type": "code",
   "execution_count": 94,
   "id": "213de6a2",
   "metadata": {},
   "outputs": [
    {
     "data": {
      "text/plain": [
       "[[1, 2], [1, 3], [1, 4], [2, 3], [2, 4], [3, 4]]"
      ]
     },
     "execution_count": 94,
     "metadata": {},
     "output_type": "execute_result"
    }
   ],
   "source": [
    "o = NCK()\n",
    "o.solve(4, 2)"
   ]
  },
  {
   "cell_type": "code",
   "execution_count": 95,
   "id": "754fd9a8",
   "metadata": {},
   "outputs": [
    {
     "data": {
      "text/plain": [
       "[[1, 2, 3], [1, 2, 4], [1, 3, 4], [2, 3, 4]]"
      ]
     },
     "execution_count": 95,
     "metadata": {},
     "output_type": "execute_result"
    }
   ],
   "source": [
    "o = NCK()\n",
    "o.solve(4, 3)"
   ]
  },
  {
   "cell_type": "code",
   "execution_count": 96,
   "id": "f84f8e72",
   "metadata": {},
   "outputs": [
    {
     "data": {
      "text/plain": [
       "[[1, 2, 3], [1, 2, 4], [1, 3, 4], [2, 3, 4]]"
      ]
     },
     "execution_count": 96,
     "metadata": {},
     "output_type": "execute_result"
    }
   ],
   "source": [
    "o = NCK()\n",
    "o.solve(4, 3)"
   ]
  },
  {
   "cell_type": "markdown",
   "id": "02abd961",
   "metadata": {},
   "source": [
    "# 6. Implement combination sum"
   ]
  },
  {
   "cell_type": "markdown",
   "id": "206f92e8",
   "metadata": {},
   "source": [
    "```\n",
    "[2, 3, 4], 4\n",
    "\n",
    "[2, 2]\n",
    "[4]\n",
    "```"
   ]
  },
  {
   "cell_type": "code",
   "execution_count": 59,
   "id": "63cf4527",
   "metadata": {},
   "outputs": [],
   "source": [
    "class ComboSum:\n",
    "    def solve(self, nums, target):\n",
    "        \"\"\"\n",
    "        Be greedy -- keep adding the current number\n",
    "        till the diff next number is lower than the diff.\n",
    "        If you reach 0, great, else pop, and move to the next index.\n",
    "        \"\"\"\n",
    "        ans = []\n",
    "        \n",
    "        def search(start, t, path):\n",
    "            if t == 0:\n",
    "                ans.append(list(path))\n",
    "            else:\n",
    "                for i in range(start, len(nums)):\n",
    "                    if nums[i] <= t:\n",
    "                        path.append(nums[i])\n",
    "                        search(i, t-nums[i], path)\n",
    "                        path.pop()\n",
    "                        \n",
    "        search(0, target, [])\n",
    "        return ans"
   ]
  },
  {
   "cell_type": "code",
   "execution_count": 64,
   "id": "fada9bed",
   "metadata": {},
   "outputs": [
    {
     "data": {
      "text/plain": [
       "[[2, 2, 3], [2, 5], [3, 4], [7]]"
      ]
     },
     "execution_count": 64,
     "metadata": {},
     "output_type": "execute_result"
    }
   ],
   "source": [
    "o = ComboSum()\n",
    "o.solve([2, 3, 4, 5, 7], 7)"
   ]
  },
  {
   "cell_type": "markdown",
   "id": "b7b02e5c",
   "metadata": {},
   "source": [
    "# 6 alt. Combinations, by subsetting."
   ]
  },
  {
   "cell_type": "markdown",
   "id": "eb8aa033",
   "metadata": {},
   "source": [
    "```\n",
    "[1, 2, 3]\n",
    "\n",
    "[1, 2, 3]\n",
    "    []\n",
    "    a = 1, [2, 3]\n",
    "            []\n",
    "            a = 2, [3]\n",
    "            [[2, 3]]\n",
    "```"
   ]
  },
  {
   "cell_type": "code",
   "execution_count": 100,
   "id": "7a7b5f1c",
   "metadata": {},
   "outputs": [],
   "source": [
    "class CombAlt:\n",
    "    def solve(self, nums):\n",
    "        ans = []\n",
    "        nums.sort()\n",
    "        def combos(seq):\n",
    "            if len(seq) == 1:\n",
    "                return [seq]  # Only 1 possible combination.\n",
    "            else:\n",
    "                current = []\n",
    "                prev = nums[-1] + 1\n",
    "                for i in range(len(seq)):\n",
    "                    anchor = seq[i]\n",
    "                    if prev == anchor:\n",
    "                        continue\n",
    "                    \n",
    "                    current.append([anchor])\n",
    "                    rest = seq[i+1:]\n",
    "                    for c in combos(rest):\n",
    "                        current.append([anchor] + c)\n",
    "                        \n",
    "                    prev = anchor\n",
    "                        \n",
    "                return current\n",
    "            \n",
    "        return combos(nums)\n",
    "        return ans"
   ]
  },
  {
   "cell_type": "code",
   "execution_count": 101,
   "id": "bf869c99",
   "metadata": {},
   "outputs": [
    {
     "data": {
      "text/plain": [
       "[[1],\n",
       " [1, 2],\n",
       " [1, 2, 2],\n",
       " [1, 2, 2, 4],\n",
       " [1, 2, 4],\n",
       " [1, 4],\n",
       " [2],\n",
       " [2, 2],\n",
       " [2, 2, 4],\n",
       " [2, 4],\n",
       " [4]]"
      ]
     },
     "execution_count": 101,
     "metadata": {},
     "output_type": "execute_result"
    }
   ],
   "source": [
    "o = CombAlt()\n",
    "o.solve([1, 2, 2, 4])"
   ]
  },
  {
   "cell_type": "markdown",
   "id": "1028710f",
   "metadata": {},
   "source": [
    "# 7. Combination Sum -- single use only\n",
    "\n",
    "The same problem, but you can only use a number once."
   ]
  },
  {
   "cell_type": "code",
   "execution_count": 111,
   "id": "b32daebd",
   "metadata": {},
   "outputs": [],
   "source": [
    "class ComboSumSingle:\n",
    "    def solve(self, nums, target):\n",
    "        nums.sort()\n",
    "        ans = []\n",
    "        \n",
    "        def search(start, t, path):\n",
    "            \"\"\"\n",
    "            This function, returns the `path` that adds up to `t`.\n",
    "            \"\"\"\n",
    "            if t == 0:\n",
    "                ans.append(list(path))\n",
    "            else:\n",
    "                prev = nums[-1]+1\n",
    "                for i in range(start, len(nums)):\n",
    "                    n = nums[i]\n",
    "                    if prev == n:\n",
    "                        continue\n",
    "                    else:\n",
    "                        prev = n\n",
    "                    \n",
    "                    if n <= t:\n",
    "                        path.append(n)\n",
    "                        search(i+1, t-n, path)\n",
    "                        path.pop()\n",
    "                    else:\n",
    "                        return\n",
    "                    \n",
    "        search(0, target, [])\n",
    "        return ans"
   ]
  },
  {
   "cell_type": "code",
   "execution_count": 113,
   "id": "f0db6b33",
   "metadata": {},
   "outputs": [
    {
     "data": {
      "text/plain": [
       "[[1, 1, 6], [1, 2, 5], [1, 7], [2, 6]]"
      ]
     },
     "execution_count": 113,
     "metadata": {},
     "output_type": "execute_result"
    }
   ],
   "source": [
    "o = ComboSumSingle()\n",
    "o.solve([10, 1, 2, 7, 6, 1, 5], 8)"
   ]
  },
  {
   "cell_type": "markdown",
   "id": "14109181",
   "metadata": {},
   "source": [
    "# 8. Palindrome Partition\n",
    "\n",
    "```\n",
    "aba => [a, b, a], [aba]\n",
    "aab => [a, a, b], [aa, b]\n",
    "```\n",
    "\n",
    "Split a sequence into all possible palindromic sequences."
   ]
  },
  {
   "cell_type": "code",
   "execution_count": 121,
   "id": "a8589ede",
   "metadata": {},
   "outputs": [],
   "source": [
    "class PalindromePartition:\n",
    "    def solve(self, text):\n",
    "        pal = [[0 for _ in text] for _ in text]\n",
    "        for i in range(len(text)):\n",
    "            pal[i][i] = 1\n",
    "            if i > 0:\n",
    "                pal[i-1][i] = int(text[i-1] == text[i])\n",
    "                \n",
    "        for gram in range(3, len(text)+1):\n",
    "            for i in range(len(text)-gram+1):\n",
    "                j = i + gram - 1\n",
    "                if text[i] == text[j] and pal[i+1][j-1]:\n",
    "                    pal[i][j] = 1\n",
    "                    \n",
    "        for row in pal:\n",
    "            print(row)\n",
    "            \n",
    "        ans = []\n",
    "        def search(start, temp):\n",
    "            \"\"\"\n",
    "            Given a start position, this function finds all cuts for which the \n",
    "            substrings are also palindromes.\n",
    "            \"\"\"\n",
    "            if start == len(text):\n",
    "                ans.append(list(temp))\n",
    "            else:\n",
    "                for end in range(start, len(text)):\n",
    "                    if pal[start][end]:\n",
    "                        temp.append((start, end))\n",
    "                        search(end+1, temp)\n",
    "                        temp.pop()\n",
    "                        \n",
    "        search(0, [])\n",
    "        return [[text[start:end+1] for start, end in temp] for temp in ans]"
   ]
  },
  {
   "cell_type": "code",
   "execution_count": 122,
   "id": "a31e7fd2",
   "metadata": {},
   "outputs": [
    {
     "name": "stdout",
     "output_type": "stream",
     "text": [
      "[1, 1, 0, 0, 1]\n",
      "[0, 1, 0, 1, 0]\n",
      "[0, 0, 1, 0, 0]\n",
      "[0, 0, 0, 1, 1]\n",
      "[0, 0, 0, 0, 1]\n"
     ]
    },
    {
     "data": {
      "text/plain": [
       "[['a', 'a', 'b', 'a', 'a'],\n",
       " ['a', 'a', 'b', 'aa'],\n",
       " ['a', 'aba', 'a'],\n",
       " ['aa', 'b', 'a', 'a'],\n",
       " ['aa', 'b', 'aa'],\n",
       " ['aabaa']]"
      ]
     },
     "execution_count": 122,
     "metadata": {},
     "output_type": "execute_result"
    }
   ],
   "source": [
    "o = PalindromePartition()\n",
    "o.solve('aabaa')"
   ]
  },
  {
   "cell_type": "markdown",
   "id": "ad3bee04",
   "metadata": {},
   "source": [
    "# 9. Skyline Problem\n",
    "\n",
    "Given triplets of (start, height, end), find the the skyline.\n",
    "```\n",
    "(1, 4, 3), (2, 7, 5), (4, 2, 7), (9, 4, 10), (10, 6, 11)\n",
    "\n",
    "1,4\n",
    "2,7\n",
    "5,2\n",
    "0,7\n",
    "```"
   ]
  },
  {
   "cell_type": "markdown",
   "id": "98d67111",
   "metadata": {},
   "source": [
    "# 10. Jump to Last Index\n",
    "\n",
    "Given an array of values, where each value is the maximum number of indices you can jump from the current position.\n",
    "\n",
    "Can you determine if the last index is accesssible from the first one?"
   ]
  },
  {
   "cell_type": "code",
   "execution_count": 131,
   "id": "04ebce72",
   "metadata": {},
   "outputs": [],
   "source": [
    "class JumpToLast:\n",
    "    def solve(self, indices):\n",
    "        \"\"\"\n",
    "        Say you are at the current position.\n",
    "        If someone tells you that you can reach the end from the *next* position,\n",
    "        then you only need to check if you can reach the next position.\n",
    "        \"\"\"\n",
    "        if len(indices) == 1:\n",
    "            return True\n",
    "        \n",
    "        indices.reverse()\n",
    "        for ix in range(len(indices)):\n",
    "            if ix == 0:\n",
    "                indices[ix] = True\n",
    "                gap = 1\n",
    "            else:\n",
    "                jump = indices[ix]\n",
    "                if jump >= gap:\n",
    "                    indices[ix] = True\n",
    "                    gap = 1\n",
    "                else:\n",
    "                    indices[ix] = False\n",
    "                    gap += 1\n",
    "                    \n",
    "        print(indices[::-1])\n",
    "        return indices[-1]"
   ]
  },
  {
   "cell_type": "code",
   "execution_count": 134,
   "id": "d1cde8d3",
   "metadata": {},
   "outputs": [
    {
     "name": "stdout",
     "output_type": "stream",
     "text": [
      "[False, False, False, False, True]\n"
     ]
    },
    {
     "data": {
      "text/plain": [
       "False"
      ]
     },
     "execution_count": 134,
     "metadata": {},
     "output_type": "execute_result"
    }
   ],
   "source": [
    "o = JumpToLast()\n",
    "o.solve([2, 1, 1, 0, 1])"
   ]
  },
  {
   "cell_type": "code",
   "execution_count": null,
   "id": "b0a8995e",
   "metadata": {},
   "outputs": [],
   "source": []
  }
 ],
 "metadata": {
  "kernelspec": {
   "display_name": "Python 3",
   "language": "python",
   "name": "python3"
  },
  "language_info": {
   "codemirror_mode": {
    "name": "ipython",
    "version": 3
   },
   "file_extension": ".py",
   "mimetype": "text/x-python",
   "name": "python",
   "nbconvert_exporter": "python",
   "pygments_lexer": "ipython3",
   "version": "3.8.8"
  }
 },
 "nbformat": 4,
 "nbformat_minor": 5
}
