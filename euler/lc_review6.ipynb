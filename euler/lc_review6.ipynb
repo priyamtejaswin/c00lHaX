{
 "cells": [
  {
   "cell_type": "markdown",
   "id": "ef3903dc",
   "metadata": {},
   "source": [
    "1. Generate all permutations of a given string.\n",
    "2. Generate all unique letter combinations of a string.\n",
    "3. Return indices which add up to a sum.\n",
    "4. Search for a number in a sorted, but rotated array.\n",
    "5. Implement nCk\n",
    "6. Combination sum -- all possible combinations which lead to the target sum.\n",
    "---"
   ]
  },
  {
   "cell_type": "markdown",
   "id": "35e3b9aa",
   "metadata": {},
   "source": [
    "# 1. Generate all permutations of a string.\n",
    "\n",
    "```\n",
    "abc:\n",
    "\n",
    "abc\n",
    "acb\n",
    "\n",
    "bac\n",
    "bca\n",
    "\n",
    "cab\n",
    "cba\n",
    "```"
   ]
  },
  {
   "cell_type": "markdown",
   "id": "cf301bdd",
   "metadata": {},
   "source": [
    "If you fix a character `anchor`, then you can find the permutations `p` of the remaining characters, and generate a *complete* permutation as `[anchor] + p`.\n",
    "\n",
    "This process can be followed recursively. The base case is when your sequence has only 1 character. Then you just return the `[seq]` as the list of all permutations."
   ]
  },
  {
   "cell_type": "code",
   "execution_count": 20,
   "id": "46ea112e",
   "metadata": {},
   "outputs": [],
   "source": [
    "class GenPermutations:\n",
    "    def solve(self, text):\n",
    "        def permute(seq):\n",
    "            \"\"\"\n",
    "            Generates all permutations for a string.\n",
    "            \"\"\"\n",
    "            if len(seq) == 1:\n",
    "                return [seq]\n",
    "            else:\n",
    "                current = []\n",
    "                for i in range(len(seq)):\n",
    "                    anchor = seq[i]\n",
    "                    remainder = seq[:i] + seq[i+1:]\n",
    "                    for p in permute(remainder):\n",
    "                        current.append([anchor] + p)\n",
    "                        \n",
    "                return current\n",
    "            \n",
    "        return permute(text)"
   ]
  },
  {
   "cell_type": "code",
   "execution_count": 19,
   "id": "ec2f8a88",
   "metadata": {},
   "outputs": [
    {
     "data": {
      "text/plain": [
       "[['a', 'b', 'c'],\n",
       " ['a', 'c', 'b'],\n",
       " ['b', 'a', 'c'],\n",
       " ['b', 'c', 'a'],\n",
       " ['c', 'a', 'b'],\n",
       " ['c', 'b', 'a']]"
      ]
     },
     "execution_count": 19,
     "metadata": {},
     "output_type": "execute_result"
    }
   ],
   "source": [
    "o = GenPermutations()\n",
    "o.solve(list('abc'))"
   ]
  },
  {
   "cell_type": "markdown",
   "id": "b5d6d6cd",
   "metadata": {},
   "source": [
    "# 2. Generate all unique combinations of a string.\n",
    "\n",
    "This is also a powerset. And it includes the empty string."
   ]
  },
  {
   "cell_type": "code",
   "execution_count": 51,
   "id": "f8338e92",
   "metadata": {},
   "outputs": [],
   "source": [
    "class Combinations:\n",
    "    def solve(self, text):\n",
    "        ans = []\n",
    "        chars = list(text)\n",
    "        \n",
    "        def search(start, temp):\n",
    "            ans.append(''.join(temp))\n",
    "            if start < len(chars):\n",
    "                for i in range(start, len(chars)):\n",
    "                    temp.append(chars[i])\n",
    "                    search(i+1, temp)\n",
    "                    temp.pop()\n",
    "                    \n",
    "        search(0, [])\n",
    "        return ans"
   ]
  },
  {
   "cell_type": "code",
   "execution_count": 52,
   "id": "5cbf912e",
   "metadata": {},
   "outputs": [
    {
     "data": {
      "text/plain": [
       "['', 'a', 'ab', 'abc', 'ac', 'b', 'bc', 'c']"
      ]
     },
     "execution_count": 52,
     "metadata": {},
     "output_type": "execute_result"
    }
   ],
   "source": [
    "o = Combinations()\n",
    "o.solve('abc')"
   ]
  },
  {
   "cell_type": "markdown",
   "id": "ef26e918",
   "metadata": {},
   "source": [
    "# 3. Return indices of an array, which add up to a sum."
   ]
  },
  {
   "cell_type": "markdown",
   "id": "ef11958c",
   "metadata": {},
   "source": [
    "```\n",
    "nums: [2, 10, 7, 5]\n",
    "target: 9\n",
    "output: [0, 2]\n",
    "```"
   ]
  },
  {
   "cell_type": "code",
   "execution_count": 40,
   "id": "d4ae65bc",
   "metadata": {},
   "outputs": [],
   "source": [
    "class Indices:\n",
    "    def solve(self, array, target):\n",
    "        positions = {}\n",
    "        for ix, num in enumerate(array):\n",
    "            diff = target - num\n",
    "            if diff == 0:\n",
    "                return [ix]\n",
    "            else:\n",
    "                if diff in positions:\n",
    "                    return [ix, positions[diff]]\n",
    "                else:\n",
    "                    positions[num] = ix\n",
    "                    \n",
    "        return None"
   ]
  },
  {
   "cell_type": "code",
   "execution_count": 42,
   "id": "547ffaa1",
   "metadata": {},
   "outputs": [
    {
     "data": {
      "text/plain": [
       "[2, 0]"
      ]
     },
     "execution_count": 42,
     "metadata": {},
     "output_type": "execute_result"
    }
   ],
   "source": [
    "o = Indices()\n",
    "o.solve([2, 10, 7, 5], 9)"
   ]
  },
  {
   "cell_type": "markdown",
   "id": "2ebbc78c",
   "metadata": {},
   "source": [
    "# 4. Search for a number in a sorted but rotated array."
   ]
  },
  {
   "cell_type": "markdown",
   "id": "ec80294e",
   "metadata": {},
   "source": [
    "*Can you do this in `log n` time?*"
   ]
  },
  {
   "cell_type": "markdown",
   "id": "f96b2b6e",
   "metadata": {},
   "source": [
    "```\n",
    "1 2 3 4 5\n",
    "---------\n",
    "4 5 1 2 3\n",
    "```\n",
    "A rotated array will always result in TWO sorted sub-arrays."
   ]
  },
  {
   "cell_type": "code",
   "execution_count": 43,
   "id": "e8b5450c",
   "metadata": {},
   "outputs": [],
   "source": [
    "class SearchRotated:\n",
    "    def solve(self, array, x):\n",
    "        i = 0\n",
    "        j = len(array)-1\n",
    "        \n",
    "        while i <= j:\n",
    "            mid = i + (j-i)//2\n",
    "            if array[mid] == x:\n",
    "                return True\n",
    "            else:\n",
    "                if array[mid] <= array[-1]:\n",
    "                    # mid to end is sorted.\n",
    "                    if x > array[mid] and x <= array[-1]:\n",
    "                        i = mid + 1\n",
    "                    else:\n",
    "                        j = mid - 1\n",
    "                else:\n",
    "                    # start to mid is sorted.\n",
    "                    if x >= array[0] and x < array[mid]:\n",
    "                        j = mid - 1\n",
    "                    else:\n",
    "                        i = mid + 1\n",
    "                        \n",
    "        return None"
   ]
  },
  {
   "cell_type": "code",
   "execution_count": 47,
   "id": "76053719",
   "metadata": {},
   "outputs": [
    {
     "name": "stdout",
     "output_type": "stream",
     "text": [
      "None\n"
     ]
    }
   ],
   "source": [
    "o = SearchRotated()\n",
    "print(o.solve([4, 5, 7, 1, 2, 3], 9))"
   ]
  },
  {
   "cell_type": "markdown",
   "id": "9b9127e1",
   "metadata": {},
   "source": [
    "# 5. Implement `n C k`"
   ]
  },
  {
   "cell_type": "code",
   "execution_count": 53,
   "id": "0659f105",
   "metadata": {},
   "outputs": [],
   "source": [
    "class NCK:\n",
    "    def solve(self, n, k):\n",
    "        \"\"\"\n",
    "        n: [1, 2, 3, ..., n]\n",
    "        Return all possible combinations of k numbers from n.\n",
    "        \n",
    "        [1 2 3]\n",
    "        \n",
    "        1\n",
    "        1 2\n",
    "        1 pop because exceeded\n",
    "        1 3\n",
    "        pop\n",
    "        end of loop\n",
    "        2 3\n",
    "        end of loop\n",
    "        \"\"\"\n",
    "        nums = list(range(1, n+1))\n",
    "        ans = []\n",
    "        \n",
    "        def choose(start, t, temp):\n",
    "            \"\"\"\n",
    "            Choose t numbers, starting from position `start`.\n",
    "            \"\"\"\n",
    "            if t == 0:\n",
    "                ans.append(list(temp))  # Recursion stops here.\n",
    "            else:\n",
    "                for i in range(start, len(nums)):\n",
    "                    temp.append(nums[i])\n",
    "                    choose(i+1, t-1, temp)\n",
    "                    temp.pop()\n",
    "                \n",
    "        choose(0, k, [])\n",
    "        return ans"
   ]
  },
  {
   "cell_type": "code",
   "execution_count": 57,
   "id": "308221a1",
   "metadata": {},
   "outputs": [
    {
     "data": {
      "text/plain": [
       "[[1, 2, 3], [1, 2, 4], [1, 3, 4], [2, 3, 4]]"
      ]
     },
     "execution_count": 57,
     "metadata": {},
     "output_type": "execute_result"
    }
   ],
   "source": [
    "o = NCK()\n",
    "o.solve(4, 3)"
   ]
  },
  {
   "cell_type": "markdown",
   "id": "d0df8313",
   "metadata": {},
   "source": [
    "# 6. Implement combination sum"
   ]
  },
  {
   "cell_type": "markdown",
   "id": "aca92dd2",
   "metadata": {},
   "source": [
    "```\n",
    "[2, 3, 4], 4\n",
    "\n",
    "[2, 2]\n",
    "[4]\n",
    "```"
   ]
  },
  {
   "cell_type": "code",
   "execution_count": 59,
   "id": "a8717f7d",
   "metadata": {},
   "outputs": [],
   "source": [
    "class ComboSum:\n",
    "    def solve(self, nums, target):\n",
    "        \"\"\"\n",
    "        Be greedy -- keep adding the current number\n",
    "        till the diff next number is lower than the diff.\n",
    "        If you reach 0, great, else pop, and move to the next index.\n",
    "        \"\"\"\n",
    "        ans = []\n",
    "        \n",
    "        def search(start, t, path):\n",
    "            if t == 0:\n",
    "                ans.append(list(path))\n",
    "            else:\n",
    "                for i in range(start, len(nums)):\n",
    "                    if nums[i] <= t:\n",
    "                        path.append(nums[i])\n",
    "                        search(i, t-nums[i], path)\n",
    "                        path.pop()\n",
    "                        \n",
    "        search(0, target, [])\n",
    "        return ans"
   ]
  },
  {
   "cell_type": "code",
   "execution_count": 64,
   "id": "737c8656",
   "metadata": {},
   "outputs": [
    {
     "data": {
      "text/plain": [
       "[[2, 2, 3], [2, 5], [3, 4], [7]]"
      ]
     },
     "execution_count": 64,
     "metadata": {},
     "output_type": "execute_result"
    }
   ],
   "source": [
    "o = ComboSum()\n",
    "o.solve([2, 3, 4, 5, 7], 7)"
   ]
  }
 ],
 "metadata": {
  "kernelspec": {
   "display_name": "Python 3",
   "language": "python",
   "name": "python3"
  },
  "language_info": {
   "codemirror_mode": {
    "name": "ipython",
    "version": 3
   },
   "file_extension": ".py",
   "mimetype": "text/x-python",
   "name": "python",
   "nbconvert_exporter": "python",
   "pygments_lexer": "ipython3",
   "version": "3.8.8"
  }
 },
 "nbformat": 4,
 "nbformat_minor": 5
}
