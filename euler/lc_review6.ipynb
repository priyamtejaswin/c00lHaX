{
 "cells": [
  {
   "cell_type": "markdown",
   "id": "ba3c0277",
   "metadata": {},
   "source": [
    "1. Generate all permutations of a given string.\n",
    "2. Generate all unique letter combinations of a string.\n",
    "3. Return indices which add up to a sum.\n",
    "4. Search for a number in a sorted, but rotated array.\n",
    "5. Implement nCk\n",
    "6. Combination sum -- all possible combinations which lead to the target sum.\n",
    "7. Combination sum -- single use only, without repeatitions.\n",
    "8. Palindrome Partitions\n",
    "---"
   ]
  },
  {
   "cell_type": "markdown",
   "id": "45745509",
   "metadata": {},
   "source": [
    "# 1. Generate all permutations of a string.\n",
    "\n",
    "```\n",
    "abc:\n",
    "\n",
    "abc\n",
    "acb\n",
    "\n",
    "bac\n",
    "bca\n",
    "\n",
    "cab\n",
    "cba\n",
    "```"
   ]
  },
  {
   "cell_type": "markdown",
   "id": "64594fb8",
   "metadata": {},
   "source": [
    "If you fix a character `anchor`, then you can find the permutations `p` of the remaining characters, and generate a *complete* permutation as `[anchor] + p`.\n",
    "\n",
    "This process can be followed recursively. The base case is when your sequence has only 1 character. Then you just return the `[seq]` as the list of all permutations."
   ]
  },
  {
   "cell_type": "code",
   "execution_count": 20,
   "id": "f6d0515f",
   "metadata": {},
   "outputs": [],
   "source": [
    "class GenPermutations:\n",
    "    def solve(self, text):\n",
    "        def permute(seq):\n",
    "            \"\"\"\n",
    "            Generates all permutations for a string.\n",
    "            \"\"\"\n",
    "            if len(seq) == 1:\n",
    "                return [seq]\n",
    "            else:\n",
    "                current = []\n",
    "                for i in range(len(seq)):\n",
    "                    anchor = seq[i]\n",
    "                    remainder = seq[:i] + seq[i+1:]\n",
    "                    for p in permute(remainder):\n",
    "                        current.append([anchor] + p)\n",
    "                        \n",
    "                return current\n",
    "            \n",
    "        return permute(text)"
   ]
  },
  {
   "cell_type": "code",
   "execution_count": 19,
   "id": "2527821c",
   "metadata": {},
   "outputs": [
    {
     "data": {
      "text/plain": [
       "[['a', 'b', 'c'],\n",
       " ['a', 'c', 'b'],\n",
       " ['b', 'a', 'c'],\n",
       " ['b', 'c', 'a'],\n",
       " ['c', 'a', 'b'],\n",
       " ['c', 'b', 'a']]"
      ]
     },
     "execution_count": 19,
     "metadata": {},
     "output_type": "execute_result"
    }
   ],
   "source": [
    "o = GenPermutations()\n",
    "o.solve(list('abc'))"
   ]
  },
  {
   "cell_type": "markdown",
   "id": "88ecd93b",
   "metadata": {},
   "source": [
    "# 2. Generate all unique combinations of a string.\n",
    "\n",
    "This is also a powerset. And it includes the empty string."
   ]
  },
  {
   "cell_type": "code",
   "execution_count": 51,
   "id": "77e32831",
   "metadata": {},
   "outputs": [],
   "source": [
    "class Combinations:\n",
    "    def solve(self, text):\n",
    "        ans = []\n",
    "        chars = list(text)\n",
    "        \n",
    "        def search(start, temp):\n",
    "            ans.append(''.join(temp))\n",
    "            if start < len(chars):\n",
    "                for i in range(start, len(chars)):\n",
    "                    temp.append(chars[i])\n",
    "                    search(i+1, temp)\n",
    "                    temp.pop()\n",
    "                    \n",
    "        search(0, [])\n",
    "        return ans"
   ]
  },
  {
   "cell_type": "code",
   "execution_count": 52,
   "id": "1d0d2388",
   "metadata": {},
   "outputs": [
    {
     "data": {
      "text/plain": [
       "['', 'a', 'ab', 'abc', 'ac', 'b', 'bc', 'c']"
      ]
     },
     "execution_count": 52,
     "metadata": {},
     "output_type": "execute_result"
    }
   ],
   "source": [
    "o = Combinations()\n",
    "o.solve('abc')"
   ]
  },
  {
   "cell_type": "markdown",
   "id": "846b402b",
   "metadata": {},
   "source": [
    "# 3. Return indices of an array, which add up to a sum."
   ]
  },
  {
   "cell_type": "markdown",
   "id": "d8f40c87",
   "metadata": {},
   "source": [
    "```\n",
    "nums: [2, 10, 7, 5]\n",
    "target: 9\n",
    "output: [0, 2]\n",
    "```"
   ]
  },
  {
   "cell_type": "code",
   "execution_count": 40,
   "id": "333ca3f5",
   "metadata": {},
   "outputs": [],
   "source": [
    "class Indices:\n",
    "    def solve(self, array, target):\n",
    "        positions = {}\n",
    "        for ix, num in enumerate(array):\n",
    "            diff = target - num\n",
    "            if diff == 0:\n",
    "                return [ix]\n",
    "            else:\n",
    "                if diff in positions:\n",
    "                    return [ix, positions[diff]]\n",
    "                else:\n",
    "                    positions[num] = ix\n",
    "                    \n",
    "        return None"
   ]
  },
  {
   "cell_type": "code",
   "execution_count": 42,
   "id": "f908d0dd",
   "metadata": {},
   "outputs": [
    {
     "data": {
      "text/plain": [
       "[2, 0]"
      ]
     },
     "execution_count": 42,
     "metadata": {},
     "output_type": "execute_result"
    }
   ],
   "source": [
    "o = Indices()\n",
    "o.solve([2, 10, 7, 5], 9)"
   ]
  },
  {
   "cell_type": "markdown",
   "id": "92f6818e",
   "metadata": {},
   "source": [
    "# 4. Search for a number in a sorted but rotated array."
   ]
  },
  {
   "cell_type": "markdown",
   "id": "ea5de616",
   "metadata": {},
   "source": [
    "*Can you do this in `log n` time?*"
   ]
  },
  {
   "cell_type": "markdown",
   "id": "2681a2bd",
   "metadata": {},
   "source": [
    "```\n",
    "1 2 3 4 5\n",
    "---------\n",
    "4 5 1 2 3\n",
    "```\n",
    "A rotated array will always result in TWO sorted sub-arrays."
   ]
  },
  {
   "cell_type": "code",
   "execution_count": 43,
   "id": "b41f30c8",
   "metadata": {},
   "outputs": [],
   "source": [
    "class SearchRotated:\n",
    "    def solve(self, array, x):\n",
    "        i = 0\n",
    "        j = len(array)-1\n",
    "        \n",
    "        while i <= j:\n",
    "            mid = i + (j-i)//2\n",
    "            if array[mid] == x:\n",
    "                return True\n",
    "            else:\n",
    "                if array[mid] <= array[-1]:\n",
    "                    # mid to end is sorted.\n",
    "                    if x > array[mid] and x <= array[-1]:\n",
    "                        i = mid + 1\n",
    "                    else:\n",
    "                        j = mid - 1\n",
    "                else:\n",
    "                    # start to mid is sorted.\n",
    "                    if x >= array[0] and x < array[mid]:\n",
    "                        j = mid - 1\n",
    "                    else:\n",
    "                        i = mid + 1\n",
    "                        \n",
    "        return None"
   ]
  },
  {
   "cell_type": "code",
   "execution_count": 47,
   "id": "739e68a3",
   "metadata": {},
   "outputs": [
    {
     "name": "stdout",
     "output_type": "stream",
     "text": [
      "None\n"
     ]
    }
   ],
   "source": [
    "o = SearchRotated()\n",
    "print(o.solve([4, 5, 7, 1, 2, 3], 9))"
   ]
  },
  {
   "cell_type": "markdown",
   "id": "fd977dcf",
   "metadata": {},
   "source": [
    "# 5. Implement `n C k`"
   ]
  },
  {
   "cell_type": "code",
   "execution_count": 92,
   "id": "27b48c88",
   "metadata": {},
   "outputs": [],
   "source": [
    "class NCK:\n",
    "    def solve(self, n, k):\n",
    "        \"\"\"\n",
    "        n: [1, 2, 3, ..., n]\n",
    "        Return all possible combinations of k numbers from n.\n",
    "        \n",
    "        [1 2 3]\n",
    "        \n",
    "        1\n",
    "        1 2\n",
    "        1 pop because exceeded\n",
    "        1 3\n",
    "        pop\n",
    "        end of loop\n",
    "        2 3\n",
    "        end of loop\n",
    "        \"\"\"\n",
    "        nums = list(range(1, n+1))\n",
    "        ans = []\n",
    "        \n",
    "        def choose(start, t, temp):\n",
    "            \"\"\"\n",
    "            Choose t numbers, starting from position `start`.\n",
    "            \"\"\"\n",
    "            if t == 0:\n",
    "                ans.append(list(temp))  # Recursion stops here.\n",
    "            else:\n",
    "                for i in range(start, len(nums)):\n",
    "                    temp.append(nums[i])\n",
    "                    choose(i+1, t-1, temp)\n",
    "                    temp.pop()\n",
    "                \n",
    "        choose(0, k, [])\n",
    "        return ans"
   ]
  },
  {
   "cell_type": "code",
   "execution_count": 93,
   "id": "82d87e04",
   "metadata": {},
   "outputs": [
    {
     "data": {
      "text/plain": [
       "[[1], [2], [3], [4]]"
      ]
     },
     "execution_count": 93,
     "metadata": {},
     "output_type": "execute_result"
    }
   ],
   "source": [
    "o = NCK()\n",
    "o.solve(4, 1)"
   ]
  },
  {
   "cell_type": "code",
   "execution_count": 94,
   "id": "21f341f9",
   "metadata": {},
   "outputs": [
    {
     "data": {
      "text/plain": [
       "[[1, 2], [1, 3], [1, 4], [2, 3], [2, 4], [3, 4]]"
      ]
     },
     "execution_count": 94,
     "metadata": {},
     "output_type": "execute_result"
    }
   ],
   "source": [
    "o = NCK()\n",
    "o.solve(4, 2)"
   ]
  },
  {
   "cell_type": "code",
   "execution_count": 95,
   "id": "47d061f5",
   "metadata": {},
   "outputs": [
    {
     "data": {
      "text/plain": [
       "[[1, 2, 3], [1, 2, 4], [1, 3, 4], [2, 3, 4]]"
      ]
     },
     "execution_count": 95,
     "metadata": {},
     "output_type": "execute_result"
    }
   ],
   "source": [
    "o = NCK()\n",
    "o.solve(4, 3)"
   ]
  },
  {
   "cell_type": "code",
   "execution_count": 96,
   "id": "5b375b60",
   "metadata": {},
   "outputs": [
    {
     "data": {
      "text/plain": [
       "[[1, 2, 3], [1, 2, 4], [1, 3, 4], [2, 3, 4]]"
      ]
     },
     "execution_count": 96,
     "metadata": {},
     "output_type": "execute_result"
    }
   ],
   "source": [
    "o = NCK()\n",
    "o.solve(4, 3)"
   ]
  },
  {
   "cell_type": "markdown",
   "id": "eeaa8754",
   "metadata": {},
   "source": [
    "# 6. Implement combination sum"
   ]
  },
  {
   "cell_type": "markdown",
   "id": "9659ac30",
   "metadata": {},
   "source": [
    "```\n",
    "[2, 3, 4], 4\n",
    "\n",
    "[2, 2]\n",
    "[4]\n",
    "```"
   ]
  },
  {
   "cell_type": "code",
   "execution_count": 59,
   "id": "2631b99c",
   "metadata": {},
   "outputs": [],
   "source": [
    "class ComboSum:\n",
    "    def solve(self, nums, target):\n",
    "        \"\"\"\n",
    "        Be greedy -- keep adding the current number\n",
    "        till the diff next number is lower than the diff.\n",
    "        If you reach 0, great, else pop, and move to the next index.\n",
    "        \"\"\"\n",
    "        ans = []\n",
    "        \n",
    "        def search(start, t, path):\n",
    "            if t == 0:\n",
    "                ans.append(list(path))\n",
    "            else:\n",
    "                for i in range(start, len(nums)):\n",
    "                    if nums[i] <= t:\n",
    "                        path.append(nums[i])\n",
    "                        search(i, t-nums[i], path)\n",
    "                        path.pop()\n",
    "                        \n",
    "        search(0, target, [])\n",
    "        return ans"
   ]
  },
  {
   "cell_type": "code",
   "execution_count": 64,
   "id": "ab99ed92",
   "metadata": {},
   "outputs": [
    {
     "data": {
      "text/plain": [
       "[[2, 2, 3], [2, 5], [3, 4], [7]]"
      ]
     },
     "execution_count": 64,
     "metadata": {},
     "output_type": "execute_result"
    }
   ],
   "source": [
    "o = ComboSum()\n",
    "o.solve([2, 3, 4, 5, 7], 7)"
   ]
  },
  {
   "cell_type": "markdown",
   "id": "22d38a8f",
   "metadata": {},
   "source": [
    "# 6 alt. Combinations, by subsetting."
   ]
  },
  {
   "cell_type": "markdown",
   "id": "c7983587",
   "metadata": {},
   "source": [
    "```\n",
    "[1, 2, 3]\n",
    "\n",
    "[1, 2, 3]\n",
    "    []\n",
    "    a = 1, [2, 3]\n",
    "            []\n",
    "            a = 2, [3]\n",
    "            [[2, 3]]\n",
    "```"
   ]
  },
  {
   "cell_type": "code",
   "execution_count": 100,
   "id": "c0a6b045",
   "metadata": {},
   "outputs": [],
   "source": [
    "class CombAlt:\n",
    "    def solve(self, nums):\n",
    "        ans = []\n",
    "        nums.sort()\n",
    "        def combos(seq):\n",
    "            if len(seq) == 1:\n",
    "                return [seq]  # Only 1 possible combination.\n",
    "            else:\n",
    "                current = []\n",
    "                prev = nums[-1] + 1\n",
    "                for i in range(len(seq)):\n",
    "                    anchor = seq[i]\n",
    "                    if prev == anchor:\n",
    "                        continue\n",
    "                    \n",
    "                    current.append([anchor])\n",
    "                    rest = seq[i+1:]\n",
    "                    for c in combos(rest):\n",
    "                        current.append([anchor] + c)\n",
    "                        \n",
    "                    prev = anchor\n",
    "                        \n",
    "                return current\n",
    "            \n",
    "        return combos(nums)\n",
    "        return ans"
   ]
  },
  {
   "cell_type": "code",
   "execution_count": 101,
   "id": "06c278b7",
   "metadata": {},
   "outputs": [
    {
     "data": {
      "text/plain": [
       "[[1],\n",
       " [1, 2],\n",
       " [1, 2, 2],\n",
       " [1, 2, 2, 4],\n",
       " [1, 2, 4],\n",
       " [1, 4],\n",
       " [2],\n",
       " [2, 2],\n",
       " [2, 2, 4],\n",
       " [2, 4],\n",
       " [4]]"
      ]
     },
     "execution_count": 101,
     "metadata": {},
     "output_type": "execute_result"
    }
   ],
   "source": [
    "o = CombAlt()\n",
    "o.solve([1, 2, 2, 4])"
   ]
  },
  {
   "cell_type": "markdown",
   "id": "47209636",
   "metadata": {},
   "source": [
    "# 7. Combination Sum -- single use only\n",
    "\n",
    "The same problem, but you can only use a number once."
   ]
  },
  {
   "cell_type": "code",
   "execution_count": 111,
   "id": "b0ab38f5",
   "metadata": {},
   "outputs": [],
   "source": [
    "class ComboSumSingle:\n",
    "    def solve(self, nums, target):\n",
    "        nums.sort()\n",
    "        ans = []\n",
    "        \n",
    "        def search(start, t, path):\n",
    "            \"\"\"\n",
    "            This function, returns the `path` that adds up to `t`.\n",
    "            \"\"\"\n",
    "            if t == 0:\n",
    "                ans.append(list(path))\n",
    "            else:\n",
    "                prev = nums[-1]+1\n",
    "                for i in range(start, len(nums)):\n",
    "                    n = nums[i]\n",
    "                    if prev == n:\n",
    "                        continue\n",
    "                    else:\n",
    "                        prev = n\n",
    "                    \n",
    "                    if n <= t:\n",
    "                        path.append(n)\n",
    "                        search(i+1, t-n, path)\n",
    "                        path.pop()\n",
    "                    else:\n",
    "                        return\n",
    "                    \n",
    "        search(0, target, [])\n",
    "        return ans"
   ]
  },
  {
   "cell_type": "code",
   "execution_count": 113,
   "id": "99020f12",
   "metadata": {},
   "outputs": [
    {
     "data": {
      "text/plain": [
       "[[1, 1, 6], [1, 2, 5], [1, 7], [2, 6]]"
      ]
     },
     "execution_count": 113,
     "metadata": {},
     "output_type": "execute_result"
    }
   ],
   "source": [
    "o = ComboSumSingle()\n",
    "o.solve([10, 1, 2, 7, 6, 1, 5], 8)"
   ]
  },
  {
   "cell_type": "markdown",
   "id": "ffa9a6bf",
   "metadata": {},
   "source": [
    "# 8. Palindrome Partition\n",
    "\n",
    "```\n",
    "aba => [a, b, a], [aba]\n",
    "aab => [a, a, b], [aa, b]\n",
    "```\n",
    "\n",
    "Split a sequence into all possible palindromic sequences."
   ]
  },
  {
   "cell_type": "code",
   "execution_count": null,
   "id": "4d99d8d0",
   "metadata": {},
   "outputs": [],
   "source": []
  }
 ],
 "metadata": {
  "kernelspec": {
   "display_name": "Python 3",
   "language": "python",
   "name": "python3"
  },
  "language_info": {
   "codemirror_mode": {
    "name": "ipython",
    "version": 3
   },
   "file_extension": ".py",
   "mimetype": "text/x-python",
   "name": "python",
   "nbconvert_exporter": "python",
   "pygments_lexer": "ipython3",
   "version": "3.8.8"
  }
 },
 "nbformat": 4,
 "nbformat_minor": 5
}
