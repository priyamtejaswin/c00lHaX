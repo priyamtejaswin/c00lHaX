{
 "cells": [
  {
   "cell_type": "markdown",
   "id": "6bde5804",
   "metadata": {},
   "source": [
    "**29th May 2021 to 5th June 2021**\n",
    "\n",
    "# Problems covered\n",
    "\n",
    "1. Search for a number in a sorted, but rotated array.\n",
    "2. Generate all unique letter combinations given a string.\n",
    "3. Generate all possible valid sequences with $n$ pairs of parenthesis.\n",
    "4. Shortest path between two words -- all intermediate words should appear in the dict.\n",
    "5. Minimum number of meeting rooms, given meeting internvals.\n",
    "6. Dictionary Word Break -- can you break a large word into sub-words from a dict?\n",
    "7. LCA of two nodes in a binary tree.\n",
    "8. Implement a `GetRandom` set.\n",
    "9. Number of unique decodings for a string.\n",
    "10. Simple calculator: `+-/*`, no braces"
   ]
  },
  {
   "cell_type": "markdown",
   "id": "80809954",
   "metadata": {},
   "source": [
    "## 1. Search for a number in a sorted, but rotated array. \n",
    "\n",
    "The array could have been rotated `n` times.\n",
    "\n",
    "* Original: [1, 2, 3, 4, 5, 6]\n",
    "* Rotated: [5, 6, 1, 2, 3, 4]\n",
    "\n",
    "### Questions\n",
    "\n",
    "Linear scan is simple. Can you do better?\n",
    "\n",
    "Because array is rotated, there is an inflection point: [5, **6**, 1, 2, 3, 4] : all elements upto this point are sorted, and after this point are also sorted.\n",
    "\n",
    "Say you are searching for `5`. When you start, `i=0, j=5`.\n",
    "* `m` will be `2` and `array[m] = 1`\n",
    "* If `m` value is larger than `i` value, then array from `i to m` is sorted:\n",
    "    * And if target is within array values from `[i, m)` set `j = m-1`; else `i = m+1`\n",
    "* Similarly, if `m` value is less than `i` value, then array from `m to j` is sorted:\n",
    "    * And if target is within array values from `(m, j]` set `i = m+1`; else `j = m-1`"
   ]
  },
  {
   "cell_type": "code",
   "execution_count": 11,
   "id": "f4fe87d7",
   "metadata": {},
   "outputs": [],
   "source": [
    "class SearchInSortedRotated:\n",
    "    def search(self, array, n):\n",
    "        if len(array) == 0:\n",
    "            return None\n",
    "        if len(array) == 1:\n",
    "            return 0 if array[0] == n else None\n",
    "        \n",
    "        i = 0\n",
    "        j = len(array)-1\n",
    "        \n",
    "        while i <= j:\n",
    "            m = i + (j - i) // 2\n",
    "            if array[m] == n:\n",
    "                return m\n",
    "            else:\n",
    "                if array[m] >= array[i]:\n",
    "                    # Sorted upto m\n",
    "                    if n >= array[i] and n < array[m]:\n",
    "                        j = m - 1\n",
    "                    else:\n",
    "                        i = m + 1\n",
    "                else:\n",
    "                    if n > array[m] and n <= array[j]:\n",
    "                        i = m + 1\n",
    "                    else:\n",
    "                        j = m - 1\n",
    "                        \n",
    "        return None\n",
    "\n",
    "\n",
    "def search_in_sorted_rotated():\n",
    "    s = SearchInSortedRotated()\n",
    "    assert s.search([5, 6, 1, 2, 3, 4], 5) == 0\n",
    "    assert s.search([5, 6, 1], 1) == 2\n",
    "    assert s.search([5, 6], 6) == 1\n",
    "    assert s.search([5, 9], 10) == None\n",
    "    \n",
    "search_in_sorted_rotated()"
   ]
  },
  {
   "cell_type": "markdown",
   "id": "8bdfcda5",
   "metadata": {},
   "source": [
    "## 2. All unique non-empty letter combinations from a string.\n",
    "\n",
    "Given string `AABC`, generate all non-empty string combinations (EXCLUDE ARRANGEMENTS).\n",
    "* `A B C`\n",
    "* `AA AB AC BC`\n",
    "* `AAB AAC ABC`\n",
    "* `AABC`\n",
    "\n",
    "### Questions\n",
    "1. How would you generate all FIXED LENGTH strings?\n",
    "\n",
    "* Start with first letter, then include second letter -- now you have two letters `AA`\n",
    "    * Now, you should remove the *last* letter, and proceed to the next letter ==> `AB`\n",
    "        * Again, you have two letters, so you remove the last and go to next letter ==> `AC`\n",
    "            * Now the sequence has ended, so you stop.\n",
    "            \n",
    "2. Can you improve this?? Between 2-len and 3-len combinations, the substrings will repeat. \n",
    "* So, instead of waiting for the length to equal $n$, you can add the current substring.\n",
    "\n",
    "Complexity: exponential. Time complexity  $nCk$ is $o(n^k)$ . But if you are generating all combinations (all unique subsets), that is $o(2^n)$"
   ]
  },
  {
   "cell_type": "code",
   "execution_count": 1,
   "id": "01cad8d3",
   "metadata": {},
   "outputs": [],
   "source": [
    "class UniqueLetterCombinations:\n",
    "    def solve(self, string):\n",
    "        ans = set()\n",
    "        \n",
    "        def combinations_fixed(current, n, pick):\n",
    "            if len(current) == n:\n",
    "                ans.add(''.join(current))\n",
    "            else:\n",
    "                for i in range(pick, len(string)):\n",
    "                    current.append(string[i])\n",
    "                    combinations_fixed(current, n, i+1)\n",
    "                    current.pop()\n",
    "                    \n",
    "        for size in range(1, len(string)+1):\n",
    "            combinations_fixed([], size, 0)\n",
    "            \n",
    "        return ans\n",
    "    \n",
    "    \n",
    "    def solve_direct(self, string):\n",
    "        \"\"\"\n",
    "        This solution does not create combinations of fixed size.\n",
    "        Rather, it considers all lengths, as it is progressing.\n",
    "        \"\"\"\n",
    "        ans = set()\n",
    "        def progressive(current, pick):\n",
    "            for i in range(pick, len(string)):\n",
    "                current.append(string[i])\n",
    "                temp = ''.join(current)\n",
    "                ans.add(temp)\n",
    "                \n",
    "                progressive(current, i+1)\n",
    "                current.pop()\n",
    "                \n",
    "        progressive([], 0)\n",
    "        return ans\n",
    "                \n",
    "    \n",
    "def unique_letter_combinations():\n",
    "    o = UniqueLetterCombinations()\n",
    "    o.solve('ABCDEFGHIJKLMNOPQRST')\n",
    "    \n",
    "unique_letter_combinations()"
   ]
  },
  {
   "cell_type": "code",
   "execution_count": 2,
   "id": "02e385c8",
   "metadata": {},
   "outputs": [],
   "source": [
    "o = UniqueLetterCombinations()"
   ]
  },
  {
   "cell_type": "code",
   "execution_count": 3,
   "id": "61cb0643",
   "metadata": {},
   "outputs": [
    {
     "name": "stdout",
     "output_type": "stream",
     "text": [
      "432 ms ± 9.46 ms per loop (mean ± std. dev. of 7 runs, 1 loop each)\n"
     ]
    }
   ],
   "source": [
    "%timeit o.solve('ABCDEFGHIJKLMNOP')"
   ]
  },
  {
   "cell_type": "code",
   "execution_count": 4,
   "id": "7a4d7221",
   "metadata": {},
   "outputs": [
    {
     "name": "stdout",
     "output_type": "stream",
     "text": [
      "73.3 ms ± 919 µs per loop (mean ± std. dev. of 7 runs, 10 loops each)\n"
     ]
    }
   ],
   "source": [
    "%timeit o.solve_direct('ABCDEFGHIJKLMNOP')"
   ]
  },
  {
   "cell_type": "markdown",
   "id": "cf4c2e4a",
   "metadata": {},
   "source": [
    "## 3. All valid parenthesis with $n$ pairs of parenthesis\n",
    "\n",
    "If n == 2: `()(), (())`\n",
    "\n",
    "If n == 3: `()()(), ()(()), ((())), (())()`\n",
    "\n",
    "### Questions\n",
    "\n",
    "Simplest solution is to brute force.\n",
    "* `(` + all valid sequences with `n-1` parenthesis\n",
    "* `)` + all valid sequences with `n-1` parenthesis\n",
    "\n",
    "Complexity will be $2^{2N}N$ -- the final $N$ is because we use `join` on the list.\n",
    "\n",
    "**Another** solution, is to prune the number of bad solutions:\n",
    "* Only add an open-brace when available and closed are also available.\n",
    "* Only add closed brace when closed is available AND number of closed < number of open.\n",
    "\n",
    "Time complexity of this solution will be a lot smaller -- because you are not considering all possible combinations -- but exact answer ...?"
   ]
  },
  {
   "cell_type": "code",
   "execution_count": 24,
   "id": "94ed778e",
   "metadata": {},
   "outputs": [],
   "source": [
    "class FixedLenParenthesis:\n",
    "    def solve(self, n):\n",
    "        ans = []\n",
    "        \n",
    "        def isValid(seq):\n",
    "            net = 0\n",
    "            for c in seq:\n",
    "                if net < 0:\n",
    "                    return False\n",
    "                \n",
    "                if c == '(':\n",
    "                    net += 1\n",
    "                else:\n",
    "                    net -= 1\n",
    "                    \n",
    "            return net == 0\n",
    "\n",
    "        \n",
    "        def combine(current):\n",
    "            if len(current) == 2*n:\n",
    "                if isValid(current):\n",
    "                    ans.append(''.join(current))\n",
    "                    \n",
    "            else:\n",
    "                current.append('(')\n",
    "                combine(current)\n",
    "                current.pop()\n",
    "                \n",
    "                current.append(')')\n",
    "                combine(current)\n",
    "                current.pop()\n",
    "                \n",
    "        combine([])\n",
    "        return ans\n",
    "    \n",
    "    \n",
    "    def pruning(self, n):\n",
    "        \"\"\"\n",
    "        In this version, we keep checking on the number of\n",
    "        open and closed braces used.\n",
    "        \n",
    "        Rules:\n",
    "            Only add an open-brace when available and closed are also available\n",
    "            Only add a closed-brace when available, and does not exceed open\n",
    "        \"\"\"\n",
    "        ans = []\n",
    "        \n",
    "        def aware(current, br_open, br_close):\n",
    "            if len(current) == 2*n:\n",
    "                ans.append(''.join(current))\n",
    "            else:\n",
    "                if br_open < n and br_close < n:\n",
    "                    current.append('(')\n",
    "                    aware(current, br_open+1, br_close)\n",
    "                    current.pop()\n",
    "                    \n",
    "                if br_close < n and br_close < br_open:\n",
    "                    current.append(')')\n",
    "                    aware(current, br_open, br_close+1)\n",
    "                    current.pop()\n",
    "                    \n",
    "        aware([], 0, 0)\n",
    "        return ans"
   ]
  },
  {
   "cell_type": "code",
   "execution_count": 25,
   "id": "8a86ff0c",
   "metadata": {},
   "outputs": [
    {
     "data": {
      "text/plain": [
       "['((()))', '(()())', '(())()', '()(())', '()()()']"
      ]
     },
     "execution_count": 25,
     "metadata": {},
     "output_type": "execute_result"
    }
   ],
   "source": [
    "o = FixedLenParenthesis()\n",
    "o.solve(3)"
   ]
  },
  {
   "cell_type": "code",
   "execution_count": 26,
   "id": "c600db53",
   "metadata": {},
   "outputs": [
    {
     "data": {
      "text/plain": [
       "['((()))', '(()())', '(())()', '()(())', '()()()']"
      ]
     },
     "execution_count": 26,
     "metadata": {},
     "output_type": "execute_result"
    }
   ],
   "source": [
    "o.pruning(3)"
   ]
  },
  {
   "cell_type": "code",
   "execution_count": 28,
   "id": "cb48b2e4",
   "metadata": {},
   "outputs": [
    {
     "name": "stdout",
     "output_type": "stream",
     "text": [
      "87.8 ms ± 422 µs per loop (mean ± std. dev. of 7 runs, 10 loops each)\n"
     ]
    }
   ],
   "source": [
    "%timeit o.solve(8)"
   ]
  },
  {
   "cell_type": "code",
   "execution_count": 29,
   "id": "9b6a946f",
   "metadata": {},
   "outputs": [
    {
     "name": "stdout",
     "output_type": "stream",
     "text": [
      "3.62 ms ± 32.6 µs per loop (mean ± std. dev. of 7 runs, 100 loops each)\n"
     ]
    }
   ],
   "source": [
    "%timeit o.pruning(8)"
   ]
  },
  {
   "cell_type": "markdown",
   "id": "88c61e7c",
   "metadata": {},
   "source": [
    "## 4. Shortest path between two words -- all intermediate words should appear in the dict."
   ]
  },
  {
   "cell_type": "markdown",
   "id": "be2cf8dd",
   "metadata": {},
   "source": [
    "*The next word is generated by substituting a letter from the previous word.* \n",
    "\n",
    "Start word: `hit`\n",
    "\n",
    "End word: `cog`\n",
    "\n",
    "Dictionary: `hit, cog, hog, hot, bot, cot`\n",
    "\n",
    "Shortest path: `hit -> hot -> cot -> cog`\n",
    "\n",
    "### Questions\n",
    "\n",
    "Since question is asking for shortest path, **BFS should come to mind!** During BFS, whenever you find the target word, just return it (along with the length so far).\n",
    "\n",
    "**Complexity**: Consider $N$ words in the list, and length of each word is $L$. Worst-case scenario:\n",
    "* we start from the first word, and iterate over all its letters => $O(L)$\n",
    "    * for each of these letters, we generate the pattern, which takes $O(L)$\n",
    "        * and we iterate over all words for each pattern, which could be $O(N)$\n",
    "* Thus, total complexity: O(L x L x N) => $O(L^2.N)$"
   ]
  },
  {
   "cell_type": "code",
   "execution_count": 53,
   "id": "d8ee0859",
   "metadata": {},
   "outputs": [],
   "source": [
    "from collections import deque\n",
    "from collections import defaultdict\n",
    "import string\n",
    "\n",
    "class ShortestPahtBetweenWords:\n",
    "    def solve(self, start, end, words):\n",
    "        \"\"\"\n",
    "        Words is a list.\n",
    "        Start and End are words.\n",
    "        \"\"\"\n",
    "        words = set(words)\n",
    "        \n",
    "        if start not in words or end not in words:\n",
    "            return -1\n",
    "        if start == end:\n",
    "            return 0\n",
    "        \n",
    "        seen = set()\n",
    "\n",
    "        que = deque([(start, 0)])\n",
    "        \n",
    "        while que:\n",
    "            current, d = que.popleft()\n",
    "            if current == end:\n",
    "                return d\n",
    "            \n",
    "            if current in seen:\n",
    "                continue\n",
    "                \n",
    "            seen.add(current)\n",
    "            for i in range(len(start)):\n",
    "                pre = current[:i]\n",
    "                aft = current[i+1:]\n",
    "                for char in string.ascii_lowercase:\n",
    "                    temp = pre + char + aft\n",
    "                    if temp in words and temp not in seen:\n",
    "                        que.append((temp, d+1))\n",
    "                        \n",
    "        return -1\n",
    "    \n",
    "    def smarter(self, start, end, words):\n",
    "        words = set(words)\n",
    "        if start not in words or end not in words:\n",
    "            return -1\n",
    "        if start == end:\n",
    "            return 0\n",
    "        \n",
    "        # word: \"bat\" ; patterns: \"_at\", \"b_t\", \"ba_\"\n",
    "        possible = defaultdict(set)\n",
    "        for w in words:\n",
    "            for i in range(len(start)):\n",
    "                pre = w[:i]\n",
    "                aft = w[i+1:]\n",
    "                pattern = pre + '_' + aft\n",
    "                possible[pattern].add(w)\n",
    "        \n",
    "        que = deque([(start, 0)])\n",
    "        seen = set()\n",
    "        while que:\n",
    "            current, d = que.popleft()\n",
    "            if current == end:\n",
    "                return d\n",
    "            \n",
    "            if current in seen:\n",
    "                continue\n",
    "                \n",
    "            seen.add(current)\n",
    "            for i in range(len(start)):\n",
    "                pre = current[:i]\n",
    "                aft = current[i+1:]\n",
    "                pattern = pre + '_' + aft\n",
    "                for temp in possible[pattern]:\n",
    "                    if temp not in seen:\n",
    "                        que.append((temp, d+1))\n",
    "                        \n",
    "        return -1"
   ]
  },
  {
   "cell_type": "code",
   "execution_count": 54,
   "id": "368b8e4a",
   "metadata": {},
   "outputs": [],
   "source": [
    "o = ShortestPahtBetweenWords()"
   ]
  },
  {
   "cell_type": "code",
   "execution_count": 45,
   "id": "fee22680",
   "metadata": {},
   "outputs": [
    {
     "name": "stdout",
     "output_type": "stream",
     "text": [
      "156 µs ± 1.63 µs per loop (mean ± std. dev. of 7 runs, 10000 loops each)\n"
     ]
    }
   ],
   "source": [
    "%timeit o.solve('hit', 'lie', ['hit', 'cog', 'bog', 'bat', 'bit', 'sit', 'kit', 'hot', 'cot', 'dit', 'dog', 'dig', 'bye', 'lie', 'dye', 'die'])"
   ]
  },
  {
   "cell_type": "code",
   "execution_count": 55,
   "id": "eaaf6179",
   "metadata": {},
   "outputs": [
    {
     "name": "stdout",
     "output_type": "stream",
     "text": [
      "67.1 µs ± 1.13 µs per loop (mean ± std. dev. of 7 runs, 10000 loops each)\n"
     ]
    }
   ],
   "source": [
    "%timeit o.smarter('hit', 'lie', ['hit', 'cog', 'bog', 'bat', 'bit', 'sit', 'kit', 'hot', 'cot', 'dit', 'dog', 'dig', 'bye', 'lie', 'dye', 'die'])"
   ]
  },
  {
   "cell_type": "markdown",
   "id": "b34a4f2c",
   "metadata": {},
   "source": [
    "## 5. Find minimum number of meeting rooms for the schedule."
   ]
  },
  {
   "cell_type": "markdown",
   "id": "81fa21dd",
   "metadata": {},
   "source": [
    "Given meeting `(start, end)` times: `[(0, 30), (5, 15), (20, 50), (10, 100)]`\n",
    "\n",
    "Can you find the minimum number of meeting rooms for these meetings?\n",
    "\n",
    "### Questions\n",
    "\n",
    "1. A simple way to solve this, is to sort everything by meeting-start-time\n",
    "    * Then you look at the first meeting, assign it a room,\n",
    "    * and check if the next meeting starts before the first one ends,\n",
    "        * If yes, then that same room gets used.\n",
    "        * Else, assign a new meeting room.\n",
    "2. In this solution, you will have to search for the meeting room that is available at the earliest.\n",
    "3. Complexity will be $O(N^2)$ with num of meetings -- worst case, meetings start very close to each other, and we search over all rooms for every meeting.\n",
    "\n",
    "**A faster way** would be to always track the EARLIEST AVAILABLE MEETING ROOM!\n",
    "1. You can use a `min-heap` for this.\n",
    "2. Add first-meeting's end time to `heap`.\n",
    "3. For the next meeting, check if start time is BEFORE end time.\n",
    "    * If True, then you need a new meeting room; run `heappush` to add new end time.\n",
    "    * If False, then same meeting room can be used, and it's end-time will have to be udpated.\n",
    "        * Do `heapq.heapreplace` => this will pop the smallest value and `heappush` the new end time.\n",
    "4. Complexity will be:\n",
    "    * N.log(N) for the sort, plus\n",
    "    * Iterating over each meeting => N\n",
    "        * and at each meeting running `heappush` => log(N)\n",
    "\n",
    "Total => O(N.log(N) + N.log(N))"
   ]
  },
  {
   "cell_type": "code",
   "execution_count": 77,
   "id": "0501f124",
   "metadata": {},
   "outputs": [],
   "source": [
    "import heapq\n",
    "\n",
    "class MinimumMeetingRooms:\n",
    "    def solve(self, meetings):\n",
    "        \"\"\"\n",
    "        meetings: List of meetings with start and end times.\n",
    "        \"\"\"\n",
    "        meetings.sort(key=lambda t:t[0])\n",
    "        \n",
    "        rooms = {}  # room_id => end_time\n",
    "        \n",
    "        for start, end in meetings:\n",
    "            found = False\n",
    "            for r, available in rooms.items():\n",
    "                if start >= available:\n",
    "                    found = True\n",
    "                    rooms[r] = end\n",
    "                    break\n",
    "                    \n",
    "            if found is False:\n",
    "                rooms[len(rooms)] = end\n",
    "                \n",
    "        return len(rooms)\n",
    "    \n",
    "    \n",
    "    def alwaysAvailable(self, meetings):\n",
    "        \"\"\"\n",
    "        Uses a minheap to track the earliest available rooms.\n",
    "        \"\"\"\n",
    "        meetings.sort(key=lambda t: t[0])\n",
    "        \n",
    "        if len(meetings) <= 1:\n",
    "            return len(meetings)\n",
    "        \n",
    "        rooms = []\n",
    "        rooms.append(meetings[0][1])\n",
    "        \n",
    "        for i in range(1, len(meetings)):\n",
    "            start, end = meetings[i]\n",
    "            earliest = rooms[0]\n",
    "            if start < earliest:\n",
    "                # You will need a new room.\n",
    "                heapq.heappush(rooms, end)\n",
    "            else:\n",
    "                heapq.heapreplace(rooms, end)\n",
    "                \n",
    "        return len(rooms)"
   ]
  },
  {
   "cell_type": "code",
   "execution_count": 78,
   "id": "c7593dc5",
   "metadata": {},
   "outputs": [],
   "source": [
    "o = MinimumMeetingRooms()"
   ]
  },
  {
   "cell_type": "code",
   "execution_count": 79,
   "id": "5b99827c",
   "metadata": {},
   "outputs": [
    {
     "data": {
      "text/plain": [
       "3"
      ]
     },
     "execution_count": 79,
     "metadata": {},
     "output_type": "execute_result"
    }
   ],
   "source": [
    "o.solve([(0, 30), (5, 15), (20, 50), (10, 100)])"
   ]
  },
  {
   "cell_type": "code",
   "execution_count": 80,
   "id": "004f5657",
   "metadata": {},
   "outputs": [
    {
     "data": {
      "text/plain": [
       "3"
      ]
     },
     "execution_count": 80,
     "metadata": {},
     "output_type": "execute_result"
    }
   ],
   "source": [
    "o.alwaysAvailable([(0, 30), (5, 15), (20, 50), (10, 100)])"
   ]
  },
  {
   "cell_type": "markdown",
   "id": "30d27636",
   "metadata": {},
   "source": [
    "## 6. LRU cache\n",
    "\n",
    "**implement PUT**\n",
    "1. Add (k, v) pair if not exists, or update value if it exists.\n",
    "2. If `cache` is at capacity, remove the LRU key and add the new one.\n",
    "\n",
    "**implement GET**\n",
    "1. Return value if key is present; else -1\n",
    "\n",
    "The main complexity is to constantly move the most recently used element (via `put` or `get`) at the end of the structure.\n",
    "\n",
    "The simple method is to use the OrderedDict -- there is a push to end function, which will move the key to then end after the `get` call. This way, the `first` element of the Dict will always be the `LRU` element. This method also gives O(1) for both operations.\n",
    "\n",
    "Quite possible the interviewer will not entertain this -- the alt approach is to implement a **Doubly Linked List**.\n",
    "* For each get/put on an existing key, you move that node to the end\n",
    "* All new keys are added to the end\n",
    "* A separate dictionary (cache) maps the keys to the DLL nodes"
   ]
  },
  {
   "cell_type": "code",
   "execution_count": 125,
   "id": "5e882719",
   "metadata": {},
   "outputs": [],
   "source": [
    "from collections import OrderedDict\n",
    "\n",
    "class LRUCache:\n",
    "    def __init__(self, capacity):\n",
    "        self.capacity = capacity\n",
    "        self.cache = OrderedDict()\n",
    "        \n",
    "    def get(self, key):\n",
    "        if key in self.cache:\n",
    "            self.cache.move_to_end(key)\n",
    "            return self.cache[key]\n",
    "        else:\n",
    "            return -1\n",
    "        \n",
    "    def put(self, key, value):\n",
    "        if key in self.cache:\n",
    "            self.cache[key] = value\n",
    "            self.cache.move_to_end(key)\n",
    "        else:\n",
    "            if len(self.cache) == self.capacity:\n",
    "                remove = next(iter(self.cache))\n",
    "                del self.cache[remove]\n",
    "                \n",
    "            self.cache[key] = value\n",
    "            \n",
    "            \n",
    "\n",
    "class DLLNode:\n",
    "    def __init__(self, key, val):\n",
    "        self.key = key\n",
    "        self.val = val\n",
    "        self.before = None\n",
    "        self.after = None\n",
    "        \n",
    "        \n",
    "class DLLCache:\n",
    "    def __init__(self, capacity):\n",
    "        self.capacity = capacity\n",
    "        self.cache = {}  # key => Node(key, val)\n",
    "        \n",
    "        self.head = None\n",
    "        self.tail = None\n",
    "        \n",
    "    def addNewNode(self, node):\n",
    "        if len(self.cache) == 0:\n",
    "            self.head = node\n",
    "            self.tail = node\n",
    "            self.cache[node.key] = node\n",
    "        else:\n",
    "            assert self.head is not None\n",
    "            assert self.tail is not None\n",
    "            \n",
    "            self.tail.after = node\n",
    "            node.before = self.tail\n",
    "            self.tail = node\n",
    "            self.cache[node.key] = node\n",
    "        \n",
    "    def moveToEnd(self, node):\n",
    "        if node.before is None and node.after is None:\n",
    "            pass  # Single element\n",
    "        else:\n",
    "            before = node.before\n",
    "            after = node.after\n",
    "            \n",
    "            # Now put this after the tail.\n",
    "            self.tail.after = node\n",
    "            node.before = self.tail\n",
    "            node.after = None\n",
    "            self.tail = node\n",
    "            \n",
    "            # Now bridge the gap.\n",
    "            after.before = before\n",
    "            if before is not None:\n",
    "                before.after = after\n",
    "            else:\n",
    "                self.head = after\n",
    "        \n",
    "    def get(self, key):\n",
    "        if key in self.cache:\n",
    "            # Move to end,\n",
    "            # then return.\n",
    "            node = self.cache[key]\n",
    "            self.moveToEnd(node)\n",
    "            return self.cache[key].val\n",
    "        else:\n",
    "            return -1\n",
    "        \n",
    "    def put(self, key, val):\n",
    "        if key is self.cache:\n",
    "            node = self.cache[key]\n",
    "            node.val = val\n",
    "            self.moveToEnd(node)\n",
    "        else:\n",
    "            if len(self.cache) == self.capacity:\n",
    "                # Remove the HEAD element.\n",
    "                if len(self.cache) == 1:\n",
    "                    self.cache = {}\n",
    "                    self.head = None\n",
    "                    self.tail = None\n",
    "                else:\n",
    "                    head = self.head\n",
    "                    after = head.after\n",
    "                    \n",
    "                    head.after = None\n",
    "                    after.before = None\n",
    "                    del self.cache[head.key]\n",
    "                    \n",
    "                    self.head = after\n",
    "                    assert self.head.before is None\n",
    "                    \n",
    "            self.addNewNode(DLLNode(key, val))"
   ]
  },
  {
   "cell_type": "code",
   "execution_count": 126,
   "id": "175e9279",
   "metadata": {},
   "outputs": [],
   "source": [
    "o = LRUCache(3)\n",
    "assert o.get(1) == -1\n",
    "o.put(1, 1)\n",
    "assert o.get(1) == 1\n",
    "o.put(2, 2)\n",
    "o.put(3, 3)\n",
    "\n",
    "o.put(1, 5)\n",
    "o.put(4, 4)\n",
    "\n",
    "assert o.get(1) == 5\n",
    "assert o.get(2) == -1\n",
    "assert o.get(3) == 3"
   ]
  },
  {
   "cell_type": "code",
   "execution_count": 127,
   "id": "8834579e",
   "metadata": {},
   "outputs": [],
   "source": [
    "o = DLLCache(3)\n",
    "assert o.get(1) == -1\n",
    "o.put(1, 1)\n",
    "assert o.get(1) == 1\n",
    "o.put(2, 2)\n",
    "o.put(3, 3)\n",
    "\n",
    "o.put(1, 5)\n",
    "o.put(4, 4)\n",
    "\n",
    "assert o.get(1) == 5\n",
    "assert o.get(2) == -1\n",
    "assert o.get(3) == 3"
   ]
  },
  {
   "cell_type": "markdown",
   "id": "4109a5fc",
   "metadata": {},
   "source": [
    "## 6. Dictionary Word Break -- can you confirm if a large word can be broken into sub-words from a dict?"
   ]
  },
  {
   "cell_type": "markdown",
   "id": "c5c9ee62",
   "metadata": {},
   "source": [
    "* string `applebananaapple`\n",
    "* dict `[apple, app, ban, banana]`\n",
    "\n",
    "You can begin by brute-forcing it ... that's not a good idea.\n",
    "\n",
    "Maybe do it progressively?\n",
    "1. Start with original word, check if it's in the dict; return True.\n",
    "2. If not, iterate over every position => O(L)\n",
    "    * Create suffix and prefix => O(L)\n",
    "    * And check for prefix PRESENT and recursively start from Step1. with the suffix.\n",
    "   \n",
    "$O(n^3)$"
   ]
  },
  {
   "cell_type": "code",
   "execution_count": 178,
   "id": "1356f34c",
   "metadata": {},
   "outputs": [],
   "source": [
    "class DictionaryWordBreak:\n",
    "    def solve(self, word, dictionary):\n",
    "        \"\"\"\n",
    "        Usually, `dictionary` will be a list ...\n",
    "        CONVERT TO SET!\n",
    "        \"\"\"\n",
    "        dictionary = set(dictionary)\n",
    "        \n",
    "        if word in dictionary:\n",
    "            return [word]\n",
    "        \n",
    "        if len(dictionary) == 0:\n",
    "            return []\n",
    "        if len(dictionary) == 1:\n",
    "            return [word] if next(iter(dictionary)) == word else []\n",
    "        \n",
    "        seen = {}\n",
    "        def check(token):\n",
    "            if token in seen:\n",
    "                return seen[token]\n",
    "            \n",
    "            if token in dictionary:\n",
    "                seen[token] = True\n",
    "                return True\n",
    "            \n",
    "            for j in range(len(token)):\n",
    "                prefix = token[:j]\n",
    "                suffix = token[j:]\n",
    "                if prefix in dictionary and check(suffix):\n",
    "                    seen[token] = True\n",
    "                    return True\n",
    "                \n",
    "            seen[token] = True\n",
    "            return False\n",
    "        \n",
    "        return check(word)"
   ]
  },
  {
   "cell_type": "code",
   "execution_count": 179,
   "id": "9480f4f3",
   "metadata": {},
   "outputs": [],
   "source": [
    "o = DictionaryWordBreak()"
   ]
  },
  {
   "cell_type": "code",
   "execution_count": 180,
   "id": "392c626a",
   "metadata": {},
   "outputs": [
    {
     "data": {
      "text/plain": [
       "True"
      ]
     },
     "execution_count": 180,
     "metadata": {},
     "output_type": "execute_result"
    }
   ],
   "source": [
    "o.solve('applebananaapplebees', ['apple', 'app', 'ban', 'banana', 'pen', 'leb', 'bees'])"
   ]
  },
  {
   "cell_type": "markdown",
   "id": "01c9123e",
   "metadata": {},
   "source": [
    "## 7. LCA of two nodes in a binary tree.\n",
    "\n",
    "A `common ancestor` is a node for which both target `p` and `q` are its children. A node also counts as its own ancestor.\n",
    "\n",
    "LCA is the `lowest` common ancestor (aka the `deepest`, because the `root` will always be a common ancestor...)\n",
    "\n",
    "### Questions\n",
    "\n",
    "A generic solution will be to search first for the lowest CA, and then propagate this information upwards, to get all ancestors\n",
    "* Start traversing the tree in a DFS manner (Left only, then right).\n",
    "* If you find p, return that `p` has been `found`; similarly if you find `q` return that `q` has been found.\n",
    "* Now, check at the current node is LCA conditions are met:\n",
    "    * Current node is `p` or `q`\n",
    "    * Children contain `p` or `q`\n",
    "    * Return this information upwards (either `p` is found, or `q` is found)\n",
    "    \n",
    "**Complexity** is $O(N)$ where $N$ is total nodes -- each node is visited once during the DFS traversal."
   ]
  },
  {
   "cell_type": "code",
   "execution_count": 186,
   "id": "dfa70139",
   "metadata": {},
   "outputs": [],
   "source": [
    "class Node:\n",
    "    def __init__(self, val):\n",
    "        self.val = val\n",
    "        self.left = None\n",
    "        self.right = None\n",
    "        \n",
    "        \n",
    "class LCATwoNodes:\n",
    "    def solve(self, root, p, q):\n",
    "        assert isinstance(root, Node)\n",
    "        assert isinstance(p, Node)\n",
    "        assert isinstance(q, Node)\n",
    "        \n",
    "        self.ans = None\n",
    "        \n",
    "        def find(n, found_p, found_q):\n",
    "            if n is None:\n",
    "                return False, False\n",
    "            else:\n",
    "                left_p, left_q = find(n.left, found_p, found_q)\n",
    "                right_p, right_q = find(n.right, found_p, found_q)\n",
    "                \n",
    "                ret_p = left_p or right_p or n.val == p.val\n",
    "                ret_q = left_q or right_q or n.val == q.val\n",
    "                \n",
    "                if ret_p and ret_q and self.ans is None:\n",
    "                    self.ans = n\n",
    "                    \n",
    "                return ret_p, ret_q\n",
    "            \n",
    "        find(root, False, False)\n",
    "        \n",
    "        return self.ans"
   ]
  },
  {
   "cell_type": "code",
   "execution_count": 189,
   "id": "45c505ec",
   "metadata": {},
   "outputs": [],
   "source": [
    "root = Node(0)\n",
    "one = Node(1)\n",
    "two = Node(2)\n",
    "three = Node(3)\n",
    "four = Node(4)\n",
    "five = Node(5)\n",
    "six = Node(6)\n",
    "seven = Node(7)\n",
    "eight = Node(8)\n",
    "\n",
    "root.left = one\n",
    "root.right = two\n",
    "one.left = three\n",
    "three.right = four\n",
    "one.right = five\n",
    "five.right = six\n",
    "six.left = seven\n",
    "three.left = eight\n",
    "\n",
    "o = LCATwoNodes()\n",
    "assert o.solve(root, three, four) == three\n",
    "assert o.solve(root, eight, four) == three\n",
    "assert o.solve(root, two, seven) == root"
   ]
  },
  {
   "cell_type": "markdown",
   "id": "108592d5",
   "metadata": {},
   "source": [
    "## 8. Implement a `GetRandom` set\n",
    "\n",
    "Implement all of the following, with **O(1) complexity each**:\n",
    "* `put(x)` : add x to set if not present\n",
    "* `get(x)` : True if x is in set\n",
    "* `del(x)` : Drop if x is in set and return True; else return False\n",
    "* `sample()` : Return an element from the set at random.\n",
    "\n",
    "All except `sample` can be implemented using a `Set`.\n",
    "\n",
    "To sample, you need a list of elements -- it must be a list; cannot be a set.\n",
    "* So, if the elements are being stored in a list, you need to track the positions.\n",
    "* To track positions, you need a dictionary (key:num ==> val:position)\n",
    "* But now, when you delete, you will need to remove from the list as well ...\n",
    "    * To remove from the list in O(1), swap the element with the last element, and then pop!"
   ]
  },
  {
   "cell_type": "code",
   "execution_count": 197,
   "id": "d27797c2",
   "metadata": {},
   "outputs": [],
   "source": [
    "import random\n",
    "\n",
    "class GetRandomSet:\n",
    "    def __init__(self):\n",
    "        self.elements = []\n",
    "        self.positions = {}\n",
    "        \n",
    "    def put(self, x):\n",
    "        if x not in self.positions:\n",
    "            self.positions[len(self.positions)] = x\n",
    "            self.elements.append(x)\n",
    "            \n",
    "    def get(self, x):\n",
    "        if x in self.positions:\n",
    "            return self.elements[self.positions[x]]\n",
    "        else:\n",
    "            return False\n",
    "    \n",
    "    def delete(self, x):\n",
    "        if x in self.positions:\n",
    "            p = self.positions[x]\n",
    "            last = self.elements[-1]\n",
    "            \n",
    "            self.elements[p], self.elements[-1] = self.elements[-1], self.elements[p]\n",
    "            \n",
    "            self.elements.pop()\n",
    "            del self.positions[x]\n",
    "            \n",
    "            self.positions[last] = p\n",
    "            \n",
    "            return True\n",
    "        else:\n",
    "            return False\n",
    "        \n",
    "    def sample(self):\n",
    "        return random.sample(self.elements)"
   ]
  },
  {
   "cell_type": "code",
   "execution_count": 198,
   "id": "4a578a6d",
   "metadata": {},
   "outputs": [],
   "source": [
    "o = GetRandomSet()"
   ]
  },
  {
   "cell_type": "code",
   "execution_count": 199,
   "id": "09de45a1",
   "metadata": {},
   "outputs": [],
   "source": [
    "for _ in range(5):\n",
    "    o.put(_)"
   ]
  },
  {
   "cell_type": "code",
   "execution_count": 200,
   "id": "56d5b786",
   "metadata": {},
   "outputs": [],
   "source": [
    "assert o.get(2) == 2\n",
    "assert o.get(4) == 4\n",
    "\n",
    "o.delete(1)\n",
    "assert o.get(1) == False\n",
    "assert o.get(2) == 2\n",
    "assert o.get(4) == 4"
   ]
  },
  {
   "cell_type": "markdown",
   "id": "60692343",
   "metadata": {},
   "source": [
    "## 9. Number of unique decodings for a string."
   ]
  },
  {
   "cell_type": "markdown",
   "id": "19d3950d",
   "metadata": {},
   "source": [
    "Given an input string of numbers: `11106`\n",
    "\n",
    "This is decoded using the alphabet: `1 => A, 2 => B`, etc.\n",
    "\n",
    "But `11` can be mapped to `AA` or `K` -- both are valid decodings.\n",
    "\n",
    "Can you find the total number of unique, valid decodings? Sequences starting with `0` are invalid.\n",
    "\n",
    "### Questions\n",
    "\n",
    "Best way to figure out unique decodings?\n",
    "* At each index `i`, you can do two thing:\n",
    "    * Decode `i` and then rest\n",
    "    * Decode `i:i+1` and then rest"
   ]
  },
  {
   "cell_type": "code",
   "execution_count": 210,
   "id": "3d0cef7b",
   "metadata": {},
   "outputs": [],
   "source": [
    "from string import ascii_uppercase\n",
    "from functools import lru_cache\n",
    "\n",
    "class UniqueDecodingsString:\n",
    "    def solve(self, text):\n",
    "        decode = {str(i+1):l for i, l in enumerate(ascii_uppercase)}\n",
    "        \n",
    "        if len(text) == 0:\n",
    "            return 0\n",
    "        \n",
    "        self.ans = 0\n",
    "        \n",
    "        @lru_cache(maxsize=None)\n",
    "        def traverse(i):\n",
    "            if i == len(text):\n",
    "                self.ans += 1\n",
    "            elif i < len(text):\n",
    "                if text[i] in decode:\n",
    "                    traverse(i+1)\n",
    "                    if text[i:i+2] in decode:\n",
    "                        traverse(i+2)\n",
    "            else:\n",
    "                return\n",
    "            \n",
    "        traverse(0)\n",
    "        return self.ans"
   ]
  },
  {
   "cell_type": "code",
   "execution_count": 211,
   "id": "73e93cc2",
   "metadata": {},
   "outputs": [],
   "source": [
    "o = UniqueDecodingsString()"
   ]
  },
  {
   "cell_type": "code",
   "execution_count": 212,
   "id": "ac4ea5fe",
   "metadata": {},
   "outputs": [
    {
     "name": "stdout",
     "output_type": "stream",
     "text": [
      "45.4 µs ± 536 ns per loop (mean ± std. dev. of 7 runs, 10000 loops each)\n"
     ]
    }
   ],
   "source": [
    "%timeit o.solve('11111111111111111111111111111111')"
   ]
  },
  {
   "cell_type": "markdown",
   "id": "60fd66b6",
   "metadata": {},
   "source": [
    "## 10. Simple calculator, with operator precedence, no braces."
   ]
  },
  {
   "cell_type": "markdown",
   "id": "ce16af4a",
   "metadata": {},
   "source": [
    "`2 + 4 + 2 * 7`\n",
    "\n",
    "Expression will be valid; return the right answer.\n",
    "\n",
    "### Questions\n",
    "1. Do it in two passes -- first solve for `* and /`, then solve for `+ -`.\n",
    "\n",
    "**Complexity**: O(n) for time and space -- two passes effectively."
   ]
  },
  {
   "cell_type": "code",
   "execution_count": 219,
   "id": "7bc02ce6",
   "metadata": {},
   "outputs": [],
   "source": [
    "class SimpleCalculator:\n",
    "    def solve(self, s):\n",
    "        remain = []\n",
    "        temp = ''\n",
    "        digits = set('1234567890')\n",
    "        \n",
    "        operate = False\n",
    "        for c in s.replace(' ', ''):\n",
    "            if c in digits:\n",
    "                temp += c\n",
    "            else:\n",
    "                if temp:\n",
    "                    remain.append(int(temp))\n",
    "                    temp = ''\n",
    "                    \n",
    "                if operate:\n",
    "                    operate = False\n",
    "                    after = remain.pop()\n",
    "                    op = remain.pop()\n",
    "                    before = remain.pop()\n",
    "                    remain.append(before/after if op =='/' else before*after)\n",
    "                    \n",
    "                remain.append(c)\n",
    "                if c == '*' or c == '/':\n",
    "                    operate = True\n",
    "                    \n",
    "        if temp:\n",
    "            remain.append(int(temp))\n",
    "            temp = ''\n",
    "            \n",
    "        ans = 0\n",
    "        sign = 1\n",
    "        for n in remain:\n",
    "            if n == '+':\n",
    "                sign *= 1\n",
    "            elif n == '-':\n",
    "                sign *= -1\n",
    "            else:\n",
    "                ans += sign * n\n",
    "                sign = 1\n",
    "                    \n",
    "        return ans"
   ]
  },
  {
   "cell_type": "code",
   "execution_count": 220,
   "id": "e3368854",
   "metadata": {},
   "outputs": [],
   "source": [
    "o = SimpleCalculator()"
   ]
  },
  {
   "cell_type": "code",
   "execution_count": 221,
   "id": "2cd34a96",
   "metadata": {},
   "outputs": [
    {
     "data": {
      "text/plain": [
       "4"
      ]
     },
     "execution_count": 221,
     "metadata": {},
     "output_type": "execute_result"
    }
   ],
   "source": [
    "o.solve('2 + 2 * 7 - 12')"
   ]
  }
 ],
 "metadata": {
  "kernelspec": {
   "display_name": "Python 3",
   "language": "python",
   "name": "python3"
  },
  "language_info": {
   "codemirror_mode": {
    "name": "ipython",
    "version": 3
   },
   "file_extension": ".py",
   "mimetype": "text/x-python",
   "name": "python",
   "nbconvert_exporter": "python",
   "pygments_lexer": "ipython3",
   "version": "3.7.10"
  }
 },
 "nbformat": 4,
 "nbformat_minor": 5
}
