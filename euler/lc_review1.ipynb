{
 "cells": [
  {
   "cell_type": "markdown",
   "id": "e2c51a76",
   "metadata": {},
   "source": [
    "# Problems covered\n",
    "\n",
    "1. Search for a number in a sorted, but rotated array.\n",
    "2. Generate all unique letter combinations given a string.\n",
    "3. Generate all possible valid sequences with $n$ pairs of parenthesis.\n",
    "4. Shortest path between two words -- all intermediate words should appear in the dict.\n",
    "5. Minimum number of meeting rooms, given meeting internvals."
   ]
  },
  {
   "cell_type": "markdown",
   "id": "f85e90a3",
   "metadata": {},
   "source": [
    "## 1. Search for a number in a sorted, but rotated array. \n",
    "\n",
    "The array could have been rotated `n` times.\n",
    "\n",
    "* Original: [1, 2, 3, 4, 5, 6]\n",
    "* Rotated: [5, 6, 1, 2, 3, 4]\n",
    "\n",
    "### Questions\n",
    "\n",
    "1. Linear scan is simple. Can you do better?\n",
    "\n",
    "Because array is rotated, there is an inflection point: [5, **6**, 1, 2, 3, 4] : all elements upto this point are sorted, and after this point are also sorted.\n",
    "\n",
    "Say you are searching for `5`. When you start, `i=0, j=5`.\n",
    "* `m` will be `2` and `array[m] = 1`\n",
    "* If `m` value is larger than `i` value, then array from `i to m` is sorted:\n",
    "    * And if target is within array values from `[i, m)` set `j = m-1`; else `i = m+1`\n",
    "* Similarly, if `m` value is less than `i` value, then array from `m to j` is sorted:\n",
    "    * And if target is within array values from `(m, j]` set `i = m+1`; else `j = m-1`"
   ]
  },
  {
   "cell_type": "code",
   "execution_count": 11,
   "id": "5cf16476",
   "metadata": {},
   "outputs": [],
   "source": [
    "class SearchInSortedRotated:\n",
    "    def search(self, array, n):\n",
    "        if len(array) == 0:\n",
    "            return None\n",
    "        if len(array) == 1:\n",
    "            return 0 if array[0] == n else None\n",
    "        \n",
    "        i = 0\n",
    "        j = len(array)-1\n",
    "        \n",
    "        while i <= j:\n",
    "            m = i + (j - i) // 2\n",
    "            if array[m] == n:\n",
    "                return m\n",
    "            else:\n",
    "                if array[m] >= array[i]:\n",
    "                    # Sorted upto m\n",
    "                    if n >= array[i] and n < array[m]:\n",
    "                        j = m - 1\n",
    "                    else:\n",
    "                        i = m + 1\n",
    "                else:\n",
    "                    if n > array[m] and n <= array[j]:\n",
    "                        i = m + 1\n",
    "                    else:\n",
    "                        j = m - 1\n",
    "                        \n",
    "        return None\n",
    "\n",
    "\n",
    "def search_in_sorted_rotated():\n",
    "    s = SearchInSortedRotated()\n",
    "    assert s.search([5, 6, 1, 2, 3, 4], 5) == 0\n",
    "    assert s.search([5, 6, 1], 1) == 2\n",
    "    assert s.search([5, 6], 6) == 1\n",
    "    assert s.search([5, 9], 10) == None\n",
    "    \n",
    "search_in_sorted_rotated()"
   ]
  },
  {
   "cell_type": "markdown",
   "id": "159acd9b",
   "metadata": {},
   "source": [
    "## 2. All unique non-empty letter combinations from a string.\n",
    "\n",
    "Given string `AABC`, generate all non-empty string combinations (EXCLUDE ARRANGEMENTS).\n",
    "* `A B C`\n",
    "* `AA AB AC BC`\n",
    "* `AAB AAC ABC`\n",
    "* `AABC`\n",
    "\n",
    "### Questions\n",
    "1. How would you generate all FIXED LENGTH strings?\n",
    "\n",
    "* Start with first letter, then include second letter -- now you have two letters `AA`\n",
    "    * Now, you should remove the *last* letter, and proceed to the next letter ==> `AB`\n",
    "        * Again, you have two letters, so you remove the last and go to next letter ==> `AC`\n",
    "            * Now the sequence has ended, so you stop.\n",
    "            \n",
    "2. Can you improve this?? Between 2-len and 3-len combinations, the substrings will repeat. \n",
    "* So, instead of waiting for the length to equal $n$, you can add the current substring.\n",
    "\n",
    "Complexity: exponential. Time complexity  $nCk$ is $o(n^k)$ . But if you are generating all combinations (all unique subsets), that is $o(2^n)$"
   ]
  },
  {
   "cell_type": "code",
   "execution_count": 1,
   "id": "6152dd4d",
   "metadata": {},
   "outputs": [],
   "source": [
    "class UniqueLetterCombinations:\n",
    "    def solve(self, string):\n",
    "        ans = set()\n",
    "        \n",
    "        def combinations_fixed(current, n, pick):\n",
    "            if len(current) == n:\n",
    "                ans.add(''.join(current))\n",
    "            else:\n",
    "                for i in range(pick, len(string)):\n",
    "                    current.append(string[i])\n",
    "                    combinations_fixed(current, n, i+1)\n",
    "                    current.pop()\n",
    "                    \n",
    "        for size in range(1, len(string)+1):\n",
    "            combinations_fixed([], size, 0)\n",
    "            \n",
    "        return ans\n",
    "    \n",
    "    \n",
    "    def solve_direct(self, string):\n",
    "        \"\"\"\n",
    "        This solution does not create combinations of fixed size.\n",
    "        Rather, it considers all lengths, as it is progressing.\n",
    "        \"\"\"\n",
    "        ans = set()\n",
    "        def progressive(current, pick):\n",
    "            for i in range(pick, len(string)):\n",
    "                current.append(string[i])\n",
    "                temp = ''.join(current)\n",
    "                ans.add(temp)\n",
    "                \n",
    "                progressive(current, i+1)\n",
    "                current.pop()\n",
    "                \n",
    "        progressive([], 0)\n",
    "        return ans\n",
    "                \n",
    "    \n",
    "def unique_letter_combinations():\n",
    "    o = UniqueLetterCombinations()\n",
    "    o.solve('ABCDEFGHIJKLMNOPQRST')\n",
    "    \n",
    "unique_letter_combinations()"
   ]
  },
  {
   "cell_type": "code",
   "execution_count": 2,
   "id": "339189b8",
   "metadata": {},
   "outputs": [],
   "source": [
    "o = UniqueLetterCombinations()"
   ]
  },
  {
   "cell_type": "code",
   "execution_count": 3,
   "id": "9ea8f593",
   "metadata": {},
   "outputs": [
    {
     "name": "stdout",
     "output_type": "stream",
     "text": [
      "432 ms ± 9.46 ms per loop (mean ± std. dev. of 7 runs, 1 loop each)\n"
     ]
    }
   ],
   "source": [
    "%timeit o.solve('ABCDEFGHIJKLMNOP')"
   ]
  },
  {
   "cell_type": "code",
   "execution_count": 4,
   "id": "94961a6e",
   "metadata": {},
   "outputs": [
    {
     "name": "stdout",
     "output_type": "stream",
     "text": [
      "73.3 ms ± 919 µs per loop (mean ± std. dev. of 7 runs, 10 loops each)\n"
     ]
    }
   ],
   "source": [
    "%timeit o.solve_direct('ABCDEFGHIJKLMNOP')"
   ]
  },
  {
   "cell_type": "markdown",
   "id": "2dad875a",
   "metadata": {},
   "source": [
    "## 3. All valid parenthesis with $n$ pairs of parenthesis\n",
    "\n",
    "If n == 2: `()(), (())`\n",
    "\n",
    "If n == 3: `()()(), ()(()), ((())), (())()`\n",
    "\n",
    "### Questions\n",
    "\n",
    "Simplest solution is to brute force.\n",
    "* `(` + all valid sequences with `n-1` parenthesis\n",
    "* `)` + all valid sequences with `n-1` parenthesis\n",
    "\n",
    "Complexity will be $2^{2N}N$ -- the final $N$ is because we use `join` on the list.\n",
    "\n",
    "**Another** solution, is to prune the number of bad solutions:\n",
    "* Only add an open-brace when available and closed are also available.\n",
    "* Only add closed brace when closed is available AND number of closed < number of open.\n",
    "\n",
    "Time complexity of this solution will be a lot smaller -- because you are not considering all possible combinations -- but exact answer ...?"
   ]
  },
  {
   "cell_type": "code",
   "execution_count": 24,
   "id": "56436d30",
   "metadata": {},
   "outputs": [],
   "source": [
    "class FixedLenParenthesis:\n",
    "    def solve(self, n):\n",
    "        ans = []\n",
    "        \n",
    "        def isValid(seq):\n",
    "            net = 0\n",
    "            for c in seq:\n",
    "                if net < 0:\n",
    "                    return False\n",
    "                \n",
    "                if c == '(':\n",
    "                    net += 1\n",
    "                else:\n",
    "                    net -= 1\n",
    "                    \n",
    "            return net == 0\n",
    "\n",
    "        \n",
    "        def combine(current):\n",
    "            if len(current) == 2*n:\n",
    "                if isValid(current):\n",
    "                    ans.append(''.join(current))\n",
    "                    \n",
    "            else:\n",
    "                current.append('(')\n",
    "                combine(current)\n",
    "                current.pop()\n",
    "                \n",
    "                current.append(')')\n",
    "                combine(current)\n",
    "                current.pop()\n",
    "                \n",
    "        combine([])\n",
    "        return ans\n",
    "    \n",
    "    \n",
    "    def pruning(self, n):\n",
    "        \"\"\"\n",
    "        In this version, we keep checking on the number of\n",
    "        open and closed braces used.\n",
    "        \n",
    "        Rules:\n",
    "            Only add an open-brace when available and closed are also available\n",
    "            Only add a closed-brace when available, and does not exceed open\n",
    "        \"\"\"\n",
    "        ans = []\n",
    "        \n",
    "        def aware(current, br_open, br_close):\n",
    "            if len(current) == 2*n:\n",
    "                ans.append(''.join(current))\n",
    "            else:\n",
    "                if br_open < n and br_close < n:\n",
    "                    current.append('(')\n",
    "                    aware(current, br_open+1, br_close)\n",
    "                    current.pop()\n",
    "                    \n",
    "                if br_close < n and br_close < br_open:\n",
    "                    current.append(')')\n",
    "                    aware(current, br_open, br_close+1)\n",
    "                    current.pop()\n",
    "                    \n",
    "        aware([], 0, 0)\n",
    "        return ans"
   ]
  },
  {
   "cell_type": "code",
   "execution_count": 25,
   "id": "f5703ce3",
   "metadata": {},
   "outputs": [
    {
     "data": {
      "text/plain": [
       "['((()))', '(()())', '(())()', '()(())', '()()()']"
      ]
     },
     "execution_count": 25,
     "metadata": {},
     "output_type": "execute_result"
    }
   ],
   "source": [
    "o = FixedLenParenthesis()\n",
    "o.solve(3)"
   ]
  },
  {
   "cell_type": "code",
   "execution_count": 26,
   "id": "bf526e6b",
   "metadata": {},
   "outputs": [
    {
     "data": {
      "text/plain": [
       "['((()))', '(()())', '(())()', '()(())', '()()()']"
      ]
     },
     "execution_count": 26,
     "metadata": {},
     "output_type": "execute_result"
    }
   ],
   "source": [
    "o.pruning(3)"
   ]
  },
  {
   "cell_type": "code",
   "execution_count": 28,
   "id": "1904015e",
   "metadata": {},
   "outputs": [
    {
     "name": "stdout",
     "output_type": "stream",
     "text": [
      "87.8 ms ± 422 µs per loop (mean ± std. dev. of 7 runs, 10 loops each)\n"
     ]
    }
   ],
   "source": [
    "%timeit o.solve(8)"
   ]
  },
  {
   "cell_type": "code",
   "execution_count": 29,
   "id": "5b94e16f",
   "metadata": {},
   "outputs": [
    {
     "name": "stdout",
     "output_type": "stream",
     "text": [
      "3.62 ms ± 32.6 µs per loop (mean ± std. dev. of 7 runs, 100 loops each)\n"
     ]
    }
   ],
   "source": [
    "%timeit o.pruning(8)"
   ]
  },
  {
   "cell_type": "markdown",
   "id": "07ccc35b",
   "metadata": {},
   "source": [
    "## 4. Shortest path between two words -- all intermediate words should appear in the dict."
   ]
  },
  {
   "cell_type": "markdown",
   "id": "21dba366",
   "metadata": {},
   "source": [
    "*The next word is generated by substituting a letter from the previous word.* \n",
    "\n",
    "Start word: `hit`\n",
    "\n",
    "End word: `cog`\n",
    "\n",
    "Dictionary: `hit, cog, hog, hot, bot, cot`\n",
    "\n",
    "Shortest path: `hit -> hot -> cot -> cog`\n",
    "\n",
    "### Questions\n",
    "\n",
    "Since question is asking for shortest path, **BFS should come to mind!** During BFS, whenever you find the target word, just return it (along with the length so far).\n",
    "\n",
    "**Complexity**: Consider $N$ words in the list, and length of each word is $L$. Worst-case scenario:\n",
    "* we start from the first word, and iterate over all its letters => $O(L)$\n",
    "    * for each of these letters, we generate the pattern, which takes $O(L)$\n",
    "        * and we iterate over all words for each pattern, which could be $O(N)$\n",
    "* Thus, total complexity: O(L x L x N) => $O(L^2.N)$"
   ]
  },
  {
   "cell_type": "code",
   "execution_count": 53,
   "id": "a3662dea",
   "metadata": {},
   "outputs": [],
   "source": [
    "from collections import deque\n",
    "from collections import defaultdict\n",
    "import string\n",
    "\n",
    "class ShortestPahtBetweenWords:\n",
    "    def solve(self, start, end, words):\n",
    "        \"\"\"\n",
    "        Words is a list.\n",
    "        Start and End are words.\n",
    "        \"\"\"\n",
    "        words = set(words)\n",
    "        \n",
    "        if start not in words or end not in words:\n",
    "            return -1\n",
    "        if start == end:\n",
    "            return 0\n",
    "        \n",
    "        seen = set()\n",
    "\n",
    "        que = deque([(start, 0)])\n",
    "        \n",
    "        while que:\n",
    "            current, d = que.popleft()\n",
    "            if current == end:\n",
    "                return d\n",
    "            \n",
    "            if current in seen:\n",
    "                continue\n",
    "                \n",
    "            seen.add(current)\n",
    "            for i in range(len(start)):\n",
    "                pre = current[:i]\n",
    "                aft = current[i+1:]\n",
    "                for char in string.ascii_lowercase:\n",
    "                    temp = pre + char + aft\n",
    "                    if temp in words and temp not in seen:\n",
    "                        que.append((temp, d+1))\n",
    "                        \n",
    "        return -1\n",
    "    \n",
    "    def smarter(self, start, end, words):\n",
    "        words = set(words)\n",
    "        if start not in words or end not in words:\n",
    "            return -1\n",
    "        if start == end:\n",
    "            return 0\n",
    "        \n",
    "        # word: \"bat\" ; patterns: \"_at\", \"b_t\", \"ba_\"\n",
    "        possible = defaultdict(set)\n",
    "        for w in words:\n",
    "            for i in range(len(start)):\n",
    "                pre = w[:i]\n",
    "                aft = w[i+1:]\n",
    "                pattern = pre + '_' + aft\n",
    "                possible[pattern].add(w)\n",
    "        \n",
    "        que = deque([(start, 0)])\n",
    "        seen = set()\n",
    "        while que:\n",
    "            current, d = que.popleft()\n",
    "            if current == end:\n",
    "                return d\n",
    "            \n",
    "            if current in seen:\n",
    "                continue\n",
    "                \n",
    "            seen.add(current)\n",
    "            for i in range(len(start)):\n",
    "                pre = current[:i]\n",
    "                aft = current[i+1:]\n",
    "                pattern = pre + '_' + aft\n",
    "                for temp in possible[pattern]:\n",
    "                    if temp not in seen:\n",
    "                        que.append((temp, d+1))\n",
    "                        \n",
    "        return -1"
   ]
  },
  {
   "cell_type": "code",
   "execution_count": 54,
   "id": "7d616c1f",
   "metadata": {},
   "outputs": [],
   "source": [
    "o = ShortestPahtBetweenWords()"
   ]
  },
  {
   "cell_type": "code",
   "execution_count": 45,
   "id": "4c4279c8",
   "metadata": {},
   "outputs": [
    {
     "name": "stdout",
     "output_type": "stream",
     "text": [
      "156 µs ± 1.63 µs per loop (mean ± std. dev. of 7 runs, 10000 loops each)\n"
     ]
    }
   ],
   "source": [
    "%timeit o.solve('hit', 'lie', ['hit', 'cog', 'bog', 'bat', 'bit', 'sit', 'kit', 'hot', 'cot', 'dit', 'dog', 'dig', 'bye', 'lie', 'dye', 'die'])"
   ]
  },
  {
   "cell_type": "code",
   "execution_count": 55,
   "id": "03a86d68",
   "metadata": {},
   "outputs": [
    {
     "name": "stdout",
     "output_type": "stream",
     "text": [
      "67.1 µs ± 1.13 µs per loop (mean ± std. dev. of 7 runs, 10000 loops each)\n"
     ]
    }
   ],
   "source": [
    "%timeit o.smarter('hit', 'lie', ['hit', 'cog', 'bog', 'bat', 'bit', 'sit', 'kit', 'hot', 'cot', 'dit', 'dog', 'dig', 'bye', 'lie', 'dye', 'die'])"
   ]
  },
  {
   "cell_type": "markdown",
   "id": "297191d5",
   "metadata": {},
   "source": [
    "## 5. Find minimum number of meeting rooms for the schedule."
   ]
  },
  {
   "cell_type": "markdown",
   "id": "ec026e50",
   "metadata": {},
   "source": [
    "Given meeting `(start, end)` times: `[(0, 30), (5, 15), (20, 50), (10, 100)]`\n",
    "\n",
    "Can you find the minimum number of meeting rooms for these meetings?\n",
    "\n",
    "### Questions\n",
    "\n",
    "1. A simple way to solve this, is to sort everything by meeting-start-time\n",
    "    * Then you look at the first meeting, assign it a room,\n",
    "    * and check if the next meeting starts before the first one ends,\n",
    "        * If yes, then that same room gets used.\n",
    "        * Else, assign a new meeting room.\n",
    "2. In this solution, you will have to search for the meeting room that is available at the earliest.\n",
    "3. Complexity will be $O(N^2)$ with num of meetings -- worst case, meetings start very close to each other, and we search over all rooms for every meeting.\n",
    "\n",
    "**A faster way** would be to always track the EARLIEST AVAILABLE MEETING ROOM!\n",
    "1. You can use a `min-heap` for this.\n",
    "2. Add first-meeting's end time to `heap`.\n",
    "3. For the next meeting, check if start time is BEFORE end time.\n",
    "    * If True, then you need a new meeting room; run `heappush` to add new end time.\n",
    "    * If False, then same meeting room can be used, and it's end-time will have to be udpated.\n",
    "        * Do `heapq.heapreplace` => this will pop the smallest value and `heappush` the new end time.\n",
    "4. Complexity will be:\n",
    "    * N.log(N) for the sort, plus\n",
    "    * Iterating over each meeting => N\n",
    "        * and at each meeting running `heappush` => log(N)\n",
    "\n",
    "Total => O(N.log(N) + N.log(N))"
   ]
  },
  {
   "cell_type": "code",
   "execution_count": 77,
   "id": "358346bf",
   "metadata": {},
   "outputs": [],
   "source": [
    "import heapq\n",
    "\n",
    "class MinimumMeetingRooms:\n",
    "    def solve(self, meetings):\n",
    "        \"\"\"\n",
    "        meetings: List of meetings with start and end times.\n",
    "        \"\"\"\n",
    "        meetings.sort(key=lambda t:t[0])\n",
    "        \n",
    "        rooms = {}  # room_id => end_time\n",
    "        \n",
    "        for start, end in meetings:\n",
    "            found = False\n",
    "            for r, available in rooms.items():\n",
    "                if start >= available:\n",
    "                    found = True\n",
    "                    rooms[r] = end\n",
    "                    break\n",
    "                    \n",
    "            if found is False:\n",
    "                rooms[len(rooms)] = end\n",
    "                \n",
    "        return len(rooms)\n",
    "    \n",
    "    \n",
    "    def alwaysAvailable(self, meetings):\n",
    "        \"\"\"\n",
    "        Uses a minheap to track the earliest available rooms.\n",
    "        \"\"\"\n",
    "        meetings.sort(key=lambda t: t[0])\n",
    "        \n",
    "        if len(meetings) <= 1:\n",
    "            return len(meetings)\n",
    "        \n",
    "        rooms = []\n",
    "        rooms.append(meetings[0][1])\n",
    "        \n",
    "        for i in range(1, len(meetings)):\n",
    "            start, end = meetings[i]\n",
    "            earliest = rooms[0]\n",
    "            if start < earliest:\n",
    "                # You will need a new room.\n",
    "                heapq.heappush(rooms, end)\n",
    "            else:\n",
    "                heapq.heapreplace(rooms, end)\n",
    "                \n",
    "        return len(rooms)"
   ]
  },
  {
   "cell_type": "code",
   "execution_count": 78,
   "id": "08d25010",
   "metadata": {},
   "outputs": [],
   "source": [
    "o = MinimumMeetingRooms()"
   ]
  },
  {
   "cell_type": "code",
   "execution_count": 79,
   "id": "a734bec9",
   "metadata": {},
   "outputs": [
    {
     "data": {
      "text/plain": [
       "3"
      ]
     },
     "execution_count": 79,
     "metadata": {},
     "output_type": "execute_result"
    }
   ],
   "source": [
    "o.solve([(0, 30), (5, 15), (20, 50), (10, 100)])"
   ]
  },
  {
   "cell_type": "code",
   "execution_count": 80,
   "id": "09ffd355",
   "metadata": {},
   "outputs": [
    {
     "data": {
      "text/plain": [
       "3"
      ]
     },
     "execution_count": 80,
     "metadata": {},
     "output_type": "execute_result"
    }
   ],
   "source": [
    "o.alwaysAvailable([(0, 30), (5, 15), (20, 50), (10, 100)])"
   ]
  },
  {
   "cell_type": "markdown",
   "id": "900e3a19",
   "metadata": {},
   "source": [
    "## 6. LRU cache\n",
    "\n",
    "**implement PUT**\n",
    "1. Add (k, v) pair if not exists, or update value if it exists.\n",
    "2. If `cache` is at capacity, remove the LRU key and add the new one.\n",
    "\n",
    "**implement GET**\n",
    "1. Return value if key is present; else -1\n",
    "\n",
    "The main complexity is to constantly move the most recently used element (via `put` or `get`) at the end of the structure.\n",
    "\n",
    "The simple method is to use the OrderedDict -- there is a push to end function, which will move the key to then end after the `get` call. This way, the `first` element of the Dict will always be the `LRU` element. This method also gives O(1) for both operations.\n",
    "\n",
    "Quite possible the interviewer will not entertain this -- the alt approach is to implement a **Doubly Linked List**.\n",
    "* For each get/put on an existing key, you move that node to the end\n",
    "* All new keys are added to the end\n",
    "* A separate dictionary (cache) maps the keys to the DLL nodes"
   ]
  },
  {
   "cell_type": "code",
   "execution_count": 125,
   "id": "ea5a51c9",
   "metadata": {},
   "outputs": [],
   "source": [
    "from collections import OrderedDict\n",
    "\n",
    "class LRUCache:\n",
    "    def __init__(self, capacity):\n",
    "        self.capacity = capacity\n",
    "        self.cache = OrderedDict()\n",
    "        \n",
    "    def get(self, key):\n",
    "        if key in self.cache:\n",
    "            self.cache.move_to_end(key)\n",
    "            return self.cache[key]\n",
    "        else:\n",
    "            return -1\n",
    "        \n",
    "    def put(self, key, value):\n",
    "        if key in self.cache:\n",
    "            self.cache[key] = value\n",
    "            self.cache.move_to_end(key)\n",
    "        else:\n",
    "            if len(self.cache) == self.capacity:\n",
    "                remove = next(iter(self.cache))\n",
    "                del self.cache[remove]\n",
    "                \n",
    "            self.cache[key] = value\n",
    "            \n",
    "            \n",
    "\n",
    "class DLLNode:\n",
    "    def __init__(self, key, val):\n",
    "        self.key = key\n",
    "        self.val = val\n",
    "        self.before = None\n",
    "        self.after = None\n",
    "        \n",
    "        \n",
    "class DLLCache:\n",
    "    def __init__(self, capacity):\n",
    "        self.capacity = capacity\n",
    "        self.cache = {}  # key => Node(key, val)\n",
    "        \n",
    "        self.head = None\n",
    "        self.tail = None\n",
    "        \n",
    "    def addNewNode(self, node):\n",
    "        if len(self.cache) == 0:\n",
    "            self.head = node\n",
    "            self.tail = node\n",
    "            self.cache[node.key] = node\n",
    "        else:\n",
    "            assert self.head is not None\n",
    "            assert self.tail is not None\n",
    "            \n",
    "            self.tail.after = node\n",
    "            node.before = self.tail\n",
    "            self.tail = node\n",
    "            self.cache[node.key] = node\n",
    "        \n",
    "    def moveToEnd(self, node):\n",
    "        if node.before is None and node.after is None:\n",
    "            pass  # Single element\n",
    "        else:\n",
    "            before = node.before\n",
    "            after = node.after\n",
    "            \n",
    "            # Now put this after the tail.\n",
    "            self.tail.after = node\n",
    "            node.before = self.tail\n",
    "            node.after = None\n",
    "            self.tail = node\n",
    "            \n",
    "            # Now bridge the gap.\n",
    "            after.before = before\n",
    "            if before is not None:\n",
    "                before.after = after\n",
    "            else:\n",
    "                self.head = after\n",
    "        \n",
    "    def get(self, key):\n",
    "        if key in self.cache:\n",
    "            # Move to end,\n",
    "            # then return.\n",
    "            node = self.cache[key]\n",
    "            self.moveToEnd(node)\n",
    "            return self.cache[key].val\n",
    "        else:\n",
    "            return -1\n",
    "        \n",
    "    def put(self, key, val):\n",
    "        if key is self.cache:\n",
    "            node = self.cache[key]\n",
    "            node.val = val\n",
    "            self.moveToEnd(node)\n",
    "        else:\n",
    "            if len(self.cache) == self.capacity:\n",
    "                # Remove the HEAD element.\n",
    "                if len(self.cache) == 1:\n",
    "                    self.cache = {}\n",
    "                    self.head = None\n",
    "                    self.tail = None\n",
    "                else:\n",
    "                    head = self.head\n",
    "                    after = head.after\n",
    "                    \n",
    "                    head.after = None\n",
    "                    after.before = None\n",
    "                    del self.cache[head.key]\n",
    "                    \n",
    "                    self.head = after\n",
    "                    assert self.head.before is None\n",
    "                    \n",
    "            self.addNewNode(DLLNode(key, val))"
   ]
  },
  {
   "cell_type": "code",
   "execution_count": 126,
   "id": "0886edc4",
   "metadata": {},
   "outputs": [],
   "source": [
    "o = LRUCache(3)\n",
    "assert o.get(1) == -1\n",
    "o.put(1, 1)\n",
    "assert o.get(1) == 1\n",
    "o.put(2, 2)\n",
    "o.put(3, 3)\n",
    "\n",
    "o.put(1, 5)\n",
    "o.put(4, 4)\n",
    "\n",
    "assert o.get(1) == 5\n",
    "assert o.get(2) == -1\n",
    "assert o.get(3) == 3"
   ]
  },
  {
   "cell_type": "code",
   "execution_count": 127,
   "id": "db70d73f",
   "metadata": {},
   "outputs": [],
   "source": [
    "o = DLLCache(3)\n",
    "assert o.get(1) == -1\n",
    "o.put(1, 1)\n",
    "assert o.get(1) == 1\n",
    "o.put(2, 2)\n",
    "o.put(3, 3)\n",
    "\n",
    "o.put(1, 5)\n",
    "o.put(4, 4)\n",
    "\n",
    "assert o.get(1) == 5\n",
    "assert o.get(2) == -1\n",
    "assert o.get(3) == 3"
   ]
  }
 ],
 "metadata": {
  "kernelspec": {
   "display_name": "Python 3",
   "language": "python",
   "name": "python3"
  },
  "language_info": {
   "codemirror_mode": {
    "name": "ipython",
    "version": 3
   },
   "file_extension": ".py",
   "mimetype": "text/x-python",
   "name": "python",
   "nbconvert_exporter": "python",
   "pygments_lexer": "ipython3",
   "version": "3.7.10"
  }
 },
 "nbformat": 4,
 "nbformat_minor": 5
}
