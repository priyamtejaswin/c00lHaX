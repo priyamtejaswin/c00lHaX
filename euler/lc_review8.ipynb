{
 "cells": [
  {
   "cell_type": "markdown",
   "id": "d292e5ae",
   "metadata": {},
   "source": [
    "1. Longest Increasing Subsequence\n",
    "2. Increasing Triplet Subsequence"
   ]
  },
  {
   "cell_type": "markdown",
   "id": "46e6bb82",
   "metadata": {},
   "source": [
    "---"
   ]
  },
  {
   "cell_type": "markdown",
   "id": "e3408dd5",
   "metadata": {},
   "source": [
    "# 1. Longest Increasing Subsequence\n",
    "\n",
    "The goal is to find the length of the LIS.\n",
    "\n",
    "*You have already solved this before.* "
   ]
  },
  {
   "cell_type": "markdown",
   "id": "4be023b6",
   "metadata": {},
   "source": [
    "Maintain an array which tracks elements -- your job is to maintain this array in an increasing manner.\n",
    "\n",
    "Given `3, 5, 1, 7`, your array will evolve like so:\n",
    "* `[3]`\n",
    "* `[3, 5]` because `5` is greater than the last element\n",
    "* `[1, 5]` -- this is tricky:\n",
    "    * `1` is clearly smaller than both, but you donot want to discard the current sequence, because `7` appears next.\n",
    "    * Instead, you `swap` the number in the right place -- this works because ANY number smaller than 3, could have been in 3's place, and the size of the LIS would not change.\n",
    "* `[1, 5, 7]` -- again, this is NOT the correct subsequence, but the size is correct."
   ]
  },
  {
   "cell_type": "markdown",
   "id": "3fd10ee3",
   "metadata": {},
   "source": [
    "Now, say you actually wanted to track the Longest Subsequence, and not just the size?"
   ]
  },
  {
   "cell_type": "markdown",
   "id": "dc3b22a1",
   "metadata": {},
   "source": [
    "# 2. Increasing Triplet Subsequence"
   ]
  },
  {
   "cell_type": "markdown",
   "id": "5955e3cd",
   "metadata": {},
   "source": [
    "An extension of LIS -- does the array contain three indices `i, j, k` such that `array[i] < array[j] < array[k]`."
   ]
  },
  {
   "cell_type": "code",
   "execution_count": 1,
   "id": "50244ae6",
   "metadata": {},
   "outputs": [],
   "source": [
    "class IncreasingTriplet:\n",
    "    def solve(self, nums):\n",
    "        triplet = []\n",
    "        for ix, n in enumerate(nums):\n",
    "            if ix == 0:\n",
    "                triplet.append(n)\n",
    "            else:\n",
    "                if n > triplet[-1]:\n",
    "                    triplet.append(n)\n",
    "                else:\n",
    "                    # It can only have two elements, of which you need to replace\n",
    "                    # the first, or the 2nd.\n",
    "                    if n > triplet[0]:\n",
    "                        triplet[1] = n\n",
    "                    else:\n",
    "                        triplet[0] = n\n",
    "                    \n",
    "            if len(triplet) == 3:\n",
    "                return True\n",
    "            \n",
    "        return False"
   ]
  },
  {
   "cell_type": "code",
   "execution_count": 5,
   "id": "2d73c188",
   "metadata": {},
   "outputs": [
    {
     "name": "stdout",
     "output_type": "stream",
     "text": [
      "True\n",
      "False\n",
      "True\n"
     ]
    }
   ],
   "source": [
    "o = IncreasingTriplet()\n",
    "print(o.solve([1,2,3,4,5]))\n",
    "print(o.solve([5, 4, 3, 2, 1]))\n",
    "print(o.solve([2,1,5,0,4,6]))"
   ]
  }
 ],
 "metadata": {
  "kernelspec": {
   "display_name": "Python 3",
   "language": "python",
   "name": "python3"
  },
  "language_info": {
   "codemirror_mode": {
    "name": "ipython",
    "version": 3
   },
   "file_extension": ".py",
   "mimetype": "text/x-python",
   "name": "python",
   "nbconvert_exporter": "python",
   "pygments_lexer": "ipython3",
   "version": "3.8.8"
  }
 },
 "nbformat": 4,
 "nbformat_minor": 5
}
