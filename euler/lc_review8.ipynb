{
 "cells": [
  {
   "cell_type": "markdown",
   "id": "d4d53487",
   "metadata": {},
   "source": [
    "1. Longest Increasing Subsequence\n",
    "2. Increasing Triplet Subsequence"
   ]
  },
  {
   "cell_type": "markdown",
   "id": "c98033ad",
   "metadata": {},
   "source": [
    "---"
   ]
  },
  {
   "cell_type": "markdown",
   "id": "ddd5cf46",
   "metadata": {},
   "source": [
    "# 1. Longest Increasing Subsequence\n",
    "\n",
    "The goal is to find the length of the LIS.\n",
    "\n",
    "*You have already solved this before.* "
   ]
  },
  {
   "cell_type": "markdown",
   "id": "b845edc6",
   "metadata": {},
   "source": [
    "Maintain an array which tracks elements -- your job is to maintain this array in an increasing manner.\n",
    "\n",
    "Given `3, 5, 1, 7`, your array will evolve like so:\n",
    "* `[3]`\n",
    "* `[3, 5]` because `5` is greater than the last element\n",
    "* `[1, 5]` -- this is tricky:\n",
    "    * `1` is clearly smaller than both, but you donot want to discard the current sequence, because `7` appears next.\n",
    "    * Instead, you `swap` the number in the right place -- this works because ANY number smaller than 3, could have been in 3's place, and the size of the LIS would not change.\n",
    "* `[1, 5, 7]` -- again, this is NOT the correct subsequence, but the size is correct."
   ]
  },
  {
   "cell_type": "markdown",
   "id": "2b2f91aa",
   "metadata": {},
   "source": [
    "Now, say you actually wanted to track the Longest Subsequence, and not just the size?"
   ]
  },
  {
   "cell_type": "markdown",
   "id": "f1c7e892",
   "metadata": {},
   "source": [
    "# 2. Increasing Triplet Subsequence"
   ]
  },
  {
   "cell_type": "markdown",
   "id": "de3d9d8f",
   "metadata": {},
   "source": [
    "An extension of LIS -- does the array contain three indices `i, j, k` such that `array[i] < array[j] < array[k]`."
   ]
  },
  {
   "cell_type": "code",
   "execution_count": 1,
   "id": "75b509c9",
   "metadata": {},
   "outputs": [],
   "source": [
    "class IncreasingTriplet:\n",
    "    def solve(self, nums):\n",
    "        triplet = []\n",
    "        for ix, n in enumerate(nums):\n",
    "            if ix == 0:\n",
    "                triplet.append(n)\n",
    "            else:\n",
    "                if n > triplet[-1]:\n",
    "                    triplet.append(n)\n",
    "                else:\n",
    "                    # It can only have two elements, of which you need to replace\n",
    "                    # the first, or the 2nd.\n",
    "                    if n > triplet[0]:\n",
    "                        triplet[1] = n\n",
    "                    else:\n",
    "                        triplet[0] = n\n",
    "                    \n",
    "            if len(triplet) == 3:\n",
    "                return True\n",
    "            \n",
    "        return False"
   ]
  },
  {
   "cell_type": "code",
   "execution_count": 5,
   "id": "1c231f90",
   "metadata": {},
   "outputs": [
    {
     "name": "stdout",
     "output_type": "stream",
     "text": [
      "True\n",
      "False\n",
      "True\n"
     ]
    }
   ],
   "source": [
    "o = IncreasingTriplet()\n",
    "print(o.solve([1,2,3,4,5]))\n",
    "print(o.solve([5, 4, 3, 2, 1]))\n",
    "print(o.solve([2,1,5,0,4,6]))"
   ]
  },
  {
   "cell_type": "markdown",
   "id": "f5761025",
   "metadata": {},
   "source": [
    "# 3. Russian Envelopes\n",
    "\n",
    "You have an array of envelopes `(w, h)`. Can you find how many envelopes can be enclosed sequentially? An envelope can be enclosed in another if both the height and width are smaller."
   ]
  },
  {
   "cell_type": "markdown",
   "id": "fc7d8020",
   "metadata": {},
   "source": [
    "*This seemed like a LIS question, where you could just sort by size and then see which ones fit the next.*\n",
    "\n",
    "But this approach is not straightforward.\n",
    "\n",
    "Let's try a more basic graph-oriented approach:\n",
    "1. Generate an index graph that marks which indices can be *enveloped* into another.\n",
    "2. Run a topological sort and compute the longest path using DFS."
   ]
  },
  {
   "cell_type": "code",
   "execution_count": 13,
   "id": "3d2338f9",
   "metadata": {},
   "outputs": [],
   "source": [
    "from functools import lru_cache\n",
    "\n",
    "class RussianEnvelopeDFS:\n",
    "    def solve(self, envs):\n",
    "        graph = {}\n",
    "        for i in range(len(envs)):\n",
    "            for j in range(len(envs)):\n",
    "                if i != j:\n",
    "                    if envs[i][0] < envs[j][0] and envs[i][1] < envs[j][1]:\n",
    "                        if i in graph:\n",
    "                            graph[i].append(j)\n",
    "                        else:\n",
    "                            graph[i] = [j]\n",
    "                            \n",
    "        @lru_cache(None)\n",
    "        def dfs(n):\n",
    "            if n in graph:\n",
    "                d = 0\n",
    "                for x in graph[n]:\n",
    "                    d = max(d, 1 + dfs(x))\n",
    "                return d\n",
    "            else:\n",
    "                return 1\n",
    "            \n",
    "        return max([dfs(i) for i in range(len(envs))])"
   ]
  },
  {
   "cell_type": "code",
   "execution_count": 16,
   "id": "77596f3a",
   "metadata": {},
   "outputs": [
    {
     "name": "stdout",
     "output_type": "stream",
     "text": [
      "3\n",
      "1\n"
     ]
    }
   ],
   "source": [
    "o = RussianEnvelopeDFS()\n",
    "print(o.solve([[5,4],[6,4],[6,7],[2,3]]))\n",
    "print(o.solve([[1,1],[1,1]]))"
   ]
  },
  {
   "cell_type": "markdown",
   "id": "43da21a4",
   "metadata": {},
   "source": [
    "Unfortunately, this works -- but has a $n^2$ solution.\n",
    "\n",
    "The $nlogn$ solution is a modified LIS -- you sort the envelopes, increasing order width and *decreasing* order height. This way, when you run LIS on the heights, no two envelops of the same width will be clubbed together. \n",
    "\n",
    "Also, this way, LIS on the heights will give you the right solution."
   ]
  },
  {
   "cell_type": "code",
   "execution_count": null,
   "id": "b20ea86c",
   "metadata": {},
   "outputs": [],
   "source": []
  },
  {
   "cell_type": "code",
   "execution_count": 10,
   "id": "f4e9901d",
   "metadata": {},
   "outputs": [
    {
     "name": "stdout",
     "output_type": "stream",
     "text": [
      "(5) 4\n",
      "(11) 3\n",
      "(2) 1\n",
      "(7) 4\n",
      "(8) 3\n",
      "(9) 2\n",
      "(3) 4\n",
      "(10) 1\n"
     ]
    }
   ],
   "source": [
    "graph = {\n",
    "    5: [11],\n",
    "    7: [11, 8],\n",
    "    3: [8, 10],\n",
    "    11: [2, 9, 10],\n",
    "    8: [9],\n",
    "    9: [10]\n",
    "}\n",
    "\n",
    "from functools import lru_cache\n",
    "\n",
    "@lru_cache(None)\n",
    "def dfs(n):\n",
    "    if n in graph:\n",
    "        d = 0\n",
    "        for x in graph[n]:\n",
    "            d = max(d, 1 + dfs(x))\n",
    "        return d\n",
    "    else:\n",
    "        return 1\n",
    "    \n",
    "for n in [5, 11, 2, 7, 8, 9, 3, 10]:\n",
    "    print(\"(%d) %d\" % (n, dfs(n)))"
   ]
  },
  {
   "cell_type": "code",
   "execution_count": null,
   "id": "9f71b241",
   "metadata": {},
   "outputs": [],
   "source": []
  },
  {
   "cell_type": "code",
   "execution_count": null,
   "id": "64fb9ab2",
   "metadata": {},
   "outputs": [],
   "source": []
  },
  {
   "cell_type": "code",
   "execution_count": null,
   "id": "7db0b35e",
   "metadata": {},
   "outputs": [],
   "source": []
  },
  {
   "cell_type": "code",
   "execution_count": null,
   "id": "1effac57",
   "metadata": {},
   "outputs": [],
   "source": []
  },
  {
   "cell_type": "code",
   "execution_count": null,
   "id": "20a5996a",
   "metadata": {},
   "outputs": [],
   "source": []
  },
  {
   "cell_type": "code",
   "execution_count": null,
   "id": "a0a8296a",
   "metadata": {},
   "outputs": [],
   "source": []
  },
  {
   "cell_type": "code",
   "execution_count": null,
   "id": "28d62a26",
   "metadata": {},
   "outputs": [],
   "source": []
  },
  {
   "cell_type": "code",
   "execution_count": null,
   "id": "20e89b6d",
   "metadata": {},
   "outputs": [],
   "source": []
  },
  {
   "cell_type": "code",
   "execution_count": null,
   "id": "36fe16e4",
   "metadata": {},
   "outputs": [],
   "source": []
  },
  {
   "cell_type": "code",
   "execution_count": null,
   "id": "7655848f",
   "metadata": {},
   "outputs": [],
   "source": []
  },
  {
   "cell_type": "code",
   "execution_count": null,
   "id": "74915139",
   "metadata": {},
   "outputs": [],
   "source": [
    "\n"
   ]
  }
 ],
 "metadata": {
  "kernelspec": {
   "display_name": "Python 3",
   "language": "python",
   "name": "python3"
  },
  "language_info": {
   "codemirror_mode": {
    "name": "ipython",
    "version": 3
   },
   "file_extension": ".py",
   "mimetype": "text/x-python",
   "name": "python",
   "nbconvert_exporter": "python",
   "pygments_lexer": "ipython3",
   "version": "3.8.8"
  }
 },
 "nbformat": 4,
 "nbformat_minor": 5
}
