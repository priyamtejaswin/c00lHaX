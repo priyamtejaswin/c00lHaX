{
 "cells": [
  {
   "cell_type": "markdown",
   "id": "830197d4",
   "metadata": {},
   "source": [
    "1. Longest Increasing Subsequence\n",
    "2. Increasing Triplet Subsequence\n",
    "3. Russian Envelopes\n",
    "4. Maximum Length of Pair Chain\n",
    "5. Number of Longest Increasing Subsequence"
   ]
  },
  {
   "cell_type": "markdown",
   "id": "c55d87c8",
   "metadata": {},
   "source": [
    "---"
   ]
  },
  {
   "cell_type": "markdown",
   "id": "5eae3745",
   "metadata": {},
   "source": [
    "# 1. Longest Increasing Subsequence\n",
    "\n",
    "The goal is to find the length of the LIS.\n",
    "\n",
    "*You have already solved this before.* "
   ]
  },
  {
   "cell_type": "markdown",
   "id": "9eb6099a",
   "metadata": {},
   "source": [
    "Maintain an array which tracks elements -- your job is to maintain this array in an increasing manner.\n",
    "\n",
    "Given `3, 5, 1, 7`, your array will evolve like so:\n",
    "* `[3]`\n",
    "* `[3, 5]` because `5` is greater than the last element\n",
    "* `[1, 5]` -- this is tricky:\n",
    "    * `1` is clearly smaller than both, but you donot want to discard the current sequence, because `7` appears next.\n",
    "    * Instead, you `swap` the number in the right place -- this works because ANY number smaller than 3, could have been in 3's place, and the size of the LIS would not change.\n",
    "* `[1, 5, 7]` -- again, this is NOT the correct subsequence, but the size is correct."
   ]
  },
  {
   "cell_type": "markdown",
   "id": "504389e8",
   "metadata": {},
   "source": [
    "Now, say you actually wanted to track the Longest Subsequence, and not just the size?"
   ]
  },
  {
   "cell_type": "markdown",
   "id": "a512c1aa",
   "metadata": {},
   "source": [
    "# 2. Increasing Triplet Subsequence"
   ]
  },
  {
   "cell_type": "markdown",
   "id": "54fa6e62",
   "metadata": {},
   "source": [
    "An extension of LIS -- does the array contain three indices `i, j, k` such that `array[i] < array[j] < array[k]`."
   ]
  },
  {
   "cell_type": "code",
   "execution_count": 1,
   "id": "0723dbda",
   "metadata": {},
   "outputs": [],
   "source": [
    "class IncreasingTriplet:\n",
    "    def solve(self, nums):\n",
    "        triplet = []\n",
    "        for ix, n in enumerate(nums):\n",
    "            if ix == 0:\n",
    "                triplet.append(n)\n",
    "            else:\n",
    "                if n > triplet[-1]:\n",
    "                    triplet.append(n)\n",
    "                else:\n",
    "                    # It can only have two elements, of which you need to replace\n",
    "                    # the first, or the 2nd.\n",
    "                    if n > triplet[0]:\n",
    "                        triplet[1] = n\n",
    "                    else:\n",
    "                        triplet[0] = n\n",
    "                    \n",
    "            if len(triplet) == 3:\n",
    "                return True\n",
    "            \n",
    "        return False"
   ]
  },
  {
   "cell_type": "code",
   "execution_count": 5,
   "id": "9388df6c",
   "metadata": {},
   "outputs": [
    {
     "name": "stdout",
     "output_type": "stream",
     "text": [
      "True\n",
      "False\n",
      "True\n"
     ]
    }
   ],
   "source": [
    "o = IncreasingTriplet()\n",
    "print(o.solve([1,2,3,4,5]))\n",
    "print(o.solve([5, 4, 3, 2, 1]))\n",
    "print(o.solve([2,1,5,0,4,6]))"
   ]
  },
  {
   "cell_type": "markdown",
   "id": "f89ecaf7",
   "metadata": {},
   "source": [
    "# 3. Russian Envelopes\n",
    "\n",
    "You have an array of envelopes `(w, h)`. Can you find how many envelopes can be enclosed sequentially? An envelope can be enclosed in another if both the height and width are smaller."
   ]
  },
  {
   "cell_type": "markdown",
   "id": "c851b2c3",
   "metadata": {},
   "source": [
    "*This seemed like a LIS question, where you could just sort by size and then see which ones fit the next.*\n",
    "\n",
    "But this approach is not straightforward.\n",
    "\n",
    "Let's try a more basic graph-oriented approach:\n",
    "1. Generate an index graph that marks which indices can be *enveloped* into another.\n",
    "2. Run a topological sort and compute the longest path using DFS."
   ]
  },
  {
   "cell_type": "code",
   "execution_count": 13,
   "id": "bd24a1ff",
   "metadata": {},
   "outputs": [],
   "source": [
    "from functools import lru_cache\n",
    "\n",
    "class RussianEnvelopeDFS:\n",
    "    def solve(self, envs):\n",
    "        graph = {}\n",
    "        for i in range(len(envs)):\n",
    "            for j in range(len(envs)):\n",
    "                if i != j:\n",
    "                    if envs[i][0] < envs[j][0] and envs[i][1] < envs[j][1]:\n",
    "                        if i in graph:\n",
    "                            graph[i].append(j)\n",
    "                        else:\n",
    "                            graph[i] = [j]\n",
    "                            \n",
    "        @lru_cache(None)\n",
    "        def dfs(n):\n",
    "            if n in graph:\n",
    "                d = 0\n",
    "                for x in graph[n]:\n",
    "                    d = max(d, 1 + dfs(x))\n",
    "                return d\n",
    "            else:\n",
    "                return 1\n",
    "            \n",
    "        return max([dfs(i) for i in range(len(envs))])"
   ]
  },
  {
   "cell_type": "code",
   "execution_count": 16,
   "id": "1c304ffa",
   "metadata": {},
   "outputs": [
    {
     "name": "stdout",
     "output_type": "stream",
     "text": [
      "3\n",
      "1\n"
     ]
    }
   ],
   "source": [
    "o = RussianEnvelopeDFS()\n",
    "print(o.solve([[5,4],[6,4],[6,7],[2,3]]))\n",
    "print(o.solve([[1,1],[1,1]]))"
   ]
  },
  {
   "cell_type": "markdown",
   "id": "9a2c26c7",
   "metadata": {},
   "source": [
    "Unfortunately, this works -- but has a $n^2$ solution.\n",
    "\n",
    "The $nlogn$ solution is a modified LIS -- you sort the envelopes, increasing order width and *decreasing* order height. This way, when you run LIS on the heights, no two envelops of the same width will be clubbed together. \n",
    "\n",
    "Also, this way, LIS on the heights will give you the right solution."
   ]
  },
  {
   "cell_type": "code",
   "execution_count": null,
   "id": "3af829e5",
   "metadata": {},
   "outputs": [],
   "source": []
  },
  {
   "cell_type": "code",
   "execution_count": 10,
   "id": "74d0dc50",
   "metadata": {},
   "outputs": [
    {
     "name": "stdout",
     "output_type": "stream",
     "text": [
      "(5) 4\n",
      "(11) 3\n",
      "(2) 1\n",
      "(7) 4\n",
      "(8) 3\n",
      "(9) 2\n",
      "(3) 4\n",
      "(10) 1\n"
     ]
    }
   ],
   "source": [
    "graph = {\n",
    "    5: [11],\n",
    "    7: [11, 8],\n",
    "    3: [8, 10],\n",
    "    11: [2, 9, 10],\n",
    "    8: [9],\n",
    "    9: [10]\n",
    "}\n",
    "\n",
    "from functools import lru_cache\n",
    "\n",
    "@lru_cache(None)\n",
    "def dfs(n):\n",
    "    if n in graph:\n",
    "        d = 0\n",
    "        for x in graph[n]:\n",
    "            d = max(d, 1 + dfs(x))\n",
    "        return d\n",
    "    else:\n",
    "        return 1\n",
    "    \n",
    "for n in [5, 11, 2, 7, 8, 9, 3, 10]:\n",
    "    print(\"(%d) %d\" % (n, dfs(n)))"
   ]
  },
  {
   "cell_type": "markdown",
   "id": "689ff8aa",
   "metadata": {},
   "source": [
    "# 4. Maximum Length of Pair Chain"
   ]
  },
  {
   "cell_type": "markdown",
   "id": "6c642d93",
   "metadata": {},
   "source": [
    "Given pairs `[a, b]` where `a < b`, find the longest chain of pairs `[a b], [c d]` such that `b < c`.\n",
    "\n",
    "```\n",
    "[1, 2] [2, 3] [3, 4]\n",
    "\n",
    "\n",
    "[1, 2] [3, 2] [3, 4]\n",
    "2, 2, 4\n",
    "\n",
    "\n",
    "VALID\n",
    "[1, 2] [3, 5] [6, 7] ==> [1, 2] [5, 3] [7, 6]\n",
    "\n",
    "INVALID\n",
    "[1, 2] [1, 3] [4, 5] ==> [1, 2] [3, 1] [4, 5]\n",
    "```"
   ]
  },
  {
   "cell_type": "markdown",
   "id": "9da2d1fd",
   "metadata": {},
   "source": [
    "One solution is to exploit the LIS algo. By definition, for a valid LIS, `b` must be less than `c` AND `d`.\n",
    "\n",
    "So you first sort the pairs, then you reverse every second pair, and run LIS on the 1st index numbers."
   ]
  },
  {
   "cell_type": "code",
   "execution_count": 27,
   "id": "9be6687b",
   "metadata": {},
   "outputs": [],
   "source": [
    "class MaxLenPairLIS:\n",
    "    def solve(self, pairs):\n",
    "        pairs.sort()\n",
    "        print(pairs)\n",
    "        for i, p in enumerate(pairs):\n",
    "            if i%2 == 0:\n",
    "                continue\n",
    "            p[0], p[1] = p[1], p[0]\n",
    "            \n",
    "        lis = [pairs[0][1]]\n",
    "        for i in range(1, len(pairs)):\n",
    "            v = pairs[i][1]\n",
    "            if v > lis[-1]:\n",
    "                lis.append(v)\n",
    "            else:\n",
    "                start = 0\n",
    "                end = len(lis)-1\n",
    "                while start <= end:\n",
    "                    mid = start + (end - start)//2\n",
    "                    if lis[mid] < v:\n",
    "                        start = mid+1\n",
    "                    else:\n",
    "                        end = mid - 1\n",
    "                        \n",
    "                lis[start] = v\n",
    "                \n",
    "        return len(lis)"
   ]
  },
  {
   "cell_type": "code",
   "execution_count": 28,
   "id": "8dae2017",
   "metadata": {},
   "outputs": [
    {
     "name": "stdout",
     "output_type": "stream",
     "text": [
      "[[1, 2], [2, 3], [3, 4]]\n",
      "2\n",
      "[[1, 2], [4, 5], [7, 8]]\n",
      "3\n",
      "[[-10, -8], [-6, -4], [-5, 0], [-4, 7], [1, 7], [6, 10], [8, 9], [9, 10]]\n",
      "5\n"
     ]
    }
   ],
   "source": [
    "o = MaxLenPairLIS()\n",
    "print(o.solve([[1,2],[2,3],[3,4]]))\n",
    "print(o.solve([[1,2],[7,8],[4,5]]))\n",
    "print(o.solve([[-10,-8],[8,9],[-5,0],[6,10],[-6,-4],[1,7],[9,10],[-4,7]]))"
   ]
  },
  {
   "cell_type": "markdown",
   "id": "2df11d35",
   "metadata": {},
   "source": [
    "This does not return the right solution.\n",
    "\n",
    "The other approach is to construct a graph, and run DFS for longest path using memo."
   ]
  },
  {
   "cell_type": "code",
   "execution_count": 29,
   "id": "240bc54b",
   "metadata": {},
   "outputs": [],
   "source": [
    "from functools import lru_cache\n",
    "\n",
    "class MaxLenPairDFS:\n",
    "    def solve(self, pairs):\n",
    "        graph = {}\n",
    "        for i in range(len(pairs)):\n",
    "            for j in range(len(pairs)):\n",
    "                if i != j:\n",
    "                    if pairs[i][1] < pairs[j][0]:\n",
    "                        if i in graph:\n",
    "                            graph[i].append(j)\n",
    "                        else:\n",
    "                            graph[i] = [j]\n",
    "                            \n",
    "        @lru_cache(None)\n",
    "        def dfs(i):\n",
    "            if i not in graph:\n",
    "                return 1\n",
    "            else:\n",
    "                d = 0\n",
    "                for n in graph[i]:\n",
    "                    d = max(d, 1 + dfs(n))\n",
    "                return d\n",
    "            \n",
    "        return max([dfs(x) for x in graph.keys()] + [1])"
   ]
  },
  {
   "cell_type": "code",
   "execution_count": 30,
   "id": "dc1cf493",
   "metadata": {},
   "outputs": [
    {
     "name": "stdout",
     "output_type": "stream",
     "text": [
      "2\n",
      "3\n",
      "4\n"
     ]
    }
   ],
   "source": [
    "o = MaxLenPairDFS()\n",
    "print(o.solve([[1,2],[2,3],[3,4]]))\n",
    "print(o.solve([[1,2],[7,8],[4,5]]))\n",
    "print(o.solve([[-10,-8],[8,9],[-5,0],[6,10],[-6,-4],[1,7],[9,10],[-4,7]]))"
   ]
  },
  {
   "cell_type": "markdown",
   "id": "f8242b70",
   "metadata": {},
   "source": [
    "This solution works, but can be improved. There is a greedy solution, like LIS.\n",
    "\n",
    "Say we sort, then greedily build the array. If you find a valid extension, then great. Otherwise\n",
    "* Check which pair between the two has a smaller 2nd element -- this maximizes your chances of adding more elements in the future!"
   ]
  },
  {
   "cell_type": "code",
   "execution_count": 33,
   "id": "72fe13fd",
   "metadata": {},
   "outputs": [
    {
     "data": {
      "text/plain": [
       "[[-10, -8], [-6, -4], [-5, 0], [-4, 7], [1, 7], [6, 10], [8, 9], [9, 10]]"
      ]
     },
     "execution_count": 33,
     "metadata": {},
     "output_type": "execute_result"
    }
   ],
   "source": [
    "pairs = [[-10,-8],[8,9],[-5,0],[6,10],[-6,-4],[1,7],[9,10],[-4,7]]\n",
    "pairs.sort()\n",
    "pairs"
   ]
  },
  {
   "cell_type": "code",
   "execution_count": 34,
   "id": "1bfdd088",
   "metadata": {},
   "outputs": [],
   "source": [
    "class MaxLenPairGreedy:\n",
    "    def solve(self, pairs):\n",
    "        pairs.sort(key=lambda x: x[0])\n",
    "        end = pairs[0][1]\n",
    "        size = 1\n",
    "        for x, y in pairs[1:]:\n",
    "            if x > end:\n",
    "                size += 1\n",
    "                end = y\n",
    "            else:\n",
    "                if y < end:\n",
    "                    end = y\n",
    "                    \n",
    "        return size"
   ]
  },
  {
   "cell_type": "code",
   "execution_count": 35,
   "id": "e5908d80",
   "metadata": {},
   "outputs": [
    {
     "name": "stdout",
     "output_type": "stream",
     "text": [
      "2\n",
      "3\n",
      "4\n"
     ]
    }
   ],
   "source": [
    "o = MaxLenPairGreedy()\n",
    "print(o.solve([[1,2],[2,3],[3,4]]))\n",
    "print(o.solve([[1,2],[7,8],[4,5]]))\n",
    "print(o.solve([[-10,-8],[8,9],[-5,0],[6,10],[-6,-4],[1,7],[9,10],[-4,7]]))"
   ]
  },
  {
   "cell_type": "markdown",
   "id": "5be8c7b8",
   "metadata": {},
   "source": [
    "# 5. Number of Longest Increasing Subsequence"
   ]
  },
  {
   "cell_type": "markdown",
   "id": "7d1bfe54",
   "metadata": {},
   "source": [
    "LIS, but find how many of that size you can make.\n",
    "\n",
    "Basic approach:\n",
    "1. Make graph, which always goes to future index.\n",
    "2. Run DFS, and for each return, increment lenpath dict by 1"
   ]
  },
  {
   "cell_type": "code",
   "execution_count": 87,
   "id": "3a31de3b",
   "metadata": {},
   "outputs": [],
   "source": [
    "from collections import defaultdict\n",
    "from functools import lru_cache\n",
    "\n",
    "class NumberOfLIS:\n",
    "    def solve(self, nums):\n",
    "        graph = {}\n",
    "        for i in range(len(nums)):\n",
    "            for j in range(i+1, len(nums)):\n",
    "                if nums[i] < nums[j]:\n",
    "                    if i in graph:\n",
    "                        graph[i].append(j)\n",
    "                    else:\n",
    "                        graph[i] = [j]\n",
    "                    \n",
    "        @lru_cache(None)\n",
    "        def dfs(x):\n",
    "            if x not in graph:\n",
    "                return 1\n",
    "            else:\n",
    "                d = 0\n",
    "                for n in graph[x]:\n",
    "                    temp = 1+dfs(n)\n",
    "                    d = max(d, temp)\n",
    "                \n",
    "                return d\n",
    "            \n",
    "        largest = max([dfs(k) for k in graph.keys()] + [1])\n",
    "        if largest == 1:\n",
    "            return len(nums)\n",
    "        \n",
    "        @lru_cache(None)\n",
    "        def numlis(x):\n",
    "            \"\"\"\n",
    "            Returns the number of paths which equal\n",
    "            to the LIS from this index.\n",
    "            \"\"\"\n",
    "            lis = dfs(x)\n",
    "            if lis == 1:\n",
    "                return 1\n",
    "            \n",
    "            count = 0\n",
    "            for n in graph[x]:\n",
    "                if dfs(n)+1 == lis:\n",
    "                    count += numlis(n)\n",
    "                    \n",
    "            return count\n",
    "        \n",
    "        return sum([numlis(k) for k in graph.keys() if dfs(k) == largest])"
   ]
  },
  {
   "cell_type": "code",
   "execution_count": 88,
   "id": "d6d7e8aa",
   "metadata": {},
   "outputs": [
    {
     "name": "stdout",
     "output_type": "stream",
     "text": [
      "2\n"
     ]
    }
   ],
   "source": [
    "o = NumberOfLIS()\n",
    "print(o.solve([1, 3, 5, 4, 7]))\n",
    "# print(o.solve([2,2,2,2,2]))"
   ]
  },
  {
   "cell_type": "code",
   "execution_count": 67,
   "id": "78307771",
   "metadata": {},
   "outputs": [
    {
     "name": "stdout",
     "output_type": "stream",
     "text": [
      "[[0, 1, 2, 4], [0, 1, 3, 4], [0, 1, 4], [0, 2, 4], [0, 3, 4], [0, 4]]\n"
     ]
    }
   ],
   "source": [
    "graph = {0: [1, 2, 3, 4], 1: [2, 3, 4], 2: [4], 3: [4]}\n",
    "\n",
    "@lru_cache(None)\n",
    "def paths(x):\n",
    "    \"\"\"\n",
    "    Return all paths starting from a node.\n",
    "    \"\"\"\n",
    "    if x not in graph:\n",
    "        return [[x]]\n",
    "    else:\n",
    "        temp = []\n",
    "        for n in graph[x]:\n",
    "            for p in paths(n):\n",
    "                temp.append([x]+p)\n",
    "\n",
    "        return temp\n",
    "    \n",
    "print(paths(0))"
   ]
  },
  {
   "cell_type": "code",
   "execution_count": null,
   "id": "8e30612d",
   "metadata": {},
   "outputs": [],
   "source": []
  },
  {
   "cell_type": "code",
   "execution_count": null,
   "id": "c9d2367b",
   "metadata": {},
   "outputs": [],
   "source": []
  },
  {
   "cell_type": "code",
   "execution_count": null,
   "id": "b5786772",
   "metadata": {},
   "outputs": [],
   "source": []
  },
  {
   "cell_type": "code",
   "execution_count": null,
   "id": "ed40f03a",
   "metadata": {},
   "outputs": [],
   "source": []
  },
  {
   "cell_type": "code",
   "execution_count": null,
   "id": "2e1c2ca9",
   "metadata": {},
   "outputs": [],
   "source": []
  }
 ],
 "metadata": {
  "kernelspec": {
   "display_name": "Python 3",
   "language": "python",
   "name": "python3"
  },
  "language_info": {
   "codemirror_mode": {
    "name": "ipython",
    "version": 3
   },
   "file_extension": ".py",
   "mimetype": "text/x-python",
   "name": "python",
   "nbconvert_exporter": "python",
   "pygments_lexer": "ipython3",
   "version": "3.8.8"
  }
 },
 "nbformat": 4,
 "nbformat_minor": 5
}
