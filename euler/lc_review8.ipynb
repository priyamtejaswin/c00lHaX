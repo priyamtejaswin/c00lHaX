{
 "cells": [
  {
   "cell_type": "markdown",
   "id": "7c438edd",
   "metadata": {},
   "source": [
    "1. Longest Increasing Subsequence\n",
    "2. Increasing Triplet Subsequence\n",
    "3. Russian Envelopes\n",
    "4. Maximum Length of Pair Chain\n",
    "5. Number of Longest Increasing Subsequence"
   ]
  },
  {
   "cell_type": "markdown",
   "id": "b230077e",
   "metadata": {},
   "source": [
    "---"
   ]
  },
  {
   "cell_type": "markdown",
   "id": "d6ac29ef",
   "metadata": {},
   "source": [
    "# 1. Longest Increasing Subsequence\n",
    "\n",
    "The goal is to find the length of the LIS.\n",
    "\n",
    "*You have already solved this before.* "
   ]
  },
  {
   "cell_type": "markdown",
   "id": "81dbb9f3",
   "metadata": {},
   "source": [
    "Maintain an array which tracks elements -- your job is to maintain this array in an increasing manner.\n",
    "\n",
    "Given `3, 5, 1, 7`, your array will evolve like so:\n",
    "* `[3]`\n",
    "* `[3, 5]` because `5` is greater than the last element\n",
    "* `[1, 5]` -- this is tricky:\n",
    "    * `1` is clearly smaller than both, but you donot want to discard the current sequence, because `7` appears next.\n",
    "    * Instead, you `swap` the number in the right place -- this works because ANY number smaller than 3, could have been in 3's place, and the size of the LIS would not change.\n",
    "* `[1, 5, 7]` -- again, this is NOT the correct subsequence, but the size is correct."
   ]
  },
  {
   "cell_type": "markdown",
   "id": "b30bc537",
   "metadata": {},
   "source": [
    "Now, say you actually wanted to track the Longest Subsequence, and not just the size?"
   ]
  },
  {
   "cell_type": "markdown",
   "id": "6f5e9216",
   "metadata": {},
   "source": [
    "# 2. Increasing Triplet Subsequence"
   ]
  },
  {
   "cell_type": "markdown",
   "id": "0a98b2c7",
   "metadata": {},
   "source": [
    "An extension of LIS -- does the array contain three indices `i, j, k` such that `array[i] < array[j] < array[k]`."
   ]
  },
  {
   "cell_type": "code",
   "execution_count": 1,
   "id": "208d8e39",
   "metadata": {},
   "outputs": [],
   "source": [
    "class IncreasingTriplet:\n",
    "    def solve(self, nums):\n",
    "        triplet = []\n",
    "        for ix, n in enumerate(nums):\n",
    "            if ix == 0:\n",
    "                triplet.append(n)\n",
    "            else:\n",
    "                if n > triplet[-1]:\n",
    "                    triplet.append(n)\n",
    "                else:\n",
    "                    # It can only have two elements, of which you need to replace\n",
    "                    # the first, or the 2nd.\n",
    "                    if n > triplet[0]:\n",
    "                        triplet[1] = n\n",
    "                    else:\n",
    "                        triplet[0] = n\n",
    "                    \n",
    "            if len(triplet) == 3:\n",
    "                return True\n",
    "            \n",
    "        return False"
   ]
  },
  {
   "cell_type": "code",
   "execution_count": 5,
   "id": "521cdc6c",
   "metadata": {},
   "outputs": [
    {
     "name": "stdout",
     "output_type": "stream",
     "text": [
      "True\n",
      "False\n",
      "True\n"
     ]
    }
   ],
   "source": [
    "o = IncreasingTriplet()\n",
    "print(o.solve([1,2,3,4,5]))\n",
    "print(o.solve([5, 4, 3, 2, 1]))\n",
    "print(o.solve([2,1,5,0,4,6]))"
   ]
  },
  {
   "cell_type": "markdown",
   "id": "a7ad9141",
   "metadata": {},
   "source": [
    "# 3. Russian Envelopes\n",
    "\n",
    "You have an array of envelopes `(w, h)`. Can you find how many envelopes can be enclosed sequentially? An envelope can be enclosed in another if both the height and width are smaller."
   ]
  },
  {
   "cell_type": "markdown",
   "id": "e3c32959",
   "metadata": {},
   "source": [
    "*This seemed like a LIS question, where you could just sort by size and then see which ones fit the next.*\n",
    "\n",
    "But this approach is not straightforward.\n",
    "\n",
    "Let's try a more basic graph-oriented approach:\n",
    "1. Generate an index graph that marks which indices can be *enveloped* into another.\n",
    "2. Run a topological sort and compute the longest path using DFS."
   ]
  },
  {
   "cell_type": "code",
   "execution_count": 13,
   "id": "d6f1a430",
   "metadata": {},
   "outputs": [],
   "source": [
    "from functools import lru_cache\n",
    "\n",
    "class RussianEnvelopeDFS:\n",
    "    def solve(self, envs):\n",
    "        graph = {}\n",
    "        for i in range(len(envs)):\n",
    "            for j in range(len(envs)):\n",
    "                if i != j:\n",
    "                    if envs[i][0] < envs[j][0] and envs[i][1] < envs[j][1]:\n",
    "                        if i in graph:\n",
    "                            graph[i].append(j)\n",
    "                        else:\n",
    "                            graph[i] = [j]\n",
    "                            \n",
    "        @lru_cache(None)\n",
    "        def dfs(n):\n",
    "            if n in graph:\n",
    "                d = 0\n",
    "                for x in graph[n]:\n",
    "                    d = max(d, 1 + dfs(x))\n",
    "                return d\n",
    "            else:\n",
    "                return 1\n",
    "            \n",
    "        return max([dfs(i) for i in range(len(envs))])"
   ]
  },
  {
   "cell_type": "code",
   "execution_count": 16,
   "id": "f1831e41",
   "metadata": {},
   "outputs": [
    {
     "name": "stdout",
     "output_type": "stream",
     "text": [
      "3\n",
      "1\n"
     ]
    }
   ],
   "source": [
    "o = RussianEnvelopeDFS()\n",
    "print(o.solve([[5,4],[6,4],[6,7],[2,3]]))\n",
    "print(o.solve([[1,1],[1,1]]))"
   ]
  },
  {
   "cell_type": "markdown",
   "id": "6e0ad8d3",
   "metadata": {},
   "source": [
    "Unfortunately, this works -- but has a $n^2$ solution.\n",
    "\n",
    "The $nlogn$ solution is a modified LIS -- you sort the envelopes, increasing order width and *decreasing* order height. This way, when you run LIS on the heights, no two envelops of the same width will be clubbed together. \n",
    "\n",
    "Also, this way, LIS on the heights will give you the right solution."
   ]
  },
  {
   "cell_type": "code",
   "execution_count": null,
   "id": "d3d2e89d",
   "metadata": {},
   "outputs": [],
   "source": []
  },
  {
   "cell_type": "code",
   "execution_count": 10,
   "id": "25810d30",
   "metadata": {},
   "outputs": [
    {
     "name": "stdout",
     "output_type": "stream",
     "text": [
      "(5) 4\n",
      "(11) 3\n",
      "(2) 1\n",
      "(7) 4\n",
      "(8) 3\n",
      "(9) 2\n",
      "(3) 4\n",
      "(10) 1\n"
     ]
    }
   ],
   "source": [
    "graph = {\n",
    "    5: [11],\n",
    "    7: [11, 8],\n",
    "    3: [8, 10],\n",
    "    11: [2, 9, 10],\n",
    "    8: [9],\n",
    "    9: [10]\n",
    "}\n",
    "\n",
    "from functools import lru_cache\n",
    "\n",
    "@lru_cache(None)\n",
    "def dfs(n):\n",
    "    if n in graph:\n",
    "        d = 0\n",
    "        for x in graph[n]:\n",
    "            d = max(d, 1 + dfs(x))\n",
    "        return d\n",
    "    else:\n",
    "        return 1\n",
    "    \n",
    "for n in [5, 11, 2, 7, 8, 9, 3, 10]:\n",
    "    print(\"(%d) %d\" % (n, dfs(n)))"
   ]
  },
  {
   "cell_type": "markdown",
   "id": "032350f5",
   "metadata": {},
   "source": [
    "# 4. Maximum Length of Pair Chain"
   ]
  },
  {
   "cell_type": "markdown",
   "id": "6c37d96e",
   "metadata": {},
   "source": [
    "Given pairs `[a, b]` where `a < b`, find the longest chain of pairs `[a b], [c d]` such that `b < c`.\n",
    "\n",
    "```\n",
    "[1, 2] [2, 3] [3, 4]\n",
    "\n",
    "\n",
    "[1, 2] [3, 2] [3, 4]\n",
    "2, 2, 4\n",
    "\n",
    "\n",
    "VALID\n",
    "[1, 2] [3, 5] [6, 7] ==> [1, 2] [5, 3] [7, 6]\n",
    "\n",
    "INVALID\n",
    "[1, 2] [1, 3] [4, 5] ==> [1, 2] [3, 1] [4, 5]\n",
    "```"
   ]
  },
  {
   "cell_type": "markdown",
   "id": "342db85a",
   "metadata": {},
   "source": [
    "One solution is to exploit the LIS algo. By definition, for a valid LIS, `b` must be less than `c` AND `d`.\n",
    "\n",
    "So you first sort the pairs, then you reverse every second pair, and run LIS on the 1st index numbers."
   ]
  },
  {
   "cell_type": "code",
   "execution_count": 27,
   "id": "83011987",
   "metadata": {},
   "outputs": [],
   "source": [
    "class MaxLenPairLIS:\n",
    "    def solve(self, pairs):\n",
    "        pairs.sort()\n",
    "        print(pairs)\n",
    "        for i, p in enumerate(pairs):\n",
    "            if i%2 == 0:\n",
    "                continue\n",
    "            p[0], p[1] = p[1], p[0]\n",
    "            \n",
    "        lis = [pairs[0][1]]\n",
    "        for i in range(1, len(pairs)):\n",
    "            v = pairs[i][1]\n",
    "            if v > lis[-1]:\n",
    "                lis.append(v)\n",
    "            else:\n",
    "                start = 0\n",
    "                end = len(lis)-1\n",
    "                while start <= end:\n",
    "                    mid = start + (end - start)//2\n",
    "                    if lis[mid] < v:\n",
    "                        start = mid+1\n",
    "                    else:\n",
    "                        end = mid - 1\n",
    "                        \n",
    "                lis[start] = v\n",
    "                \n",
    "        return len(lis)"
   ]
  },
  {
   "cell_type": "code",
   "execution_count": 28,
   "id": "73fddfe5",
   "metadata": {},
   "outputs": [
    {
     "name": "stdout",
     "output_type": "stream",
     "text": [
      "[[1, 2], [2, 3], [3, 4]]\n",
      "2\n",
      "[[1, 2], [4, 5], [7, 8]]\n",
      "3\n",
      "[[-10, -8], [-6, -4], [-5, 0], [-4, 7], [1, 7], [6, 10], [8, 9], [9, 10]]\n",
      "5\n"
     ]
    }
   ],
   "source": [
    "o = MaxLenPairLIS()\n",
    "print(o.solve([[1,2],[2,3],[3,4]]))\n",
    "print(o.solve([[1,2],[7,8],[4,5]]))\n",
    "print(o.solve([[-10,-8],[8,9],[-5,0],[6,10],[-6,-4],[1,7],[9,10],[-4,7]]))"
   ]
  },
  {
   "cell_type": "markdown",
   "id": "e8eaa245",
   "metadata": {},
   "source": [
    "This does not return the right solution.\n",
    "\n",
    "The other approach is to construct a graph, and run DFS for longest path using memo."
   ]
  },
  {
   "cell_type": "code",
   "execution_count": 29,
   "id": "1291c5e9",
   "metadata": {},
   "outputs": [],
   "source": [
    "from functools import lru_cache\n",
    "\n",
    "class MaxLenPairDFS:\n",
    "    def solve(self, pairs):\n",
    "        graph = {}\n",
    "        for i in range(len(pairs)):\n",
    "            for j in range(len(pairs)):\n",
    "                if i != j:\n",
    "                    if pairs[i][1] < pairs[j][0]:\n",
    "                        if i in graph:\n",
    "                            graph[i].append(j)\n",
    "                        else:\n",
    "                            graph[i] = [j]\n",
    "                            \n",
    "        @lru_cache(None)\n",
    "        def dfs(i):\n",
    "            if i not in graph:\n",
    "                return 1\n",
    "            else:\n",
    "                d = 0\n",
    "                for n in graph[i]:\n",
    "                    d = max(d, 1 + dfs(n))\n",
    "                return d\n",
    "            \n",
    "        return max([dfs(x) for x in graph.keys()] + [1])"
   ]
  },
  {
   "cell_type": "code",
   "execution_count": 30,
   "id": "8edec992",
   "metadata": {},
   "outputs": [
    {
     "name": "stdout",
     "output_type": "stream",
     "text": [
      "2\n",
      "3\n",
      "4\n"
     ]
    }
   ],
   "source": [
    "o = MaxLenPairDFS()\n",
    "print(o.solve([[1,2],[2,3],[3,4]]))\n",
    "print(o.solve([[1,2],[7,8],[4,5]]))\n",
    "print(o.solve([[-10,-8],[8,9],[-5,0],[6,10],[-6,-4],[1,7],[9,10],[-4,7]]))"
   ]
  },
  {
   "cell_type": "markdown",
   "id": "5751abe4",
   "metadata": {},
   "source": [
    "This solution works, but can be improved. There is a greedy solution, like LIS.\n",
    "\n",
    "Say we sort, then greedily build the array. If you find a valid extension, then great. Otherwise\n",
    "* Check which pair between the two has a smaller 2nd element -- this maximizes your chances of adding more elements in the future!"
   ]
  },
  {
   "cell_type": "code",
   "execution_count": 33,
   "id": "c0ed085c",
   "metadata": {},
   "outputs": [
    {
     "data": {
      "text/plain": [
       "[[-10, -8], [-6, -4], [-5, 0], [-4, 7], [1, 7], [6, 10], [8, 9], [9, 10]]"
      ]
     },
     "execution_count": 33,
     "metadata": {},
     "output_type": "execute_result"
    }
   ],
   "source": [
    "pairs = [[-10,-8],[8,9],[-5,0],[6,10],[-6,-4],[1,7],[9,10],[-4,7]]\n",
    "pairs.sort()\n",
    "pairs"
   ]
  },
  {
   "cell_type": "code",
   "execution_count": 34,
   "id": "26cdcdae",
   "metadata": {},
   "outputs": [],
   "source": [
    "class MaxLenPairGreedy:\n",
    "    def solve(self, pairs):\n",
    "        pairs.sort(key=lambda x: x[0])\n",
    "        end = pairs[0][1]\n",
    "        size = 1\n",
    "        for x, y in pairs[1:]:\n",
    "            if x > end:\n",
    "                size += 1\n",
    "                end = y\n",
    "            else:\n",
    "                if y < end:\n",
    "                    end = y\n",
    "                    \n",
    "        return size"
   ]
  },
  {
   "cell_type": "code",
   "execution_count": 35,
   "id": "fa399ff9",
   "metadata": {},
   "outputs": [
    {
     "name": "stdout",
     "output_type": "stream",
     "text": [
      "2\n",
      "3\n",
      "4\n"
     ]
    }
   ],
   "source": [
    "o = MaxLenPairGreedy()\n",
    "print(o.solve([[1,2],[2,3],[3,4]]))\n",
    "print(o.solve([[1,2],[7,8],[4,5]]))\n",
    "print(o.solve([[-10,-8],[8,9],[-5,0],[6,10],[-6,-4],[1,7],[9,10],[-4,7]]))"
   ]
  },
  {
   "cell_type": "markdown",
   "id": "d8c7bbcd",
   "metadata": {},
   "source": [
    "# 5. Number of Longest Increasing Subsequence"
   ]
  },
  {
   "cell_type": "markdown",
   "id": "8983b77e",
   "metadata": {},
   "source": [
    "LIS, but find how many of that size you can make.\n",
    "\n",
    "Basic approach:\n",
    "1. Make graph, which always goes to future index.\n",
    "2. Run DFS, and for each return, increment lenpath dict by 1"
   ]
  },
  {
   "cell_type": "code",
   "execution_count": 87,
   "id": "d335d89d",
   "metadata": {},
   "outputs": [],
   "source": [
    "from collections import defaultdict\n",
    "from functools import lru_cache\n",
    "\n",
    "class NumberOfLIS:\n",
    "    def solve(self, nums):\n",
    "        graph = {}\n",
    "        for i in range(len(nums)):\n",
    "            for j in range(i+1, len(nums)):\n",
    "                if nums[i] < nums[j]:\n",
    "                    if i in graph:\n",
    "                        graph[i].append(j)\n",
    "                    else:\n",
    "                        graph[i] = [j]\n",
    "                    \n",
    "        @lru_cache(None)\n",
    "        def dfs(x):\n",
    "            if x not in graph:\n",
    "                return 1\n",
    "            else:\n",
    "                d = 0\n",
    "                for n in graph[x]:\n",
    "                    temp = 1+dfs(n)\n",
    "                    d = max(d, temp)\n",
    "                \n",
    "                return d\n",
    "            \n",
    "        largest = max([dfs(k) for k in graph.keys()] + [1])\n",
    "        if largest == 1:\n",
    "            return len(nums)\n",
    "        \n",
    "        @lru_cache(None)\n",
    "        def numlis(x):\n",
    "            \"\"\"\n",
    "            Returns the number of paths which equal\n",
    "            to the LIS from this index.\n",
    "            \"\"\"\n",
    "            lis = dfs(x)\n",
    "            if lis == 1:\n",
    "                return 1\n",
    "            \n",
    "            count = 0\n",
    "            for n in graph[x]:\n",
    "                if dfs(n)+1 == lis:\n",
    "                    count += numlis(n)\n",
    "                    \n",
    "            return count\n",
    "        \n",
    "        return sum([numlis(k) for k in graph.keys() if dfs(k) == largest])"
   ]
  },
  {
   "cell_type": "code",
   "execution_count": 89,
   "id": "09aa1ef5",
   "metadata": {},
   "outputs": [
    {
     "name": "stdout",
     "output_type": "stream",
     "text": [
      "2\n",
      "6\n"
     ]
    }
   ],
   "source": [
    "o = NumberOfLIS()\n",
    "print(o.solve([1, 3, 5, 4, 7]))\n",
    "print(o.solve([1,3,5,4,7,10,8,2,8]))"
   ]
  },
  {
   "cell_type": "code",
   "execution_count": 67,
   "id": "fb7205e3",
   "metadata": {},
   "outputs": [
    {
     "name": "stdout",
     "output_type": "stream",
     "text": [
      "[[0, 1, 2, 4], [0, 1, 3, 4], [0, 1, 4], [0, 2, 4], [0, 3, 4], [0, 4]]\n"
     ]
    }
   ],
   "source": [
    "graph = {0: [1, 2, 3, 4], 1: [2, 3, 4], 2: [4], 3: [4]}\n",
    "\n",
    "@lru_cache(None)\n",
    "def paths(x):\n",
    "    \"\"\"\n",
    "    Return all paths starting from a node.\n",
    "    \"\"\"\n",
    "    if x not in graph:\n",
    "        return [[x]]\n",
    "    else:\n",
    "        temp = []\n",
    "        for n in graph[x]:\n",
    "            for p in paths(n):\n",
    "                temp.append([x]+p)\n",
    "\n",
    "        return temp\n",
    "    \n",
    "print(paths(0))"
   ]
  },
  {
   "cell_type": "markdown",
   "id": "bfb0594d",
   "metadata": {},
   "source": [
    "# 5 alt. Number of LIS in `nlogn` time."
   ]
  },
  {
   "cell_type": "code",
   "execution_count": 97,
   "id": "27055d6b",
   "metadata": {},
   "outputs": [],
   "source": [
    "from bisect import bisect_left\n",
    "\n",
    "class NumLIS:\n",
    "    def solve(self, nums):\n",
    "        lis = [nums[0]]\n",
    "        counts = [[1]]\n",
    "        for i in range(1, len(nums)):\n",
    "            n = nums[i]\n",
    "            \n",
    "            # Find insertion position.\n",
    "            pos = bisect_left(lis, n)\n",
    "            # Updated LIS tracker.\n",
    "            if pos == len(lis):\n",
    "                lis.append(n)\n",
    "            else:\n",
    "                lis[pos] = n\n",
    "                \n",
    "            \n",
    "                \n",
    "        # return lis"
   ]
  },
  {
   "cell_type": "code",
   "execution_count": 100,
   "id": "444b1d70",
   "metadata": {},
   "outputs": [
    {
     "data": {
      "text/plain": [
       "[1, 2, 4]"
      ]
     },
     "execution_count": 100,
     "metadata": {},
     "output_type": "execute_result"
    }
   ],
   "source": [
    "o = NumLIS()\n",
    "o.solve([1, 3, 2, 7, 6, 4])"
   ]
  },
  {
   "cell_type": "markdown",
   "id": "ee0c23e7",
   "metadata": {},
   "source": [
    "1 | [1]\n",
    "1 5 | [1] [1]\n",
    "1 2 | [1] [1, 1] => [1] [1, 2]\n",
    "1 2 7 | [1] [1 2] [2]\n",
    "1 2 6 | [1] [1 2] [2 2] => [1] [1 2] [2 4]"
   ]
  },
  {
   "cell_type": "markdown",
   "id": "10a9c169",
   "metadata": {},
   "source": [
    "# 6. Minimum ASCII Delete Sum for Two Strings\n",
    "\n",
    "Given two strings, find the minimum number of characters to delete from both to make the strings equal. Order of letters cannot be changed."
   ]
  },
  {
   "cell_type": "markdown",
   "id": "14aab75d",
   "metadata": {},
   "source": [
    "```\n",
    "sea\n",
    "eat\n",
    "\n",
    "Delete s from the first string, and t from the second string.\n",
    "```"
   ]
  },
  {
   "cell_type": "code",
   "execution_count": 4,
   "id": "cdb2f56d",
   "metadata": {},
   "outputs": [],
   "source": [
    "from functools import lru_cache\n",
    "\n",
    "class MinAscii:\n",
    "    def solve(self, first, second):\n",
    "        \"\"\"\n",
    "        At some index `i` for first and `j` for second,\n",
    "            if chars match, then you don't lose any points\n",
    "            if they don't then you either lose the char from the first, or the second.\n",
    "            You pick the one that has the minimum cost.\n",
    "            \n",
    "        If you reach the end of either string, then you lose all chars from the other.\n",
    "        \"\"\"\n",
    "        \n",
    "        @lru_cache(None)\n",
    "        def minsum(i, j):\n",
    "            if i == len(first):\n",
    "                return sum([ord(x) for x in second[j:]])\n",
    "            elif j == len(second):\n",
    "                return sum([ord(x) for x in first[i:]])\n",
    "            else:\n",
    "                if first[i] == second[j]:\n",
    "                    return minsum(i+1, j+1)\n",
    "                else:\n",
    "                    return min(ord(first[i]) + minsum(i+1, j), ord(second[j]) + minsum(i, j+1))\n",
    "                \n",
    "        return minsum(0, 0)"
   ]
  },
  {
   "cell_type": "code",
   "execution_count": 5,
   "id": "553d333e",
   "metadata": {},
   "outputs": [
    {
     "data": {
      "text/plain": [
       "231"
      ]
     },
     "execution_count": 5,
     "metadata": {},
     "output_type": "execute_result"
    }
   ],
   "source": [
    "o = MinAscii()\n",
    "o.solve('sea', 'eat')"
   ]
  },
  {
   "cell_type": "markdown",
   "id": "7846fdbf",
   "metadata": {},
   "source": [
    "# How would you convert this to BOTTOM UP DP solution???\n",
    "\n",
    "https://leetcode.com/problems/minimum-ascii-delete-sum-for-two-strings/discuss/1717115/Backtracking-greater-Dynamic-Programming\n",
    "\n",
    "Check this example, with the figures! Then try this for other problems!"
   ]
  },
  {
   "cell_type": "markdown",
   "id": "eb19236a",
   "metadata": {},
   "source": [
    "Priyam, your solution is a top-down DP:\n",
    "1. You start at `0, 0` and then start moving deeper, recursively.\n",
    "2. Eventually, you hit the basecase, which is when either string hits its end.\n",
    "    * When this happens, you return the `sum([ord(x) for x in remaining_string])`\n",
    "3. For every other case, you have two scenarios:\n",
    "    * The chars match, in which case you proceed to the next chars of BOTH strings.\n",
    "    * The chars don't match:\n",
    "        * Now you can delete the first string char\n",
    "        * Or you can delete the second string char\n",
    "            * Since you don't know, you will try to explore both paths, and take the `min`\n",
    "4. `cache` ensures that each unique pair of `i, j` is visited only once.\n",
    "\n",
    "**What's wrong with this approach?** *Search space explosion.*"
   ]
  },
  {
   "cell_type": "markdown",
   "id": "5db31c5f",
   "metadata": {},
   "source": [
    "**How do you make this BOTTOM-UP??**\n",
    "\n",
    "Start backwards, from the basecase.\n",
    "1. Once either string hits the end, you sum over the other one.\n",
    "2. From then you work backwards:\n",
    "    * At any `i, j`, if chars match, set `dp[i, j] = dp[i+1, j+1]`\n",
    "    * If chars don't match, set `dp[i, j] = min(ord(i)+dp[i+1, j], ord(j)+dp[i, j+1])`"
   ]
  },
  {
   "cell_type": "markdown",
   "id": "a8a157c5",
   "metadata": {},
   "source": [
    "# 7. Edit Distance\n",
    "\n",
    "Given two strings, find the minimum number of edits between them:\n",
    "* insert\n",
    "* delete\n",
    "* replace"
   ]
  },
  {
   "cell_type": "code",
   "execution_count": 16,
   "id": "7eab32b4",
   "metadata": {},
   "outputs": [],
   "source": [
    "from functools import lru_cache\n",
    "\n",
    "class EditDist:\n",
    "    def solve(self, first, second):\n",
    "        @lru_cache(None)\n",
    "        def edits(i, j):\n",
    "            if i == len(first):\n",
    "                return len(second) - j\n",
    "            elif j == len(second):\n",
    "                return len(first) - i\n",
    "            else:\n",
    "                if first[i] == second[j]:\n",
    "                    return edits(i+1, j+1)\n",
    "                else:\n",
    "                    replace = edits(i+1, j+1)\n",
    "                    delete = edits(i+1, j)\n",
    "                    \n",
    "                    d_2 = edits(i, j+1)\n",
    "                    \n",
    "                    return 1 + min(replace, delete, d_2)\n",
    "                \n",
    "        return edits(0, 0)"
   ]
  },
  {
   "cell_type": "code",
   "execution_count": 17,
   "id": "0c77ab89",
   "metadata": {},
   "outputs": [
    {
     "data": {
      "text/plain": [
       "5"
      ]
     },
     "execution_count": 17,
     "metadata": {},
     "output_type": "execute_result"
    }
   ],
   "source": [
    "o = EditDist()\n",
    "o.solve('intention', 'execution')"
   ]
  },
  {
   "cell_type": "markdown",
   "id": "3c531ad7",
   "metadata": {},
   "source": [
    "# 8. Minimum Number of Removals to Make Mountain Array\n",
    "\n",
    "Mountain array: for some index `i` in array\n",
    "```\n",
    "a[0] < a[1] < a[2] < ... < a[i] > a[i+1] > a[i+2] > ... > a[n-1]\n",
    "```"
   ]
  },
  {
   "cell_type": "markdown",
   "id": "c3900868",
   "metadata": {},
   "source": [
    "7 1 2 3 4 3 2 0\n",
    "\n",
    "l2r\n",
    "7\n",
    "1\n",
    "1 2\n",
    "1 2 3\n",
    "1 2 3 4\n",
    "1 2 3 4\n",
    "1 2 3 4\n",
    "0 2 3 4\n",
    "\n",
    "r2l\n",
    "0\n",
    "0 2\n",
    "0 2 3\n",
    "0 2 3 4\n",
    "0 2 3 4\n",
    "0 1 3 4 7"
   ]
  },
  {
   "cell_type": "code",
   "execution_count": null,
   "id": "88ebf550",
   "metadata": {},
   "outputs": [],
   "source": [
    "class MinRemovals:\n",
    "    "
   ]
  },
  {
   "cell_type": "code",
   "execution_count": 18,
   "id": "26469503",
   "metadata": {},
   "outputs": [],
   "source": [
    "import numpy as np"
   ]
  },
  {
   "cell_type": "code",
   "execution_count": null,
   "id": "e99c7f90",
   "metadata": {},
   "outputs": [],
   "source": []
  }
 ],
 "metadata": {
  "kernelspec": {
   "display_name": "Python 3",
   "language": "python",
   "name": "python3"
  },
  "language_info": {
   "codemirror_mode": {
    "name": "ipython",
    "version": 3
   },
   "file_extension": ".py",
   "mimetype": "text/x-python",
   "name": "python",
   "nbconvert_exporter": "python",
   "pygments_lexer": "ipython3",
   "version": "3.8.8"
  }
 },
 "nbformat": 4,
 "nbformat_minor": 5
}
