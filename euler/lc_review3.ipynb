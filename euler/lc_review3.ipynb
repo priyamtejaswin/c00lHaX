{
 "cells": [
  {
   "cell_type": "markdown",
   "id": "7def1c06",
   "metadata": {},
   "source": [
    "**26th June 2021 to 1st July 2021**\n",
    "\n",
    "# Problems covered\n",
    "\n",
    "1. Check if Regular Expression matches.\n",
    "2. Move zeros while maintaining order.\n",
    "3. Check which words are present in the grid.\n",
    "4. TwoSum; given array of numbers, and a target, return indices of two numbers which add up to the target.\n",
    "5. Generate all unique non-empty letter combinations for a string.\n",
    "6. Given a number of parenthesis pairs, find all valid arrangements."
   ]
  },
  {
   "cell_type": "markdown",
   "id": "d2a9cd97",
   "metadata": {},
   "source": [
    "## 1. Check if Regular Expression matches.\n",
    "\n",
    "You only have two *symbols*:\n",
    "* `.` matches to any char\n",
    "* `x*` matches to 0 or more times for `x`\n",
    "* `.*` matches to 0 or more times for any char\n",
    "\n",
    "Given a string `aabc` and a pattern `a.*`, verify if the string matches the *entire* pattern."
   ]
  },
  {
   "cell_type": "code",
   "execution_count": 27,
   "id": "d7205d2b",
   "metadata": {},
   "outputs": [],
   "source": [
    "from string import ascii_lowercase\n",
    "from functools import lru_cache\n",
    "\n",
    "\n",
    "class RegexpMatches:\n",
    "    def solve(self, string, p):\n",
    "        if len(string) == 0:\n",
    "            return len(p) == 0 or (len(p)==2 and p[-1]=='*')\n",
    "        \n",
    "        if len(p) == 0:\n",
    "            return False\n",
    "        \n",
    "        letters = set(ascii_lowercase)\n",
    "        \n",
    "        pattern = []\n",
    "        # Reverse over `p` to identify pattern blocks.\n",
    "        i = len(p)-1\n",
    "        while i >= 0:\n",
    "            if p[i] in letters or p[i] == '.':\n",
    "                pattern.append(p[i])\n",
    "                i -= 1\n",
    "            else:\n",
    "                pattern.append(p[i-1:i+1])\n",
    "                i -= 2\n",
    "                \n",
    "        pattern = pattern[::-1]\n",
    "        if len(string) < len([x for x in pattern if x in letters or x == '.']):\n",
    "            return False\n",
    "        \n",
    "        # print(pattern)\n",
    "        \n",
    "        @lru_cache(maxsize=None)\n",
    "        def match(i, j):\n",
    "            \"\"\"\n",
    "            i: String\n",
    "            j: Pattern\n",
    "            \"\"\"\n",
    "            if i == len(string) and j == len(pattern):\n",
    "                return True\n",
    "            else:\n",
    "                if i < len(string) and j < len(pattern):\n",
    "                    if pattern[j] == '.':\n",
    "                        return match(i+1, j+1)\n",
    "                    elif pattern[j] in letters:\n",
    "                        return pattern[j] == string[i] and match(i+1, j+1)\n",
    "                    else:\n",
    "                        # You have x* or .*\n",
    "                        char = pattern[j][0]\n",
    "                        # Try skipping.\n",
    "                        skipped = match(i, j+1)\n",
    "                        if skipped:\n",
    "                            return True\n",
    "                        else:\n",
    "                            if char == '.':\n",
    "                                return match(i+1, j)\n",
    "                            else:\n",
    "                                return char == string[i] and match(i+1, j)\n",
    "                            \n",
    "                elif i < len(string):\n",
    "                    # You are out of patterns.\n",
    "                    return False  # You cannot add anything to the string.\n",
    "                \n",
    "                else:\n",
    "                    # You are out of string.\n",
    "                    if pattern[j] in letters or pattern[j] == '.':\n",
    "                        return False\n",
    "                    else:\n",
    "                        return match(i, j+1)\n",
    "                    \n",
    "        return match(0, 0)"
   ]
  },
  {
   "cell_type": "code",
   "execution_count": 28,
   "id": "c4ea41ba",
   "metadata": {},
   "outputs": [
    {
     "data": {
      "text/plain": [
       "True"
      ]
     },
     "execution_count": 28,
     "metadata": {},
     "output_type": "execute_result"
    }
   ],
   "source": [
    "o = RegexpMatches()\n",
    "o.solve('mississippi', 'mis*i.*p*.')"
   ]
  },
  {
   "cell_type": "markdown",
   "id": "a929b86c",
   "metadata": {},
   "source": [
    "## 2. Move zeros while maintaining order."
   ]
  },
  {
   "cell_type": "markdown",
   "id": "9cac8da9",
   "metadata": {},
   "source": [
    "Input : `[1, 5, -1, 7, 0, 8, 2, 0, 0]`\n",
    "\n",
    "Output: `[1, 5, -1, 7, 8, 2, 0, 0, 0]`\n",
    "\n",
    "Do it in-place and do not use extra memory!"
   ]
  },
  {
   "cell_type": "code",
   "execution_count": 29,
   "id": "2d7cce80",
   "metadata": {},
   "outputs": [],
   "source": [
    "class MoveZeros:\n",
    "    def solve(self, array):\n",
    "        if len(array) <= 1:\n",
    "            return array\n",
    "        \n",
    "        non = 0\n",
    "        z = 0\n",
    "        \n",
    "        while non < len(array):\n",
    "            if z == non:\n",
    "                non += 1\n",
    "                \n",
    "            if array[non] == 0:\n",
    "                non += 1\n",
    "                \n",
    "            if array[z] != 0:\n",
    "                z += 1\n",
    "            \n",
    "            if z < non and z < len(array) and non < len(array) and array[z] == 0 and array[non] != 0:\n",
    "                array[z], array[non] = array[non], array[z]"
   ]
  },
  {
   "cell_type": "code",
   "execution_count": 31,
   "id": "24581c35",
   "metadata": {},
   "outputs": [
    {
     "data": {
      "text/plain": [
       "[1, 5, -1, 7, 8, 2, 0, 0, 0]"
      ]
     },
     "execution_count": 31,
     "metadata": {},
     "output_type": "execute_result"
    }
   ],
   "source": [
    "array = [1, 5, -1, 7, 0, 8, 2, 0, 0]\n",
    "o = MoveZeros()\n",
    "o.solve(array)\n",
    "array"
   ]
  },
  {
   "cell_type": "markdown",
   "id": "5a97bbab",
   "metadata": {},
   "source": [
    "## 3. Check which words are present in the grid.\n",
    "\n",
    "You are given a grid of characters, and a list of words.\n",
    "\n",
    "Return which words can be constructed from the grid.\n",
    "\n",
    "You are permitted to move horizontally and vertically (single block only), and each block can only be used at most *once* for a word.\n",
    "\n",
    "**OPTIMIZATION**\n",
    "\n",
    "Most important thing is that with the TRIE, you don't have to search for each word from scratch.\n",
    "\n",
    "Also, because you keep deleting nodes once you find the leaf (i.e. `#`), over time the search space in the TRIE would decrease.\n",
    "\n",
    "But the time complexity: $O(B \\times 3^L)$ is an upper-bound: B ==> number of cells in grid; L ==> Max word length."
   ]
  },
  {
   "cell_type": "code",
   "execution_count": 45,
   "id": "10fcd316",
   "metadata": {},
   "outputs": [],
   "source": [
    "class CheckWordsGrid:\n",
    "    def solve(self, grid, words):\n",
    "        \"\"\"\n",
    "        H E L L W\n",
    "        E L L O B\n",
    "        S E P V C\n",
    "        \n",
    "        {HELLO, ELLO, SELL, VOW}\n",
    "        \"\"\"\n",
    "        \n",
    "        rows = len(grid)\n",
    "        if rows == 0:\n",
    "            return []\n",
    "        cols = len(grid[0])\n",
    "        if cols == 0:\n",
    "            return []\n",
    "        \n",
    "        if len(words) == 0:\n",
    "            return []\n",
    "        \n",
    "        ans = []\n",
    "        \n",
    "        trie = {}\n",
    "        for w in words:\n",
    "            node = trie\n",
    "            for char in w:\n",
    "                if char in node:\n",
    "                    node = node[char]\n",
    "                else:\n",
    "                    node[char] = {}\n",
    "                    node = node[char]\n",
    "                    \n",
    "            node['#'] = w\n",
    "            \n",
    "        # print(trie)\n",
    "        \n",
    "        def search(i, j, node):\n",
    "            current = grid[i][j]\n",
    "            # print(current, node)\n",
    "            if '#' in node[current]:\n",
    "                ans.append(node[current]['#'])\n",
    "                del node[current]['#']\n",
    "                \n",
    "            # This already exists in the current node.\n",
    "            # Mark this location as used.\n",
    "            grid[i][j] = None\n",
    "            \n",
    "            for x, y in [(i+1, j), (i-1, j), (i, j+1), (i, j-1)]:\n",
    "                if x >= 0 and x < rows and y >= 0 and y < cols and\\\n",
    "                grid[x][y] is not None and grid[x][y] in node[current]:\n",
    "                    search(x, y, node[current])\n",
    "                    \n",
    "            grid[i][j] = current\n",
    "            if not node[current]:\n",
    "                del node[current]\n",
    "                    \n",
    "        \n",
    "        for i in range(rows):\n",
    "            for j in range(cols):\n",
    "                char = grid[i][j]\n",
    "                if char in trie:\n",
    "                    search(i, j, trie)\n",
    "                    \n",
    "        return ans"
   ]
  },
  {
   "cell_type": "code",
   "execution_count": 46,
   "id": "59f1a3cc",
   "metadata": {},
   "outputs": [
    {
     "data": {
      "text/plain": [
       "['HELLO', 'ELE', 'ELLO', 'SELL']"
      ]
     },
     "execution_count": 46,
     "metadata": {},
     "output_type": "execute_result"
    }
   ],
   "source": [
    "\"\"\"\n",
    "        H E L L W\n",
    "        E L L O B\n",
    "        S E P V C\n",
    "        \n",
    "        {HELLO, ELLO, SELL, VOW}\n",
    "\"\"\"\n",
    "\n",
    "o = CheckWordsGrid()\n",
    "o.solve(\n",
    "    [\n",
    "        list('HELLW'),\n",
    "        list('ELLOB'),\n",
    "        list('SEPVC')\n",
    "    ],\n",
    "    ['HELLO', 'ELLO', 'ELE', 'SELL', 'VOW']\n",
    ")"
   ]
  },
  {
   "cell_type": "markdown",
   "id": "3aec0ee4",
   "metadata": {},
   "source": [
    "## 4. TwoSum; given array of numbers, and a target, return indices of two numbers which add up to the target."
   ]
  },
  {
   "cell_type": "markdown",
   "id": "ac5ed1f0",
   "metadata": {},
   "source": [
    "```\n",
    "input: [2, 10, 7, 15]\n",
    "target: 9\n",
    "```\n",
    "\n",
    "How?\n",
    "* Can you assume list is sorted?\n",
    "    * If yes, then you can use two pointers (first, last)\n",
    "    * If no, then sort the list, while tracking indices, and then run two-pointers\n",
    "\n"
   ]
  },
  {
   "cell_type": "code",
   "execution_count": 54,
   "id": "31e26d04",
   "metadata": {},
   "outputs": [],
   "source": [
    "class TwoSum:\n",
    "    def solve(self, array, target):\n",
    "        positions = [(array[i], i) for i in range(len(array))]\n",
    "        positions.sort()\n",
    "        \n",
    "        i = 0\n",
    "        j = len(positions)-1\n",
    "        while i < j:\n",
    "            a = positions[i][0]\n",
    "            b = positions[j][0]\n",
    "            total = a + b\n",
    "            \n",
    "            if total == target:\n",
    "                return positions[i][1], positions[j][1]\n",
    "            elif total > target:\n",
    "                j -= 1\n",
    "            else:\n",
    "                i += 1\n",
    "                \n",
    "        return None\n",
    "    \n",
    "    def linear(self, array, target):\n",
    "        complement = {}\n",
    "        for ix, n in enumerate(array):\n",
    "            diff = target - n\n",
    "            if diff in complement:\n",
    "                return ix, complement[diff]\n",
    "            else:\n",
    "                complement[n] = ix\n",
    "                \n",
    "        return None"
   ]
  },
  {
   "cell_type": "code",
   "execution_count": 56,
   "id": "d224003d",
   "metadata": {},
   "outputs": [],
   "source": [
    "o = TwoSum()\n",
    "assert o.solve([2, 10, 7, 15], 9) == (0, 2) or o.solve([2, 10, 7, 15], 9) == (2, 0)\n",
    "assert o.linear([2, 10, 7, 15], 9) == (0, 2) or o.linear([2, 10, 7, 15], 9) == (2, 0)"
   ]
  },
  {
   "cell_type": "markdown",
   "id": "7f4004c9",
   "metadata": {},
   "source": [
    "## 5. Generate all unique non-empty letter combinations for a string.\n",
    "\n",
    "```\n",
    "input: \"AABC\"\n",
    "output: [\n",
    "A, B, C,\n",
    "AA, AB, AC, BC,\n",
    "AAB, AAC, ABC\n",
    "]\n",
    "```\n",
    "\n",
    "**Time Complexity**: $\\sum_{k \\in [1, n]} k \\times nCk$\n",
    "\n",
    "The summation without the $k$ multiplier will be $2^n$. So the time complexity is more than that.\n",
    "\n",
    "We also know that the recursive relation is $T(n) = T(n-1) \\times (n-1)$, which is less than $n^n$.\n",
    "\n",
    "\n",
    "**Space Complexity**: Set for holding {$nCk \\times k$} elements, where $k \\in [1, n]$"
   ]
  },
  {
   "cell_type": "code",
   "execution_count": 63,
   "id": "3a367c18",
   "metadata": {},
   "outputs": [],
   "source": [
    "class GenerateUnique:\n",
    "    def solve(self, string):\n",
    "        \"\"\"\n",
    "        AABC\n",
    "        \n",
    "        Start from each position: (0, 1, 2, 3)\n",
    "            Run for loop that goes from start, to end.\n",
    "                THIS WILL NOT WORK => Only selects contiguous substrings; AC will never be formed.\n",
    "                \n",
    "        Start from 0\n",
    "            Make a temp string by adding next character to this index.\n",
    "                Then treat this as the base, and recursively call for the next position.\n",
    "                \n",
    "        0: \"A\" => A+A A+B A+C\n",
    "                   |________ AA => AA+B, AA+C\n",
    "                                    |________ AAB => AAB + C\n",
    "                \n",
    "        \"\"\"\n",
    "        unique = set()\n",
    "        \n",
    "        def generate(start, base):\n",
    "            for i in range(start, len(string)):\n",
    "                temp = base+string[i]\n",
    "                unique.add(temp)\n",
    "                generate(i+1, temp)\n",
    "                \n",
    "        generate(0, '')\n",
    "        \n",
    "        return unique"
   ]
  },
  {
   "cell_type": "code",
   "execution_count": 64,
   "id": "410ceb4e",
   "metadata": {},
   "outputs": [
    {
     "data": {
      "text/plain": [
       "{'A', 'AA', 'AAB', 'AABC', 'AAC', 'AB', 'ABC', 'AC', 'B', 'BC', 'C'}"
      ]
     },
     "execution_count": 64,
     "metadata": {},
     "output_type": "execute_result"
    }
   ],
   "source": [
    "o = GenerateUnique()\n",
    "o.solve('AABC')"
   ]
  },
  {
   "cell_type": "code",
   "execution_count": 72,
   "id": "d2f216fe",
   "metadata": {},
   "outputs": [],
   "source": [
    "class ValidParenthesis:\n",
    "    def solve(self, n):\n",
    "        self.ans = 0\n",
    "        \n",
    "        def check(temp):\n",
    "            close = 0\n",
    "            for char in temp:\n",
    "                if close > 0:\n",
    "                    return False\n",
    "                \n",
    "                if char == ')':\n",
    "                    close += 1\n",
    "                else:\n",
    "                    close -= 1\n",
    "                    \n",
    "            return close == 0\n",
    "        \n",
    "        def generate(temp):\n",
    "            if len(temp) == 2*n:\n",
    "                if check(temp):\n",
    "                    self.ans += 1\n",
    "                    \n",
    "            else:\n",
    "                temp.append('(')\n",
    "                generate(temp)\n",
    "                temp.pop()\n",
    "                \n",
    "                temp.append(')')\n",
    "                generate(temp)\n",
    "                temp.pop()\n",
    "                \n",
    "        generate([])\n",
    "        return self.ans"
   ]
  },
  {
   "cell_type": "code",
   "execution_count": 73,
   "id": "6581766f",
   "metadata": {},
   "outputs": [
    {
     "data": {
      "text/plain": [
       "5"
      ]
     },
     "execution_count": 73,
     "metadata": {},
     "output_type": "execute_result"
    }
   ],
   "source": [
    "o = ValidParenthesis()\n",
    "o.solve(3)"
   ]
  },
  {
   "cell_type": "code",
   "execution_count": null,
   "id": "cf0bba63",
   "metadata": {},
   "outputs": [],
   "source": []
  },
  {
   "cell_type": "code",
   "execution_count": null,
   "id": "7240abda",
   "metadata": {},
   "outputs": [],
   "source": []
  }
 ],
 "metadata": {
  "kernelspec": {
   "display_name": "Python 3",
   "language": "python",
   "name": "python3"
  },
  "language_info": {
   "codemirror_mode": {
    "name": "ipython",
    "version": 3
   },
   "file_extension": ".py",
   "mimetype": "text/x-python",
   "name": "python",
   "nbconvert_exporter": "python",
   "pygments_lexer": "ipython3",
   "version": "3.8.8"
  }
 },
 "nbformat": 4,
 "nbformat_minor": 5
}
