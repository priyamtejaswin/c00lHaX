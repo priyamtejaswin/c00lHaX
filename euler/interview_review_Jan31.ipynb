{
 "cells": [
  {
   "cell_type": "markdown",
   "id": "d32f2cc3",
   "metadata": {},
   "source": [
    "# 1. Search for a number in a sorted, but rotated array (#33). \n",
    "\n",
    "The array could have been rotated `n` times.\n",
    "\n",
    "* Original: [1, 2, 3, 4, 5, 6]\n",
    "* Rotated: [5, 6, 1, 2, 3, 4]"
   ]
  },
  {
   "cell_type": "code",
   "execution_count": 1,
   "id": "2b5acef9",
   "metadata": {},
   "outputs": [],
   "source": [
    "class SearchRotated:\n",
    "    def solve(self, nums, t):\n",
    "        i = 0\n",
    "        j = len(nums)-1\n",
    "        \n",
    "        while i <= j:\n",
    "            mid = i + (j - i)//2\n",
    "            if nums[mid] == t:\n",
    "                return True\n",
    "            else:\n",
    "                if nums[mid] <= nums[-1]:\n",
    "                    if t > nums[mid] and t <= nums[-1]:\n",
    "                        i = mid+1\n",
    "                    else:\n",
    "                        j = mid - 1\n",
    "                else:\n",
    "                    if t < nums[mid] and t >= nums[0]:\n",
    "                        j = mid - 1\n",
    "                    else:\n",
    "                        i = mid + 1\n",
    "                        \n",
    "        return False"
   ]
  },
  {
   "cell_type": "code",
   "execution_count": 5,
   "id": "fdfbdb7c",
   "metadata": {},
   "outputs": [
    {
     "name": "stdout",
     "output_type": "stream",
     "text": [
      "True\n",
      "False\n"
     ]
    }
   ],
   "source": [
    "o = SearchRotated()\n",
    "print(o.solve([5, 6, 1, 2, 3, 4], 6))\n",
    "print(o.solve([5, 6, 1, 2, 3, 4], 7))"
   ]
  },
  {
   "cell_type": "markdown",
   "id": "f8e0e7ae",
   "metadata": {},
   "source": [
    "# 2. All unique non-empty letter combinations from a string. (#78, SUBSETS)"
   ]
  },
  {
   "cell_type": "markdown",
   "id": "744b17c6",
   "metadata": {},
   "source": [
    "```\n",
    "abc\n",
    "---\n",
    "\n",
    "''\n",
    "a, b, c\n",
    "ab, bc, ac\n",
    "abc\n",
    "```\n",
    "\n",
    "**INTUITION**\n",
    "\n",
    "You want to start from a position `i`, add the next char `i+1`, *push* it in the answer, and then *remove* the last char, so you can then add `i+2`, to `i`, and then push that to answer! "
   ]
  },
  {
   "cell_type": "code",
   "execution_count": 6,
   "id": "cbe2c823",
   "metadata": {},
   "outputs": [],
   "source": [
    "class UniqueCombinations:\n",
    "    def solve(self, text):\n",
    "        ans = set()\n",
    "        \n",
    "        def search(start, temp):\n",
    "            ans.add(''.join(temp))\n",
    "            for i in range(start, len(text)):\n",
    "                temp.append(text[i])\n",
    "                search(i+1, temp)\n",
    "                temp.pop()\n",
    "                \n",
    "        search(0, [])\n",
    "        return ans"
   ]
  },
  {
   "cell_type": "code",
   "execution_count": 8,
   "id": "ca5e3b8f",
   "metadata": {},
   "outputs": [
    {
     "data": {
      "text/plain": [
       "{'', 'a', 'ab', 'abc', 'ac', 'b', 'bc', 'c'}"
      ]
     },
     "execution_count": 8,
     "metadata": {},
     "output_type": "execute_result"
    }
   ],
   "source": [
    "o = UniqueCombinations()\n",
    "o.solve('abc')"
   ]
  },
  {
   "cell_type": "markdown",
   "id": "64b8a5ca",
   "metadata": {},
   "source": [
    "''\n",
    "a\n",
    "ab\n",
    "abc"
   ]
  },
  {
   "cell_type": "markdown",
   "id": "8332f541",
   "metadata": {},
   "source": [
    "# 3. All valid parenthesis with  `n` pairs of parenthesis"
   ]
  },
  {
   "cell_type": "markdown",
   "id": "1aeb7d3e",
   "metadata": {},
   "source": [
    "Generate all valid ...\n",
    "\n",
    "If n == 2: `()(), (())`\n",
    "\n",
    "If n == 3: `()()(), ()(()), ((())), (())()`"
   ]
  },
  {
   "cell_type": "code",
   "execution_count": 16,
   "id": "95c22018",
   "metadata": {},
   "outputs": [],
   "source": [
    "class ValidParenthesis:\n",
    "    def solve(self, n):\n",
    "        ans = set()\n",
    "        \n",
    "        def valid(temp):\n",
    "            op = 0\n",
    "            cl = 0\n",
    "            for c in temp:\n",
    "                if op > n or cl > n or cl > op:\n",
    "                    return False\n",
    "                else:\n",
    "                    if c == '(':\n",
    "                        op += 1\n",
    "                    else:\n",
    "                        cl += 1\n",
    "                        \n",
    "            if op < n or cl < n:\n",
    "                return False\n",
    "            \n",
    "            return True\n",
    "        \n",
    "        def search(temp):\n",
    "            if len(temp) == n*2:\n",
    "                if valid(temp):\n",
    "                    ans.add(''.join(temp))\n",
    "                \n",
    "            else:\n",
    "                temp.append('(')\n",
    "                search(temp)\n",
    "                temp.pop()\n",
    "                \n",
    "                temp.append(')')\n",
    "                search(temp)\n",
    "                temp.pop()\n",
    "                \n",
    "        search([])\n",
    "        return ans"
   ]
  },
  {
   "cell_type": "code",
   "execution_count": 36,
   "id": "a0825326",
   "metadata": {},
   "outputs": [],
   "source": [
    "class ValidParenPrune:\n",
    "    \"\"\"\n",
    "    You can only continue if the sequence is valid, and you can add parens correctly in the future.\n",
    "    \n",
    "    nop, ncl\n",
    "    \n",
    "    nop++ while nop < n\n",
    "    ncl++ while \n",
    "    \"\"\"\n",
    "    def solve(self, n):\n",
    "        ans = set()\n",
    "        \n",
    "        def combine(temp, op, cl):\n",
    "            print(temp)\n",
    "            if len(temp) == 2*n:\n",
    "                ans.add(''.join(temp))\n",
    "            else:\n",
    "                if op < n:\n",
    "                    temp.append('(')\n",
    "                    combine(temp, op+1, cl)\n",
    "                    temp.pop()\n",
    "                    \n",
    "                if cl < op and cl < n:\n",
    "                    temp.append(')')\n",
    "                    combine(temp, op, cl+1)\n",
    "                    temp.pop()\n",
    "                    \n",
    "        combine([], 0, 0)\n",
    "        return ans"
   ]
  },
  {
   "cell_type": "markdown",
   "id": "54720cb3",
   "metadata": {},
   "source": [
    "```\n",
    "0 0, (\n",
    "1 0, ((\n",
    "2 0, (()\n",
    "2 1, (())\n",
    "2 2, \n",
    "```"
   ]
  },
  {
   "cell_type": "code",
   "execution_count": 38,
   "id": "16c8054c",
   "metadata": {},
   "outputs": [
    {
     "name": "stdout",
     "output_type": "stream",
     "text": [
      "[]\n",
      "['(']\n",
      "['(', '(']\n",
      "['(', '(', '(']\n",
      "['(', '(', '(', ')']\n",
      "['(', '(', '(', ')', ')']\n",
      "['(', '(', '(', ')', ')', ')']\n",
      "['(', '(', ')']\n",
      "['(', '(', ')', '(']\n",
      "['(', '(', ')', '(', ')']\n",
      "['(', '(', ')', '(', ')', ')']\n",
      "['(', '(', ')', ')']\n",
      "['(', '(', ')', ')', '(']\n",
      "['(', '(', ')', ')', '(', ')']\n",
      "['(', ')']\n",
      "['(', ')', '(']\n",
      "['(', ')', '(', '(']\n",
      "['(', ')', '(', '(', ')']\n",
      "['(', ')', '(', '(', ')', ')']\n",
      "['(', ')', '(', ')']\n",
      "['(', ')', '(', ')', '(']\n",
      "['(', ')', '(', ')', '(', ')']\n"
     ]
    },
    {
     "data": {
      "text/plain": [
       "{'((()))', '(()())', '(())()', '()(())', '()()()'}"
      ]
     },
     "execution_count": 38,
     "metadata": {},
     "output_type": "execute_result"
    }
   ],
   "source": [
    "# o = ValidParenthesis()\n",
    "o = ValidParenPrune()\n",
    "o.solve(3)"
   ]
  },
  {
   "cell_type": "markdown",
   "id": "2edc4bc2",
   "metadata": {},
   "source": [
    "# 4. Shortest path between two words (#127, Word Ladder)\n",
    "\n",
    "A transformation sequence from word beginWord to word endWord using a dictionary wordList is a sequence of words beginWord -> s1 -> s2 -> ... -> sk such that:\n",
    "* each word is only a single char different\n",
    "* all intermediate words need to be in the list"
   ]
  },
  {
   "cell_type": "code",
   "execution_count": 48,
   "id": "cfb1a0ca",
   "metadata": {},
   "outputs": [],
   "source": [
    "from collections import defaultdict\n",
    "from collections import deque\n",
    "\n",
    "class WordLadder:\n",
    "    def solve(self, source, target, words):\n",
    "        found = False\n",
    "        templates = defaultdict(list)\n",
    "        for w in words:\n",
    "            if w == target:\n",
    "                found = True\n",
    "                \n",
    "            for ix in range(len(w)):\n",
    "                t = w[:ix] + '_' + w[ix+1:]\n",
    "                templates[t].append(w)\n",
    "                \n",
    "        if found is False:\n",
    "            return 0\n",
    "        \n",
    "        q = deque([(source, 1)])\n",
    "        seen = set()\n",
    "        while q:\n",
    "            w, d = q.popleft()\n",
    "            if w == target:\n",
    "                return d\n",
    "            if w not in seen:\n",
    "                seen.add(w)\n",
    "                for ix in range(len(w)):\n",
    "                    t = w[:ix] + '_' + w[ix+1:]\n",
    "                    for n in templates[t]:\n",
    "                        if n not in seen:\n",
    "                            q.append((n, d+1))\n",
    "                            \n",
    "        return 0"
   ]
  },
  {
   "cell_type": "code",
   "execution_count": 47,
   "id": "17e30a3f",
   "metadata": {},
   "outputs": [
    {
     "data": {
      "text/plain": [
       "3"
      ]
     },
     "execution_count": 47,
     "metadata": {},
     "output_type": "execute_result"
    }
   ],
   "source": [
    "o =  WordLadder()\n",
    "o.solve('hog', 'fig', ['pig', 'big', 'fog', 'fig'])"
   ]
  },
  {
   "cell_type": "markdown",
   "id": "934bd878",
   "metadata": {},
   "source": [
    "# 5. Find minimum number of meeting rooms for the schedule (#253)\n",
    "\n",
    "Given start and end times of meeting rooms, figure out the min number of rooms you will need."
   ]
  },
  {
   "cell_type": "code",
   "execution_count": 53,
   "id": "53bb12aa",
   "metadata": {},
   "outputs": [],
   "source": [
    "import heapq\n",
    "\n",
    "class MinMeetingRooms:\n",
    "    def solve(self, times):\n",
    "        rooms = []\n",
    "        times.sort()\n",
    "        for ix, (start, end) in enumerate(times):\n",
    "            if ix == 0:\n",
    "                rooms.append(end)\n",
    "            else:\n",
    "                if start < rooms[0]:\n",
    "                    heapq.heappush(rooms, end)\n",
    "                else:\n",
    "                    heapq.heappop\n",
    "                    \n",
    "        return len(rooms)"
   ]
  },
  {
   "cell_type": "code",
   "execution_count": 54,
   "id": "84121be7",
   "metadata": {},
   "outputs": [
    {
     "name": "stdout",
     "output_type": "stream",
     "text": [
      "2\n",
      "1\n"
     ]
    }
   ],
   "source": [
    "o = MinMeetingRooms()\n",
    "print(o.solve([[0,30],[5,10],[15,20]]))\n",
    "print(o.solve([[7,10],[2,4]]))"
   ]
  },
  {
   "cell_type": "markdown",
   "id": "f361f61f",
   "metadata": {},
   "source": [
    "# 6. Implement LRU cache\n",
    "\n",
    "* `PUT`: Add k-v if missing. Update k-v if present. If at capacity, delete Least Recently Used k-v and replace.\n",
    "* `GET`: Return v for k if k in cache, else return None"
   ]
  },
  {
   "cell_type": "code",
   "execution_count": null,
   "id": "839b568b",
   "metadata": {},
   "outputs": [],
   "source": [
    "from collections import deque\n",
    "\n",
    "class Node:\n",
    "    def __init__(self, )\n",
    "\n",
    "class LRUCache:\n",
    "    def __init__(self, limit):\n",
    "        self.limit = limit\n",
    "        self.cache = {}\n",
    "        self.lru = deque()\n",
    "        \n",
    "    def update_lru(self, )\n",
    "        \n",
    "    def put(self, k, v):\n",
    "        if k in self.cache:\n",
    "            self.update_lru(k)\n",
    "            self.cache[k] = v\n",
    "        else:\n",
    "            if len(self.cache) == limit:\n",
    "                self.drop_lru()\n",
    "                \n",
    "            self.cache[k] = v\n",
    "            self.update_lru(k)\n",
    "        \n",
    "    def get(self, k):\n",
    "        if k in self.cache:\n",
    "            self.update_lru(k)\n",
    "            return self.cache[k]\n",
    "        else:\n",
    "            return None"
   ]
  },
  {
   "cell_type": "markdown",
   "id": "3f4b88f9",
   "metadata": {},
   "source": [
    "# 6. Dictionary word break (#139)\n",
    "\n",
    "Confirm if a given word can be split into sub-words present in a list of words.\n",
    "```\n",
    "applebees, ['apple', 'bees'] => True\n",
    "applebee, ['apple', 'bees'] => False\n",
    "```"
   ]
  },
  {
   "cell_type": "code",
   "execution_count": 73,
   "id": "1ae109d5",
   "metadata": {},
   "outputs": [],
   "source": [
    "from functools import lru_cache\n",
    "\n",
    "class WordBreak:\n",
    "    def solve(self, text, words):\n",
    "        words = set(words)\n",
    "        if text in words:\n",
    "            return True\n",
    "        \n",
    "        @lru_cache(None)\n",
    "        def search(start):\n",
    "            if start == len(text):\n",
    "                return True  # You have reached the end.\n",
    "            else:\n",
    "                for i in range(start, len(text)):\n",
    "                    first = text[start:i+1]\n",
    "                    if first in words and search(i+1):\n",
    "                        return True\n",
    "                    \n",
    "                return False\n",
    "            \n",
    "        return search(0)"
   ]
  },
  {
   "cell_type": "code",
   "execution_count": 74,
   "id": "08a25bef",
   "metadata": {},
   "outputs": [
    {
     "name": "stdout",
     "output_type": "stream",
     "text": [
      "True\n",
      "False\n"
     ]
    }
   ],
   "source": [
    "o = WordBreak()\n",
    "print(o.solve('applebees', ['apple', 'bees']))\n",
    "print(o.solve('applebees', ['apple', 'bee']))"
   ]
  },
  {
   "cell_type": "markdown",
   "id": "3bec57b1",
   "metadata": {},
   "source": [
    "# 7. LCA of two nodes in a binary tree"
   ]
  },
  {
   "cell_type": "markdown",
   "id": "1e8a1832",
   "metadata": {},
   "source": [
    "Find the `deepest node` in the tree, for which nodes A and B are its children. A node also counts as it's own ancestor."
   ]
  },
  {
   "cell_type": "code",
   "execution_count": 80,
   "id": "19203bb7",
   "metadata": {},
   "outputs": [],
   "source": [
    "class Node:\n",
    "    def __init__(self, val, left=None, right=None):\n",
    "        self.val = val\n",
    "        self.left = left\n",
    "        self.right = right\n",
    "\n",
    "\n",
    "class LCATree:\n",
    "    def solve(self, root, a, b):\n",
    "        ancestors = []\n",
    "        \n",
    "        def search(n):\n",
    "            if n is None:\n",
    "                return False, False\n",
    "            else:\n",
    "                left_a, left_b = search(n.left)\n",
    "                right_a, right_b = search(n.right)\n",
    "                current_a, current_b = n.val == a, n.val == b\n",
    "                \n",
    "                ret_a = left_a or right_a or current_a\n",
    "                ret_b = left_b or right_b or current_b\n",
    "                if ret_a and ret_b:\n",
    "                    ancestors.append(n.val)\n",
    "                    \n",
    "                return ret_a, ret_b\n",
    "            \n",
    "        search(root)\n",
    "        return ancestors[0]"
   ]
  },
  {
   "cell_type": "code",
   "execution_count": 85,
   "id": "a6359a61",
   "metadata": {},
   "outputs": [
    {
     "data": {
      "text/plain": [
       "[2, 5, 3]"
      ]
     },
     "execution_count": 85,
     "metadata": {},
     "output_type": "execute_result"
    }
   ],
   "source": [
    "o = LCATree()\n",
    "three = Node(3)\n",
    "five = Node(5)\n",
    "one = Node(1)\n",
    "six = Node(6)\n",
    "two = Node(2)\n",
    "zero = Node(0)\n",
    "eight = Node(8)\n",
    "seven = Node(7)\n",
    "four = Node(4)\n",
    "\n",
    "three.left = five\n",
    "three.right = one\n",
    "five.left = six\n",
    "five.right = two\n",
    "one.left = zero\n",
    "one.right = eight\n",
    "two.left = seven\n",
    "two.right = four\n",
    "\n",
    "o.solve(three, 4, 7)"
   ]
  },
  {
   "cell_type": "markdown",
   "id": "08e57bd3",
   "metadata": {},
   "source": [
    "# 8. Implement a `GetRandom` set\n",
    "\n",
    "* put(x)\n",
    "* del(x)\n",
    "* get(x)\n",
    "* sample()"
   ]
  },
  {
   "cell_type": "code",
   "execution_count": 99,
   "id": "862b1e47",
   "metadata": {},
   "outputs": [],
   "source": [
    "from random import choice\n",
    "\n",
    "class GetRandom:\n",
    "    def __init__(self):\n",
    "        self.kv = {}  # Maps x to positions in `store`.\n",
    "        self.store = []  # Stores the `x` values -- you need this to sample.\n",
    "        \n",
    "    def put(self, x):\n",
    "        self.kv[x] = len(self.store)\n",
    "        self.store.append(x)\n",
    "        \n",
    "    def rem(self, x):\n",
    "        if x in self.kv:\n",
    "            position = self.kv[x]\n",
    "            last = self.kv[self.store[-1]]\n",
    "            self.store[position], self.store[last] = self.store[last], self.store[position]\n",
    "            # Remove from both.\n",
    "            del self.kv[x]\n",
    "            self.store.pop()\n",
    "            return True\n",
    "        else:\n",
    "            return False\n",
    "        \n",
    "    def get(self, x):\n",
    "        return x if x in self.kv else None\n",
    "    \n",
    "    def sample(self):\n",
    "        print(self.store)\n",
    "        return choice(self.store)"
   ]
  },
  {
   "cell_type": "code",
   "execution_count": 100,
   "id": "5a27caa6",
   "metadata": {},
   "outputs": [
    {
     "name": "stdout",
     "output_type": "stream",
     "text": [
      "None\n",
      "True\n",
      "None\n",
      "[0, 4, 2, 3]\n",
      "3\n"
     ]
    }
   ],
   "source": [
    "o = GetRandom()\n",
    "for n in range(5):\n",
    "    o.put(n)\n",
    "print(o.get(10))\n",
    "print(o.rem(1))\n",
    "print(o.get(1))\n",
    "print(o.sample())"
   ]
  },
  {
   "cell_type": "markdown",
   "id": "534cfccd",
   "metadata": {},
   "source": [
    "# 9. Number of unique decodings \n",
    "\n",
    "Given a number `11106`, you can decode:\n",
    "* `1:A`, `1:A`, `10:J`, `6:F`\n",
    "\n",
    "OR\n",
    "\n",
    "* `11:K`, `10:J`, `6:F`\n",
    "\n",
    "Get number of all unique, valid decodings."
   ]
  },
  {
   "cell_type": "code",
   "execution_count": 113,
   "id": "ad978ec1",
   "metadata": {},
   "outputs": [],
   "source": [
    "from functools import lru_cache\n",
    "\n",
    "class Decodings:\n",
    "    def solve(self, number):\n",
    "        valid = set([str(x) for x in range(1, 27)])\n",
    "        \n",
    "        @lru_cache(None)\n",
    "        def decodings_from_here(start):\n",
    "            if start >= len(number):\n",
    "                return 1\n",
    "            else:\n",
    "                i = start\n",
    "                total = 0\n",
    "                one = number[i]\n",
    "                two = number[i:i+2]\n",
    "                if one in valid:\n",
    "                    total += decodings_from_here(i+1)\n",
    "                    if two in valid and i+2 <= len(number):\n",
    "                        total += decodings_from_here(i+2)\n",
    "                \n",
    "                return total\n",
    "            \n",
    "        return decodings_from_here(0)"
   ]
  },
  {
   "cell_type": "code",
   "execution_count": 115,
   "id": "ad9e746c",
   "metadata": {},
   "outputs": [
    {
     "name": "stdout",
     "output_type": "stream",
     "text": [
      "2\n",
      "5\n"
     ]
    }
   ],
   "source": [
    "o = Decodings()\n",
    "print(o.solve('11106'))\n",
    "print(o.solve('1111'))"
   ]
  },
  {
   "cell_type": "code",
   "execution_count": 116,
   "id": "f56a215e",
   "metadata": {},
   "outputs": [
    {
     "name": "stdout",
     "output_type": "stream",
     "text": [
      "24.6 µs ± 338 ns per loop (mean ± std. dev. of 7 runs, 10000 loops each)\n"
     ]
    }
   ],
   "source": [
    "%timeit o.solve('11111111111111111111111111111111')\n",
    "# 33.1 ms ± 188 µs per loop (mean ± std. dev. of 7 runs, 10 loops each)"
   ]
  },
  {
   "cell_type": "markdown",
   "id": "0fafb9ef",
   "metadata": {},
   "source": [
    "# 10. Merge `k` intervals"
   ]
  },
  {
   "cell_type": "markdown",
   "id": "c1694e5f",
   "metadata": {},
   "source": [
    "Sort , and then greedy selection of the end. Easy."
   ]
  },
  {
   "cell_type": "markdown",
   "id": "3c17d1a5",
   "metadata": {},
   "source": [
    "# 11. Find the top k most frequent items in a list."
   ]
  },
  {
   "cell_type": "markdown",
   "id": "4f4965ac",
   "metadata": {},
   "source": [
    "[1 2 1 1 2 3] -- for k=2, you should return [1, 2]"
   ]
  },
  {
   "cell_type": "markdown",
   "id": "0a2d677a",
   "metadata": {},
   "source": [
    "Very good question:\n",
    "1. Construct a counter of frequency. This takes $O(n)$ time.\n",
    "2. Use a heap to store the top-k values. This takes $k\\log k + (N-k)\\log k$ time."
   ]
  },
  {
   "cell_type": "code",
   "execution_count": 187,
   "id": "459c6b8b",
   "metadata": {},
   "outputs": [],
   "source": [
    "import heapq\n",
    "from collections import Counter\n",
    "\n",
    "class TopKFrequent:\n",
    "    def solve(self, numbers, k):\n",
    "        if k == len(numbers):\n",
    "            return numbers\n",
    "        \n",
    "        counts = list(Counter(numbers).items())\n",
    "        \n",
    "        topk = []\n",
    "        for i in range(k):\n",
    "            num, freq = counts[i]\n",
    "            heapq.heappush(topk, (-freq, num))\n",
    "            \n",
    "        for i in range(k, len(counts)):\n",
    "            num, freq = counts[i]\n",
    "            if -freq <= topk[0][0]:\n",
    "                heapq.heappop(topk)\n",
    "                heapq.heappush(topk, (-freq, num))\n",
    "                \n",
    "        return [t[1] for t in topk]"
   ]
  },
  {
   "cell_type": "code",
   "execution_count": 193,
   "id": "a580a809",
   "metadata": {},
   "outputs": [
    {
     "data": {
      "text/plain": [
       "[1, 2, 3]"
      ]
     },
     "execution_count": 193,
     "metadata": {},
     "output_type": "execute_result"
    }
   ],
   "source": [
    "o = TopKFrequent()\n",
    "o.solve([1, 1, 2, 1, 2, 3], 3)"
   ]
  },
  {
   "cell_type": "markdown",
   "id": "15c103a6",
   "metadata": {},
   "source": [
    "# 12. Find median of two sorted lists. Solution must be better than or equal to `O(log(m+n))`"
   ]
  },
  {
   "cell_type": "markdown",
   "id": "f29f5e5b",
   "metadata": {},
   "source": [
    "```\n",
    "1 (6) 7 8\n",
    "2 3 (4) \n",
    "\n",
    "6 is less than 20\n",
    "and 3 is less than 7\n",
    "```\n",
    "\n",
    "[1 2 3] 6 [7 8 20]\n",
    "\n",
    "```\n",
    "[1 2] [3 4 5]\n",
    "```"
   ]
  },
  {
   "cell_type": "code",
   "execution_count": 19,
   "id": "3381b2b7",
   "metadata": {},
   "outputs": [],
   "source": [
    "class Median:\n",
    "    def solve(self, l1, l2):\n",
    "        \"\"\"\n",
    "        Find two indices, one for l1 and another for l2,\n",
    "        so that the element on the l1 index is smaller than the element BEYOND the l2 index,\n",
    "        \n",
    "        and the element on the l2 index is smaller than the element BEYOND the l1 index.\n",
    "        \n",
    "        This will let you create two sets. And median will be at the edge of these sets.\n",
    "        \"\"\"\n",
    "        if len(l2) < len(l1):\n",
    "            l1, l2 = l2, l1\n",
    "        \n",
    "        sone, stwo = len(l1), len(l2)\n",
    "        left, right = 0, sone-1\n",
    "        \n",
    "        while left <= right:\n",
    "            mid = left + (right - left)//2\n",
    "            xright = l1[mid] if mid < sone else float('inf')\n",
    "            xleft = l1[mid-1] if mid > 0 else -float('inf')\n",
    "            \n",
    "            other = (sone + stwo)//2 - mid\n",
    "            yright = l2[other] if other < stwo else float('inf')\n",
    "            yleft = l2[other-1] if other > 0 else -float('inf')\n",
    "            \n",
    "            if xleft <= yright and xright >= yleft:\n",
    "                if (sone+stwo)%2 == 0:\n",
    "                    return (max(xleft, yleft) + min(xright, yright)) / 2.0\n",
    "                else:\n",
    "                    return min(xright, yright)\n",
    "            else:\n",
    "                if xleft > yright:\n",
    "                    right = mid - 1\n",
    "                else:\n",
    "                    left = mid + 1"
   ]
  },
  {
   "cell_type": "code",
   "execution_count": 20,
   "id": "8d43a011",
   "metadata": {},
   "outputs": [
    {
     "data": {
      "text/plain": [
       "5"
      ]
     },
     "execution_count": 20,
     "metadata": {},
     "output_type": "execute_result"
    }
   ],
   "source": [
    "o = Median()\n",
    "o.solve([2, 3, 4, 5], [6, 7, 8])"
   ]
  },
  {
   "cell_type": "code",
   "execution_count": 21,
   "id": "cb02a6b7",
   "metadata": {},
   "outputs": [
    {
     "data": {
      "text/plain": [
       "(1, 2, 3, 4, 5, 6, 7, 8)"
      ]
     },
     "execution_count": 21,
     "metadata": {},
     "output_type": "execute_result"
    }
   ],
   "source": [
    "1, 2, 3, 4, 5, 6, 7, 8"
   ]
  },
  {
   "cell_type": "markdown",
   "id": "fe555b3a",
   "metadata": {},
   "source": [
    "# 13. Collect nodes from a tree by pruning all leaves, starting from the deepest layer first."
   ]
  },
  {
   "cell_type": "markdown",
   "id": "aaada2ac",
   "metadata": {},
   "source": [
    "```\n",
    "      5\n",
    "     /\\\n",
    "    1  3\n",
    "   / \\  \\\n",
    "  8   7  6\n",
    "```\n",
    "Return\n",
    "```\n",
    "[[8, 7, 6], [1, 3], [5]]\n",
    "```"
   ]
  },
  {
   "cell_type": "code",
   "execution_count": 33,
   "id": "fe37e2d9",
   "metadata": {},
   "outputs": [],
   "source": [
    "class Node:\n",
    "    def __init__(self, val, left=None, right=None):\n",
    "        self.val = val\n",
    "        self.left = left\n",
    "        self.right = right"
   ]
  },
  {
   "cell_type": "code",
   "execution_count": 27,
   "id": "cb2c7c09",
   "metadata": {},
   "outputs": [],
   "source": [
    "five = Node(5)\n",
    "one = Node(1)\n",
    "three = Node(3)\n",
    "eight = Node(8)\n",
    "seven = Node(7)\n",
    "six = Node(6)\n",
    "\n",
    "five.left, five.right = one, three\n",
    "one.left, one.right = eight, seven\n",
    "three.right = six"
   ]
  },
  {
   "cell_type": "code",
   "execution_count": 31,
   "id": "37ace2d6",
   "metadata": {},
   "outputs": [],
   "source": [
    "from collections import deque\n",
    "\n",
    "class Prune:\n",
    "    def solve(self, root):\n",
    "        ans = [[]]\n",
    "        \n",
    "        q = deque([(root, 0)])\n",
    "        while q:\n",
    "            n, pos = q.popleft()\n",
    "            if n is not None:\n",
    "                if pos < len(ans):\n",
    "                    ans[pos].append(n.val)\n",
    "                else:\n",
    "                    ans.append([])\n",
    "                    ans[pos].append(n.val)\n",
    "                \n",
    "                q.append((n.left, pos+1))\n",
    "                q.append((n.right, pos+1))\n",
    "                \n",
    "        return ans[::-1]"
   ]
  },
  {
   "cell_type": "code",
   "execution_count": 32,
   "id": "97ef93db",
   "metadata": {},
   "outputs": [
    {
     "data": {
      "text/plain": [
       "[[8, 7, 6], [1, 3], [5]]"
      ]
     },
     "execution_count": 32,
     "metadata": {},
     "output_type": "execute_result"
    }
   ],
   "source": [
    "o = Prune()\n",
    "o.solve(five)"
   ]
  },
  {
   "cell_type": "markdown",
   "id": "3fecb7a8",
   "metadata": {},
   "source": [
    "# 14. Validate a binary search tree."
   ]
  },
  {
   "cell_type": "markdown",
   "id": "300bff88",
   "metadata": {},
   "source": [
    "```\n",
    "        5\n",
    "       /  \\\n",
    "      2    7\n",
    "     / \\  / \\\n",
    "    1  3  6  8\n",
    "    \n",
    "    VALID\n",
    "```\n",
    "\n",
    "```\n",
    "        5\n",
    "       /  \\\n",
    "      2    7\n",
    "     / \\  / \\\n",
    "    1  6  6  8\n",
    "    \n",
    "    INVALID\n",
    "```"
   ]
  },
  {
   "cell_type": "code",
   "execution_count": 59,
   "id": "597a979f",
   "metadata": {},
   "outputs": [],
   "source": [
    "class Node:\n",
    "    def __init__(self, val, left=None, right=None):\n",
    "        self.val = val\n",
    "        self.left = left\n",
    "        self.right = right\n",
    "        \n",
    "five = Node(5)\n",
    "three = Node(3)\n",
    "two = Node(2)\n",
    "one = Node(1)\n",
    "seven = Node(7)\n",
    "six = Node(6)\n",
    "eight = Node(8)\n",
    "\n",
    "five.left, five.right = two, seven\n",
    "two.left, two.right = one, six\n",
    "seven.left, seven.right = six, eight\n",
    "\n",
    "class ValidateBST:\n",
    "    def solve(self, root):\n",
    "        def check(n, lowest, highest):\n",
    "            if n is None:\n",
    "                return True\n",
    "            if n.val > lowest and n.val < highest:\n",
    "                return check(n.left, lowest, n.val) and check(n.right, n.val, highest)\n",
    "            else:\n",
    "                return False\n",
    "            \n",
    "        return check(root, -float('inf'), float('inf'))"
   ]
  },
  {
   "cell_type": "code",
   "execution_count": 60,
   "id": "e624c969",
   "metadata": {},
   "outputs": [
    {
     "data": {
      "text/plain": [
       "False"
      ]
     },
     "execution_count": 60,
     "metadata": {},
     "output_type": "execute_result"
    }
   ],
   "source": [
    "o = ValidateBST()\n",
    "o.solve(five)"
   ]
  },
  {
   "cell_type": "markdown",
   "id": "8a2afcbe",
   "metadata": {},
   "source": [
    "# 15. From a string, construct all possible sentences using the words present in the dictionary."
   ]
  },
  {
   "cell_type": "markdown",
   "id": "9745fc2d",
   "metadata": {},
   "source": [
    "leetcodcodecs, [leet, let, codes, code, cod, codec, s]"
   ]
  },
  {
   "cell_type": "code",
   "execution_count": 89,
   "id": "1d8c417e",
   "metadata": {},
   "outputs": [],
   "source": [
    "from functools import lru_cache\n",
    "\n",
    "class Sentences:\n",
    "    def solve(self, text, words):\n",
    "        words = set(words)\n",
    "        ans = []\n",
    "        def sentences_from(start, temp):\n",
    "            if start == len(text):\n",
    "                ans.append(' '.join(temp))\n",
    "            else:\n",
    "                for end in range(start, len(text)):\n",
    "                    w = text[start:end+1]\n",
    "                    if w in words:\n",
    "                        temp.append(w)\n",
    "                        sentences_from(end+1, temp)\n",
    "                        temp.pop()\n",
    "                        \n",
    "        sentences_from(0, [])\n",
    "        return ans\n",
    "    \n",
    "    def faster(self, text, words):\n",
    "        words = set(words)\n",
    "        \n",
    "        @lru_cache(None)\n",
    "        def sentences_from(start):\n",
    "            if start == len(text):\n",
    "                return ['']\n",
    "            else:\n",
    "                current = []\n",
    "                for end in range(start, len(text)):\n",
    "                    w = text[start:end+1]\n",
    "                    if w in words:\n",
    "                        for s in sentences_from(end+1):\n",
    "                            if len(s):\n",
    "                                current.append(w + ' ' + s)\n",
    "                            else:\n",
    "                                current.append(w)\n",
    "                                \n",
    "                return current\n",
    "            \n",
    "        return sentences_from(0)"
   ]
  },
  {
   "cell_type": "code",
   "execution_count": 90,
   "id": "69c23356",
   "metadata": {},
   "outputs": [],
   "source": [
    "o = Sentences()"
   ]
  },
  {
   "cell_type": "code",
   "execution_count": 91,
   "id": "c530262b",
   "metadata": {},
   "outputs": [
    {
     "name": "stdout",
     "output_type": "stream",
     "text": [
      "7.56 ms ± 48.2 µs per loop (mean ± std. dev. of 7 runs, 100 loops each)\n"
     ]
    }
   ],
   "source": [
    "%timeit o.solve('pineapplepenapplepineapplepenapplepineapplepenapplepineapplepenapplepineapplepenapplepineapplepenapple', [\"apple\",\"pen\",\"applepen\",\"pine\",\"pineapple\"])"
   ]
  },
  {
   "cell_type": "code",
   "execution_count": 92,
   "id": "51eb7f84",
   "metadata": {},
   "outputs": [
    {
     "name": "stdout",
     "output_type": "stream",
     "text": [
      "602 µs ± 17 µs per loop (mean ± std. dev. of 7 runs, 1000 loops each)\n"
     ]
    }
   ],
   "source": [
    "%timeit o.faster('pineapplepenapplepineapplepenapplepineapplepenapplepineapplepenapplepineapplepenapplepineapplepenapple', [\"apple\",\"pen\",\"applepen\",\"pine\",\"pineapple\"])"
   ]
  },
  {
   "cell_type": "code",
   "execution_count": 93,
   "id": "5e8633b0",
   "metadata": {},
   "outputs": [
    {
     "name": "stdout",
     "output_type": "stream",
     "text": [
      "['pine apple pen apple', 'pine applepen apple', 'pineapple pen apple']\n"
     ]
    }
   ],
   "source": [
    "print(o.faster('pineapplepenapple', [\"apple\",\"pen\",\"applepen\",\"pine\",\"pineapple\"]))"
   ]
  },
  {
   "cell_type": "markdown",
   "id": "5e71ce52",
   "metadata": {},
   "source": [
    "# 16. Regex matching for `.` and `*`"
   ]
  },
  {
   "cell_type": "markdown",
   "id": "f66dd2f6",
   "metadata": {},
   "source": [
    "* `.` matches to any single char\n",
    "* `*` matches to zero or more of the preceeding char"
   ]
  },
  {
   "cell_type": "code",
   "execution_count": 126,
   "id": "a321863d",
   "metadata": {},
   "outputs": [],
   "source": [
    "from functools import lru_cache\n",
    "\n",
    "class Regex:\n",
    "    def solve(self, text, pattern):\n",
    "        alpha = set('abcdefghijklmnopqrstuvwxyz')\n",
    "        \n",
    "        pat = []\n",
    "        for i in range(len(pattern)):\n",
    "            if pattern[i] == '*':\n",
    "                pass\n",
    "            elif i + 1 < len(pattern) and pattern[i+1] == '*':\n",
    "                pat.append(pattern[i:i+2])\n",
    "            else:\n",
    "                pat.append(pattern[i])\n",
    "                \n",
    "        # print(pat)\n",
    "        pattern = pat\n",
    "        \n",
    "        @lru_cache(None)\n",
    "        def validfrom(t, p): \n",
    "            if t == len(text) and p == len(pattern):\n",
    "                return True\n",
    "            elif p == len(pattern):\n",
    "                return t == len(text)\n",
    "            elif t == len(text) and p < len(pattern):\n",
    "                if pattern[p] == '.' or pattern[p] in alpha:\n",
    "                    return False\n",
    "                else:\n",
    "                    # Current is star, which you can skip.\n",
    "                    return validfrom(t, p+1)\n",
    "            else:\n",
    "                if pattern[p] in alpha:\n",
    "                    if pattern[p] == text[t]:\n",
    "                        return validfrom(t+1, p+1)\n",
    "                    else:\n",
    "                        return False\n",
    "                else:\n",
    "                    if pattern[p] == '.':\n",
    "                        return validfrom(t+1, p+1)\n",
    "                    else:\n",
    "                        skip = validfrom(t, p+1)\n",
    "                        if skip:\n",
    "                            return True\n",
    "                        else:\n",
    "                            return (pattern[p][0] == text[t] or pattern[p][0] == '.') and validfrom(t+1, p)\n",
    "            \n",
    "        return validfrom(0, 0)"
   ]
  },
  {
   "cell_type": "code",
   "execution_count": 127,
   "id": "90cd909e",
   "metadata": {},
   "outputs": [
    {
     "data": {
      "text/plain": [
       "False"
      ]
     },
     "execution_count": 127,
     "metadata": {},
     "output_type": "execute_result"
    }
   ],
   "source": [
    "o = Regex()\n",
    "assert o.solve('ab', '.*..') == True\n",
    "assert o.solve('a', 'ab*') == True\n",
    "assert o.solve('a', '.*') == True\n",
    "assert o.solve('ab', '.*') == True\n",
    "assert o.solve('ab', '.*.') == True\n",
    "assert o.solve('ab', 'ab.') == False\n",
    "assert o.solve('mississipi', 'mis*is*p.*') == False\n",
    "o.solve('mississipi', 'mis*is*p.*')"
   ]
  },
  {
   "cell_type": "markdown",
   "id": "a5dbccfb",
   "metadata": {},
   "source": [
    "# 17. Merge two sorted linked lists by splicing."
   ]
  },
  {
   "cell_type": "markdown",
   "id": "fd146833",
   "metadata": {},
   "source": [
    "```\n",
    "i: 1, 3, 5\n",
    "j: 1, 2, 7\n",
    "\n",
    "=> 1, 1, 2, 3, 5, 7\n",
    "```"
   ]
  },
  {
   "cell_type": "code",
   "execution_count": 128,
   "id": "2cd52332",
   "metadata": {},
   "outputs": [],
   "source": [
    "class Node:\n",
    "    def __init__(self, val, next=None):\n",
    "        self.val = val\n",
    "        self.next = next\n",
    "        \n",
    "class Merge:\n",
    "    def solve(self, first, second):\n",
    "        if second.val < first.val:\n",
    "            first, second = second, first\n",
    "            \n",
    "        i = first\n",
    "        j = second\n",
    "        pi = None\n",
    "        while i is not None and j is not None:\n",
    "            if i.val <= j.val:\n",
    "                pi = i\n",
    "                i = i.next\n",
    "            else:\n",
    "                after = j.next\n",
    "                pi.next = j\n",
    "                j.next = i\n",
    "                \n",
    "                pi = pi.next\n",
    "                j = after\n",
    "                \n",
    "        if i is None:\n",
    "            pi.next = j\n",
    "            \n",
    "        return first"
   ]
  },
  {
   "cell_type": "code",
   "execution_count": 132,
   "id": "2ad423f1",
   "metadata": {},
   "outputs": [
    {
     "name": "stdout",
     "output_type": "stream",
     "text": [
      "1\n",
      "1\n",
      "2\n",
      "3\n",
      "5\n",
      "7\n"
     ]
    }
   ],
   "source": [
    "first = Node(1)\n",
    "three = Node(3)\n",
    "five = Node(5)\n",
    "first.next = three\n",
    "three.next = five\n",
    "\n",
    "\n",
    "second = Node(1)\n",
    "two = Node(2)\n",
    "seven = Node(7)\n",
    "second.next = two\n",
    "two.next = seven\n",
    "\n",
    "o = Merge()\n",
    "x = o.solve(first, second)\n",
    "while x is not None:\n",
    "    print(x.val)\n",
    "    x = x.next"
   ]
  },
  {
   "cell_type": "markdown",
   "id": "938e2b3f",
   "metadata": {},
   "source": [
    "# 18. Find the minimum substring that contains all characters in `t` (#)"
   ]
  },
  {
   "cell_type": "code",
   "execution_count": 170,
   "id": "a82bee7a",
   "metadata": {},
   "outputs": [],
   "source": [
    "from collections import Counter, defaultdict\n",
    "\n",
    "class MinChars:\n",
    "    def solve(self, text, target):\n",
    "        dist = Counter(target)\n",
    "        window = defaultdict(int)\n",
    "        start = 0\n",
    "        end = 0\n",
    "        ans = text\n",
    "        total = 0\n",
    "        while end < len(text):\n",
    "            if end == start:\n",
    "                window[text[end]] += 1\n",
    "                if window[text[end]] == dist[text[end]]:\n",
    "                    total += 1\n",
    "                    \n",
    "                end += 1\n",
    "            else:\n",
    "                while start < end and total == len(dist):\n",
    "                    print(window, total)\n",
    "                    if end - start < len(ans):\n",
    "                        ans = text[start:end]\n",
    "                    window[text[start]] -= 1\n",
    "                    if window[text[start]] < dist[text[start]]:\n",
    "                        total -= 1\n",
    "                        \n",
    "                    start += 1\n",
    "                \n",
    "                if start == end:\n",
    "                    pass\n",
    "                else:\n",
    "                    window[text[end]] += 1\n",
    "                    if window[text[end]] == dist[text[end]]:\n",
    "                        total += 1\n",
    "\n",
    "                    end += 1\n",
    "                    \n",
    "        return ans"
   ]
  },
  {
   "cell_type": "code",
   "execution_count": 171,
   "id": "5d3c94be",
   "metadata": {},
   "outputs": [
    {
     "name": "stdout",
     "output_type": "stream",
     "text": [
      "defaultdict(<class 'int'>, {'a': 2, 'b': 1, 'c': 1}) 3\n",
      "defaultdict(<class 'int'>, {'a': 1, 'b': 1, 'c': 1}) 3\n"
     ]
    },
    {
     "data": {
      "text/plain": [
       "'abc'"
      ]
     },
     "execution_count": 171,
     "metadata": {},
     "output_type": "execute_result"
    }
   ],
   "source": [
    "o = MinChars()\n",
    "o.solve('aabcd', 'abc')"
   ]
  },
  {
   "cell_type": "code",
   "execution_count": 141,
   "id": "2169de6b",
   "metadata": {},
   "outputs": [
    {
     "data": {
      "text/plain": [
       "False"
      ]
     },
     "execution_count": 141,
     "metadata": {},
     "output_type": "execute_result"
    }
   ],
   "source": [
    "all([0, 1])"
   ]
  },
  {
   "cell_type": "markdown",
   "id": "a5741f39",
   "metadata": {},
   "source": [
    "# 19. Deepcopy a linked-list with random-pointers to nodes. Do not use any additional space."
   ]
  },
  {
   "cell_type": "code",
   "execution_count": 183,
   "id": "5884184e",
   "metadata": {},
   "outputs": [],
   "source": [
    "class Node:\n",
    "    def __init__(self, val, next=None, random=None):\n",
    "        self.val = val\n",
    "        self.next = next\n",
    "        self.random = random\n",
    "\n",
    "class Deepcopy:\n",
    "    def solve(self, head):\n",
    "        n = head\n",
    "        while n is not None:\n",
    "            new = Node(n.val)\n",
    "            next = n.next\n",
    "            n.next = new\n",
    "            new.next = next\n",
    "            n = next\n",
    "        \n",
    "        ans = head.next\n",
    "        og = head\n",
    "        \n",
    "        while og is not None:\n",
    "            new = og.next\n",
    "            if og.random is not None:\n",
    "                new.random = og.random.next\n",
    "            \n",
    "            og = new.next\n",
    "            \n",
    "        # Patch\n",
    "        og = head\n",
    "        while og is not None:\n",
    "            new = og.next\n",
    "            og.next = None if new is None else new.next\n",
    "            og = og.next\n",
    "            new.next = None if og is None else og.next\n",
    "            new = new.next\n",
    "        \n",
    "        return ans"
   ]
  },
  {
   "cell_type": "code",
   "execution_count": 184,
   "id": "76b45b1a",
   "metadata": {},
   "outputs": [
    {
     "name": "stdout",
     "output_type": "stream",
     "text": [
      "0\n",
      "  None\n",
      "1\n",
      "  0\n",
      "2\n",
      "  3\n",
      "3\n",
      "  1\n",
      "==================================================\n"
     ]
    }
   ],
   "source": [
    "zero = Node(0)\n",
    "one = Node(1)\n",
    "two = Node(2)\n",
    "three = Node(3)\n",
    "\n",
    "zero.next = one\n",
    "one.next = two\n",
    "two.next = three\n",
    "\n",
    "zero.random = None\n",
    "one.random = zero\n",
    "two.random = three\n",
    "three.random = one\n",
    "\n",
    "start = zero\n",
    "while start is not None:\n",
    "    print(start.val)\n",
    "    print(\" \", None if start.random is None else start.random.val)\n",
    "    start = start.next\n",
    "    \n",
    "print(\"=\"*50)"
   ]
  },
  {
   "cell_type": "code",
   "execution_count": 185,
   "id": "8e48d8d5",
   "metadata": {},
   "outputs": [
    {
     "data": {
      "text/plain": [
       "<__main__.Node at 0x7fcbaa412220>"
      ]
     },
     "execution_count": 185,
     "metadata": {},
     "output_type": "execute_result"
    }
   ],
   "source": [
    "o = Deepcopy()\n",
    "a = o.solve(zero)"
   ]
  },
  {
   "cell_type": "markdown",
   "id": "9859a97f",
   "metadata": {},
   "source": [
    "# 20. Move zeros while maintaining order."
   ]
  },
  {
   "cell_type": "markdown",
   "id": "8f9932f1",
   "metadata": {},
   "source": [
    "```\n",
    "[1, 5, 0, 2, 6, 0, 0]\n",
    "==>\n",
    "[1, 5, 2, 6, 0, 0, 0]\n",
    "```"
   ]
  },
  {
   "cell_type": "code",
   "execution_count": 186,
   "id": "47c85af9",
   "metadata": {},
   "outputs": [],
   "source": [
    "class MoveZeros:\n",
    "    def solve(self, array):\n",
    "        z = 0\n",
    "        n = 0\n",
    "        \n",
    "        while n < len(array):\n",
    "            print(array)\n",
    "            if n <= z:\n",
    "                n += 1\n",
    "            else:\n",
    "                if n>z and array[z] == 0 and array[n] != 0:\n",
    "                    array[z], array[n] = array[n], array[z]\n",
    "                else:\n",
    "                    if array[z] != 0:\n",
    "                        z += 1\n",
    "                    if array[n] == 0:\n",
    "                        n += 1"
   ]
  },
  {
   "cell_type": "code",
   "execution_count": 189,
   "id": "ca59a3f3",
   "metadata": {},
   "outputs": [
    {
     "name": "stdout",
     "output_type": "stream",
     "text": [
      "[1, 5, 0, 2, 6, 0, 9]\n",
      "[1, 5, 0, 2, 6, 0, 9]\n",
      "[1, 5, 0, 2, 6, 0, 9]\n",
      "[1, 5, 0, 2, 6, 0, 9]\n",
      "[1, 5, 0, 2, 6, 0, 9]\n",
      "[1, 5, 2, 0, 6, 0, 9]\n",
      "[1, 5, 2, 0, 6, 0, 9]\n",
      "[1, 5, 2, 6, 0, 0, 9]\n",
      "[1, 5, 2, 6, 0, 0, 9]\n",
      "[1, 5, 2, 6, 0, 0, 9]\n",
      "[1, 5, 2, 6, 9, 0, 0]\n"
     ]
    }
   ],
   "source": [
    "o = MoveZeros()\n",
    "o.solve([1, 5, 0, 2, 6, 0, 9])"
   ]
  },
  {
   "cell_type": "markdown",
   "id": "1d17526d",
   "metadata": {},
   "source": [
    "# 21. Check which words are present in the grid."
   ]
  },
  {
   "cell_type": "code",
   "execution_count": 201,
   "id": "e397116b",
   "metadata": {},
   "outputs": [],
   "source": [
    "import pprint\n",
    "pp = pprint.PrettyPrinter()\n",
    "\n",
    "class CheckWords:\n",
    "    \"\"\"\n",
    "    H E L L W\n",
    "    E L L O B\n",
    "    S E P V C\n",
    "\n",
    "    {HELLO, ELLO, SELL, VOW}\n",
    "    \"\"\"\n",
    "    def solve(self, grid, words):\n",
    "        rows = len(grid)\n",
    "        cols = len(grid[0])\n",
    "        \n",
    "        trie = {}\n",
    "        for w in words:\n",
    "            node = trie\n",
    "            for char in w:\n",
    "                if char in node:\n",
    "                    node = node[char]\n",
    "                else:\n",
    "                    node[char] = {}\n",
    "                    node = node[char]\n",
    "                    \n",
    "            node['#'] = w\n",
    "            \n",
    "        pp.pprint(trie)\n",
    "        present = []\n",
    "        \n",
    "        def search(x, y, node, parent):\n",
    "            if start+1 == len(text):\n",
    "                return True\n",
    "            else:\n",
    "                for i, j in [(x-1, y), (x, y+1), (x, y-1), (x+1, y)]:\n",
    "                    if i < rows and j < cols and i >= 0 and j >= 0 and\\\n",
    "                    grid[i][j] is not None and grid[i][j] == text[start+1]:\n",
    "                        char = grid[x][y]\n",
    "                        grid[x][y] = None\n",
    "                        if search(i, j, start+1, text):\n",
    "                            grid[x][y] = char\n",
    "                            return True\n",
    "                        \n",
    "                        grid[x][y] = char\n",
    "                        \n",
    "                return False\n",
    "            \n",
    "        for i in range(rows):\n",
    "            for j in range(cols):\n",
    "                for char in trie:\n",
    "                    if char == grid[i][j]:\n",
    "                        search(i, j, char, trie)\n",
    "                        \n",
    "        return present"
   ]
  },
  {
   "cell_type": "code",
   "execution_count": 203,
   "id": "a65ee317",
   "metadata": {},
   "outputs": [
    {
     "name": "stdout",
     "output_type": "stream",
     "text": [
      "{'E': {'L': {'L': {'O': {'#': 'ELLO'}}}},\n",
      " 'H': {'E': {'L': {'L': {'#': 'HELL', 'O': {'#': 'HELLO'}}}}},\n",
      " 'S': {'E': {'L': {'L': {'#': 'SELL', 'O': {'#': 'SELLO'}}}}},\n",
      " 'V': {'O': {'W': {'#': 'VOW'}}}}\n"
     ]
    },
    {
     "data": {
      "text/plain": [
       "['HELLO', 'ELLO', 'ELLO', 'ELLO', 'SELL', 'SELLO', 'HELL']"
      ]
     },
     "execution_count": 203,
     "metadata": {},
     "output_type": "execute_result"
    }
   ],
   "source": [
    "o = CheckWords()\n",
    "grid = [\n",
    "    'H E L L W'.split(),\n",
    "    'E L L O B'.split(),\n",
    "    'S E P V C'.split()\n",
    "]\n",
    "o.solve(grid, ['HELLO', 'ELLO', 'SELL', 'VOW', 'SELLO', 'HELL'])"
   ]
  },
  {
   "cell_type": "code",
   "execution_count": null,
   "id": "fc432c86",
   "metadata": {},
   "outputs": [],
   "source": []
  }
 ],
 "metadata": {
  "kernelspec": {
   "display_name": "Python 3",
   "language": "python",
   "name": "python3"
  },
  "language_info": {
   "codemirror_mode": {
    "name": "ipython",
    "version": 3
   },
   "file_extension": ".py",
   "mimetype": "text/x-python",
   "name": "python",
   "nbconvert_exporter": "python",
   "pygments_lexer": "ipython3",
   "version": "3.8.8"
  }
 },
 "nbformat": 4,
 "nbformat_minor": 5
}
