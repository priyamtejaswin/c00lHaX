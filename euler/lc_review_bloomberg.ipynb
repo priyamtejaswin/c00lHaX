{
 "cells": [
  {
   "cell_type": "markdown",
   "id": "b2f5bd1a",
   "metadata": {},
   "source": [
    "# Reivew for Bloomberg"
   ]
  },
  {
   "cell_type": "markdown",
   "id": "247fa40b",
   "metadata": {},
   "source": [
    "1. WordSearch II -- search for multiple words in the same grid.\n",
    "2. Validate BST.\n",
    "---"
   ]
  },
  {
   "cell_type": "markdown",
   "id": "b0328dc3",
   "metadata": {},
   "source": [
    "## 1. Mutliple word search.\n",
    "\n",
    "Search for all words present in the list.\n",
    "\n",
    "```\n",
    "h e l p\n",
    "y p o t\n",
    "z e o t\n",
    "```\n",
    "```\n",
    "words: help, hype, hypo, lot, loot\n",
    "```"
   ]
  },
  {
   "cell_type": "code",
   "execution_count": 1,
   "id": "3f56b2d3",
   "metadata": {},
   "outputs": [],
   "source": [
    "class MultiSearch:\n",
    "    def solve(self, grid, words):\n",
    "        found = []\n",
    "        rows = len(grid)\n",
    "        cols = len(grid[0])\n",
    "        \n",
    "        def search(pos, text, x, y):\n",
    "            if grid[x][y] == text[pos]:\n",
    "                if pos == len(text)-1:\n",
    "                    return True\n",
    "                else:\n",
    "                    char = grid[x][y]\n",
    "                    grid[x][y] = None\n",
    "                    for a, b in [(x, y+1), (x+1, y), (x, y-1), (x-1, y)]:\n",
    "                        if a>=0 and a<rows and b>=0 and b<cols and grid[a][b] is not None:\n",
    "                            if search(pos+1, text, a, b):\n",
    "                                grid[x][y] = char\n",
    "                                return True\n",
    "                            \n",
    "                    grid[x][y] = char\n",
    "                    return False\n",
    "            else:\n",
    "                return False\n",
    "            \n",
    "        for w in words:\n",
    "            for i in range(rows):\n",
    "                for j in range(cols):\n",
    "                    if w[0] == grid[i][j] and search(0, w, i, j):\n",
    "                        found.append(w)\n",
    "                        \n",
    "        return found"
   ]
  },
  {
   "cell_type": "code",
   "execution_count": 23,
   "id": "5e97b337",
   "metadata": {},
   "outputs": [
    {
     "data": {
      "text/plain": [
       "['help', 'hype', 'hypo', 'lot', 'loot', 'plot', 'pole']"
      ]
     },
     "execution_count": 23,
     "metadata": {},
     "output_type": "execute_result"
    }
   ],
   "source": [
    "grid = [\n",
    "    list('help'),\n",
    "    list('ypot'),\n",
    "    list('zeot')\n",
    "]\n",
    "t = MultiSearch()\n",
    "t.solve(grid, ['help', 'hype', 'hypo', 'lot', 'loot', 'pyre', 'plot', 'pole'])"
   ]
  },
  {
   "cell_type": "code",
   "execution_count": 21,
   "id": "a7d37e20",
   "metadata": {},
   "outputs": [],
   "source": [
    "class MultiTrie:\n",
    "    def solve(self, grid, words):\n",
    "        rows = len(grid)\n",
    "        cols = len(grid[0])\n",
    "        found = []\n",
    "        \n",
    "        trie = {}\n",
    "        for w in words:\n",
    "            root = trie\n",
    "            for c in w:\n",
    "                root[c] = root.get(c, {})\n",
    "                root = root[c]\n",
    "            root['#'] = w\n",
    "            \n",
    "        def search(char, child, parent, x, y):\n",
    "            if '#' in child:\n",
    "                found.append(child['#'])\n",
    "                del child['#']\n",
    "            else:\n",
    "                t = grid[x][y]\n",
    "                grid[x][y] = None\n",
    "                for a, b in [(x, y+1), (x+1, y), (x, y-1), (x-1, y)]:\n",
    "                        if a>=0 and a<rows and b>=0 and b<cols and grid[a][b] is not None and grid[a][b] in child:\n",
    "                            search(grid[a][b], child[grid[a][b]], child, a, b)\n",
    "                            if len(child[grid[a][b]]) == 0:\n",
    "                                del child[grid[a][b]]\n",
    "                            \n",
    "                grid[x][y] = t\n",
    "            \n",
    "        for root, child in trie.items():\n",
    "            for i in range(rows):\n",
    "                for j in range(cols):\n",
    "                    if grid[i][j] == root:\n",
    "                        search(root, child, trie, i, j)\n",
    "                        \n",
    "        return found"
   ]
  },
  {
   "cell_type": "markdown",
   "id": "5f321b48",
   "metadata": {},
   "source": [
    "```\n",
    "{   'h': {   'e': {'l': {'p': {'#': 'help'}}},\n",
    "             'y': {'p': {'e': {'#': 'hype'}, 'o': {'#': 'hypo'}}}},\n",
    "    'l': {'o': {'o': {'t': {'#': 'loot'}}, 't': {'#': 'lot'}}},\n",
    "    'p': {'y': {'r': {'e': {'#': 'pyre'}}}}}\n",
    "```"
   ]
  },
  {
   "cell_type": "code",
   "execution_count": 24,
   "id": "b2256c6e",
   "metadata": {},
   "outputs": [
    {
     "data": {
      "text/plain": [
       "['help', 'hypo', 'hype', 'lot', 'loot', 'plot', 'pole']"
      ]
     },
     "execution_count": 24,
     "metadata": {},
     "output_type": "execute_result"
    }
   ],
   "source": [
    "t = MultiTrie()\n",
    "t.solve(grid, ['help', 'hype', 'hypo', 'lot', 'loot', 'pyre', 'plot', 'pole'])"
   ]
  },
  {
   "cell_type": "markdown",
   "id": "6d0eeafc",
   "metadata": {},
   "source": [
    "## 2. Validate a BST"
   ]
  },
  {
   "cell_type": "code",
   "execution_count": 29,
   "id": "1fa06f83",
   "metadata": {},
   "outputs": [],
   "source": [
    "class Node:\n",
    "    def __init__(self, val, left=None, right=None):\n",
    "        self.val = val\n",
    "        self.left = left\n",
    "        self.right = right\n",
    "        \n",
    "five = Node(5)\n",
    "two = Node(2)\n",
    "three = Node(6)\n",
    "ten = Node(10)\n",
    "nine = Node(9)\n",
    "twenty = Node(20)\n",
    "\n",
    "five.left = two\n",
    "two.right = three\n",
    "five.right = ten\n",
    "ten.left = nine\n",
    "ten.right = twenty"
   ]
  },
  {
   "cell_type": "code",
   "execution_count": 30,
   "id": "a01acca3",
   "metadata": {},
   "outputs": [],
   "source": [
    "class ValidateBST:\n",
    "    def solve(self, root):\n",
    "        \n",
    "        def check(node, smallest=-float('inf'), biggest=float('inf')):\n",
    "            if node is None:\n",
    "                return True\n",
    "            else:\n",
    "                if node.val < smallest or node.val > biggest:\n",
    "                    return False\n",
    "                else:\n",
    "                    return check(node.left, smallest, node.val) and check(node.right, node.val, biggest)\n",
    "                \n",
    "        return check(root)"
   ]
  },
  {
   "cell_type": "code",
   "execution_count": 31,
   "id": "d76603c8",
   "metadata": {},
   "outputs": [
    {
     "data": {
      "text/plain": [
       "False"
      ]
     },
     "execution_count": 31,
     "metadata": {},
     "output_type": "execute_result"
    }
   ],
   "source": [
    "t = ValidateBST()\n",
    "t.solve(five)"
   ]
  },
  {
   "cell_type": "code",
   "execution_count": null,
   "id": "8e1d789b",
   "metadata": {},
   "outputs": [],
   "source": []
  },
  {
   "cell_type": "code",
   "execution_count": null,
   "id": "45b0df99",
   "metadata": {},
   "outputs": [],
   "source": []
  },
  {
   "cell_type": "code",
   "execution_count": null,
   "id": "87f1486b",
   "metadata": {},
   "outputs": [],
   "source": []
  },
  {
   "cell_type": "code",
   "execution_count": null,
   "id": "ec41eaee",
   "metadata": {},
   "outputs": [],
   "source": []
  },
  {
   "cell_type": "code",
   "execution_count": null,
   "id": "2d8aca59",
   "metadata": {},
   "outputs": [],
   "source": []
  },
  {
   "cell_type": "code",
   "execution_count": null,
   "id": "ac826dae",
   "metadata": {},
   "outputs": [],
   "source": []
  },
  {
   "cell_type": "code",
   "execution_count": null,
   "id": "abf7fdc1",
   "metadata": {},
   "outputs": [],
   "source": []
  },
  {
   "cell_type": "code",
   "execution_count": null,
   "id": "1ef0a626",
   "metadata": {},
   "outputs": [],
   "source": []
  },
  {
   "cell_type": "code",
   "execution_count": 19,
   "id": "7367e169",
   "metadata": {},
   "outputs": [
    {
     "data": {
      "text/plain": [
       "3e-05"
      ]
     },
     "execution_count": 19,
     "metadata": {},
     "output_type": "execute_result"
    }
   ],
   "source": [
    "3e-5"
   ]
  },
  {
   "cell_type": "code",
   "execution_count": 20,
   "id": "caec648a",
   "metadata": {},
   "outputs": [
    {
     "data": {
      "text/plain": [
       "['NOT ENOUGH INFO', 'REFUTES', 'SUPPORTS']"
      ]
     },
     "execution_count": 20,
     "metadata": {},
     "output_type": "execute_result"
    }
   ],
   "source": [
    "sorted(['REFUTES', 'SUPPORTS', 'NOT ENOUGH INFO'])"
   ]
  },
  {
   "cell_type": "code",
   "execution_count": null,
   "id": "e276c4ec",
   "metadata": {},
   "outputs": [],
   "source": []
  },
  {
   "cell_type": "code",
   "execution_count": null,
   "id": "89875a29",
   "metadata": {},
   "outputs": [],
   "source": []
  },
  {
   "cell_type": "code",
   "execution_count": 12,
   "id": "dce56e80",
   "metadata": {},
   "outputs": [
    {
     "name": "stdout",
     "output_type": "stream",
     "text": [
      "Collecting prettyprint\n",
      "  Downloading prettyprint-0.1.5.tar.gz (2.1 kB)\n",
      "Building wheels for collected packages: prettyprint\n",
      "  Building wheel for prettyprint (setup.py) ... \u001b[?25ldone\n",
      "\u001b[?25h  Created wheel for prettyprint: filename=prettyprint-0.1.5-py3-none-any.whl size=3039 sha256=ceabc110b1d9fadac0d269d94986935b2bb97c7c928bf0f20a12d830b5481f45\n",
      "  Stored in directory: /Users/priyamtejaswin/Library/Caches/pip/wheels/c4/81/92/54beb9fb206629688deee798101947c7b843e1dc303619c9fb\n",
      "Successfully built prettyprint\n",
      "Installing collected packages: prettyprint\n",
      "Successfully installed prettyprint-0.1.5\n"
     ]
    }
   ],
   "source": []
  },
  {
   "cell_type": "code",
   "execution_count": null,
   "id": "d81c0f43",
   "metadata": {},
   "outputs": [],
   "source": []
  }
 ],
 "metadata": {
  "kernelspec": {
   "display_name": "base",
   "language": "python",
   "name": "base"
  },
  "language_info": {
   "codemirror_mode": {
    "name": "ipython",
    "version": 3
   },
   "file_extension": ".py",
   "mimetype": "text/x-python",
   "name": "python",
   "nbconvert_exporter": "python",
   "pygments_lexer": "ipython3",
   "version": "3.8.8"
  }
 },
 "nbformat": 4,
 "nbformat_minor": 5
}
