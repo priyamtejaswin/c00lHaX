{
 "cells": [
  {
   "cell_type": "markdown",
   "id": "86aa0786",
   "metadata": {},
   "source": [
    "1. Happy Number. Given a number, take square of all digits, and add them. If sum is 1, HAPPY, if it cycles, not.\n",
    "2. Construct the largest number from an array.\n",
    "3. Fast power. Comute $x^n$, _quickly_."
   ]
  },
  {
   "cell_type": "markdown",
   "id": "26d578d3",
   "metadata": {},
   "source": [
    "---"
   ]
  },
  {
   "cell_type": "markdown",
   "id": "3df4b61b",
   "metadata": {},
   "source": [
    "# 1. Happy Number?\n",
    "\n",
    "Can you determine, algorithmically, if it will be a happy number?"
   ]
  },
  {
   "cell_type": "markdown",
   "id": "f86c4cfe",
   "metadata": {},
   "source": [
    "If the same pattern of digits repeats, discounting the number of zeros, then it will repeat endlessly ...\n",
    "\n",
    "Can you prove that this will always terminate?\n",
    "* For the largest 3 digit number `999`, the next number is `243`\n",
    "* For the largest 4 digit number `9999`, the next number is `324`\n",
    "* For the largest 10 digit number `9999....`, the next number if `810`\n",
    "\n",
    "Eventually, the number will come down, regardless of where is starts, and it will either terminate, or cycle."
   ]
  },
  {
   "cell_type": "code",
   "execution_count": 4,
   "id": "151d56b1",
   "metadata": {},
   "outputs": [],
   "source": [
    "class HappyNumber:\n",
    "    def solve(self, number):\n",
    "        if number == 0:\n",
    "            return False\n",
    "        \n",
    "        def sumsq(n):\n",
    "            a = 0\n",
    "            while n != 0:\n",
    "                a += (n%10)**2\n",
    "                n = n//10\n",
    "            return a\n",
    "        \n",
    "        seen = set()\n",
    "        def happy(n):\n",
    "            x = sumsq(n)\n",
    "            if x == 1:\n",
    "                return True\n",
    "            elif x in seen:\n",
    "                return False\n",
    "            else:\n",
    "                seen.add(x)\n",
    "                return happy(x)\n",
    "            \n",
    "        return happy(number)"
   ]
  },
  {
   "cell_type": "code",
   "execution_count": 8,
   "id": "25595b2f",
   "metadata": {},
   "outputs": [
    {
     "data": {
      "text/plain": [
       "False"
      ]
     },
     "execution_count": 8,
     "metadata": {},
     "output_type": "execute_result"
    }
   ],
   "source": [
    "o = HappyNumber()\n",
    "o.solve(101)"
   ]
  },
  {
   "cell_type": "markdown",
   "id": "d9801ddb",
   "metadata": {},
   "source": [
    "# 2. Construct the largest number from an array."
   ]
  },
  {
   "cell_type": "markdown",
   "id": "5ca33900",
   "metadata": {},
   "source": [
    "Create a number by concatenating array elements, in any order."
   ]
  },
  {
   "cell_type": "markdown",
   "id": "08acf11a",
   "metadata": {},
   "source": [
    "One way is to consider all `n!` permutations.\n",
    "\n",
    "But you know, a number starting from 9 is greater than a number starting from 1."
   ]
  },
  {
   "cell_type": "markdown",
   "id": "4f9aeafe",
   "metadata": {},
   "source": [
    "So, start by sorting numbers in reverse lex order -- everything beginning with `9*` is first, then `8*` and so on ..."
   ]
  },
  {
   "cell_type": "code",
   "execution_count": 30,
   "id": "01c74ba0",
   "metadata": {},
   "outputs": [],
   "source": [
    "class ConstructLargest:\n",
    "    def solve(self, numbers):\n",
    "        lex = list(sorted([str(n) for n in numbers], reverse=True))\n",
    "        for i in range(len(lex)-1):\n",
    "            first = lex[i]\n",
    "            second = lex[i+1]\n",
    "            if first + second < second + first:\n",
    "                lex[i], lex[i+1] = second, first\n",
    "                \n",
    "        return int(''.join(lex))"
   ]
  },
  {
   "cell_type": "code",
   "execution_count": 31,
   "id": "7faea590",
   "metadata": {},
   "outputs": [
    {
     "data": {
      "text/plain": [
       "99918"
      ]
     },
     "execution_count": 31,
     "metadata": {},
     "output_type": "execute_result"
    }
   ],
   "source": [
    "o = ConstructLargest()\n",
    "o.solve([9, 991, 8])"
   ]
  },
  {
   "cell_type": "code",
   "execution_count": 20,
   "id": "ad758b84",
   "metadata": {},
   "outputs": [
    {
     "data": {
      "text/plain": [
       "False"
      ]
     },
     "execution_count": 20,
     "metadata": {},
     "output_type": "execute_result"
    }
   ],
   "source": [
    "'99' > '991'"
   ]
  },
  {
   "cell_type": "code",
   "execution_count": 21,
   "id": "d42ea7f7",
   "metadata": {},
   "outputs": [
    {
     "data": {
      "text/plain": [
       "True"
      ]
     },
     "execution_count": 21,
     "metadata": {},
     "output_type": "execute_result"
    }
   ],
   "source": [
    "'99991' > '99199'"
   ]
  },
  {
   "cell_type": "code",
   "execution_count": 19,
   "id": "7827d9b9",
   "metadata": {},
   "outputs": [
    {
     "data": {
      "text/plain": [
       "False"
      ]
     },
     "execution_count": 19,
     "metadata": {},
     "output_type": "execute_result"
    }
   ],
   "source": [
    "'30' > '33'"
   ]
  },
  {
   "cell_type": "markdown",
   "id": "82b35be1",
   "metadata": {},
   "source": [
    "# 3. Fast Power.\n",
    "\n",
    "Compute $x^n$"
   ]
  },
  {
   "cell_type": "code",
   "execution_count": 32,
   "id": "063ff828",
   "metadata": {},
   "outputs": [],
   "source": [
    "class FastPower:\n",
    "    def solve(self, x, n):\n",
    "        assert n >= 1\n",
    "        \n",
    "        def power(e):\n",
    "            if e == 1:\n",
    "                return x\n",
    "            else:\n",
    "                half = power(e//2)\n",
    "                if e%2 == 0:\n",
    "                    return half * half\n",
    "                else:\n",
    "                    return half * half * x\n",
    "                \n",
    "        return power(n)"
   ]
  },
  {
   "cell_type": "code",
   "execution_count": 33,
   "id": "b6819c7c",
   "metadata": {},
   "outputs": [],
   "source": [
    "o = FastPower()\n",
    "o.solve()"
   ]
  }
 ],
 "metadata": {
  "kernelspec": {
   "display_name": "base",
   "language": "python",
   "name": "base"
  },
  "language_info": {
   "codemirror_mode": {
    "name": "ipython",
    "version": 3
   },
   "file_extension": ".py",
   "mimetype": "text/x-python",
   "name": "python",
   "nbconvert_exporter": "python",
   "pygments_lexer": "ipython3",
   "version": "3.8.8"
  }
 },
 "nbformat": 4,
 "nbformat_minor": 5
}
