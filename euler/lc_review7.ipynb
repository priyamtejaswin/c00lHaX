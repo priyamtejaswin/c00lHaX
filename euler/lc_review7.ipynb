{
 "cells": [
  {
   "cell_type": "markdown",
   "id": "03b69b9e",
   "metadata": {},
   "source": [
    "1. Happy Number. Given a number, take square of all digits, and add them. If sum is 1, HAPPY, if it cycles, not.\n",
    "2. Construct the largest number from an array.\n",
    "3. Fast power. Comute $x^n$, _quickly_.\n",
    "4. Longest increasing subsequence.\n",
    "5. Skyline Problem.\n",
    "6. Jump Game III -- **Always consider BFS for a graph problem!**\n",
    "7. Jump Game IV -- **Always consider BFS for a graph problem!**"
   ]
  },
  {
   "cell_type": "markdown",
   "id": "8c7d3ad1",
   "metadata": {},
   "source": [
    "---"
   ]
  },
  {
   "cell_type": "markdown",
   "id": "b1eb930b",
   "metadata": {},
   "source": [
    "# 1. Happy Number?\n",
    "\n",
    "Can you determine, algorithmically, if it will be a happy number?"
   ]
  },
  {
   "cell_type": "markdown",
   "id": "72debcd8",
   "metadata": {},
   "source": [
    "If the same pattern of digits repeats, discounting the number of zeros, then it will repeat endlessly ...\n",
    "\n",
    "Can you prove that this will always terminate?\n",
    "* For the largest 3 digit number `999`, the next number is `243`\n",
    "* For the largest 4 digit number `9999`, the next number is `324`\n",
    "* For the largest 10 digit number `9999....`, the next number if `810`\n",
    "\n",
    "Eventually, the number will come down, regardless of where is starts, and it will either terminate, or cycle."
   ]
  },
  {
   "cell_type": "code",
   "execution_count": 4,
   "id": "f2a36648",
   "metadata": {},
   "outputs": [],
   "source": [
    "class HappyNumber:\n",
    "    def solve(self, number):\n",
    "        if number == 0:\n",
    "            return False\n",
    "        \n",
    "        def sumsq(n):\n",
    "            a = 0\n",
    "            while n != 0:\n",
    "                a += (n%10)**2\n",
    "                n = n//10\n",
    "            return a\n",
    "        \n",
    "        seen = set()\n",
    "        def happy(n):\n",
    "            x = sumsq(n)\n",
    "            if x == 1:\n",
    "                return True\n",
    "            elif x in seen:\n",
    "                return False\n",
    "            else:\n",
    "                seen.add(x)\n",
    "                return happy(x)\n",
    "            \n",
    "        return happy(number)"
   ]
  },
  {
   "cell_type": "code",
   "execution_count": 8,
   "id": "04ac362b",
   "metadata": {},
   "outputs": [
    {
     "data": {
      "text/plain": [
       "False"
      ]
     },
     "execution_count": 8,
     "metadata": {},
     "output_type": "execute_result"
    }
   ],
   "source": [
    "o = HappyNumber()\n",
    "o.solve(101)"
   ]
  },
  {
   "cell_type": "markdown",
   "id": "bbbb35a8",
   "metadata": {},
   "source": [
    "# 2. Construct the largest number from an array."
   ]
  },
  {
   "cell_type": "markdown",
   "id": "36f0bbb5",
   "metadata": {},
   "source": [
    "Create a number by concatenating array elements, in any order."
   ]
  },
  {
   "cell_type": "markdown",
   "id": "58b17d88",
   "metadata": {},
   "source": [
    "One way is to consider all `n!` permutations.\n",
    "\n",
    "But you know, a number starting from 9 is greater than a number starting from 1."
   ]
  },
  {
   "cell_type": "markdown",
   "id": "48f6c3a7",
   "metadata": {},
   "source": [
    "So, start by sorting numbers in reverse lex order -- everything beginning with `9*` is first, then `8*` and so on ..."
   ]
  },
  {
   "cell_type": "code",
   "execution_count": 30,
   "id": "e3af73b1",
   "metadata": {},
   "outputs": [],
   "source": [
    "class ConstructLargest:\n",
    "    def solve(self, numbers):\n",
    "        lex = list(sorted([str(n) for n in numbers], reverse=True))\n",
    "        for i in range(len(lex)-1):\n",
    "            first = lex[i]\n",
    "            second = lex[i+1]\n",
    "            if first + second < second + first:\n",
    "                lex[i], lex[i+1] = second, first\n",
    "                \n",
    "        return int(''.join(lex))"
   ]
  },
  {
   "cell_type": "code",
   "execution_count": 31,
   "id": "7c7dd37b",
   "metadata": {},
   "outputs": [
    {
     "data": {
      "text/plain": [
       "99918"
      ]
     },
     "execution_count": 31,
     "metadata": {},
     "output_type": "execute_result"
    }
   ],
   "source": [
    "o = ConstructLargest()\n",
    "o.solve([9, 991, 8])"
   ]
  },
  {
   "cell_type": "code",
   "execution_count": 20,
   "id": "171b2cca",
   "metadata": {},
   "outputs": [
    {
     "data": {
      "text/plain": [
       "False"
      ]
     },
     "execution_count": 20,
     "metadata": {},
     "output_type": "execute_result"
    }
   ],
   "source": [
    "'99' > '991'"
   ]
  },
  {
   "cell_type": "code",
   "execution_count": 21,
   "id": "d6dd2b47",
   "metadata": {},
   "outputs": [
    {
     "data": {
      "text/plain": [
       "True"
      ]
     },
     "execution_count": 21,
     "metadata": {},
     "output_type": "execute_result"
    }
   ],
   "source": [
    "'99991' > '99199'"
   ]
  },
  {
   "cell_type": "code",
   "execution_count": 19,
   "id": "ba918893",
   "metadata": {},
   "outputs": [
    {
     "data": {
      "text/plain": [
       "False"
      ]
     },
     "execution_count": 19,
     "metadata": {},
     "output_type": "execute_result"
    }
   ],
   "source": [
    "'30' > '33'"
   ]
  },
  {
   "cell_type": "markdown",
   "id": "8f3ed818",
   "metadata": {},
   "source": [
    "# 3. Fast Power.\n",
    "\n",
    "Compute $x^n$"
   ]
  },
  {
   "cell_type": "code",
   "execution_count": 32,
   "id": "b4116b2f",
   "metadata": {},
   "outputs": [],
   "source": [
    "class FastPower:\n",
    "    def solve(self, x, n):\n",
    "        assert n >= 1\n",
    "        \n",
    "        def power(e):\n",
    "            if e == 1:\n",
    "                return x\n",
    "            else:\n",
    "                half = power(e//2)\n",
    "                if e%2 == 0:\n",
    "                    return half * half\n",
    "                else:\n",
    "                    return half * half * x\n",
    "                \n",
    "        return power(n)"
   ]
  },
  {
   "cell_type": "code",
   "execution_count": 36,
   "id": "2ec5a3c1",
   "metadata": {},
   "outputs": [
    {
     "data": {
      "text/plain": [
       "2048"
      ]
     },
     "execution_count": 36,
     "metadata": {},
     "output_type": "execute_result"
    }
   ],
   "source": [
    "o = FastPower()\n",
    "o.solve(2, 11)"
   ]
  },
  {
   "cell_type": "markdown",
   "id": "b4d42e46",
   "metadata": {},
   "source": [
    "# 4. Longest Increasing Subsequence."
   ]
  },
  {
   "cell_type": "markdown",
   "id": "af72d687",
   "metadata": {},
   "source": [
    "Given an array of randomly ordered number, find the length of the longest increasing subsequence.\n",
    "```\n",
    "[3, 4, 5, 1] => 3\n",
    "[1, 6, 17, 2, 3, 15, 7] => 4\n",
    "```"
   ]
  },
  {
   "cell_type": "code",
   "execution_count": 43,
   "id": "7aba4a7c",
   "metadata": {},
   "outputs": [],
   "source": [
    "class LongestIncSub:\n",
    "    def solve(self, nums):\n",
    "        def sar(x, array):\n",
    "            if len(array) == 1:\n",
    "                array[0] = x\n",
    "            else:\n",
    "                start = 0\n",
    "                end = len(array) - 1\n",
    "                while start <= end:\n",
    "                    mid = start + (end - start)//2\n",
    "                    if array[mid] >= x:\n",
    "                        end = mid - 1\n",
    "                    else:\n",
    "                        start = mid + 1\n",
    "                        \n",
    "                array[end+1] = x\n",
    "        \n",
    "        temp = []\n",
    "        for n in nums:\n",
    "            if temp:\n",
    "                if n == temp[-1]:\n",
    "                    pass\n",
    "                elif n > temp[-1]:\n",
    "                    temp.append(n)\n",
    "                else:\n",
    "                    # Search and replace.\n",
    "                    sar(n, temp)\n",
    "            else:\n",
    "                temp.append(n)\n",
    "                \n",
    "        print(temp)\n",
    "        return len(temp)"
   ]
  },
  {
   "cell_type": "code",
   "execution_count": 46,
   "id": "4366b74f",
   "metadata": {},
   "outputs": [
    {
     "name": "stdout",
     "output_type": "stream",
     "text": [
      "[1, 4, 5]\n",
      "3\n",
      "[1, 2, 3, 7]\n",
      "4\n"
     ]
    }
   ],
   "source": [
    "o = LongestIncSub()\n",
    "print(o.solve([3, 4, 5, 1]))\n",
    "print(o.solve([1, 6, 17, 2, 3, 15, 7]))"
   ]
  },
  {
   "cell_type": "markdown",
   "id": "5060e6e5",
   "metadata": {},
   "source": [
    "# 5. Skyline Problem\n",
    "\n",
    "Given building `(start, end, height)` triples, can you build a skyline? I.e. the (x, y) coordinate pairs where the height changes."
   ]
  },
  {
   "cell_type": "markdown",
   "id": "ba26f57b",
   "metadata": {},
   "source": [
    "You are encountering buildings.\n",
    "\n",
    "Every time you encounter a new building's start or end, you need to query the highest point at the moment.\n",
    "And that will become the outline."
   ]
  },
  {
   "cell_type": "code",
   "execution_count": 60,
   "id": "5b7c8fca",
   "metadata": {},
   "outputs": [],
   "source": [
    "from collections import namedtuple\n",
    "\n",
    "class Skyline:\n",
    "    def solve(self, buildings):\n",
    "        skyline = []\n",
    "        tracker = []\n",
    "        Building = namedtuple(\"building\", [\"start\", \"end\", \"height\"])\n",
    "        buildings = [Building(*b) for b in buildings]\n",
    "        \n",
    "        Point = namedtuple(\"point\", [\"position\", \"height\", \"building\", \"isStart\"])\n",
    "        data = sorted([Point(b.start, b.height, ix, True) for ix, b in enumerate(buildings)] +\\\n",
    "                      [Point(b.end, b.height, ix, False) for ix, b in enumerate(buildings)], \n",
    "                      key=lambda b:b.position)\n",
    "        \n",
    "        for p in data:\n",
    "            if p.isStart:\n",
    "                tracker.append(p)\n",
    "                best = max([b.height for b in tracker])\n",
    "            else:\n",
    "                best = max([b.height for b in tracker if b.building != p.building] + [0])\n",
    "                \n",
    "            if skyline:\n",
    "                if skyline[-1] != best:\n",
    "                    skyline.append(best)\n",
    "            else:\n",
    "                skyline.append(best)\n",
    "                \n",
    "        return skyline"
   ]
  },
  {
   "cell_type": "code",
   "execution_count": 61,
   "id": "a00c544b",
   "metadata": {},
   "outputs": [
    {
     "data": {
      "text/plain": [
       "[4, 8, 4, 8]"
      ]
     },
     "execution_count": 61,
     "metadata": {},
     "output_type": "execute_result"
    }
   ],
   "source": [
    "o = Skyline()\n",
    "o.solve([(1, 3, 4), (2, 6, 8), (5, 10, 2), (12, 13, 1), (13, 14, 2)])"
   ]
  },
  {
   "cell_type": "code",
   "execution_count": 63,
   "id": "2e865f0b",
   "metadata": {},
   "outputs": [
    {
     "data": {
      "text/plain": [
       "inf"
      ]
     },
     "execution_count": 63,
     "metadata": {},
     "output_type": "execute_result"
    }
   ],
   "source": [
    "1 + float('inf')"
   ]
  },
  {
   "cell_type": "markdown",
   "id": "26755852",
   "metadata": {},
   "source": [
    "6 qualifying courses + 1 elective\n",
    "\n",
    "Any two SCS courses may count as qualifying.\n",
    "\n",
    "1 course from each area.\n",
    "\n",
    "1st sem:\n",
    "* Advanced NLP (11-711): qualifying and Human Language area\n",
    "* Intro to ML (10-701): qualifying and Machine Learning area\n",
    "* Statistics (36-700): elective\n",
    "* Elective done, 2/6 qualifying done, 1 SCS qualifying left\n",
    "\n",
    "2nd Sem:\n",
    "* PGM (10-708): qualifying, SCS\n",
    "* Convex Optimization: extra\n",
    "* Multimodal: qualifying\n",
    "* 4/6 qualifying done, 0 SCS left, Applications area left\n",
    "\n",
    "3rd Sem:\n",
    "* Speech Processing 11-751: qualifying and Applications area\n",
    "* Langauge And Statistics 11-611: qualifying"
   ]
  },
  {
   "cell_type": "markdown",
   "id": "b96feb20",
   "metadata": {},
   "source": [
    "# 6. Jump Game III\n",
    "\n",
    "https://leetcode.com/problems/jump-game-iii/\n",
    "\n",
    "You are given an array of non-neg numbers and a starting location. From each position `i`, you can move `array[i]` steps to the left or to the right. Return true if you can eventually end in any position `j` where `array[j]` is 0."
   ]
  },
  {
   "cell_type": "code",
   "execution_count": 71,
   "id": "680bb8e3",
   "metadata": {},
   "outputs": [],
   "source": [
    "from functools import lru_cache\n",
    "\n",
    "class JumpGame3:\n",
    "    def solve(self, arr, start):\n",
    "        # sink = set([i for i, n in enumerate(arr) if n == 0])\n",
    "        @lru_cache(maxsize=None)\n",
    "        def search(i):\n",
    "            if i >= len(arr) or i < 0:\n",
    "                return False\n",
    "            elif arr[i] == 0:\n",
    "                return True\n",
    "            else:\n",
    "                val = arr[i]\n",
    "                arr[i] = None\n",
    "                for temp in [i+val, i-val]:\n",
    "                    if temp >= 0 and temp < len(arr) and arr[temp] is not None and search(temp):\n",
    "                        arr[i] = val\n",
    "                        return True\n",
    "                    \n",
    "                arr[i] = val\n",
    "                return False\n",
    "            \n",
    "        return search(start)"
   ]
  },
  {
   "cell_type": "code",
   "execution_count": 72,
   "id": "0a1650d1",
   "metadata": {},
   "outputs": [
    {
     "name": "stdout",
     "output_type": "stream",
     "text": [
      "True\n",
      "True\n"
     ]
    }
   ],
   "source": [
    "o = JumpGame3()\n",
    "print(o.solve([4,2,3,0,3,1,2], 5))\n",
    "print(o.solve([4,2,3,0,3,1,2], 0))"
   ]
  },
  {
   "cell_type": "code",
   "execution_count": 76,
   "id": "c04a05d4",
   "metadata": {},
   "outputs": [
    {
     "name": "stdout",
     "output_type": "stream",
     "text": [
      "False\n"
     ]
    }
   ],
   "source": [
    "print(o.solve([3,0,2,1,2], 2))"
   ]
  },
  {
   "cell_type": "code",
   "execution_count": 83,
   "id": "2f9e4c72",
   "metadata": {},
   "outputs": [],
   "source": [
    "from collections import deque\n",
    "\n",
    "class JumpGame3BFS:\n",
    "    def solve(self, arr, start):\n",
    "        seen = set()\n",
    "        q = deque([start])\n",
    "        while q:\n",
    "            i = q.popleft()\n",
    "            if i >= 0 and i < len(arr) and i not in seen:\n",
    "                if arr[i] == 0:\n",
    "                    return True\n",
    "                else:\n",
    "                    seen.add(i)\n",
    "                    q.append(i + arr[i])\n",
    "                    q.append(i - arr[i])\n",
    "                    \n",
    "        return False"
   ]
  },
  {
   "cell_type": "code",
   "execution_count": 86,
   "id": "baf3e3b0",
   "metadata": {},
   "outputs": [
    {
     "name": "stdout",
     "output_type": "stream",
     "text": [
      "True\n",
      "True\n"
     ]
    }
   ],
   "source": [
    "o = JumpGame3BFS()\n",
    "print(o.solve([4,2,3,0,3,1,2], 5))\n",
    "print(o.solve([4,2,3,0,3,1,2], 0))"
   ]
  },
  {
   "cell_type": "code",
   "execution_count": 85,
   "id": "ad03c73a",
   "metadata": {},
   "outputs": [
    {
     "name": "stdout",
     "output_type": "stream",
     "text": [
      "False\n"
     ]
    }
   ],
   "source": [
    "print(o.solve([3,0,2,1,2], 2))"
   ]
  },
  {
   "cell_type": "markdown",
   "id": "cd39576f",
   "metadata": {},
   "source": [
    "# 7. Jump Game IV\n",
    "\n",
    "You can move 1 step right, left OR jump to another index which has the same value as the current one.\n",
    "\n",
    "### **NEWSFLASH!!**\n",
    "* You CANNOT apply DFS and Memo. The cache will store the first answer it finds, which might not be the best answer.\n",
    "* Also, you cannot X-out nodes for skipping in the future -- the answer might start from the previous node that falls on the `i-1` (i.e. *left*) path.\n",
    "\n",
    "BFS on the otherhand, gives you the same run-time, but is guaranteed to return the shortest path EVERY SINGLE TIME. Becuase that is the nature of the algorithm. \n",
    "\n",
    "### Another Newsflash\n",
    "* The solution you have written gets a Memory Exceeded issue if/when there are a lot of consecutive numbers -- the graph and the queue size becomes huugeee -- you need to eliminate multiple vals: `[7, 7, 7, 7, 11] ==> [7, 7, 11]`\n",
    "* https://leetcode.com/problems/jump-game-iv/discuss/1055395/Python-BFS-w-comment"
   ]
  },
  {
   "cell_type": "code",
   "execution_count": 90,
   "id": "f7bd9a08",
   "metadata": {},
   "outputs": [],
   "source": [
    "from collections import deque\n",
    "\n",
    "class JumpGame7:\n",
    "    def solve(self, arr):\n",
    "        jumps = {}\n",
    "        for ix, v in enumerate(arr):\n",
    "            if v in jumps:\n",
    "                jumps[v].add(ix)\n",
    "            else:\n",
    "                jumps[v] = set([ix])\n",
    "                \n",
    "        graph = {}\n",
    "        for ix, v in enumerate(arr):\n",
    "            if ix not in graph:\n",
    "                graph[ix] = set()\n",
    "                \n",
    "            if ix + 1 < len(arr):\n",
    "                graph[ix].add(ix+1)\n",
    "            if ix - 1 >= 0:\n",
    "                graph[ix].add(ix-1)\n",
    "            for j in jumps[v]:\n",
    "                if ix != j:\n",
    "                    graph[ix].add(j)\n",
    "                    \n",
    "        q = deque([(0, 0)])  # Ix, Step\n",
    "        seen = set()\n",
    "        while q:\n",
    "            ix, steps = q.popleft()\n",
    "            if ix == len(arr)-1:\n",
    "                return steps\n",
    "            else:\n",
    "                if ix not in seen and ix in graph:\n",
    "                    seen.add(ix)\n",
    "                    nbrs = [n for n in graph[ix] if n not in seen]\n",
    "                    del graph[ix]\n",
    "                    for n in nbrs:\n",
    "                        q.append((n, steps+1))\n",
    "                        \n",
    "        return None"
   ]
  },
  {
   "cell_type": "code",
   "execution_count": 91,
   "id": "ccf5c533",
   "metadata": {},
   "outputs": [
    {
     "name": "stdout",
     "output_type": "stream",
     "text": [
      "3\n",
      "0\n",
      "1\n"
     ]
    }
   ],
   "source": [
    "o = JumpGame7()\n",
    "print(o.solve([100,-23,-23,404,100,23,23,23,3,404]))\n",
    "print(o.solve([7]))\n",
    "print(o.solve([7,6,9,6,9,6,9,7]))"
   ]
  },
  {
   "cell_type": "markdown",
   "id": "72cc0071",
   "metadata": {},
   "source": [
    "# 8. Jump Game V\n",
    "\n",
    "https://leetcode.com/problems/jump-game-v/\n",
    "\n",
    "Array `arr` has integers and `d` is the max jump-size. You can jump anywhere between `i-d` and `i+d` from `i`, without exiting the array. Also you can jump to `j` only if for all `k` between `i` and `j`, `arr[j] < arr[i]` and `arr[k] < arr[i]`.\n",
    "\n",
    "Starting from ANY index in `arr`, what is the max number of jumps you can make?"
   ]
  },
  {
   "cell_type": "markdown",
   "id": "1b145816",
   "metadata": {},
   "source": [
    "So, no concept of back-markers is necessary -- by definition, the jump has to be one-way, or not at all. Also, you should check and expand from `i`, outwards, because if you cannot jump to `i+1`, then you obviously cannot jump to `i+2`. "
   ]
  },
  {
   "cell_type": "markdown",
   "id": "926db32f",
   "metadata": {},
   "source": [
    "Recursively, if I am at `i`, then I need a lookup that tells me if I can jump to within `i+-2`.\n",
    "\n",
    "Then, I can do `1 + jumps(i+x)` for all possible next hops, and consider the maximum number. Again, `jump` is also a DP -- if I have visited a node, I should store it's max-jumps."
   ]
  },
  {
   "cell_type": "code",
   "execution_count": 150,
   "id": "f8534ede",
   "metadata": {},
   "outputs": [],
   "source": [
    "from collections import deque\n",
    "\n",
    "class JumpGameV:\n",
    "    def solve(self, arr, d):\n",
    "        canhop = [[False for _ in arr] for _ in arr]\n",
    "        \n",
    "        # [6,4,14,6,8,13,9,7,10,6,12]\n",
    "        \n",
    "        for i in range(len(arr)):\n",
    "            for j in range(i+1, i+d+1):\n",
    "                if j >= len(arr):\n",
    "                    break\n",
    "                    \n",
    "                if arr[j] >= arr[i]:\n",
    "                    break\n",
    "                    \n",
    "                if j == i+1:\n",
    "                    if arr[j] >= arr[i]:\n",
    "                        break\n",
    "                    else:\n",
    "                        canhop[i][j] = True\n",
    "                else:\n",
    "                    if canhop[i][j-1] and arr[j] < arr[i]:\n",
    "                        canhop[i][j] = True\n",
    "                    else:\n",
    "                        break\n",
    "                        \n",
    "            for j in range(i-d, i)[::-1]:\n",
    "                if j < 0:\n",
    "                    break\n",
    "                \n",
    "                if arr[j] >= arr[i]:\n",
    "                    break\n",
    "                    \n",
    "                if j == i-1:\n",
    "                    if arr[j] >= arr[i]:\n",
    "                        break\n",
    "                    else:\n",
    "                        canhop[i][j] = True\n",
    "                else:\n",
    "                    if canhop[i][j+1] and arr[j] < arr[i]:\n",
    "                        canhop[i][j] = True\n",
    "                    else:\n",
    "                        break\n",
    "                        \n",
    "        for row in canhop:\n",
    "            print([int(x) for x in row])\n",
    "\n",
    "        # Run BFS on this.\n",
    "        graph = {}\n",
    "        for "
   ]
  },
  {
   "cell_type": "code",
   "execution_count": 151,
   "id": "903edba5",
   "metadata": {},
   "outputs": [
    {
     "data": {
      "text/plain": [
       "[1, 2]"
      ]
     },
     "execution_count": 151,
     "metadata": {},
     "output_type": "execute_result"
    }
   ],
   "source": [
    "d = 2\n",
    "list(range(3-2, 3))"
   ]
  },
  {
   "cell_type": "code",
   "execution_count": 153,
   "id": "05427a3e",
   "metadata": {},
   "outputs": [
    {
     "name": "stdout",
     "output_type": "stream",
     "text": [
      "[0, 1, 0, 0, 0, 0, 0, 0, 0, 0, 0]\n",
      "[0, 0, 0, 0, 0, 0, 0, 0, 0, 0, 0]\n",
      "[1, 1, 0, 1, 1, 0, 0, 0, 0, 0, 0]\n",
      "[0, 0, 0, 0, 0, 0, 0, 0, 0, 0, 0]\n",
      "[0, 0, 0, 1, 0, 0, 0, 0, 0, 0, 0]\n",
      "[0, 0, 0, 1, 1, 0, 1, 1, 0, 0, 0]\n",
      "[0, 0, 0, 0, 0, 0, 0, 1, 0, 0, 0]\n",
      "[0, 0, 0, 0, 0, 0, 0, 0, 0, 0, 0]\n",
      "[0, 0, 0, 0, 0, 0, 1, 1, 0, 1, 0]\n",
      "[0, 0, 0, 0, 0, 0, 0, 0, 0, 0, 0]\n",
      "[0, 0, 0, 0, 0, 0, 0, 0, 1, 1, 0]\n",
      "3\n",
      "[0, 1, 0, 0, 0]\n",
      "[0, 0, 1, 0, 0]\n",
      "[0, 0, 0, 1, 0]\n",
      "[0, 0, 0, 0, 1]\n",
      "[0, 0, 0, 0, 0]\n",
      "5\n"
     ]
    }
   ],
   "source": [
    "o = JumpGameV()\n",
    "print(o.solve([6,4,14,6,8,13,9,7,10,6,12], 2))\n",
    "print(o.solve([7,6,5,4,3], 1))"
   ]
  },
  {
   "cell_type": "markdown",
   "id": "b9c6bcd3",
   "metadata": {},
   "source": [
    "# 9. Jump Game 6\n",
    "\n",
    "You have an array of numbers, and you start from index 0. You can jump upto `k` positions everytime. What is the maximum possible score you can get till you reach the last index?\n",
    "\n",
    "```\n",
    "[1, -1, 2, 4, -7, 3], 2 => 7\n",
    "```"
   ]
  },
  {
   "cell_type": "code",
   "execution_count": 176,
   "id": "e3305975",
   "metadata": {},
   "outputs": [],
   "source": [
    "import heapq\n",
    "\n",
    "class JumpGameVI:\n",
    "    def solve(self, nums, k):\n",
    "        scores = [nums[0]]\n",
    "        tracker = [(-nums[0], 0)]\n",
    "        \n",
    "        for ix in range(1, len(nums)):\n",
    "            n = nums[ix]\n",
    "            print(scores)\n",
    "            while tracker and tracker[0][1] < ix-k:\n",
    "                heapq.heappop(tracker)\n",
    "                \n",
    "            m = -tracker[0][0]\n",
    "            scores.append(n + m)\n",
    "            heapq.heappush(tracker, (-scores[-1], ix))\n",
    "            \n",
    "        print(scores)\n",
    "        return scores[-1]"
   ]
  },
  {
   "cell_type": "code",
   "execution_count": 177,
   "id": "e4266444",
   "metadata": {},
   "outputs": [
    {
     "name": "stdout",
     "output_type": "stream",
     "text": [
      "[1]\n",
      "[1, 0]\n",
      "[1, 0, -1]\n",
      "[1, 0, -1, 4]\n",
      "[1, 0, -1, 4, -3]\n",
      "[1, 0, -1, 4, -3, 7]\n"
     ]
    },
    {
     "data": {
      "text/plain": [
       "7"
      ]
     },
     "execution_count": 177,
     "metadata": {},
     "output_type": "execute_result"
    }
   ],
   "source": [
    "o = JumpGameVI()\n",
    "o.solve([1, -1, -2, 4, -7, 3], 2)"
   ]
  },
  {
   "cell_type": "markdown",
   "id": "bcb02dd7",
   "metadata": {},
   "source": [
    "# 9 (alt).  Jump Game 6 -- `O(n)` solution"
   ]
  },
  {
   "cell_type": "markdown",
   "id": "962f0dac",
   "metadata": {},
   "source": [
    "This tries to solve in **Linear Time**.\n",
    "\n",
    "Instead of using a heap, use a Queue:\n",
    "* Drop items on the left whose index has already passed.\n",
    "* When you see a new number, add it to the queue *from the left* in a decreasing fashion:\n",
    "    * Keep popping the items which are smaller, and *then* add this one.\n",
    "    \n",
    "**This only works because you need to keep track of the *LARGEST* item.**"
   ]
  },
  {
   "cell_type": "code",
   "execution_count": 178,
   "id": "a66cdab8",
   "metadata": {},
   "outputs": [],
   "source": [
    "from collections import deque\n",
    "\n",
    "class JumpGameVIAlt:\n",
    "    def solve(self, nums, k):\n",
    "        q = deque([(nums[0], 0)])\n",
    "        for ix in range(1, len(nums)):\n",
    "            while q and q[0][1] < ix-k:\n",
    "                q.popleft()\n",
    "                \n",
    "            m = q[0][0]\n",
    "            v = m + nums[ix]\n",
    "            while q and q[-1][0] < v:\n",
    "                q.pop()\n",
    "            \n",
    "            q.append((v, ix))\n",
    "            \n",
    "        return q[0][0]"
   ]
  },
  {
   "cell_type": "code",
   "execution_count": 180,
   "id": "2cda480c",
   "metadata": {},
   "outputs": [
    {
     "data": {
      "text/plain": [
       "7"
      ]
     },
     "execution_count": 180,
     "metadata": {},
     "output_type": "execute_result"
    }
   ],
   "source": [
    "o = JumpGameVIAlt()\n",
    "o.solve([1, -1, -2, 4, -7, 3], 2)"
   ]
  },
  {
   "cell_type": "markdown",
   "id": "deda611e",
   "metadata": {},
   "source": [
    "# 10. Jump Game 7"
   ]
  },
  {
   "cell_type": "markdown",
   "id": "ad34cbe1",
   "metadata": {},
   "source": [
    "https://leetcode.com/problems/jump-game-vii/\n",
    "\n",
    "Binary string, you start from `0`. You have `minJump` and `maxJump` -- your jumps have to be between these two limits, and you can only jump to another `0`. Return `True` if you can reach the end."
   ]
  },
  {
   "cell_type": "markdown",
   "id": "06f29a18",
   "metadata": {},
   "source": [
    "```\n",
    "\"011010\", min=2, max=3 => True\n",
    "\n",
    "\"01101110\", min=2, max=3 => False\n",
    "```"
   ]
  },
  {
   "cell_type": "code",
   "execution_count": 181,
   "id": "7eb23af9",
   "metadata": {},
   "outputs": [],
   "source": [
    "class JumpGameVII:\n",
    "    def solve(self, s, minJump, maxJump):\n",
    "        canReachEnd = [False for _ in s]\n",
    "        if s[-1] == '0':\n",
    "            canReachEnd[-1] = True\n",
    "        else:\n",
    "            return False\n",
    "        \n",
    "        for j in range(len(s)-1, -1, -1):\n",
    "            # `j` is where you have `jumped` to,\n",
    "            # and you need to figure out if you can find a previous position\n",
    "            # `i`, which is 0, and which falls between the min-max jumps.\n",
    "            if s[j] == '1' or canReachEnd[j] is False:\n",
    "                continue\n",
    "                \n",
    "            for i in range(j-maxJump, j-minJump+1):\n",
    "                if i >= 0:\n",
    "                    if s[i] == '0':\n",
    "                        canReachEnd[i] = True\n",
    "                        \n",
    "        return canReachEnd[0]"
   ]
  },
  {
   "cell_type": "code",
   "execution_count": 184,
   "id": "bbd1484e",
   "metadata": {},
   "outputs": [
    {
     "name": "stdout",
     "output_type": "stream",
     "text": [
      "True\n",
      "False\n"
     ]
    }
   ],
   "source": [
    "o = JumpGameVII()\n",
    "print(o.solve(\"011010\", 2, 3))\n",
    "print(o.solve(\"01101110\", 2, 3))"
   ]
  },
  {
   "cell_type": "code",
   "execution_count": null,
   "id": "d7eb1324",
   "metadata": {},
   "outputs": [],
   "source": []
  },
  {
   "cell_type": "code",
   "execution_count": null,
   "id": "3be8a254",
   "metadata": {},
   "outputs": [],
   "source": []
  },
  {
   "cell_type": "code",
   "execution_count": null,
   "id": "a2f531c6",
   "metadata": {},
   "outputs": [],
   "source": []
  },
  {
   "cell_type": "code",
   "execution_count": null,
   "id": "730ca485",
   "metadata": {},
   "outputs": [],
   "source": []
  },
  {
   "cell_type": "code",
   "execution_count": null,
   "id": "179e86d8",
   "metadata": {},
   "outputs": [],
   "source": []
  },
  {
   "cell_type": "code",
   "execution_count": null,
   "id": "fc667f76",
   "metadata": {},
   "outputs": [],
   "source": []
  }
 ],
 "metadata": {
  "kernelspec": {
   "display_name": "base",
   "language": "python",
   "name": "base"
  },
  "language_info": {
   "codemirror_mode": {
    "name": "ipython",
    "version": 3
   },
   "file_extension": ".py",
   "mimetype": "text/x-python",
   "name": "python",
   "nbconvert_exporter": "python",
   "pygments_lexer": "ipython3",
   "version": "3.8.8"
  }
 },
 "nbformat": 4,
 "nbformat_minor": 5
}
