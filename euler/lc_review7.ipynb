{
 "cells": [
  {
   "cell_type": "markdown",
   "id": "186f9746",
   "metadata": {},
   "source": [
    "1. Happy Number. Given a number, take square of all digits, and add them. If sum is 1, HAPPY, if it cycles, not."
   ]
  },
  {
   "cell_type": "markdown",
   "id": "d61bfb29",
   "metadata": {},
   "source": [
    "---"
   ]
  },
  {
   "cell_type": "markdown",
   "id": "eff3a611",
   "metadata": {},
   "source": [
    "# 1. Happy Number?\n",
    "\n",
    "Can you determine, algorithmically, if it will be a happy number?"
   ]
  },
  {
   "cell_type": "markdown",
   "id": "cc4419db",
   "metadata": {},
   "source": [
    "If the same pattern of digits repeats, discounting the number of zeros, then it will repeat endlessly ..."
   ]
  },
  {
   "cell_type": "code",
   "execution_count": 4,
   "id": "229cfd8c",
   "metadata": {},
   "outputs": [],
   "source": [
    "class HappyNumber:\n",
    "    def solve(self, number):\n",
    "        if number == 0:\n",
    "            return False\n",
    "        \n",
    "        def sumsq(n):\n",
    "            a = 0\n",
    "            while n != 0:\n",
    "                a += (n%10)**2\n",
    "                n = n//10\n",
    "            return a\n",
    "        \n",
    "        seen = set()\n",
    "        def happy(n):\n",
    "            x = sumsq(n)\n",
    "            if x == 1:\n",
    "                return True\n",
    "            elif x in seen:\n",
    "                return False\n",
    "            else:\n",
    "                seen.add(x)\n",
    "                return happy(x)\n",
    "            \n",
    "        return happy(number)"
   ]
  },
  {
   "cell_type": "code",
   "execution_count": 8,
   "id": "ac320c17",
   "metadata": {},
   "outputs": [
    {
     "data": {
      "text/plain": [
       "False"
      ]
     },
     "execution_count": 8,
     "metadata": {},
     "output_type": "execute_result"
    }
   ],
   "source": [
    "o = HappyNumber()\n",
    "o.solve(101)"
   ]
  },
  {
   "cell_type": "code",
   "execution_count": null,
   "id": "e9f393d6",
   "metadata": {},
   "outputs": [],
   "source": []
  }
 ],
 "metadata": {
  "kernelspec": {
   "display_name": "base",
   "language": "python",
   "name": "base"
  },
  "language_info": {
   "codemirror_mode": {
    "name": "ipython",
    "version": 3
   },
   "file_extension": ".py",
   "mimetype": "text/x-python",
   "name": "python",
   "nbconvert_exporter": "python",
   "pygments_lexer": "ipython3",
   "version": "3.8.8"
  }
 },
 "nbformat": 4,
 "nbformat_minor": 5
}
