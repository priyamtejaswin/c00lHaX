{
 "cells": [
  {
   "cell_type": "markdown",
   "id": "650eba90",
   "metadata": {},
   "source": [
    "1. Happy Number. Given a number, take square of all digits, and add them. If sum is 1, HAPPY, if it cycles, not.\n",
    "2. Construct the largest number from an array.\n",
    "3. Fast power. Comute $x^n$, _quickly_.\n",
    "4. Longest increasing subsequence.\n",
    "5. Skyline Problem."
   ]
  },
  {
   "cell_type": "markdown",
   "id": "32c35017",
   "metadata": {},
   "source": [
    "---"
   ]
  },
  {
   "cell_type": "markdown",
   "id": "97b3d6c1",
   "metadata": {},
   "source": [
    "# 1. Happy Number?\n",
    "\n",
    "Can you determine, algorithmically, if it will be a happy number?"
   ]
  },
  {
   "cell_type": "markdown",
   "id": "9890005a",
   "metadata": {},
   "source": [
    "If the same pattern of digits repeats, discounting the number of zeros, then it will repeat endlessly ...\n",
    "\n",
    "Can you prove that this will always terminate?\n",
    "* For the largest 3 digit number `999`, the next number is `243`\n",
    "* For the largest 4 digit number `9999`, the next number is `324`\n",
    "* For the largest 10 digit number `9999....`, the next number if `810`\n",
    "\n",
    "Eventually, the number will come down, regardless of where is starts, and it will either terminate, or cycle."
   ]
  },
  {
   "cell_type": "code",
   "execution_count": 4,
   "id": "8d5a8f5c",
   "metadata": {},
   "outputs": [],
   "source": [
    "class HappyNumber:\n",
    "    def solve(self, number):\n",
    "        if number == 0:\n",
    "            return False\n",
    "        \n",
    "        def sumsq(n):\n",
    "            a = 0\n",
    "            while n != 0:\n",
    "                a += (n%10)**2\n",
    "                n = n//10\n",
    "            return a\n",
    "        \n",
    "        seen = set()\n",
    "        def happy(n):\n",
    "            x = sumsq(n)\n",
    "            if x == 1:\n",
    "                return True\n",
    "            elif x in seen:\n",
    "                return False\n",
    "            else:\n",
    "                seen.add(x)\n",
    "                return happy(x)\n",
    "            \n",
    "        return happy(number)"
   ]
  },
  {
   "cell_type": "code",
   "execution_count": 8,
   "id": "8b76fb3e",
   "metadata": {},
   "outputs": [
    {
     "data": {
      "text/plain": [
       "False"
      ]
     },
     "execution_count": 8,
     "metadata": {},
     "output_type": "execute_result"
    }
   ],
   "source": [
    "o = HappyNumber()\n",
    "o.solve(101)"
   ]
  },
  {
   "cell_type": "markdown",
   "id": "eac07f32",
   "metadata": {},
   "source": [
    "# 2. Construct the largest number from an array."
   ]
  },
  {
   "cell_type": "markdown",
   "id": "e0747aa6",
   "metadata": {},
   "source": [
    "Create a number by concatenating array elements, in any order."
   ]
  },
  {
   "cell_type": "markdown",
   "id": "4756a206",
   "metadata": {},
   "source": [
    "One way is to consider all `n!` permutations.\n",
    "\n",
    "But you know, a number starting from 9 is greater than a number starting from 1."
   ]
  },
  {
   "cell_type": "markdown",
   "id": "b21a2fde",
   "metadata": {},
   "source": [
    "So, start by sorting numbers in reverse lex order -- everything beginning with `9*` is first, then `8*` and so on ..."
   ]
  },
  {
   "cell_type": "code",
   "execution_count": 30,
   "id": "f077367c",
   "metadata": {},
   "outputs": [],
   "source": [
    "class ConstructLargest:\n",
    "    def solve(self, numbers):\n",
    "        lex = list(sorted([str(n) for n in numbers], reverse=True))\n",
    "        for i in range(len(lex)-1):\n",
    "            first = lex[i]\n",
    "            second = lex[i+1]\n",
    "            if first + second < second + first:\n",
    "                lex[i], lex[i+1] = second, first\n",
    "                \n",
    "        return int(''.join(lex))"
   ]
  },
  {
   "cell_type": "code",
   "execution_count": 31,
   "id": "71a514e9",
   "metadata": {},
   "outputs": [
    {
     "data": {
      "text/plain": [
       "99918"
      ]
     },
     "execution_count": 31,
     "metadata": {},
     "output_type": "execute_result"
    }
   ],
   "source": [
    "o = ConstructLargest()\n",
    "o.solve([9, 991, 8])"
   ]
  },
  {
   "cell_type": "code",
   "execution_count": 20,
   "id": "4045a55e",
   "metadata": {},
   "outputs": [
    {
     "data": {
      "text/plain": [
       "False"
      ]
     },
     "execution_count": 20,
     "metadata": {},
     "output_type": "execute_result"
    }
   ],
   "source": [
    "'99' > '991'"
   ]
  },
  {
   "cell_type": "code",
   "execution_count": 21,
   "id": "f228864f",
   "metadata": {},
   "outputs": [
    {
     "data": {
      "text/plain": [
       "True"
      ]
     },
     "execution_count": 21,
     "metadata": {},
     "output_type": "execute_result"
    }
   ],
   "source": [
    "'99991' > '99199'"
   ]
  },
  {
   "cell_type": "code",
   "execution_count": 19,
   "id": "61688922",
   "metadata": {},
   "outputs": [
    {
     "data": {
      "text/plain": [
       "False"
      ]
     },
     "execution_count": 19,
     "metadata": {},
     "output_type": "execute_result"
    }
   ],
   "source": [
    "'30' > '33'"
   ]
  },
  {
   "cell_type": "markdown",
   "id": "06b8fc54",
   "metadata": {},
   "source": [
    "# 3. Fast Power.\n",
    "\n",
    "Compute $x^n$"
   ]
  },
  {
   "cell_type": "code",
   "execution_count": 32,
   "id": "60083cdd",
   "metadata": {},
   "outputs": [],
   "source": [
    "class FastPower:\n",
    "    def solve(self, x, n):\n",
    "        assert n >= 1\n",
    "        \n",
    "        def power(e):\n",
    "            if e == 1:\n",
    "                return x\n",
    "            else:\n",
    "                half = power(e//2)\n",
    "                if e%2 == 0:\n",
    "                    return half * half\n",
    "                else:\n",
    "                    return half * half * x\n",
    "                \n",
    "        return power(n)"
   ]
  },
  {
   "cell_type": "code",
   "execution_count": 36,
   "id": "8d29a4af",
   "metadata": {},
   "outputs": [
    {
     "data": {
      "text/plain": [
       "2048"
      ]
     },
     "execution_count": 36,
     "metadata": {},
     "output_type": "execute_result"
    }
   ],
   "source": [
    "o = FastPower()\n",
    "o.solve(2, 11)"
   ]
  },
  {
   "cell_type": "markdown",
   "id": "20634fa6",
   "metadata": {},
   "source": [
    "# 4. Longest Increasing Subsequence."
   ]
  },
  {
   "cell_type": "markdown",
   "id": "d0aa65a6",
   "metadata": {},
   "source": [
    "Given an array of randomly ordered number, find the length of the longest increasing subsequence.\n",
    "```\n",
    "[3, 4, 5, 1] => 3\n",
    "[1, 6, 17, 2, 3, 15, 7] => 4\n",
    "```"
   ]
  },
  {
   "cell_type": "code",
   "execution_count": 43,
   "id": "44236101",
   "metadata": {},
   "outputs": [],
   "source": [
    "class LongestIncSub:\n",
    "    def solve(self, nums):\n",
    "        def sar(x, array):\n",
    "            if len(array) == 1:\n",
    "                array[0] = x\n",
    "            else:\n",
    "                start = 0\n",
    "                end = len(array) - 1\n",
    "                while start <= end:\n",
    "                    mid = start + (end - start)//2\n",
    "                    if array[mid] >= x:\n",
    "                        end = mid - 1\n",
    "                    else:\n",
    "                        start = mid + 1\n",
    "                        \n",
    "                array[end+1] = x\n",
    "        \n",
    "        temp = []\n",
    "        for n in nums:\n",
    "            if temp:\n",
    "                if n == temp[-1]:\n",
    "                    pass\n",
    "                elif n > temp[-1]:\n",
    "                    temp.append(n)\n",
    "                else:\n",
    "                    # Search and replace.\n",
    "                    sar(n, temp)\n",
    "            else:\n",
    "                temp.append(n)\n",
    "                \n",
    "        print(temp)\n",
    "        return len(temp)"
   ]
  },
  {
   "cell_type": "code",
   "execution_count": 46,
   "id": "19c246a9",
   "metadata": {},
   "outputs": [
    {
     "name": "stdout",
     "output_type": "stream",
     "text": [
      "[1, 4, 5]\n",
      "3\n",
      "[1, 2, 3, 7]\n",
      "4\n"
     ]
    }
   ],
   "source": [
    "o = LongestIncSub()\n",
    "print(o.solve([3, 4, 5, 1]))\n",
    "print(o.solve([1, 6, 17, 2, 3, 15, 7]))"
   ]
  },
  {
   "cell_type": "markdown",
   "id": "feb085ff",
   "metadata": {},
   "source": [
    "# 5. Skyline Problem\n",
    "\n",
    "Given building `(start, end, height)` triples, can you build a skyline? I.e. the (x, y) coordinate pairs where the height changes."
   ]
  },
  {
   "cell_type": "markdown",
   "id": "e903e051",
   "metadata": {},
   "source": [
    "You are encountering buildings.\n",
    "\n",
    "Every time you encounter a new building's start or end, you need to query the highest point at the moment.\n",
    "And that will become the outline."
   ]
  },
  {
   "cell_type": "code",
   "execution_count": 60,
   "id": "f05e0cfa",
   "metadata": {},
   "outputs": [],
   "source": [
    "from collections import namedtuple\n",
    "\n",
    "class Skyline:\n",
    "    def solve(self, buildings):\n",
    "        skyline = []\n",
    "        tracker = []\n",
    "        Building = namedtuple(\"building\", [\"start\", \"end\", \"height\"])\n",
    "        buildings = [Building(*b) for b in buildings]\n",
    "        \n",
    "        Point = namedtuple(\"point\", [\"position\", \"height\", \"building\", \"isStart\"])\n",
    "        data = sorted([Point(b.start, b.height, ix, True) for ix, b in enumerate(buildings)] +\\\n",
    "                      [Point(b.end, b.height, ix, False) for ix, b in enumerate(buildings)], \n",
    "                      key=lambda b:b.position)\n",
    "        \n",
    "        for p in data:\n",
    "            if p.isStart:\n",
    "                tracker.append(p)\n",
    "                best = max([b.height for b in tracker])\n",
    "            else:\n",
    "                best = max([b.height for b in tracker if b.building != p.building] + [0])\n",
    "                \n",
    "            if skyline:\n",
    "                if skyline[-1] != best:\n",
    "                    skyline.append(best)\n",
    "            else:\n",
    "                skyline.append(best)\n",
    "                \n",
    "        return skyline"
   ]
  },
  {
   "cell_type": "code",
   "execution_count": 61,
   "id": "e816299c",
   "metadata": {},
   "outputs": [
    {
     "data": {
      "text/plain": [
       "[4, 8, 4, 8]"
      ]
     },
     "execution_count": 61,
     "metadata": {},
     "output_type": "execute_result"
    }
   ],
   "source": [
    "o = Skyline()\n",
    "o.solve([(1, 3, 4), (2, 6, 8), (5, 10, 2), (12, 13, 1), (13, 14, 2)])"
   ]
  },
  {
   "cell_type": "code",
   "execution_count": 63,
   "id": "160ad628",
   "metadata": {},
   "outputs": [
    {
     "data": {
      "text/plain": [
       "inf"
      ]
     },
     "execution_count": 63,
     "metadata": {},
     "output_type": "execute_result"
    }
   ],
   "source": [
    "1 + float('inf')"
   ]
  },
  {
   "cell_type": "markdown",
   "id": "758a4066",
   "metadata": {},
   "source": [
    "6 qualifying courses + 1 elective\n",
    "\n",
    "Any two SCS courses may count as qualifying.\n",
    "\n",
    "1 course from each area.\n",
    "\n",
    "1st sem:\n",
    "* Advanced NLP (11-711): qualifying and Human Language area\n",
    "* Intro to ML (10-701): qualifying and Machine Learning area\n",
    "* Statistics (36-700): elective\n",
    "* Elective done, 2/6 qualifying done, 1 SCS qualifying left\n",
    "\n",
    "2nd Sem:\n",
    "* PGM (10-708): qualifying, SCS\n",
    "* Convex Optimization: extra\n",
    "* Multimodal: qualifying\n",
    "* 4/6 qualifying done, 0 SCS left, Applications area left\n",
    "\n",
    "3rd Sem:\n",
    "* Speech Processing 11-751: qualifying and Applications area\n",
    "* Langauge And Statistics 11-611: qualifying"
   ]
  },
  {
   "cell_type": "markdown",
   "id": "50877f1d",
   "metadata": {},
   "source": [
    "# 6. Jump Game III\n",
    "\n",
    "https://leetcode.com/problems/jump-game-iii/\n",
    "\n",
    "You are given an array of non-neg numbers and a starting location. From each position `i`, you can move `array[i]` steps to the left or to the right. Return true if you can eventually end in any position `j` where `array[j]` is 0."
   ]
  },
  {
   "cell_type": "code",
   "execution_count": 71,
   "id": "f499f94e",
   "metadata": {},
   "outputs": [],
   "source": [
    "from functools import lru_cache\n",
    "\n",
    "class JumpGame3:\n",
    "    def solve(self, arr, start):\n",
    "        # sink = set([i for i, n in enumerate(arr) if n == 0])\n",
    "        @lru_cache(maxsize=None)\n",
    "        def search(i):\n",
    "            if i >= len(arr) or i < 0:\n",
    "                return False\n",
    "            elif arr[i] == 0:\n",
    "                return True\n",
    "            else:\n",
    "                val = arr[i]\n",
    "                arr[i] = None\n",
    "                for temp in [i+val, i-val]:\n",
    "                    if temp >= 0 and temp < len(arr) and arr[temp] is not None and search(temp):\n",
    "                        arr[i] = val\n",
    "                        return True\n",
    "                    \n",
    "                arr[i] = val\n",
    "                return False\n",
    "            \n",
    "        return search(start)"
   ]
  },
  {
   "cell_type": "code",
   "execution_count": 72,
   "id": "e848ef25",
   "metadata": {},
   "outputs": [
    {
     "name": "stdout",
     "output_type": "stream",
     "text": [
      "True\n",
      "True\n"
     ]
    }
   ],
   "source": [
    "o = JumpGame3()\n",
    "print(o.solve([4,2,3,0,3,1,2], 5))\n",
    "print(o.solve([4,2,3,0,3,1,2], 0))"
   ]
  },
  {
   "cell_type": "code",
   "execution_count": 73,
   "id": "d10229a1",
   "metadata": {},
   "outputs": [
    {
     "name": "stdout",
     "output_type": "stream",
     "text": [
      "False\n"
     ]
    }
   ],
   "source": [
    "print(o.solve([3,0,2,1,2], 2))"
   ]
  },
  {
   "cell_type": "code",
   "execution_count": null,
   "id": "9e088f7c",
   "metadata": {},
   "outputs": [],
   "source": []
  }
 ],
 "metadata": {
  "kernelspec": {
   "display_name": "base",
   "language": "python",
   "name": "base"
  },
  "language_info": {
   "codemirror_mode": {
    "name": "ipython",
    "version": 3
   },
   "file_extension": ".py",
   "mimetype": "text/x-python",
   "name": "python",
   "nbconvert_exporter": "python",
   "pygments_lexer": "ipython3",
   "version": "3.8.8"
  }
 },
 "nbformat": 4,
 "nbformat_minor": 5
}
