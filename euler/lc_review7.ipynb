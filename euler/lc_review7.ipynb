{
 "cells": [
  {
   "cell_type": "markdown",
   "id": "479ed98a",
   "metadata": {},
   "source": [
    "1. Happy Number. Given a number, take square of all digits, and add them. If sum is 1, HAPPY, if it cycles, not.\n",
    "2. Construct the largest number from an array.\n",
    "3. Fast power. Comute $x^n$, _quickly_.\n",
    "4. Longest increasing subsequence.\n",
    "5. Skyline Problem.\n",
    "6. Jump Game III -- **Always consider BFS for a graph problem!**\n",
    "7. Jump Game IV -- **Always consider BFS for a graph problem!**"
   ]
  },
  {
   "cell_type": "markdown",
   "id": "0d8cd3c7",
   "metadata": {},
   "source": [
    "---"
   ]
  },
  {
   "cell_type": "markdown",
   "id": "59d7dca5",
   "metadata": {},
   "source": [
    "# 1. Happy Number?\n",
    "\n",
    "Can you determine, algorithmically, if it will be a happy number?"
   ]
  },
  {
   "cell_type": "markdown",
   "id": "1c3bf4b1",
   "metadata": {},
   "source": [
    "If the same pattern of digits repeats, discounting the number of zeros, then it will repeat endlessly ...\n",
    "\n",
    "Can you prove that this will always terminate?\n",
    "* For the largest 3 digit number `999`, the next number is `243`\n",
    "* For the largest 4 digit number `9999`, the next number is `324`\n",
    "* For the largest 10 digit number `9999....`, the next number if `810`\n",
    "\n",
    "Eventually, the number will come down, regardless of where is starts, and it will either terminate, or cycle."
   ]
  },
  {
   "cell_type": "code",
   "execution_count": 4,
   "id": "6d8ba0a5",
   "metadata": {},
   "outputs": [],
   "source": [
    "class HappyNumber:\n",
    "    def solve(self, number):\n",
    "        if number == 0:\n",
    "            return False\n",
    "        \n",
    "        def sumsq(n):\n",
    "            a = 0\n",
    "            while n != 0:\n",
    "                a += (n%10)**2\n",
    "                n = n//10\n",
    "            return a\n",
    "        \n",
    "        seen = set()\n",
    "        def happy(n):\n",
    "            x = sumsq(n)\n",
    "            if x == 1:\n",
    "                return True\n",
    "            elif x in seen:\n",
    "                return False\n",
    "            else:\n",
    "                seen.add(x)\n",
    "                return happy(x)\n",
    "            \n",
    "        return happy(number)"
   ]
  },
  {
   "cell_type": "code",
   "execution_count": 8,
   "id": "08c93b94",
   "metadata": {},
   "outputs": [
    {
     "data": {
      "text/plain": [
       "False"
      ]
     },
     "execution_count": 8,
     "metadata": {},
     "output_type": "execute_result"
    }
   ],
   "source": [
    "o = HappyNumber()\n",
    "o.solve(101)"
   ]
  },
  {
   "cell_type": "markdown",
   "id": "4538444c",
   "metadata": {},
   "source": [
    "# 2. Construct the largest number from an array."
   ]
  },
  {
   "cell_type": "markdown",
   "id": "59a9f195",
   "metadata": {},
   "source": [
    "Create a number by concatenating array elements, in any order."
   ]
  },
  {
   "cell_type": "markdown",
   "id": "58151099",
   "metadata": {},
   "source": [
    "One way is to consider all `n!` permutations.\n",
    "\n",
    "But you know, a number starting from 9 is greater than a number starting from 1."
   ]
  },
  {
   "cell_type": "markdown",
   "id": "6936928f",
   "metadata": {},
   "source": [
    "So, start by sorting numbers in reverse lex order -- everything beginning with `9*` is first, then `8*` and so on ..."
   ]
  },
  {
   "cell_type": "code",
   "execution_count": 30,
   "id": "5ca17345",
   "metadata": {},
   "outputs": [],
   "source": [
    "class ConstructLargest:\n",
    "    def solve(self, numbers):\n",
    "        lex = list(sorted([str(n) for n in numbers], reverse=True))\n",
    "        for i in range(len(lex)-1):\n",
    "            first = lex[i]\n",
    "            second = lex[i+1]\n",
    "            if first + second < second + first:\n",
    "                lex[i], lex[i+1] = second, first\n",
    "                \n",
    "        return int(''.join(lex))"
   ]
  },
  {
   "cell_type": "code",
   "execution_count": 31,
   "id": "c1ace8d9",
   "metadata": {},
   "outputs": [
    {
     "data": {
      "text/plain": [
       "99918"
      ]
     },
     "execution_count": 31,
     "metadata": {},
     "output_type": "execute_result"
    }
   ],
   "source": [
    "o = ConstructLargest()\n",
    "o.solve([9, 991, 8])"
   ]
  },
  {
   "cell_type": "code",
   "execution_count": 20,
   "id": "54669429",
   "metadata": {},
   "outputs": [
    {
     "data": {
      "text/plain": [
       "False"
      ]
     },
     "execution_count": 20,
     "metadata": {},
     "output_type": "execute_result"
    }
   ],
   "source": [
    "'99' > '991'"
   ]
  },
  {
   "cell_type": "code",
   "execution_count": 21,
   "id": "979fa0d7",
   "metadata": {},
   "outputs": [
    {
     "data": {
      "text/plain": [
       "True"
      ]
     },
     "execution_count": 21,
     "metadata": {},
     "output_type": "execute_result"
    }
   ],
   "source": [
    "'99991' > '99199'"
   ]
  },
  {
   "cell_type": "code",
   "execution_count": 19,
   "id": "25bd838e",
   "metadata": {},
   "outputs": [
    {
     "data": {
      "text/plain": [
       "False"
      ]
     },
     "execution_count": 19,
     "metadata": {},
     "output_type": "execute_result"
    }
   ],
   "source": [
    "'30' > '33'"
   ]
  },
  {
   "cell_type": "markdown",
   "id": "ea26ddda",
   "metadata": {},
   "source": [
    "# 3. Fast Power.\n",
    "\n",
    "Compute $x^n$"
   ]
  },
  {
   "cell_type": "code",
   "execution_count": 32,
   "id": "fe9ab0b6",
   "metadata": {},
   "outputs": [],
   "source": [
    "class FastPower:\n",
    "    def solve(self, x, n):\n",
    "        assert n >= 1\n",
    "        \n",
    "        def power(e):\n",
    "            if e == 1:\n",
    "                return x\n",
    "            else:\n",
    "                half = power(e//2)\n",
    "                if e%2 == 0:\n",
    "                    return half * half\n",
    "                else:\n",
    "                    return half * half * x\n",
    "                \n",
    "        return power(n)"
   ]
  },
  {
   "cell_type": "code",
   "execution_count": 36,
   "id": "40704c2d",
   "metadata": {},
   "outputs": [
    {
     "data": {
      "text/plain": [
       "2048"
      ]
     },
     "execution_count": 36,
     "metadata": {},
     "output_type": "execute_result"
    }
   ],
   "source": [
    "o = FastPower()\n",
    "o.solve(2, 11)"
   ]
  },
  {
   "cell_type": "markdown",
   "id": "49c207a5",
   "metadata": {},
   "source": [
    "# 4. Longest Increasing Subsequence."
   ]
  },
  {
   "cell_type": "markdown",
   "id": "fb6a248e",
   "metadata": {},
   "source": [
    "Given an array of randomly ordered number, find the length of the longest increasing subsequence.\n",
    "```\n",
    "[3, 4, 5, 1] => 3\n",
    "[1, 6, 17, 2, 3, 15, 7] => 4\n",
    "```"
   ]
  },
  {
   "cell_type": "code",
   "execution_count": 43,
   "id": "9b1768c4",
   "metadata": {},
   "outputs": [],
   "source": [
    "class LongestIncSub:\n",
    "    def solve(self, nums):\n",
    "        def sar(x, array):\n",
    "            if len(array) == 1:\n",
    "                array[0] = x\n",
    "            else:\n",
    "                start = 0\n",
    "                end = len(array) - 1\n",
    "                while start <= end:\n",
    "                    mid = start + (end - start)//2\n",
    "                    if array[mid] >= x:\n",
    "                        end = mid - 1\n",
    "                    else:\n",
    "                        start = mid + 1\n",
    "                        \n",
    "                array[end+1] = x\n",
    "        \n",
    "        temp = []\n",
    "        for n in nums:\n",
    "            if temp:\n",
    "                if n == temp[-1]:\n",
    "                    pass\n",
    "                elif n > temp[-1]:\n",
    "                    temp.append(n)\n",
    "                else:\n",
    "                    # Search and replace.\n",
    "                    sar(n, temp)\n",
    "            else:\n",
    "                temp.append(n)\n",
    "                \n",
    "        print(temp)\n",
    "        return len(temp)"
   ]
  },
  {
   "cell_type": "code",
   "execution_count": 46,
   "id": "b51b9a3a",
   "metadata": {},
   "outputs": [
    {
     "name": "stdout",
     "output_type": "stream",
     "text": [
      "[1, 4, 5]\n",
      "3\n",
      "[1, 2, 3, 7]\n",
      "4\n"
     ]
    }
   ],
   "source": [
    "o = LongestIncSub()\n",
    "print(o.solve([3, 4, 5, 1]))\n",
    "print(o.solve([1, 6, 17, 2, 3, 15, 7]))"
   ]
  },
  {
   "cell_type": "markdown",
   "id": "a6daf8c6",
   "metadata": {},
   "source": [
    "# 5. Skyline Problem\n",
    "\n",
    "Given building `(start, end, height)` triples, can you build a skyline? I.e. the (x, y) coordinate pairs where the height changes."
   ]
  },
  {
   "cell_type": "markdown",
   "id": "a799d3d3",
   "metadata": {},
   "source": [
    "You are encountering buildings.\n",
    "\n",
    "Every time you encounter a new building's start or end, you need to query the highest point at the moment.\n",
    "And that will become the outline."
   ]
  },
  {
   "cell_type": "code",
   "execution_count": 60,
   "id": "a6fdde8d",
   "metadata": {},
   "outputs": [],
   "source": [
    "from collections import namedtuple\n",
    "\n",
    "class Skyline:\n",
    "    def solve(self, buildings):\n",
    "        skyline = []\n",
    "        tracker = []\n",
    "        Building = namedtuple(\"building\", [\"start\", \"end\", \"height\"])\n",
    "        buildings = [Building(*b) for b in buildings]\n",
    "        \n",
    "        Point = namedtuple(\"point\", [\"position\", \"height\", \"building\", \"isStart\"])\n",
    "        data = sorted([Point(b.start, b.height, ix, True) for ix, b in enumerate(buildings)] +\\\n",
    "                      [Point(b.end, b.height, ix, False) for ix, b in enumerate(buildings)], \n",
    "                      key=lambda b:b.position)\n",
    "        \n",
    "        for p in data:\n",
    "            if p.isStart:\n",
    "                tracker.append(p)\n",
    "                best = max([b.height for b in tracker])\n",
    "            else:\n",
    "                best = max([b.height for b in tracker if b.building != p.building] + [0])\n",
    "                \n",
    "            if skyline:\n",
    "                if skyline[-1] != best:\n",
    "                    skyline.append(best)\n",
    "            else:\n",
    "                skyline.append(best)\n",
    "                \n",
    "        return skyline"
   ]
  },
  {
   "cell_type": "code",
   "execution_count": 61,
   "id": "6d9c8d18",
   "metadata": {},
   "outputs": [
    {
     "data": {
      "text/plain": [
       "[4, 8, 4, 8]"
      ]
     },
     "execution_count": 61,
     "metadata": {},
     "output_type": "execute_result"
    }
   ],
   "source": [
    "o = Skyline()\n",
    "o.solve([(1, 3, 4), (2, 6, 8), (5, 10, 2), (12, 13, 1), (13, 14, 2)])"
   ]
  },
  {
   "cell_type": "code",
   "execution_count": 63,
   "id": "befaa1ac",
   "metadata": {},
   "outputs": [
    {
     "data": {
      "text/plain": [
       "inf"
      ]
     },
     "execution_count": 63,
     "metadata": {},
     "output_type": "execute_result"
    }
   ],
   "source": [
    "1 + float('inf')"
   ]
  },
  {
   "cell_type": "markdown",
   "id": "56d6334a",
   "metadata": {},
   "source": [
    "6 qualifying courses + 1 elective\n",
    "\n",
    "Any two SCS courses may count as qualifying.\n",
    "\n",
    "1 course from each area.\n",
    "\n",
    "1st sem:\n",
    "* Advanced NLP (11-711): qualifying and Human Language area\n",
    "* Intro to ML (10-701): qualifying and Machine Learning area\n",
    "* Statistics (36-700): elective\n",
    "* Elective done, 2/6 qualifying done, 1 SCS qualifying left\n",
    "\n",
    "2nd Sem:\n",
    "* PGM (10-708): qualifying, SCS\n",
    "* Convex Optimization: extra\n",
    "* Multimodal: qualifying\n",
    "* 4/6 qualifying done, 0 SCS left, Applications area left\n",
    "\n",
    "3rd Sem:\n",
    "* Speech Processing 11-751: qualifying and Applications area\n",
    "* Langauge And Statistics 11-611: qualifying"
   ]
  },
  {
   "cell_type": "markdown",
   "id": "f6b4cd8d",
   "metadata": {},
   "source": [
    "# 6. Jump Game III\n",
    "\n",
    "https://leetcode.com/problems/jump-game-iii/\n",
    "\n",
    "You are given an array of non-neg numbers and a starting location. From each position `i`, you can move `array[i]` steps to the left or to the right. Return true if you can eventually end in any position `j` where `array[j]` is 0."
   ]
  },
  {
   "cell_type": "code",
   "execution_count": 71,
   "id": "c913de76",
   "metadata": {},
   "outputs": [],
   "source": [
    "from functools import lru_cache\n",
    "\n",
    "class JumpGame3:\n",
    "    def solve(self, arr, start):\n",
    "        # sink = set([i for i, n in enumerate(arr) if n == 0])\n",
    "        @lru_cache(maxsize=None)\n",
    "        def search(i):\n",
    "            if i >= len(arr) or i < 0:\n",
    "                return False\n",
    "            elif arr[i] == 0:\n",
    "                return True\n",
    "            else:\n",
    "                val = arr[i]\n",
    "                arr[i] = None\n",
    "                for temp in [i+val, i-val]:\n",
    "                    if temp >= 0 and temp < len(arr) and arr[temp] is not None and search(temp):\n",
    "                        arr[i] = val\n",
    "                        return True\n",
    "                    \n",
    "                arr[i] = val\n",
    "                return False\n",
    "            \n",
    "        return search(start)"
   ]
  },
  {
   "cell_type": "code",
   "execution_count": 72,
   "id": "f35ee52a",
   "metadata": {},
   "outputs": [
    {
     "name": "stdout",
     "output_type": "stream",
     "text": [
      "True\n",
      "True\n"
     ]
    }
   ],
   "source": [
    "o = JumpGame3()\n",
    "print(o.solve([4,2,3,0,3,1,2], 5))\n",
    "print(o.solve([4,2,3,0,3,1,2], 0))"
   ]
  },
  {
   "cell_type": "code",
   "execution_count": 76,
   "id": "8a4d7c38",
   "metadata": {},
   "outputs": [
    {
     "name": "stdout",
     "output_type": "stream",
     "text": [
      "False\n"
     ]
    }
   ],
   "source": [
    "print(o.solve([3,0,2,1,2], 2))"
   ]
  },
  {
   "cell_type": "code",
   "execution_count": 83,
   "id": "12181146",
   "metadata": {},
   "outputs": [],
   "source": [
    "from collections import deque\n",
    "\n",
    "class JumpGame3BFS:\n",
    "    def solve(self, arr, start):\n",
    "        seen = set()\n",
    "        q = deque([start])\n",
    "        while q:\n",
    "            i = q.popleft()\n",
    "            if i >= 0 and i < len(arr) and i not in seen:\n",
    "                if arr[i] == 0:\n",
    "                    return True\n",
    "                else:\n",
    "                    seen.add(i)\n",
    "                    q.append(i + arr[i])\n",
    "                    q.append(i - arr[i])\n",
    "                    \n",
    "        return False"
   ]
  },
  {
   "cell_type": "code",
   "execution_count": 86,
   "id": "223fc9ae",
   "metadata": {},
   "outputs": [
    {
     "name": "stdout",
     "output_type": "stream",
     "text": [
      "True\n",
      "True\n"
     ]
    }
   ],
   "source": [
    "o = JumpGame3BFS()\n",
    "print(o.solve([4,2,3,0,3,1,2], 5))\n",
    "print(o.solve([4,2,3,0,3,1,2], 0))"
   ]
  },
  {
   "cell_type": "code",
   "execution_count": 85,
   "id": "b6231200",
   "metadata": {},
   "outputs": [
    {
     "name": "stdout",
     "output_type": "stream",
     "text": [
      "False\n"
     ]
    }
   ],
   "source": [
    "print(o.solve([3,0,2,1,2], 2))"
   ]
  },
  {
   "cell_type": "markdown",
   "id": "dad48223",
   "metadata": {},
   "source": [
    "# 7. Jump Game IV\n",
    "\n",
    "You can move 1 step right, left OR jump to another index which has the same value as the current one.\n",
    "\n",
    "### **NEWSFLASH!!**\n",
    "* You CANNOT apply DFS and Memo. The cache will store the first answer it finds, which might not be the best answer.\n",
    "* Also, you cannot X-out nodes for skipping in the future -- the answer might start from the previous node that falls on the `i-1` (i.e. *left*) path.\n",
    "\n",
    "BFS on the otherhand, gives you the same run-time, but is guaranteed to return the shortest path EVERY SINGLE TIME. Becuase that is the nature of the algorithm. \n",
    "\n",
    "### Another Newsflash\n",
    "* The solution you have written gets a Memory Exceeded issue if/when there are a lot of consecutive numbers -- the graph and the queue size becomes huugeee -- you need to eliminate multiple vals: `[7, 7, 7, 7, 11] ==> [7, 7, 11]`\n",
    "* https://leetcode.com/problems/jump-game-iv/discuss/1055395/Python-BFS-w-comment"
   ]
  },
  {
   "cell_type": "code",
   "execution_count": 90,
   "id": "02db56de",
   "metadata": {},
   "outputs": [],
   "source": [
    "from collections import deque\n",
    "\n",
    "class JumpGame7:\n",
    "    def solve(self, arr):\n",
    "        jumps = {}\n",
    "        for ix, v in enumerate(arr):\n",
    "            if v in jumps:\n",
    "                jumps[v].add(ix)\n",
    "            else:\n",
    "                jumps[v] = set([ix])\n",
    "                \n",
    "        graph = {}\n",
    "        for ix, v in enumerate(arr):\n",
    "            if ix not in graph:\n",
    "                graph[ix] = set()\n",
    "                \n",
    "            if ix + 1 < len(arr):\n",
    "                graph[ix].add(ix+1)\n",
    "            if ix - 1 >= 0:\n",
    "                graph[ix].add(ix-1)\n",
    "            for j in jumps[v]:\n",
    "                if ix != j:\n",
    "                    graph[ix].add(j)\n",
    "                    \n",
    "        q = deque([(0, 0)])  # Ix, Step\n",
    "        seen = set()\n",
    "        while q:\n",
    "            ix, steps = q.popleft()\n",
    "            if ix == len(arr)-1:\n",
    "                return steps\n",
    "            else:\n",
    "                if ix not in seen and ix in graph:\n",
    "                    seen.add(ix)\n",
    "                    nbrs = [n for n in graph[ix] if n not in seen]\n",
    "                    del graph[ix]\n",
    "                    for n in nbrs:\n",
    "                        q.append((n, steps+1))\n",
    "                        \n",
    "        return None"
   ]
  },
  {
   "cell_type": "code",
   "execution_count": 91,
   "id": "d166c1c5",
   "metadata": {},
   "outputs": [
    {
     "name": "stdout",
     "output_type": "stream",
     "text": [
      "3\n",
      "0\n",
      "1\n"
     ]
    }
   ],
   "source": [
    "o = JumpGame7()\n",
    "print(o.solve([100,-23,-23,404,100,23,23,23,3,404]))\n",
    "print(o.solve([7]))\n",
    "print(o.solve([7,6,9,6,9,6,9,7]))"
   ]
  },
  {
   "cell_type": "markdown",
   "id": "37969adb",
   "metadata": {},
   "source": [
    "# 8. Jump Game V\n",
    "\n",
    "https://leetcode.com/problems/jump-game-v/\n",
    "\n",
    "Array `arr` has integers and `d` is the max jump-size. You can jump anywhere between `i-d` and `i+d` from `i`, without exiting the array. Also you can jump to `j` only if for all `k` between `i` and `j`, `arr[j] < arr[i]` and `arr[k] < arr[i]`.\n",
    "\n",
    "Starting from ANY index in `arr`, what is the max number of jumps you can make?"
   ]
  },
  {
   "cell_type": "markdown",
   "id": "752d1896",
   "metadata": {},
   "source": [
    "So, no concept of back-markers is necessary -- by definition, the jump has to be one-way, or not at all. Also, you should check and expand from `i`, outwards, because if you cannot jump to `i+1`, then you obviously cannot jump to `i+2`. "
   ]
  },
  {
   "cell_type": "markdown",
   "id": "fe77cc20",
   "metadata": {},
   "source": [
    "Recursively, if I am at `i`, then I need a lookup that tells me if I can jump to within `i+-2`.\n",
    "\n",
    "Then, I can do `1 + jumps(i+x)` for all possible next hops, and consider the maximum number. Again, `jump` is also a DP -- if I have visited a node, I should store it's max-jumps."
   ]
  },
  {
   "cell_type": "code",
   "execution_count": 150,
   "id": "ffaca3d8",
   "metadata": {},
   "outputs": [],
   "source": [
    "from collections import deque\n",
    "\n",
    "class JumpGameV:\n",
    "    def solve(self, arr, d):\n",
    "        canhop = [[False for _ in arr] for _ in arr]\n",
    "        \n",
    "        # [6,4,14,6,8,13,9,7,10,6,12]\n",
    "        \n",
    "        for i in range(len(arr)):\n",
    "            for j in range(i+1, i+d+1):\n",
    "                if j >= len(arr):\n",
    "                    break\n",
    "                    \n",
    "                if arr[j] >= arr[i]:\n",
    "                    break\n",
    "                    \n",
    "                if j == i+1:\n",
    "                    if arr[j] >= arr[i]:\n",
    "                        break\n",
    "                    else:\n",
    "                        canhop[i][j] = True\n",
    "                else:\n",
    "                    if canhop[i][j-1] and arr[j] < arr[i]:\n",
    "                        canhop[i][j] = True\n",
    "                    else:\n",
    "                        break\n",
    "                        \n",
    "            for j in range(i-d, i)[::-1]:\n",
    "                if j < 0:\n",
    "                    break\n",
    "                \n",
    "                if arr[j] >= arr[i]:\n",
    "                    break\n",
    "                    \n",
    "                if j == i-1:\n",
    "                    if arr[j] >= arr[i]:\n",
    "                        break\n",
    "                    else:\n",
    "                        canhop[i][j] = True\n",
    "                else:\n",
    "                    if canhop[i][j+1] and arr[j] < arr[i]:\n",
    "                        canhop[i][j] = True\n",
    "                    else:\n",
    "                        break\n",
    "                        \n",
    "        for row in canhop:\n",
    "            print([int(x) for x in row])\n",
    "\n",
    "        # Run BFS on this.\n",
    "        graph = {}\n",
    "        for "
   ]
  },
  {
   "cell_type": "code",
   "execution_count": 151,
   "id": "76e557a4",
   "metadata": {},
   "outputs": [
    {
     "data": {
      "text/plain": [
       "[1, 2]"
      ]
     },
     "execution_count": 151,
     "metadata": {},
     "output_type": "execute_result"
    }
   ],
   "source": [
    "d = 2\n",
    "list(range(3-2, 3))"
   ]
  },
  {
   "cell_type": "code",
   "execution_count": 153,
   "id": "aa7ec100",
   "metadata": {},
   "outputs": [
    {
     "name": "stdout",
     "output_type": "stream",
     "text": [
      "[0, 1, 0, 0, 0, 0, 0, 0, 0, 0, 0]\n",
      "[0, 0, 0, 0, 0, 0, 0, 0, 0, 0, 0]\n",
      "[1, 1, 0, 1, 1, 0, 0, 0, 0, 0, 0]\n",
      "[0, 0, 0, 0, 0, 0, 0, 0, 0, 0, 0]\n",
      "[0, 0, 0, 1, 0, 0, 0, 0, 0, 0, 0]\n",
      "[0, 0, 0, 1, 1, 0, 1, 1, 0, 0, 0]\n",
      "[0, 0, 0, 0, 0, 0, 0, 1, 0, 0, 0]\n",
      "[0, 0, 0, 0, 0, 0, 0, 0, 0, 0, 0]\n",
      "[0, 0, 0, 0, 0, 0, 1, 1, 0, 1, 0]\n",
      "[0, 0, 0, 0, 0, 0, 0, 0, 0, 0, 0]\n",
      "[0, 0, 0, 0, 0, 0, 0, 0, 1, 1, 0]\n",
      "3\n",
      "[0, 1, 0, 0, 0]\n",
      "[0, 0, 1, 0, 0]\n",
      "[0, 0, 0, 1, 0]\n",
      "[0, 0, 0, 0, 1]\n",
      "[0, 0, 0, 0, 0]\n",
      "5\n"
     ]
    }
   ],
   "source": [
    "o = JumpGameV()\n",
    "print(o.solve([6,4,14,6,8,13,9,7,10,6,12], 2))\n",
    "print(o.solve([7,6,5,4,3], 1))"
   ]
  },
  {
   "cell_type": "markdown",
   "id": "bc93dcfa",
   "metadata": {},
   "source": [
    "# 9. Jump Game 6\n",
    "\n",
    "You have an array of numbers, and you start from index 0. You can jump upto `k` positions everytime. What is the maximum possible score you can get till you reach the last index?\n",
    "\n",
    "```\n",
    "[1, -1, 2, 4, -7, 3], 2 => 7\n",
    "```"
   ]
  },
  {
   "cell_type": "code",
   "execution_count": 176,
   "id": "8f2420c9",
   "metadata": {},
   "outputs": [],
   "source": [
    "import heapq\n",
    "\n",
    "class JumpGameVI:\n",
    "    def solve(self, nums, k):\n",
    "        scores = [nums[0]]\n",
    "        tracker = [(-nums[0], 0)]\n",
    "        \n",
    "        for ix in range(1, len(nums)):\n",
    "            n = nums[ix]\n",
    "            print(scores)\n",
    "            while tracker and tracker[0][1] < ix-k:\n",
    "                heapq.heappop(tracker)\n",
    "                \n",
    "            m = -tracker[0][0]\n",
    "            scores.append(n + m)\n",
    "            heapq.heappush(tracker, (-scores[-1], ix))\n",
    "            \n",
    "        print(scores)\n",
    "        return scores[-1]"
   ]
  },
  {
   "cell_type": "code",
   "execution_count": 177,
   "id": "755c78d2",
   "metadata": {},
   "outputs": [
    {
     "name": "stdout",
     "output_type": "stream",
     "text": [
      "[1]\n",
      "[1, 0]\n",
      "[1, 0, -1]\n",
      "[1, 0, -1, 4]\n",
      "[1, 0, -1, 4, -3]\n",
      "[1, 0, -1, 4, -3, 7]\n"
     ]
    },
    {
     "data": {
      "text/plain": [
       "7"
      ]
     },
     "execution_count": 177,
     "metadata": {},
     "output_type": "execute_result"
    }
   ],
   "source": [
    "o = JumpGameVI()\n",
    "o.solve([1, -1, -2, 4, -7, 3], 2)"
   ]
  },
  {
   "cell_type": "markdown",
   "id": "d858da3a",
   "metadata": {},
   "source": [
    "# 9 (alt).  Jump Game 6 -- `O(n)` solution"
   ]
  },
  {
   "cell_type": "markdown",
   "id": "1335dcae",
   "metadata": {},
   "source": [
    "This tries to solve in **Linear Time**.\n",
    "\n",
    "Instead of using a heap, use a Queue:\n",
    "* Drop items on the left whose index has already passed.\n",
    "* When you see a new number, add it to the queue *from the left* in a decreasing fashion:\n",
    "    * Keep popping the items which are smaller, and *then* add this one.\n",
    "    \n",
    "**This only works because you need to keep track of the *LARGEST* item.**"
   ]
  },
  {
   "cell_type": "code",
   "execution_count": 178,
   "id": "d34476cf",
   "metadata": {},
   "outputs": [],
   "source": [
    "from collections import deque\n",
    "\n",
    "class JumpGameVIAlt:\n",
    "    def solve(self, nums, k):\n",
    "        q = deque([(nums[0], 0)])\n",
    "        for ix in range(1, len(nums)):\n",
    "            while q and q[0][1] < ix-k:\n",
    "                q.popleft()\n",
    "                \n",
    "            m = q[0][0]\n",
    "            v = m + nums[ix]\n",
    "            while q and q[-1][0] < v:\n",
    "                q.pop()\n",
    "            \n",
    "            q.append((v, ix))\n",
    "            \n",
    "        return q[0][0]"
   ]
  },
  {
   "cell_type": "code",
   "execution_count": 180,
   "id": "2f01c044",
   "metadata": {},
   "outputs": [
    {
     "data": {
      "text/plain": [
       "7"
      ]
     },
     "execution_count": 180,
     "metadata": {},
     "output_type": "execute_result"
    }
   ],
   "source": [
    "o = JumpGameVIAlt()\n",
    "o.solve([1, -1, -2, 4, -7, 3], 2)"
   ]
  },
  {
   "cell_type": "code",
   "execution_count": null,
   "id": "9e8ee658",
   "metadata": {},
   "outputs": [],
   "source": []
  },
  {
   "cell_type": "code",
   "execution_count": null,
   "id": "cc396bb4",
   "metadata": {},
   "outputs": [],
   "source": []
  },
  {
   "cell_type": "code",
   "execution_count": null,
   "id": "b3dfd8db",
   "metadata": {},
   "outputs": [],
   "source": []
  },
  {
   "cell_type": "code",
   "execution_count": null,
   "id": "085360fb",
   "metadata": {},
   "outputs": [],
   "source": []
  }
 ],
 "metadata": {
  "kernelspec": {
   "display_name": "base",
   "language": "python",
   "name": "base"
  },
  "language_info": {
   "codemirror_mode": {
    "name": "ipython",
    "version": 3
   },
   "file_extension": ".py",
   "mimetype": "text/x-python",
   "name": "python",
   "nbconvert_exporter": "python",
   "pygments_lexer": "ipython3",
   "version": "3.8.8"
  }
 },
 "nbformat": 4,
 "nbformat_minor": 5
}
