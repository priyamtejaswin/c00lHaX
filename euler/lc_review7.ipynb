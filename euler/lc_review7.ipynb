{
 "cells": [
  {
   "cell_type": "markdown",
   "id": "4beee7da",
   "metadata": {},
   "source": [
    "1. Happy Number. Given a number, take square of all digits, and add them. If sum is 1, HAPPY, if it cycles, not.\n",
    "2. Construct the largest number from an array.\n",
    "3. Fast power. Comute $x^n$, _quickly_.\n",
    "4. Longest increasing subsequence."
   ]
  },
  {
   "cell_type": "markdown",
   "id": "3c6f7fb7",
   "metadata": {},
   "source": [
    "---"
   ]
  },
  {
   "cell_type": "markdown",
   "id": "1a960960",
   "metadata": {},
   "source": [
    "# 1. Happy Number?\n",
    "\n",
    "Can you determine, algorithmically, if it will be a happy number?"
   ]
  },
  {
   "cell_type": "markdown",
   "id": "31816546",
   "metadata": {},
   "source": [
    "If the same pattern of digits repeats, discounting the number of zeros, then it will repeat endlessly ...\n",
    "\n",
    "Can you prove that this will always terminate?\n",
    "* For the largest 3 digit number `999`, the next number is `243`\n",
    "* For the largest 4 digit number `9999`, the next number is `324`\n",
    "* For the largest 10 digit number `9999....`, the next number if `810`\n",
    "\n",
    "Eventually, the number will come down, regardless of where is starts, and it will either terminate, or cycle."
   ]
  },
  {
   "cell_type": "code",
   "execution_count": 4,
   "id": "e11882a9",
   "metadata": {},
   "outputs": [],
   "source": [
    "class HappyNumber:\n",
    "    def solve(self, number):\n",
    "        if number == 0:\n",
    "            return False\n",
    "        \n",
    "        def sumsq(n):\n",
    "            a = 0\n",
    "            while n != 0:\n",
    "                a += (n%10)**2\n",
    "                n = n//10\n",
    "            return a\n",
    "        \n",
    "        seen = set()\n",
    "        def happy(n):\n",
    "            x = sumsq(n)\n",
    "            if x == 1:\n",
    "                return True\n",
    "            elif x in seen:\n",
    "                return False\n",
    "            else:\n",
    "                seen.add(x)\n",
    "                return happy(x)\n",
    "            \n",
    "        return happy(number)"
   ]
  },
  {
   "cell_type": "code",
   "execution_count": 8,
   "id": "630c7bed",
   "metadata": {},
   "outputs": [
    {
     "data": {
      "text/plain": [
       "False"
      ]
     },
     "execution_count": 8,
     "metadata": {},
     "output_type": "execute_result"
    }
   ],
   "source": [
    "o = HappyNumber()\n",
    "o.solve(101)"
   ]
  },
  {
   "cell_type": "markdown",
   "id": "25344bfb",
   "metadata": {},
   "source": [
    "# 2. Construct the largest number from an array."
   ]
  },
  {
   "cell_type": "markdown",
   "id": "3865b294",
   "metadata": {},
   "source": [
    "Create a number by concatenating array elements, in any order."
   ]
  },
  {
   "cell_type": "markdown",
   "id": "713730ca",
   "metadata": {},
   "source": [
    "One way is to consider all `n!` permutations.\n",
    "\n",
    "But you know, a number starting from 9 is greater than a number starting from 1."
   ]
  },
  {
   "cell_type": "markdown",
   "id": "4a75041c",
   "metadata": {},
   "source": [
    "So, start by sorting numbers in reverse lex order -- everything beginning with `9*` is first, then `8*` and so on ..."
   ]
  },
  {
   "cell_type": "code",
   "execution_count": 30,
   "id": "f09c83bd",
   "metadata": {},
   "outputs": [],
   "source": [
    "class ConstructLargest:\n",
    "    def solve(self, numbers):\n",
    "        lex = list(sorted([str(n) for n in numbers], reverse=True))\n",
    "        for i in range(len(lex)-1):\n",
    "            first = lex[i]\n",
    "            second = lex[i+1]\n",
    "            if first + second < second + first:\n",
    "                lex[i], lex[i+1] = second, first\n",
    "                \n",
    "        return int(''.join(lex))"
   ]
  },
  {
   "cell_type": "code",
   "execution_count": 31,
   "id": "607434c2",
   "metadata": {},
   "outputs": [
    {
     "data": {
      "text/plain": [
       "99918"
      ]
     },
     "execution_count": 31,
     "metadata": {},
     "output_type": "execute_result"
    }
   ],
   "source": [
    "o = ConstructLargest()\n",
    "o.solve([9, 991, 8])"
   ]
  },
  {
   "cell_type": "code",
   "execution_count": 20,
   "id": "c97a8169",
   "metadata": {},
   "outputs": [
    {
     "data": {
      "text/plain": [
       "False"
      ]
     },
     "execution_count": 20,
     "metadata": {},
     "output_type": "execute_result"
    }
   ],
   "source": [
    "'99' > '991'"
   ]
  },
  {
   "cell_type": "code",
   "execution_count": 21,
   "id": "ca1a0d37",
   "metadata": {},
   "outputs": [
    {
     "data": {
      "text/plain": [
       "True"
      ]
     },
     "execution_count": 21,
     "metadata": {},
     "output_type": "execute_result"
    }
   ],
   "source": [
    "'99991' > '99199'"
   ]
  },
  {
   "cell_type": "code",
   "execution_count": 19,
   "id": "98aacea6",
   "metadata": {},
   "outputs": [
    {
     "data": {
      "text/plain": [
       "False"
      ]
     },
     "execution_count": 19,
     "metadata": {},
     "output_type": "execute_result"
    }
   ],
   "source": [
    "'30' > '33'"
   ]
  },
  {
   "cell_type": "markdown",
   "id": "86199e85",
   "metadata": {},
   "source": [
    "# 3. Fast Power.\n",
    "\n",
    "Compute $x^n$"
   ]
  },
  {
   "cell_type": "code",
   "execution_count": 32,
   "id": "b5c5c466",
   "metadata": {},
   "outputs": [],
   "source": [
    "class FastPower:\n",
    "    def solve(self, x, n):\n",
    "        assert n >= 1\n",
    "        \n",
    "        def power(e):\n",
    "            if e == 1:\n",
    "                return x\n",
    "            else:\n",
    "                half = power(e//2)\n",
    "                if e%2 == 0:\n",
    "                    return half * half\n",
    "                else:\n",
    "                    return half * half * x\n",
    "                \n",
    "        return power(n)"
   ]
  },
  {
   "cell_type": "code",
   "execution_count": 36,
   "id": "cf34198f",
   "metadata": {},
   "outputs": [
    {
     "data": {
      "text/plain": [
       "2048"
      ]
     },
     "execution_count": 36,
     "metadata": {},
     "output_type": "execute_result"
    }
   ],
   "source": [
    "o = FastPower()\n",
    "o.solve(2, 11)"
   ]
  },
  {
   "cell_type": "markdown",
   "id": "1fffdd9e",
   "metadata": {},
   "source": [
    "# 4. Longest Increasing Subsequence."
   ]
  },
  {
   "cell_type": "markdown",
   "id": "0c564b69",
   "metadata": {},
   "source": [
    "Given an array of randomly ordered number, find the length of the longest increasing subsequence.\n",
    "```\n",
    "[3, 4, 5, 1] => 3\n",
    "[1, 6, 17, 2, 3, 15, 7] => 4\n",
    "```"
   ]
  },
  {
   "cell_type": "code",
   "execution_count": 43,
   "id": "ebb5ee1d",
   "metadata": {},
   "outputs": [],
   "source": [
    "class LongestIncSub:\n",
    "    def solve(self, nums):\n",
    "        def sar(x, array):\n",
    "            if len(array) == 1:\n",
    "                array[0] = x\n",
    "            else:\n",
    "                start = 0\n",
    "                end = len(array) - 1\n",
    "                while start <= end:\n",
    "                    mid = start + (end - start)//2\n",
    "                    if array[mid] >= x:\n",
    "                        end = mid - 1\n",
    "                    else:\n",
    "                        start = mid + 1\n",
    "                        \n",
    "                array[end+1] = x\n",
    "        \n",
    "        temp = []\n",
    "        for n in nums:\n",
    "            if temp:\n",
    "                if n == temp[-1]:\n",
    "                    pass\n",
    "                elif n > temp[-1]:\n",
    "                    temp.append(n)\n",
    "                else:\n",
    "                    # Search and replace.\n",
    "                    sar(n, temp)\n",
    "            else:\n",
    "                temp.append(n)\n",
    "                \n",
    "        print(temp)\n",
    "        return len(temp)"
   ]
  },
  {
   "cell_type": "code",
   "execution_count": 46,
   "id": "1aa742d1",
   "metadata": {},
   "outputs": [
    {
     "name": "stdout",
     "output_type": "stream",
     "text": [
      "[1, 4, 5]\n",
      "3\n",
      "[1, 2, 3, 7]\n",
      "4\n"
     ]
    }
   ],
   "source": [
    "o = LongestIncSub()\n",
    "print(o.solve([3, 4, 5, 1]))\n",
    "print(o.solve([1, 6, 17, 2, 3, 15, 7]))"
   ]
  },
  {
   "cell_type": "code",
   "execution_count": null,
   "id": "5dda89c4",
   "metadata": {},
   "outputs": [],
   "source": []
  }
 ],
 "metadata": {
  "kernelspec": {
   "display_name": "base",
   "language": "python",
   "name": "base"
  },
  "language_info": {
   "codemirror_mode": {
    "name": "ipython",
    "version": 3
   },
   "file_extension": ".py",
   "mimetype": "text/x-python",
   "name": "python",
   "nbconvert_exporter": "python",
   "pygments_lexer": "ipython3",
   "version": "3.8.8"
  }
 },
 "nbformat": 4,
 "nbformat_minor": 5
}
