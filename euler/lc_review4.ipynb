{
 "cells": [
  {
   "cell_type": "markdown",
   "id": "bb59786b",
   "metadata": {},
   "source": [
    "# Friday Sept 28th, 2021, 2:38PM -- Gates, CMU\n",
    "\n",
    "Reviewing old questions for practice and general mental-upkeep."
   ]
  },
  {
   "cell_type": "markdown",
   "id": "b85d62e4",
   "metadata": {},
   "source": [
    "## Q1. Implement LRU cache.\n",
    "\n",
    "* PUT: Add (k, v) pair if not exists, or update value if key exists.\n",
    "* If cache at capaciy, drop the LRU (k, v) pair.\n",
    "* GET: Return value if (k) is present, else -1."
   ]
  },
  {
   "cell_type": "markdown",
   "id": "f7e595dc",
   "metadata": {},
   "source": [
    "Ans.\n",
    "\n",
    "So. Whatever `key` you use. You need to push that to the front of the stack.\n",
    "\n",
    "And, for any new `key` added, you need to move that to the front of the stack also.\n",
    "\n",
    "OrderedDict in Python will let you do this. The harder approach would be to implement using LinkedLists. *Try both*.\n"
   ]
  },
  {
   "cell_type": "code",
   "execution_count": 11,
   "id": "35654ee7",
   "metadata": {},
   "outputs": [],
   "source": [
    "from collections import OrderedDict\n",
    "\n",
    "class LRUCacheOD:\n",
    "    def __init__(self, size):\n",
    "        self.size = size\n",
    "        self.cache = OrderedDict()\n",
    "        \n",
    "    def __repr__(self):\n",
    "        return list(self.cache.items())\n",
    "    \n",
    "    def __str__(self):\n",
    "        return str(list(self.cache.items()))\n",
    "        \n",
    "    def add(self, k, v):\n",
    "        if k in self.cache:\n",
    "            self.cache[k] = v\n",
    "            self.cache.move_to_end(k)\n",
    "            \n",
    "        else:\n",
    "            if len(self.cache) < self.size:\n",
    "                self.cache[k] = v\n",
    "                self.cache.move_to_end(k)\n",
    "            else:\n",
    "                # You will have to delete LRU.\n",
    "                todel = next(iter(self.cache))\n",
    "                del self.cache[todel]\n",
    "                \n",
    "                self.cache[k] = v\n",
    "                self.cache.move_to_end(k)\n",
    "                \n",
    "    def get(self, k):\n",
    "        if k in self.cache:\n",
    "            self.cache.move_to_end(k)\n",
    "            \n",
    "        return self.cache.get(k, -1)"
   ]
  },
  {
   "cell_type": "code",
   "execution_count": 13,
   "id": "ae54be77",
   "metadata": {},
   "outputs": [
    {
     "name": "stdout",
     "output_type": "stream",
     "text": [
      "[(2, 2), (1, 11)]\n",
      "[(1, 11), (3, 3)]\n"
     ]
    }
   ],
   "source": [
    "t = LRUCacheOD(2)\n",
    "assert t.get(5) == -1\n",
    "assert t.get(1) == -1\n",
    "t.add(1, 1)\n",
    "assert t.get(1) == 1\n",
    "t.add(2, 2)\n",
    "assert t.get(2) == 2\n",
    "t.add(1, 11)\n",
    "print(t)\n",
    "t.add(3, 3)\n",
    "print(t)\n",
    "assert 2 not in t.cache\n",
    "assert 1 in t.cache\n",
    "assert 3 in t.cache"
   ]
  },
  {
   "cell_type": "code",
   "execution_count": null,
   "id": "b8156d50",
   "metadata": {},
   "outputs": [],
   "source": []
  },
  {
   "cell_type": "code",
   "execution_count": null,
   "id": "0e31a204",
   "metadata": {},
   "outputs": [],
   "source": [
    "class Node:\n",
    "    \"\"\"\n",
    "    Ref implementaiton for doubly linked list.\n",
    "    \"\"\"\n",
    "    def __init__(self, k, v, before=None, after=None):\n",
    "        self.k = k\n",
    "        self.v = v\n",
    "        self.before = before\n",
    "        self.after = after\n",
    "\n",
    "class LRUCacheLL:\n",
    "    \"\"\"\n",
    "    LinkedList implementation.\n",
    "    \"\"\"\n",
    "    def __init__(self, size):\n",
    "        self.size = size\n",
    "        self.cache = {}\n",
    "        # Cache will map keys to nodes in the Doubly Linked List.\n",
    "        self.lru = None\n",
    "        self.head = None\n",
    "        \n",
    "    def add(self, k, v):\n",
    "        if k in self.cache:\n",
    "            # Update value first.\n",
    "            # Then move to end.\n",
    "            self.cache[k].v = v\n",
    "            # If this was the LRU node, then you will have to update LRU\n",
    "            # You will have to update head.\n",
    "            \n",
    "        else:\n",
    "            n = Node(k, v, self.head)\n",
    "            if len(self.cache) < self.size:\n",
    "                self.head = n\n",
    "            else:\n",
    "                # Delete.\n",
    "                "
   ]
  },
  {
   "cell_type": "markdown",
   "id": "c07b4d4b",
   "metadata": {},
   "source": [
    "## Q2. List of meeting start and end times. Find the number of rooms required."
   ]
  },
  {
   "cell_type": "markdown",
   "id": "be9d74dc",
   "metadata": {},
   "source": [
    "Given a list of meetings with start and end times: [(0, 30), (5, 15), (20, 50)] can you find the min. number of meeting rooms required?"
   ]
  },
  {
   "cell_type": "markdown",
   "id": "dea1f872",
   "metadata": {},
   "source": [
    "Try to think of the simplest solution first:\n",
    "1. You will need 1 room for the first meeting.\n",
    "2. For the second, check against this room to see if it's free. If it is, update the room's `available` time, else get a new room.\n",
    "3. For the third, you will have to check both rooms and make a decision."
   ]
  },
  {
   "cell_type": "code",
   "execution_count": 27,
   "id": "da330836",
   "metadata": {},
   "outputs": [],
   "source": [
    "class MeetingSlow:\n",
    "    \"\"\"\n",
    "    Slow implementaiton. Iterates over all existing rooms to check.\n",
    "    \"\"\"\n",
    "    def __init__(self):\n",
    "        self.rooms = []\n",
    "        \n",
    "    def solve(self, splits):\n",
    "        if len(splits) <= 1:\n",
    "            return len(splits)\n",
    "        \n",
    "        _, first = splits[0]\n",
    "        self.rooms.append(first)\n",
    "        \n",
    "        for i in range(1, len(splits)):\n",
    "            start, end = splits[i]\n",
    "            found = False\n",
    "            for j, available in enumerate(self.rooms):\n",
    "                if start >= available:\n",
    "                    self.rooms[j] = end\n",
    "                    found = True\n",
    "                    break\n",
    "                    \n",
    "            if found is False:\n",
    "                self.rooms.append(end)\n",
    "            \n",
    "            print(self.rooms)\n",
    "            \n",
    "        return len(self.rooms)"
   ]
  },
  {
   "cell_type": "code",
   "execution_count": 28,
   "id": "2b424f82",
   "metadata": {},
   "outputs": [
    {
     "name": "stdout",
     "output_type": "stream",
     "text": [
      "[30, 15]\n",
      "[50, 15]\n"
     ]
    },
    {
     "data": {
      "text/plain": [
       "2"
      ]
     },
     "execution_count": 28,
     "metadata": {},
     "output_type": "execute_result"
    }
   ],
   "source": [
    "t = MeetingSlow()\n",
    "t.solve([(0, 30), (5, 15), (40, 50)])"
   ]
  },
  {
   "cell_type": "code",
   "execution_count": 44,
   "id": "74a1371f",
   "metadata": {},
   "outputs": [],
   "source": [
    "import heapq\n",
    "\n",
    "class MeetingFast:\n",
    "    \"\"\"\n",
    "    Fast version using heapq.\n",
    "    \"\"\"\n",
    "    def __init__(self):\n",
    "        self.rooms = []\n",
    "    \n",
    "    def solve(self, splits):\n",
    "        if len(splits) <= 1:\n",
    "            return 1\n",
    "        \n",
    "        for start, end in splits:\n",
    "            if len(self.rooms) == 0:\n",
    "                self.rooms.append(end)\n",
    "            else:\n",
    "                first = self.rooms[0]\n",
    "                if start >= first:\n",
    "                    heapq.heappop(self.rooms)\n",
    "                    heapq.heappush(self.rooms, end)\n",
    "                else:\n",
    "                    heapq.heappush(self.rooms, end)\n",
    "                    \n",
    "        return len(self.rooms)"
   ]
  },
  {
   "cell_type": "code",
   "execution_count": 46,
   "id": "a3686071",
   "metadata": {},
   "outputs": [
    {
     "data": {
      "text/plain": [
       "2"
      ]
     },
     "execution_count": 46,
     "metadata": {},
     "output_type": "execute_result"
    }
   ],
   "source": [
    "t = MeetingFast()\n",
    "t.solve([(0, 30), (5, 15), (40, 50)])"
   ]
  },
  {
   "cell_type": "code",
   "execution_count": 35,
   "id": "9cd33759",
   "metadata": {},
   "outputs": [
    {
     "name": "stdout",
     "output_type": "stream",
     "text": [
      "0 0 30\n",
      "1 5 15\n",
      "2 40 50\n"
     ]
    }
   ],
   "source": [
    "for i, (start, end) in enumerate([(0, 30), (5, 15), (40, 50)]):\n",
    "    print(i, start, end)"
   ]
  },
  {
   "cell_type": "markdown",
   "id": "adb803cf",
   "metadata": {},
   "source": [
    "## Q3. Shortest path b/w two words.\n",
    "\n",
    "Start word: `hit`\n",
    "\n",
    "End word: `cog`\n",
    "\n",
    "You have a word list, and you can only edit a word by changing one letter. Can you find the nunber of intermediate words between the start and end?\n",
    "\n",
    "`hit -> hot -> cog` : Ans is 2."
   ]
  },
  {
   "cell_type": "code",
   "execution_count": 53,
   "id": "139448f1",
   "metadata": {},
   "outputs": [],
   "source": [
    "from collections import deque\n",
    "\n",
    "class ShortestPath:\n",
    "    \"\"\"\n",
    "    Mutate, and apply BFS.\n",
    "    Keep iterating -- prune a node if it is not in the list.\n",
    "    Once you find, return the current count.\n",
    "    Ensure that you DONOT REPEAT a previously seen word!!!\n",
    "    \"\"\"\n",
    "    def __init__(self):\n",
    "        pass\n",
    "    \n",
    "    def solve(self, start, end, words):\n",
    "        words = set(words)\n",
    "        if start not in words or end not in words:\n",
    "            return 0\n",
    "        \n",
    "        q = deque([(start, 0)])\n",
    "        seen = set()\n",
    "        while q:\n",
    "            temp, dist = q.popleft()\n",
    "            if temp == end:\n",
    "                return dist\n",
    "            else:\n",
    "                if temp not in seen:\n",
    "                    seen.add(temp)\n",
    "                    # Mutate.\n",
    "                    for i in range(3):\n",
    "                        for char in 'qwertyuiopasdfghjklzxcvbnm':\n",
    "                            alt = temp[:i] + char + temp[i+1:]\n",
    "                            if alt not in seen:\n",
    "                                q.append((alt, dist+1))\n",
    "                                \n",
    "        return -1"
   ]
  },
  {
   "cell_type": "code",
   "execution_count": 54,
   "id": "6ac076a5",
   "metadata": {},
   "outputs": [
    {
     "data": {
      "text/plain": [
       "3"
      ]
     },
     "execution_count": 54,
     "metadata": {},
     "output_type": "execute_result"
    }
   ],
   "source": [
    "t = ShortestPath()\n",
    "t.solve('hit', 'cog', ['hit', 'cog', 'bog', 'mog', 'bit', 'hog'])"
   ]
  },
  {
   "cell_type": "code",
   "execution_count": 48,
   "id": "9283f3c3",
   "metadata": {},
   "outputs": [],
   "source": [
    "s.add('hello')"
   ]
  },
  {
   "cell_type": "code",
   "execution_count": 49,
   "id": "4426922a",
   "metadata": {},
   "outputs": [
    {
     "data": {
      "text/plain": [
       "{'hello'}"
      ]
     },
     "execution_count": 49,
     "metadata": {},
     "output_type": "execute_result"
    }
   ],
   "source": [
    "s"
   ]
  },
  {
   "cell_type": "markdown",
   "id": "9139f692",
   "metadata": {},
   "source": [
    "## Q4. `GetRandom` set."
   ]
  },
  {
   "cell_type": "markdown",
   "id": "4fff08ef",
   "metadata": {},
   "source": [
    "Implement the following with O(1) time:\n",
    "* PUT\n",
    "* GET\n",
    "* DEL\n",
    "* SAMPLE -- should return an element with uniform probability"
   ]
  },
  {
   "cell_type": "markdown",
   "id": "65c24973",
   "metadata": {},
   "source": [
    "**Ans**. You can just start working with a `set`. But the sampling will require a list, and the conversion will require O(n) time.\n",
    "\n",
    "Now, you can save the elements in a list, but then deletion will be a problem.\n",
    "\n",
    "So, you have to delete an element from the list in O(1) time -- i.e. a `pop` operation.\n",
    "\n",
    "The solution is to swap the element you want to delete with the *last* element in the list, and then pop!"
   ]
  },
  {
   "cell_type": "code",
   "execution_count": 56,
   "id": "f70ca482",
   "metadata": {},
   "outputs": [],
   "source": [
    "import random\n",
    "\n",
    "class GetRandom:\n",
    "    def __init__(self):\n",
    "        self.positions = {}  # key -> location\n",
    "        self.container = []  # keys\n",
    "        \n",
    "    def put(self, x):\n",
    "        if x not in self.positions:\n",
    "            self.positions[x] = len(self.container)\n",
    "            self.container.append(x)\n",
    "            \n",
    "    def get(self, x):\n",
    "        return True if x in self.positions else False\n",
    "    \n",
    "    def delete(self, x):\n",
    "        if x in self.positions:\n",
    "            if self.container[-1] == x:\n",
    "                self.container.pop()\n",
    "                del self.positions[x]\n",
    "            else:\n",
    "                last = self.container.pop()\n",
    "                i = self.positions[x]\n",
    "                self.positions[last] = i\n",
    "                del self.positions[x]"
   ]
  },
  {
   "cell_type": "markdown",
   "id": "8aeddd65",
   "metadata": {},
   "source": [
    "## Q5. Find smallest positive integer missing from the array."
   ]
  },
  {
   "cell_type": "markdown",
   "id": "c94a355e",
   "metadata": {},
   "source": [
    "## Q6. Maximize Profit.\n",
    "\n",
    "Array of prices. You can buy one day, and sell in the future. Single trade only. How to maximize profit?"
   ]
  },
  {
   "cell_type": "markdown",
   "id": "f7c4f0f5",
   "metadata": {},
   "source": [
    "**Ans**: Each day, you *could* buy the stock. The question is when in the future do you sell? The answer is the MAXIMUM price in the future.\n",
    "\n",
    "Work your way backwards from the right end, and track the max value."
   ]
  },
  {
   "cell_type": "markdown",
   "id": "00d523a0",
   "metadata": {},
   "source": [
    "## Q7. Generate all permutations of a given string."
   ]
  },
  {
   "cell_type": "code",
   "execution_count": 59,
   "id": "10d80df7",
   "metadata": {},
   "outputs": [],
   "source": [
    "class Permute:\n",
    "    def __init__(self):\n",
    "        pass\n",
    "    \n",
    "    def solve(self, string):\n",
    "        def permute(sub):\n",
    "            if len(sub) == 1:\n",
    "                return [sub]\n",
    "            \n",
    "            ans = []\n",
    "            for i in range(len(sub)):\n",
    "                root = sub[i]\n",
    "                rest = sub[:i] + sub[i+1:]\n",
    "                for temp in permute(rest):\n",
    "                    ans.append(root + temp)\n",
    "                    \n",
    "            return ans\n",
    "        \n",
    "        return permute(string)"
   ]
  },
  {
   "cell_type": "code",
   "execution_count": 60,
   "id": "02294a6c",
   "metadata": {},
   "outputs": [
    {
     "data": {
      "text/plain": [
       "['abc', 'acb', 'bac', 'bca', 'cab', 'cba']"
      ]
     },
     "execution_count": 60,
     "metadata": {},
     "output_type": "execute_result"
    }
   ],
   "source": [
    "t = Permute()\n",
    "t.solve('abc')"
   ]
  },
  {
   "cell_type": "markdown",
   "id": "5e9892e8",
   "metadata": {},
   "source": [
    "## Q8. Longest substring without repeating characters.\n",
    "\n",
    "`s = \"abcabcbb\"`\n",
    "\n",
    "Start from left to right -- standard two-pointer approach.\n",
    "\n",
    "Maintain a dict where you track the seen characters.\n",
    "* So long as you keep seeing new chars, keep upping.\n",
    "* Whenever you see a repeatition, pause, and start dropping from prev till repeating char goes away.\n",
    "* You do not need to track the intermediate length, because they will have to be smaller than the array you started from."
   ]
  },
  {
   "cell_type": "code",
   "execution_count": 65,
   "id": "4cdedbc1",
   "metadata": {},
   "outputs": [],
   "source": [
    "from collections import defaultdict\n",
    "\n",
    "class LongestSubRepeat:\n",
    "    def solve(self, string):\n",
    "        i = 0\n",
    "        j = 0\n",
    "        seen = set()\n",
    "        \n",
    "        ans = 0\n",
    "        \n",
    "        while j < len(string):\n",
    "            current = string[j]\n",
    "            if current not in seen:\n",
    "                seen.add(current)\n",
    "                j += 1\n",
    "            else:\n",
    "                ans = max(ans, j-i)\n",
    "                while current in seen and i < j:\n",
    "                    seen.remove(string[i])\n",
    "                    i += 1\n",
    "                    \n",
    "        ans = max(ans, j-i)\n",
    "        return ans"
   ]
  },
  {
   "cell_type": "code",
   "execution_count": 68,
   "id": "9b1e10d1",
   "metadata": {},
   "outputs": [
    {
     "data": {
      "text/plain": [
       "4"
      ]
     },
     "execution_count": 68,
     "metadata": {},
     "output_type": "execute_result"
    }
   ],
   "source": [
    "t = LongestSubRepeat()\n",
    "t.solve('abcabcbbabcd')"
   ]
  },
  {
   "cell_type": "markdown",
   "id": "ef1ac996",
   "metadata": {},
   "source": [
    "## Q9. Return product of array except self."
   ]
  },
  {
   "cell_type": "markdown",
   "id": "47e631d3",
   "metadata": {},
   "source": [
    "nums = [1, 2, 3, 4]\n",
    "\n",
    "ans = [24, 12, 8, 6]\n",
    "\n",
    "Okay. So we need products to the left, and then products to the right..."
   ]
  },
  {
   "cell_type": "code",
   "execution_count": null,
   "id": "f11e030e",
   "metadata": {},
   "outputs": [],
   "source": [
    "class ProductSelf:\n",
    "    def solve(self, array):\n",
    "        zeros = 0\n",
    "        for x in array:\n",
    "            if x == 0:\n",
    "                zeros += 1\n",
    "                \n",
    "        if zeros == 1:\n",
    "            prod = 1\n",
    "            for x in array:\n",
    "                if x != 0:\n",
    "                    prod *= x\n",
    "                    \n",
    "            return [prod if x == 0 else 0 for x in array]\n",
    "        \n",
    "        elif zeros > 1:\n",
    "            return [0 for x in array]\n",
    "        \n",
    "        else:\n",
    "            # No zeros now.\n",
    "            "
   ]
  }
 ],
 "metadata": {
  "kernelspec": {
   "display_name": "Python 3",
   "language": "python",
   "name": "python3"
  },
  "language_info": {
   "codemirror_mode": {
    "name": "ipython",
    "version": 3
   },
   "file_extension": ".py",
   "mimetype": "text/x-python",
   "name": "python",
   "nbconvert_exporter": "python",
   "pygments_lexer": "ipython3",
   "version": "3.8.8"
  }
 },
 "nbformat": 4,
 "nbformat_minor": 5
}
