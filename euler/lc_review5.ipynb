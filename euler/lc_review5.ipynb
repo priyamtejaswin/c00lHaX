{
 "cells": [
  {
   "cell_type": "markdown",
   "id": "f21e61cc",
   "metadata": {},
   "source": [
    "Continuing to review old questions from the stack.\n",
    "\n",
    "Now cycling between 5 old and 5 new (but related problems)."
   ]
  },
  {
   "cell_type": "markdown",
   "id": "a162878c",
   "metadata": {},
   "source": [
    "1. Find largest palindrome in a string.\n",
    "2. Number of unique decodings.\n",
    "3. Implement MinStack, with all these ops running in constant time: push, pop, getMin, top\n",
    "4. Dictionary word break.\n",
    "**5. Smallest substring that contains all letters of the target string.**\n",
    "\n",
    "6. Word search in matrix.\n",
    "7. Max-product of a sub-array.\n",
    "---"
   ]
  },
  {
   "cell_type": "markdown",
   "id": "b2482021",
   "metadata": {},
   "source": [
    "# 1. Find largest palindrome in a string.\n",
    "\n",
    "Start from the 1st position. Keep a pointer ahead of the 1st pointer.\n",
    "Iterate over all such positions, and keep checking for palilndromes.\n",
    "\n",
    "A faster solution:\n",
    "1. Given a string `s` which needs to be checked, check if `s[1:-1]` is a palindrome.\n",
    "2. If it is, then `s` is a palindrome if `s[0]` and `s[-1]` are the same.\n",
    "3. Build this structure iteratively, using uni-chars, then bi-chars, then tri-chars.\n",
    "    * Solve for these problems first, then use these to check for bigger strings."
   ]
  },
  {
   "cell_type": "code",
   "execution_count": 232,
   "id": "628586f5",
   "metadata": {},
   "outputs": [],
   "source": [
    "class LargestPalindrome:\n",
    "    def slow(self, s):\n",
    "        if len(s) == 1:\n",
    "            return s\n",
    "        \n",
    "        ans = ''\n",
    "        for i in range(len(s)):\n",
    "            for j in range(i, len(s)):\n",
    "                temp = s[i:j+1]\n",
    "                if len(temp) > len(ans) and temp == temp[::-1]:\n",
    "                    ans = temp\n",
    "                    \n",
    "        return ans\n",
    "    \n",
    "    def fast(self, s):\n",
    "        structure = [[0 for i in range(len(s))] for j in range(len(s))]\n",
    "        for i in range(len(s)):\n",
    "            structure[i][i] = 1\n",
    "            if (i+1) < len(s) and s[i] == s[i+1]:\n",
    "                s[i][i+1] = 1\n",
    "                \n",
    "        ans = s[0:1]\n",
    "        \n",
    "        for gap in range(2, len(s)):\n",
    "            for i in range(len(s)-gap):\n",
    "                j = i + gap\n",
    "                if structure[i+1][j-1] and s[i] == s[j]:\n",
    "                    structure[i][j] = 1\n",
    "                    temp = s[i:j+1]\n",
    "                    if len(temp) > len(ans):\n",
    "                        ans = temp\n",
    "                        \n",
    "        return ans"
   ]
  },
  {
   "cell_type": "code",
   "execution_count": 233,
   "id": "06e1fe5d",
   "metadata": {},
   "outputs": [
    {
     "data": {
      "text/plain": [
       "'abcba'"
      ]
     },
     "execution_count": 233,
     "metadata": {},
     "output_type": "execute_result"
    }
   ],
   "source": [
    "t = LargestPalindrome()\n",
    "t.slow('abcba')"
   ]
  },
  {
   "cell_type": "code",
   "execution_count": 234,
   "id": "2e9e0acb",
   "metadata": {},
   "outputs": [
    {
     "data": {
      "text/plain": [
       "'abcba'"
      ]
     },
     "execution_count": 234,
     "metadata": {},
     "output_type": "execute_result"
    }
   ],
   "source": [
    "t.fast('abcban')"
   ]
  },
  {
   "cell_type": "markdown",
   "id": "515ac7b2",
   "metadata": {},
   "source": [
    "# 2. Find number of unique decodings for a string.\n",
    "\n",
    "Given a string of numbers, convert it into all possible `decodings`.\n",
    "\n",
    "Any number can be converted into an alphabet, except for 0, and substrings starting from 0.\n",
    "\n",
    "```\n",
    "s: 11106\n",
    "1: 11, 10, 6\n",
    "2: 1, 1, 10, 6\n",
    "```\n",
    "\n",
    "At each position, we can decode the current char, or the current+next chars.\n",
    "\n",
    "Remember, that the memoization here, is that you can have different paths which will land on the same position!\n",
    "\n",
    "So, you should `memo` the number of unique decodings at different positions -- this way, each position will be visited only once!"
   ]
  },
  {
   "cell_type": "code",
   "execution_count": 56,
   "id": "1fd5052f",
   "metadata": {},
   "outputs": [],
   "source": [
    "from functools import lru_cache\n",
    "\n",
    "class UniqueDecodings:\n",
    "    def solve(self, s):\n",
    "        self.ans = 0\n",
    "        valid = set([str(i) for i in range(1, 27)])\n",
    "        \n",
    "        @lru_cache(maxsize=None)\n",
    "        def decode(position):\n",
    "            if position == len(s):\n",
    "                return 1\n",
    "            else:\n",
    "                if s[position] in valid:\n",
    "                    single = decode(position+1)\n",
    "                    if (position+1) < len(s) and s[position:position+2] in valid:\n",
    "                        double = decode(position+2)\n",
    "                        return single + double\n",
    "                    else:\n",
    "                        return single\n",
    "                else:\n",
    "                    return 0\n",
    "                        \n",
    "        return decode(0)"
   ]
  },
  {
   "cell_type": "code",
   "execution_count": 58,
   "id": "68979841",
   "metadata": {},
   "outputs": [
    {
     "data": {
      "text/plain": [
       "2"
      ]
     },
     "execution_count": 58,
     "metadata": {},
     "output_type": "execute_result"
    }
   ],
   "source": [
    "t = UniqueDecodings()\n",
    "t.solve('11106')"
   ]
  },
  {
   "cell_type": "markdown",
   "id": "0bea4d51",
   "metadata": {},
   "source": [
    "# 3. Implement a MinStack\n",
    "\n",
    "All these ops need to run in constant time:\n",
    "* push\n",
    "* pop\n",
    "* getMin\n",
    "* top"
   ]
  },
  {
   "cell_type": "code",
   "execution_count": 65,
   "id": "ec551095",
   "metadata": {},
   "outputs": [],
   "source": [
    "class MinStack:\n",
    "    def __init__(self):\n",
    "        self.stack = []\n",
    "        self.mins = []\n",
    "        \n",
    "    def __str__(self):\n",
    "        return str(self.stack) + str(self.mins)\n",
    "        \n",
    "    def push(self, x):\n",
    "        self.stack.append(x)\n",
    "        if self.mins:\n",
    "            if x < self.mins[-1]:\n",
    "                self.mins.append(x)\n",
    "            else:\n",
    "                self.mins.append(self.mins[-1])\n",
    "        else:\n",
    "            self.mins.append(x)\n",
    "            \n",
    "    def pop(self):\n",
    "        self.mins.pop()\n",
    "        return self.stack.pop()\n",
    "    \n",
    "    def getMin(self):\n",
    "        return self.mins[-1]\n",
    "    \n",
    "    def top(self):\n",
    "        return self.stack[-1]"
   ]
  },
  {
   "cell_type": "code",
   "execution_count": 66,
   "id": "7912f063",
   "metadata": {},
   "outputs": [
    {
     "name": "stdout",
     "output_type": "stream",
     "text": [
      "[2, 3, 1][2, 2, 1]\n",
      "[2, 3, 0, 4][2, 2, 0, 0]\n"
     ]
    }
   ],
   "source": [
    "t = MinStack()\n",
    "t.push(2)\n",
    "t.push(3)\n",
    "t.push(1)\n",
    "print(t)\n",
    "t.pop()\n",
    "t.push(0)\n",
    "t.push(4)\n",
    "print(t)"
   ]
  },
  {
   "cell_type": "markdown",
   "id": "da44e5cb",
   "metadata": {},
   "source": [
    "# 4. Dictionary word break\n",
    "\n",
    "Confirm if a string can be split into words present in a dictionary.\n",
    "```\n",
    "applepenapple: [apple, pen, apple]\n",
    "```\n",
    "\n",
    "Start from the first position, keep moving up:\n",
    "* if you found a word, AND the rest of the string can ALSO be split, then return `True`\n",
    "    * This means, you launch a recursive call for `check(pos+1)`\n",
    "* else you just move on to the next position\n",
    "\n",
    "\n",
    "Say the substring that contains the last character exists -- you have now reached the end of the string.\n",
    "* Return `True`\n",
    "\n",
    "### Complexity?\n",
    "The inner loop is $O(n^2)$ because:\n",
    "* for each char in the string, you check for all substrings in the future.\n",
    "\n",
    "But remeber, you also sub-select the substring: that is $O(n)$\n",
    "\n",
    "**Ans:** $O(n^3)$"
   ]
  },
  {
   "cell_type": "code",
   "execution_count": 188,
   "id": "dfe725ea",
   "metadata": {},
   "outputs": [],
   "source": [
    "from functools import lru_cache\n",
    "\n",
    "class WordBreak:\n",
    "    def solve(self, s, words):\n",
    "        \"\"\"\n",
    "        Note, `words` is a list.\n",
    "        \"\"\"\n",
    "        words = set(words)\n",
    "        \n",
    "        @lru_cache(maxsize=None)\n",
    "        def check(start):\n",
    "            if start == len(s):\n",
    "                return True\n",
    "            \n",
    "            for i in range(start, len(s)):\n",
    "                subword = s[start:i+1]\n",
    "                if subword in words and check(i+1):\n",
    "                    return True\n",
    "                \n",
    "            return False\n",
    "        \n",
    "        return check(0)"
   ]
  },
  {
   "cell_type": "code",
   "execution_count": 189,
   "id": "ef120920",
   "metadata": {},
   "outputs": [
    {
     "data": {
      "text/plain": [
       "False"
      ]
     },
     "execution_count": 189,
     "metadata": {},
     "output_type": "execute_result"
    }
   ],
   "source": [
    "t = WordBreak()\n",
    "t.solve('applespen', ['apple', 'apple', 'pen'])"
   ]
  },
  {
   "cell_type": "markdown",
   "id": "7b7911da",
   "metadata": {},
   "source": [
    "# 5. Smallest substring that contains all letters of the target.\n",
    "\n",
    "```\n",
    "s: ABDCAB\n",
    "t: ABC\n",
    "\n",
    "ans: CAB\n",
    "```\n",
    "\n",
    "Two-pointer should work?\n",
    "* Keep track of chars, and a counter for the chars in the target."
   ]
  },
  {
   "cell_type": "code",
   "execution_count": 230,
   "id": "b3aff70b",
   "metadata": {},
   "outputs": [],
   "source": [
    "from collections import Counter\n",
    "\n",
    "class SmallestContains:\n",
    "    def solve(self, source, target):\n",
    "        letters = set(target)\n",
    "        remaining = Counter(target)\n",
    "        seen = {}\n",
    "        \n",
    "        size = len(source)+1\n",
    "        ans = ''\n",
    "        \n",
    "        start = 0\n",
    "        for end in range(len(source)):\n",
    "            print(\"posx:\", start, end)\n",
    "            print(\"seen:\", seen)\n",
    "            print(\"rema:\", remaining)\n",
    "\n",
    "            if source[end] in seen:\n",
    "                seen[source[end]] += 1\n",
    "            else:\n",
    "                seen[source[end]] = 1\n",
    "                \n",
    "            if source[end] in letters:\n",
    "                # Must be deleted.\n",
    "                if source[end] in remaining:\n",
    "                    remaining[source[end]] -= 1\n",
    "                    if remaining[source[end]] == 0:\n",
    "                        del remaining[source[end]]\n",
    "                else:\n",
    "                    while start < end:\n",
    "                        print(\"while:\", seen)\n",
    "                        seen[source[start]] -= 1\n",
    "                        if seen[source[start]] == 0:\n",
    "                            del seen[source[start]]\n",
    "                            \n",
    "                        if source[start] in letters:\n",
    "                            if source[start] in remaining:\n",
    "                                remaining[source[start]] += 1\n",
    "                            else:\n",
    "                                remaining[source[start]] = 1\n",
    "                                \n",
    "                        start += 1\n",
    "                        \n",
    "            print(\"POST\")\n",
    "            print(\"posx:\", start, end)\n",
    "            print(\"seen:\", seen)\n",
    "            print(\"rema:\", remaining)\n",
    "            print()\n",
    "            \n",
    "#             # while start < end and all([char in seen and count <= seen[char] for char, count in remaining.items()]):\n",
    "#             while start < end and len(remaining) == 0:\n",
    "#                 if end+1 - start < size:\n",
    "#                     size = end+1 - start\n",
    "#                     ans = source[start:end+1]\n",
    "                    \n",
    "#                 seen[source[start]] -= 1\n",
    "#                 if seen[source[start]] == 0:\n",
    "#                     del seen[source[start]]\n",
    "                    \n",
    "#                 if source[start] in remaining:\n",
    "#                     remaining[source[start]] += 1\n",
    "#                 else:\n",
    "#                     remaining[source[start]] = 1\n",
    "                    \n",
    "#                 start += 1\n",
    "                \n",
    "#         return size, ans"
   ]
  },
  {
   "cell_type": "code",
   "execution_count": 231,
   "id": "262e5965",
   "metadata": {},
   "outputs": [
    {
     "name": "stdout",
     "output_type": "stream",
     "text": [
      "posx: 0 0\n",
      "seen: {}\n",
      "rema: Counter({'a': 1, 'b': 1, 'c': 1})\n",
      "POST\n",
      "posx: 0 0\n",
      "seen: {'a': 1}\n",
      "rema: Counter({'b': 1, 'c': 1})\n",
      "\n",
      "posx: 0 1\n",
      "seen: {'a': 1}\n",
      "rema: Counter({'b': 1, 'c': 1})\n",
      "while: {'a': 2}\n",
      "POST\n",
      "posx: 1 1\n",
      "seen: {'a': 1}\n",
      "rema: Counter({'b': 1, 'c': 1, 'a': 1})\n",
      "\n",
      "posx: 1 2\n",
      "seen: {'a': 1}\n",
      "rema: Counter({'b': 1, 'c': 1, 'a': 1})\n",
      "POST\n",
      "posx: 1 2\n",
      "seen: {'a': 2}\n",
      "rema: Counter({'b': 1, 'c': 1})\n",
      "\n",
      "posx: 1 3\n",
      "seen: {'a': 2}\n",
      "rema: Counter({'b': 1, 'c': 1})\n",
      "while: {'a': 3}\n",
      "while: {'a': 2}\n",
      "POST\n",
      "posx: 3 3\n",
      "seen: {'a': 1}\n",
      "rema: Counter({'a': 2, 'b': 1, 'c': 1})\n",
      "\n",
      "posx: 3 4\n",
      "seen: {'a': 1}\n",
      "rema: Counter({'a': 2, 'b': 1, 'c': 1})\n",
      "POST\n",
      "posx: 3 4\n",
      "seen: {'a': 1, 'b': 1}\n",
      "rema: Counter({'a': 2, 'c': 1})\n",
      "\n",
      "posx: 3 5\n",
      "seen: {'a': 1, 'b': 1}\n",
      "rema: Counter({'a': 2, 'c': 1})\n",
      "POST\n",
      "posx: 3 5\n",
      "seen: {'a': 1, 'b': 1, 'd': 1}\n",
      "rema: Counter({'a': 2, 'c': 1})\n",
      "\n",
      "posx: 3 6\n",
      "seen: {'a': 1, 'b': 1, 'd': 1}\n",
      "rema: Counter({'a': 2, 'c': 1})\n",
      "while: {'a': 1, 'b': 2, 'd': 1}\n",
      "while: {'b': 2, 'd': 1}\n",
      "while: {'b': 1, 'd': 1}\n",
      "POST\n",
      "posx: 6 6\n",
      "seen: {'b': 1}\n",
      "rema: Counter({'a': 3, 'c': 1, 'b': 1})\n",
      "\n",
      "posx: 6 7\n",
      "seen: {'b': 1}\n",
      "rema: Counter({'a': 3, 'c': 1, 'b': 1})\n",
      "POST\n",
      "posx: 6 7\n",
      "seen: {'b': 1, 'c': 1}\n",
      "rema: Counter({'a': 3, 'b': 1})\n",
      "\n",
      "posx: 6 8\n",
      "seen: {'b': 1, 'c': 1}\n",
      "rema: Counter({'a': 3, 'b': 1})\n",
      "POST\n",
      "posx: 6 8\n",
      "seen: {'b': 2, 'c': 1}\n",
      "rema: Counter({'a': 3})\n",
      "\n"
     ]
    }
   ],
   "source": [
    "t = SmallestContains()\n",
    "t.solve('aaaabdbcb', 'abc')"
   ]
  },
  {
   "cell_type": "markdown",
   "id": "322f0506",
   "metadata": {},
   "source": [
    "# 6. Word Search in Matrix"
   ]
  },
  {
   "cell_type": "markdown",
   "id": "280a0486",
   "metadata": {},
   "source": [
    "```\n",
    "h e h s\n",
    "o l h x\n",
    "l l o e\n",
    "```\n",
    "\n",
    "Return `True` if the word `hello` exists in the grid.\n",
    "\n",
    "You are only permitted to move in adjacent directions."
   ]
  },
  {
   "cell_type": "code",
   "execution_count": 253,
   "id": "f466fd6b",
   "metadata": {},
   "outputs": [],
   "source": [
    "class WordSearch:\n",
    "    def solve(self, word, matrix):\n",
    "        rows = len(matrix)\n",
    "        cols = len(matrix[0])\n",
    "        \n",
    "        def search(i, x, y):\n",
    "            if matrix[x][y] == word[i]:\n",
    "                if i == len(word)-1:\n",
    "                    return True\n",
    "                else:\n",
    "                    char = matrix[x][y]\n",
    "                    matrix[x][y] = None\n",
    "                    for a, b in [(x, y+1), (x+1, y), (x, y-1), (x-1, y)]:\n",
    "                        if a >= 0 and a < rows and b >= 0 and b < cols and matrix[a][b] is not None:\n",
    "                            if search(i+1, a, b):\n",
    "                                matrix[x][y] = char\n",
    "                                return True\n",
    "                            \n",
    "                    matrix[x][y] = char\n",
    "                    return False\n",
    "                            \n",
    "            return False\n",
    "                        \n",
    "                        \n",
    "        for x in range(rows):\n",
    "            for y in range(cols):\n",
    "                if matrix[x][y] == word[0]:\n",
    "                    if search(0, x, y):\n",
    "                        return True\n",
    "                    \n",
    "        return False"
   ]
  },
  {
   "cell_type": "code",
   "execution_count": 254,
   "id": "d031229a",
   "metadata": {},
   "outputs": [
    {
     "data": {
      "text/plain": [
       "True"
      ]
     },
     "execution_count": 254,
     "metadata": {},
     "output_type": "execute_result"
    }
   ],
   "source": [
    "t = WordSearch()\n",
    "m = [list('hehs'), list('olhx'), list('lloe')]\n",
    "t.solve('hoe', m)"
   ]
  },
  {
   "cell_type": "code",
   "execution_count": 255,
   "id": "ee5f5d99",
   "metadata": {},
   "outputs": [
    {
     "name": "stdout",
     "output_type": "stream",
     "text": [
      "['h', 'e', 'h', 's']\n",
      "['o', 'l', 'h', 'x']\n",
      "['l', 'l', 'o', 'e']\n"
     ]
    }
   ],
   "source": [
    "for row in m:\n",
    "    print(row)"
   ]
  },
  {
   "cell_type": "markdown",
   "id": "58ac6816",
   "metadata": {},
   "source": [
    "# 7. Given an array of integers, find a subarray with the max product, and return the product."
   ]
  },
  {
   "cell_type": "markdown",
   "id": "c1e59944",
   "metadata": {},
   "source": [
    "`[2, -5, 3, 1, -4, 0, -10]`"
   ]
  },
  {
   "cell_type": "code",
   "execution_count": 260,
   "id": "0c7a1418",
   "metadata": {},
   "outputs": [],
   "source": [
    "class MaxSubProduct:\n",
    "    def solve(self, array):\n",
    "        big = array[0]\n",
    "        small = array[0]\n",
    "        \n",
    "        ans = array[0]\n",
    "        \n",
    "        for current in array[1:]:\n",
    "            ans = max(ans, big, small)\n",
    "            \n",
    "            big = max(current, current * big, current * small)\n",
    "            small = min(current, current * big, current * small)\n",
    "            \n",
    "        return max(ans, big, small)"
   ]
  },
  {
   "cell_type": "code",
   "execution_count": 263,
   "id": "2fef3751",
   "metadata": {},
   "outputs": [
    {
     "data": {
      "text/plain": [
       "55"
      ]
     },
     "execution_count": 263,
     "metadata": {},
     "output_type": "execute_result"
    }
   ],
   "source": [
    "t = MaxSubProduct()\n",
    "t.solve([2, -5, 3, 1, 4, 0, 55])"
   ]
  },
  {
   "cell_type": "markdown",
   "id": "fc3eae4e",
   "metadata": {},
   "source": [
    "# 8. Max Subarray Sum"
   ]
  },
  {
   "cell_type": "code",
   "execution_count": 264,
   "id": "80af262b",
   "metadata": {},
   "outputs": [],
   "source": [
    "class MaxSubSum:\n",
    "    def solve(self, array):\n",
    "        ans = array[0]\n",
    "        best = array[0]\n",
    "        for current in array[1:]:\n",
    "            ans = max(ans, best)\n",
    "            \n",
    "            temp = best + current\n",
    "            if temp > current:\n",
    "                best = temp\n",
    "            else:\n",
    "                best = current\n",
    "                \n",
    "        return max(ans, best)"
   ]
  },
  {
   "cell_type": "code",
   "execution_count": 267,
   "id": "07d3fb60",
   "metadata": {},
   "outputs": [
    {
     "data": {
      "text/plain": [
       "55"
      ]
     },
     "execution_count": 267,
     "metadata": {},
     "output_type": "execute_result"
    }
   ],
   "source": [
    "t = MaxSubSum()\n",
    "t.solve([2, -5, -33, -1, 0, -1, 55])"
   ]
  },
  {
   "cell_type": "markdown",
   "id": "cffba16d",
   "metadata": {},
   "source": [
    "# 9. MaxPath Sum"
   ]
  },
  {
   "cell_type": "code",
   "execution_count": 277,
   "id": "7bebda45",
   "metadata": {},
   "outputs": [],
   "source": [
    "class Node:\n",
    "    def __init__(self, val, left=None, right=None):\n",
    "        self.val = val\n",
    "        self.left = left\n",
    "        self.right = right\n",
    "        \n",
    "root = Node(-50)\n",
    "seven = Node(100)\n",
    "nine = Node(6)\n",
    "two = Node(2)\n",
    "three = Node(3)\n",
    "\n",
    "root.left = nine\n",
    "root.right = seven\n",
    "seven.left = two\n",
    "seven.right = three\n",
    "\n",
    "class MaxPathSum:\n",
    "    def solve(self, root):\n",
    "        self.ans = root.val  # Dummy placeholder.\n",
    "        \n",
    "        def bestpath(node):\n",
    "            if node is None:\n",
    "                return 0  # For continuity at leaf nodes.\n",
    "            else:\n",
    "                left = bestpath(node.left)  # MaxPathSum from left.\n",
    "                right = bestpath(node.right)  # MaxPathSum from right.\n",
    "                \n",
    "                # 1. Consider the sub-path from the left<--root->right ...\n",
    "                sub = left + node.val + right\n",
    "                # This is a candidate.\n",
    "                self.ans = max(self.ans, sub)\n",
    "                \n",
    "                temp_l = node.val + left\n",
    "                temp_r = node.val + right\n",
    "                \n",
    "                self.ans = max(self.ans, node.val, temp_l, temp_r)\n",
    "                return max(node.val, temp_l, temp_r)\n",
    "            \n",
    "        bestpath(root)\n",
    "        return self.ans"
   ]
  },
  {
   "cell_type": "code",
   "execution_count": 278,
   "id": "0e5f1859",
   "metadata": {},
   "outputs": [
    {
     "data": {
      "text/plain": [
       "105"
      ]
     },
     "execution_count": 278,
     "metadata": {},
     "output_type": "execute_result"
    }
   ],
   "source": [
    "t = MaxPathSum()\n",
    "t.solve(root)"
   ]
  },
  {
   "cell_type": "markdown",
   "id": "96750e6e",
   "metadata": {},
   "source": [
    "# 10. Move zeros while maintaining order."
   ]
  },
  {
   "cell_type": "markdown",
   "id": "421f28ec",
   "metadata": {},
   "source": [
    "`[1, 2, 3, 0, 4, 0, 6] ==> [1, 2, 3, 4, 6, 0, 0]`\n",
    "\n",
    "DO IT INPLACE!"
   ]
  },
  {
   "cell_type": "code",
   "execution_count": 288,
   "id": "58774919",
   "metadata": {},
   "outputs": [],
   "source": [
    "class MoveZeros:\n",
    "    def solve(self, array):\n",
    "        z = 0\n",
    "        for i in range(len(array)):\n",
    "            if array[i] == 0:\n",
    "                z = i\n",
    "                break\n",
    "                \n",
    "        n = z+1\n",
    "        print(z, n)\n",
    "        while n < len(array):\n",
    "            print(z, n, array)\n",
    "            if array[n] == 0:\n",
    "                n += 1\n",
    "            else:\n",
    "                array[n], array[z] = array[z], array[n]\n",
    "                while z < len(array) and array[z] != 0:\n",
    "                    z += 1\n",
    "                    \n",
    "                n = z+1"
   ]
  },
  {
   "cell_type": "code",
   "execution_count": 289,
   "id": "39f256ba",
   "metadata": {},
   "outputs": [
    {
     "name": "stdout",
     "output_type": "stream",
     "text": [
      "3 4\n",
      "3 4 [1, 2, 3, 0, 4, 0, 6]\n",
      "4 5 [1, 2, 3, 4, 0, 0, 6]\n",
      "4 6 [1, 2, 3, 4, 0, 0, 6]\n",
      "5 6 [1, 2, 3, 4, 6, 0, 0]\n"
     ]
    }
   ],
   "source": [
    "a = [1, 2, 3, 0, 4, 0, 6]\n",
    "t = MoveZeros()\n",
    "t.solve(a)"
   ]
  },
  {
   "cell_type": "code",
   "execution_count": null,
   "id": "4e42d570",
   "metadata": {},
   "outputs": [],
   "source": []
  },
  {
   "cell_type": "code",
   "execution_count": null,
   "id": "8e470327",
   "metadata": {},
   "outputs": [],
   "source": []
  },
  {
   "cell_type": "code",
   "execution_count": null,
   "id": "3a1ff4d5",
   "metadata": {},
   "outputs": [],
   "source": []
  },
  {
   "cell_type": "code",
   "execution_count": null,
   "id": "fce9c8af",
   "metadata": {},
   "outputs": [],
   "source": []
  },
  {
   "cell_type": "code",
   "execution_count": null,
   "id": "992f9177",
   "metadata": {},
   "outputs": [],
   "source": []
  },
  {
   "cell_type": "code",
   "execution_count": null,
   "id": "c740c262",
   "metadata": {},
   "outputs": [],
   "source": []
  },
  {
   "cell_type": "code",
   "execution_count": 67,
   "id": "6137310b",
   "metadata": {},
   "outputs": [],
   "source": [
    "import math"
   ]
  },
  {
   "cell_type": "code",
   "execution_count": 72,
   "id": "67e4ee30",
   "metadata": {},
   "outputs": [
    {
     "name": "stdout",
     "output_type": "stream",
     "text": [
      "1 0.30563236792315523\n",
      "2 0.5676029690001455\n",
      "3 0.7568039586668606\n",
      "4 0.8877892592053558\n",
      "5 0.9460049483335758\n",
      "6 0.9751127928976859\n",
      "7 0.9969436763207684\n",
      "8 0.9998544607771794\n",
      "9 1.0\n"
     ]
    }
   ],
   "source": [
    "vals = [2.1,1.8, 1.3, 0.9, 0.4, 0.2, 0.15, 0.02, 0.001]\n",
    "total = sum(vals)\n",
    "running = 0\n",
    "for ix, v in enumerate(vals):\n",
    "    running += v\n",
    "    print(ix+1, running/total)"
   ]
  },
  {
   "cell_type": "code",
   "execution_count": 69,
   "id": "99833935",
   "metadata": {},
   "outputs": [
    {
     "data": {
      "text/plain": [
       "6.871000000000001"
      ]
     },
     "execution_count": 69,
     "metadata": {},
     "output_type": "execute_result"
    }
   ],
   "source": [
    "total"
   ]
  },
  {
   "cell_type": "code",
   "execution_count": null,
   "id": "2cae0e97",
   "metadata": {},
   "outputs": [],
   "source": []
  },
  {
   "cell_type": "code",
   "execution_count": 133,
   "id": "afec5fad",
   "metadata": {},
   "outputs": [],
   "source": [
    "import numpy as np"
   ]
  },
  {
   "cell_type": "code",
   "execution_count": 134,
   "id": "12a7616e",
   "metadata": {},
   "outputs": [],
   "source": [
    "X = np.array([\n",
    "    [-2, -2, -2, 0, 0],\n",
    "    [-2, -2, -2, 0, 0],\n",
    "    [4, 4, 4, 0, 0],\n",
    "    [0, 0, 0, -2, -2],\n",
    "    [0, 0, 0, 2, 2],\n",
    "    [0, 0, 0, 0, 0]\n",
    "])"
   ]
  },
  {
   "cell_type": "code",
   "execution_count": 135,
   "id": "69dd8f35",
   "metadata": {},
   "outputs": [],
   "source": [
    "U, S, Vh = np.linalg.svd(X)"
   ]
  },
  {
   "cell_type": "code",
   "execution_count": 146,
   "id": "cbebce0b",
   "metadata": {},
   "outputs": [
    {
     "name": "stdout",
     "output_type": "stream",
     "text": [
      "U\n",
      "[[-0.4082  0.    ]\n",
      " [-0.4082  0.    ]\n",
      " [ 0.8165  0.    ]\n",
      " [ 0.     -0.7071]\n",
      " [ 0.      0.7071]\n",
      " [ 0.      0.    ]]\n"
     ]
    }
   ],
   "source": [
    "print(\"U\")\n",
    "print(np.round(U[:,:2], 4))"
   ]
  },
  {
   "cell_type": "code",
   "execution_count": 143,
   "id": "df038308",
   "metadata": {},
   "outputs": [
    {
     "name": "stdout",
     "output_type": "stream",
     "text": [
      "S\n",
      "[[8.4853]\n",
      " [4.    ]\n",
      " [0.    ]\n",
      " [0.    ]\n",
      " [0.    ]]\n"
     ]
    }
   ],
   "source": [
    "print(\"S\")\n",
    "print(np.round(np.expand_dims(S, -1), 4))"
   ]
  },
  {
   "cell_type": "code",
   "execution_count": 155,
   "id": "e85cb30c",
   "metadata": {},
   "outputs": [
    {
     "name": "stdout",
     "output_type": "stream",
     "text": [
      "S\n",
      "[[8.4853 0.    ]\n",
      " [0.     4.    ]]\n"
     ]
    }
   ],
   "source": [
    "print(\"S\")\n",
    "print(np.round(np.diag(S), 4)[:2,:2])"
   ]
  },
  {
   "cell_type": "code",
   "execution_count": 158,
   "id": "68c4b277",
   "metadata": {},
   "outputs": [
    {
     "name": "stdout",
     "output_type": "stream",
     "text": [
      "V\n",
      "[[0.5774 0.5774 0.5774 0.     0.    ]\n",
      " [0.     0.     0.     0.7071 0.7071]]\n"
     ]
    }
   ],
   "source": [
    "print(\"V\")\n",
    "print(np.round(Vh[:2,:], 4))"
   ]
  },
  {
   "cell_type": "code",
   "execution_count": 114,
   "id": "1a490b45",
   "metadata": {},
   "outputs": [
    {
     "data": {
      "text/plain": [
       "11.999999999999998"
      ]
     },
     "execution_count": 114,
     "metadata": {},
     "output_type": "execute_result"
    }
   ],
   "source": [
    "np.var(np.dot(X, Vh[0]))"
   ]
  },
  {
   "cell_type": "code",
   "execution_count": 149,
   "id": "f5b86976",
   "metadata": {},
   "outputs": [],
   "source": [
    "recon = np.expand_dims(np.dot(X, Vh[0]), -1).dot(np.expand_dims(Vh[0], 0))"
   ]
  },
  {
   "cell_type": "code",
   "execution_count": 150,
   "id": "e1b4f5eb",
   "metadata": {},
   "outputs": [
    {
     "data": {
      "text/plain": [
       "array([[-2, -2, -2,  0,  0],\n",
       "       [-2, -2, -2,  0,  0],\n",
       "       [ 4,  4,  4,  0,  0],\n",
       "       [ 0,  0,  0, -2, -2],\n",
       "       [ 0,  0,  0,  2,  2],\n",
       "       [ 0,  0,  0,  0,  0]])"
      ]
     },
     "execution_count": 150,
     "metadata": {},
     "output_type": "execute_result"
    }
   ],
   "source": [
    "X"
   ]
  },
  {
   "cell_type": "code",
   "execution_count": 154,
   "id": "19fc35d6",
   "metadata": {},
   "outputs": [
    {
     "data": {
      "text/plain": [
       "2.6667"
      ]
     },
     "execution_count": 154,
     "metadata": {},
     "output_type": "execute_result"
    }
   ],
   "source": [
    "np.round(np.mean(np.linalg.norm(X - recon, axis=1)**2), 4)"
   ]
  },
  {
   "cell_type": "code",
   "execution_count": 126,
   "id": "8ab55220",
   "metadata": {},
   "outputs": [
    {
     "data": {
      "text/plain": [
       "0.14868815391267343"
      ]
     },
     "execution_count": 126,
     "metadata": {},
     "output_type": "execute_result"
    }
   ],
   "source": [
    "from scipy.stats import norm\n",
    "\n",
    "1 - norm.cdf(2.869) + 1 - norm.cdf(1.051)"
   ]
  },
  {
   "cell_type": "code",
   "execution_count": null,
   "id": "721cfd0b",
   "metadata": {},
   "outputs": [],
   "source": []
  },
  {
   "cell_type": "code",
   "execution_count": 96,
   "id": "0efab797",
   "metadata": {},
   "outputs": [
    {
     "data": {
      "text/plain": [
       "array([1., 1., 1., 1., 1., 1.])"
      ]
     },
     "execution_count": 96,
     "metadata": {},
     "output_type": "execute_result"
    }
   ],
   "source": [
    "np.linalg.norm(U, axis=1)"
   ]
  },
  {
   "cell_type": "code",
   "execution_count": 82,
   "id": "f774ba8f",
   "metadata": {},
   "outputs": [],
   "source": [
    "r = np.random.rand(5, 2)"
   ]
  },
  {
   "cell_type": "code",
   "execution_count": 83,
   "id": "f873553e",
   "metadata": {},
   "outputs": [
    {
     "data": {
      "text/plain": [
       "array([[0.14163243, 0.45658557],\n",
       "       [0.97367086, 0.12363282],\n",
       "       [0.25618947, 0.91079007],\n",
       "       [0.93672353, 0.728582  ],\n",
       "       [0.79285307, 0.84677053]])"
      ]
     },
     "execution_count": 83,
     "metadata": {},
     "output_type": "execute_result"
    }
   ],
   "source": [
    "r"
   ]
  },
  {
   "cell_type": "code",
   "execution_count": 88,
   "id": "ec6f102f",
   "metadata": {},
   "outputs": [
    {
     "data": {
      "text/plain": [
       "array([1.59367334, 1.51695289])"
      ]
     },
     "execution_count": 88,
     "metadata": {},
     "output_type": "execute_result"
    }
   ],
   "source": [
    "np.linalg.norm(r, axis=0)"
   ]
  },
  {
   "cell_type": "code",
   "execution_count": null,
   "id": "770fa1f3",
   "metadata": {},
   "outputs": [],
   "source": []
  },
  {
   "cell_type": "code",
   "execution_count": 171,
   "id": "00787bda",
   "metadata": {},
   "outputs": [],
   "source": [
    "import csv, json\n",
    "\n",
    "def swag_to_json(fpath, outname):\n",
    "    dump = []\n",
    "    \n",
    "    with open(fpath) as fp:\n",
    "        reader = csv.DictReader(fp)\n",
    "        for row in reader:\n",
    "            data = {}\n",
    "            for key, val in row.items():\n",
    "                if len(key):\n",
    "                    if key == 'label':\n",
    "                        data[key] = int(val)\n",
    "                    else:\n",
    "                        data[key] = val\n",
    "                        \n",
    "            dump.append(json.dumps(data))\n",
    "            \n",
    "    with open('/Users/priyamtejaswin/CMU/DirectedStudyF2021/lightning-transformers/samples/%s'%outname, 'w') as fp:\n",
    "        fp.write('\\n'.join(dump))\n",
    "        \n",
    "    print(\"Wrote\", len(dump), \"samples.\")"
   ]
  },
  {
   "cell_type": "code",
   "execution_count": 173,
   "id": "222ebb06",
   "metadata": {},
   "outputs": [
    {
     "name": "stdout",
     "output_type": "stream",
     "text": [
      "Wrote 99 samples.\n"
     ]
    }
   ],
   "source": [
    "swag_to_json('/Users/priyamtejaswin/CMU/DirectedStudyF2021/lightning-transformers/samples/swag_train.csv',\n",
    "             'swag_train.json')"
   ]
  },
  {
   "cell_type": "code",
   "execution_count": 174,
   "id": "d8c9a698",
   "metadata": {},
   "outputs": [
    {
     "name": "stdout",
     "output_type": "stream",
     "text": [
      "Wrote 99 samples.\n"
     ]
    }
   ],
   "source": [
    "swag_to_json('/Users/priyamtejaswin/CMU/DirectedStudyF2021/lightning-transformers/samples/swag_val.csv',\n",
    "             'swag_val.json')"
   ]
  },
  {
   "cell_type": "code",
   "execution_count": 177,
   "id": "0f6a4b7b",
   "metadata": {},
   "outputs": [],
   "source": [
    "def hella_to_swag(fpath, outname):\n",
    "    dump = []\n",
    "    with open(fpath) as fp:\n",
    "        for row in fp.readlines():\n",
    "            final = {}\n",
    "            data = json.loads(row.strip())\n",
    "            \n",
    "            final[\"sent1\"] = data[\"ctx_a\"]\n",
    "            final[\"sent2\"] = data[\"ctx_b\"].capitalize()\n",
    "            final[\"label\"] = data[\"label\"]\n",
    "            for i in range(4):\n",
    "                final[\"ending%d\"%i] = data[\"endings\"][i]\n",
    "                \n",
    "            dump.append(json.dumps(final))\n",
    "            \n",
    "    with open('/Users/priyamtejaswin/CMU/DirectedStudyF2021/lightning-transformers/samples/%s'%outname, 'w') as fp:\n",
    "        fp.write('\\n'.join(dump))\n",
    "        \n",
    "    print(\"Wrote\", len(dump), \"samples.\")"
   ]
  },
  {
   "cell_type": "code",
   "execution_count": 178,
   "id": "1a88d615",
   "metadata": {},
   "outputs": [
    {
     "name": "stdout",
     "output_type": "stream",
     "text": [
      "Wrote 39905 samples.\n"
     ]
    }
   ],
   "source": [
    "hella_to_swag('/Users/priyamtejaswin/CMU/DirectedStudyF2021/calibration/calibration_data/HellaSWAG/train.txt', 'hs_train.json')"
   ]
  },
  {
   "cell_type": "code",
   "execution_count": 179,
   "id": "5997bdaf",
   "metadata": {},
   "outputs": [
    {
     "name": "stdout",
     "output_type": "stream",
     "text": [
      "Wrote 5021 samples.\n"
     ]
    }
   ],
   "source": [
    "hella_to_swag('/Users/priyamtejaswin/CMU/DirectedStudyF2021/calibration/calibration_data/HellaSWAG/dev.txt', 'hs_val.json')"
   ]
  },
  {
   "cell_type": "code",
   "execution_count": null,
   "id": "58e139b1",
   "metadata": {},
   "outputs": [],
   "source": [
    "def multifc_to_kgat(fpath, outname):\n",
    "    dump = []\n",
    "    with open(fpath) as fp:\n",
    "        for row in fp.readlines():\n",
    "            final = {}\n",
    "            data = json.loads(row.strip())\n",
    "            \n",
    "            final['id'] = data['claimID']\n",
    "            final['claim'] = data['claim']\n",
    "            final['label'] = data['label']\n",
    "            bylen = list(sorted(data['evidence'], key=lambda x: len(x.split()), reverse=True))[:5]\n",
    "            evidence = []\n",
    "            for ix, row in enumerate(bylen):\n",
    "                e = [\"Google\", ix, row]\n",
    "                e.extend(data[\"sentiment_counts\"])\n",
    "                e.append(data[\"freshness\"])\n",
    "                e.append(data[\"spell_correct\"])\n",
    "                \n",
    "                evidence.append(e)\n",
    "            final['evidence'] = evidence\n",
    "            \n",
    "            dump.append(json.dumps(final))\n",
    "            \n",
    "    with open('./multifc/'+outname, 'w') as fp:\n",
    "        fp.write('\\n'.join(dump))"
   ]
  },
  {
   "cell_type": "code",
   "execution_count": 290,
   "id": "a46f3230",
   "metadata": {},
   "outputs": [],
   "source": [
    "import numpy as np"
   ]
  },
  {
   "cell_type": "code",
   "execution_count": 301,
   "id": "d04a0951",
   "metadata": {},
   "outputs": [
    {
     "data": {
      "text/plain": [
       "(4, 5, 4)"
      ]
     },
     "execution_count": 301,
     "metadata": {},
     "output_type": "execute_result"
    }
   ],
   "source": [
    "signals = [[[6.0, 3.0, 1367834400.0, 8.4444444444], [6.0, 3.0, 1367834400.0, 8.4444444444], [6.0, 3.0, 1367834400.0, 8.4444444444], [6.0, 3.0, 1367834400.0, 8.4444444444], [6.0, 3.0, 1367834400.0, 8.4444444444]], [[5.0, 4.0, 1263581940.0, 10.3333333333], [5.0, 4.0, 1263581940.0, 10.3333333333], [5.0, 4.0, 1263581940.0, 10.3333333333], [5.0, 4.0, 1263581940.0, 10.3333333333], [5.0, 4.0, 1263581940.0, 10.3333333333]], [[4.0, 6.0, 1426564800.0, 4.8], [4.0, 6.0, 1426564800.0, 4.8], [4.0, 6.0, 1426564800.0, 4.8], [4.0, 6.0, 1426564800.0, 4.8], [4.0, 6.0, 1426564800.0, 4.8]], [[4.0, 5.0, 1468123200.0, 5.5555555556], [4.0, 5.0, 1468123200.0, 5.5555555556], [4.0, 5.0, 1468123200.0, 5.5555555556], [4.0, 5.0, 1468123200.0, 5.5555555556], [4.0, 5.0, 1468123200.0, 5.5555555556]]]\n",
    "batch = []\n",
    "for claim in signals:\n",
    "    a = np.array(claim)\n",
    "    batch.append(a)\n",
    "    \n",
    "np.array(batch).shape"
   ]
  },
  {
   "cell_type": "code",
   "execution_count": 302,
   "id": "64cde030",
   "metadata": {},
   "outputs": [
    {
     "data": {
      "text/plain": [
       "(5, 5, 4)"
      ]
     },
     "execution_count": 302,
     "metadata": {},
     "output_type": "execute_result"
    }
   ],
   "source": [
    "np.array(signals+[np.array(signals[-1])]).shape"
   ]
  },
  {
   "cell_type": "code",
   "execution_count": null,
   "id": "6ed592f1",
   "metadata": {
    "collapsed": true
   },
   "outputs": [],
   "source": [
    "np.ones"
   ]
  }
 ],
 "metadata": {
  "kernelspec": {
   "display_name": "Python 3",
   "language": "python",
   "name": "python3"
  },
  "language_info": {
   "codemirror_mode": {
    "name": "ipython",
    "version": 3
   },
   "file_extension": ".py",
   "mimetype": "text/x-python",
   "name": "python",
   "nbconvert_exporter": "python",
   "pygments_lexer": "ipython3",
   "version": "3.8.8"
  }
 },
 "nbformat": 4,
 "nbformat_minor": 5
}
