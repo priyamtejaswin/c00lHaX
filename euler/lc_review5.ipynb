{
 "cells": [
  {
   "cell_type": "markdown",
   "id": "f21e61cc",
   "metadata": {},
   "source": [
    "Continuing to review old questions from the stack.\n",
    "\n",
    "Now cycling between 5 old and 5 new (but related problems)."
   ]
  },
  {
   "cell_type": "markdown",
   "id": "a162878c",
   "metadata": {},
   "source": [
    "1. Find largest palindrome in a string.\n",
    "2. Number of unique decodings."
   ]
  },
  {
   "cell_type": "markdown",
   "id": "b2482021",
   "metadata": {},
   "source": [
    "# 1. Find largest palindrome in a string.\n",
    "\n",
    "Start from the 1st position. Keep a pointer ahead of the 1st pointer.\n",
    "Iterate over all such positions, and keep checking for palilndromes.\n",
    "\n",
    "A faster solution:\n",
    "1. Given a string `s` which needs to be checked, check if `s[1:-1]` is a palindrome.\n",
    "2. If it is, then `s` is a palindrome if `s[0]` and `s[-1]` are the same.\n",
    "3. Build this structure iteratively, using uni-chars, then bi-chars, then tri-chars.\n",
    "    * Solve for these problems first, then use these to check for bigger strings."
   ]
  },
  {
   "cell_type": "code",
   "execution_count": 38,
   "id": "628586f5",
   "metadata": {},
   "outputs": [],
   "source": [
    "class LargestPalindrome:\n",
    "    def slow(self, s):\n",
    "        if len(s) == 1:\n",
    "            return s\n",
    "        \n",
    "        ans = ''\n",
    "        for i in range(len(s)):\n",
    "            for j in range(i, len(s)):\n",
    "                temp = s[i:j+1]\n",
    "                if len(temp) > len(ans) and temp == temp[::-1]:\n",
    "                    ans = temp\n",
    "                    \n",
    "        return ans\n",
    "    \n",
    "    def fast(self, s):\n",
    "        structure = [[0 for i in range(len(s))] for j in range(len(s))]\n",
    "        for i in range(len(s)):\n",
    "            structure[i][i] = 1\n",
    "            if (i+1) < len(s) and s[i] == s[i+1]:\n",
    "                s[i][i+1] = 1\n",
    "                \n",
    "        ans = s[0:1]\n",
    "        \n",
    "        for gap in range(2, len(s)):\n",
    "            for i in range(len(s)-gap):\n",
    "                j = i + gap\n",
    "                if structure[i+1][j-1] and s[i] == s[j]:\n",
    "                    structure[i][j] = 1\n",
    "                    temp = s[i:j+1]\n",
    "                    if len(temp) > len(ans):\n",
    "                        ans = temp\n",
    "                        \n",
    "        return ans"
   ]
  },
  {
   "cell_type": "code",
   "execution_count": 39,
   "id": "06e1fe5d",
   "metadata": {},
   "outputs": [
    {
     "data": {
      "text/plain": [
       "'abcba'"
      ]
     },
     "execution_count": 39,
     "metadata": {},
     "output_type": "execute_result"
    }
   ],
   "source": [
    "t = LargestPalindrome()\n",
    "t.slow('abcba')"
   ]
  },
  {
   "cell_type": "code",
   "execution_count": 40,
   "id": "2e9e0acb",
   "metadata": {},
   "outputs": [
    {
     "data": {
      "text/plain": [
       "'abcba'"
      ]
     },
     "execution_count": 40,
     "metadata": {},
     "output_type": "execute_result"
    }
   ],
   "source": [
    "t.fast('abcban')"
   ]
  },
  {
   "cell_type": "markdown",
   "id": "515ac7b2",
   "metadata": {},
   "source": [
    "# 2. Find number of unique decodings for a string.\n",
    "\n",
    "Given a string of numbers, convert it into all possible `decodings`.\n",
    "\n",
    "Any number can be converted into an alphabet, except for 0, and substrings starting from 0.\n",
    "\n",
    "```\n",
    "s: 11106\n",
    "1: 11, 10, 6\n",
    "2: 1, 1, 10, 6\n",
    "```\n",
    "\n",
    "At each position, we can decode the current char, or the current+next chars."
   ]
  },
  {
   "cell_type": "code",
   "execution_count": 56,
   "id": "1fd5052f",
   "metadata": {},
   "outputs": [],
   "source": [
    "from functools import lru_cache\n",
    "\n",
    "class UniqueDecodings:\n",
    "    def solve(self, s):\n",
    "        self.ans = 0\n",
    "        valid = set([str(i) for i in range(1, 27)])\n",
    "        \n",
    "        @lru_cache(maxsize=None)\n",
    "        def decode(position):\n",
    "            if position == len(s):\n",
    "                return 1\n",
    "            else:\n",
    "                if s[position] in valid:\n",
    "                    single = decode(position+1)\n",
    "                    if (position+1) < len(s) and s[position:position+2] in valid:\n",
    "                        double = decode(position+2)\n",
    "                        return single + double\n",
    "                    else:\n",
    "                        return single\n",
    "                else:\n",
    "                    return 0\n",
    "                        \n",
    "        return decode(0)"
   ]
  },
  {
   "cell_type": "code",
   "execution_count": 58,
   "id": "68979841",
   "metadata": {},
   "outputs": [
    {
     "data": {
      "text/plain": [
       "2"
      ]
     },
     "execution_count": 58,
     "metadata": {},
     "output_type": "execute_result"
    }
   ],
   "source": [
    "t = UniqueDecodings()\n",
    "t.solve('11106')"
   ]
  },
  {
   "cell_type": "code",
   "execution_count": null,
   "id": "93e88b87",
   "metadata": {},
   "outputs": [],
   "source": []
  },
  {
   "cell_type": "code",
   "execution_count": null,
   "id": "995150e9",
   "metadata": {},
   "outputs": [],
   "source": []
  },
  {
   "cell_type": "code",
   "execution_count": null,
   "id": "b585b6da",
   "metadata": {},
   "outputs": [],
   "source": []
  },
  {
   "cell_type": "code",
   "execution_count": null,
   "id": "781068cc",
   "metadata": {},
   "outputs": [],
   "source": []
  },
  {
   "cell_type": "code",
   "execution_count": null,
   "id": "f118f4dd",
   "metadata": {},
   "outputs": [],
   "source": []
  },
  {
   "cell_type": "code",
   "execution_count": null,
   "id": "0766e17f",
   "metadata": {},
   "outputs": [],
   "source": []
  },
  {
   "cell_type": "code",
   "execution_count": null,
   "id": "67e4ee30",
   "metadata": {},
   "outputs": [],
   "source": []
  },
  {
   "cell_type": "code",
   "execution_count": null,
   "id": "99833935",
   "metadata": {},
   "outputs": [],
   "source": []
  },
  {
   "cell_type": "code",
   "execution_count": null,
   "id": "2cae0e97",
   "metadata": {},
   "outputs": [],
   "source": []
  },
  {
   "cell_type": "code",
   "execution_count": null,
   "id": "afec5fad",
   "metadata": {},
   "outputs": [],
   "source": []
  },
  {
   "cell_type": "code",
   "execution_count": null,
   "id": "12a7616e",
   "metadata": {},
   "outputs": [],
   "source": []
  },
  {
   "cell_type": "code",
   "execution_count": null,
   "id": "69dd8f35",
   "metadata": {},
   "outputs": [],
   "source": []
  }
 ],
 "metadata": {
  "kernelspec": {
   "display_name": "Python 3",
   "language": "python",
   "name": "python3"
  },
  "language_info": {
   "codemirror_mode": {
    "name": "ipython",
    "version": 3
   },
   "file_extension": ".py",
   "mimetype": "text/x-python",
   "name": "python",
   "nbconvert_exporter": "python",
   "pygments_lexer": "ipython3",
   "version": "3.8.8"
  }
 },
 "nbformat": 4,
 "nbformat_minor": 5
}
