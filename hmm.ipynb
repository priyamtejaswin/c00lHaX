{
 "cells": [
  {
   "cell_type": "markdown",
   "metadata": {},
   "source": [
    "# Implementing Various Parts of HMM"
   ]
  },
  {
   "cell_type": "markdown",
   "metadata": {},
   "source": [
    "- Two hidden states : [1_Hot, 2_Cold]\n",
    "- Three observed states : [0_Small, 1_Medium, 2_Large]\n",
    "- Init Probability : $\\pi = [0.6, 0.4]$\n",
    "- Transition Matrix $A$\n",
    "\n",
    "| t-1 => t | s0 | s_hot | s_cold |\n",
    "|----------|----|-------|--------|\n",
    "| **s0**       | 0  | 0.6   | 0.4    |\n",
    "| **s_hot**    | 0  | 0.7   | 0.3    |\n",
    "| **s_cold**   | 0  | 0.4   | 0.6    |\n",
    "\n",
    "\n",
    "- Emission Matrix $B$\n",
    "\n",
    "| zt => xt | 0_small | 1_medium | 2_large |\n",
    "|----------|---------|----------|---------|\n",
    "| s0       | NA       | NA        | NA       |\n",
    "| s_hot    | 0.1     | 0.4      | 0.5     |\n",
    "| s_cold   | 0.7     | 0.2      | 0.1     |"
   ]
  },
  {
   "cell_type": "code",
   "execution_count": 2,
   "metadata": {},
   "outputs": [],
   "source": [
    "## In numpy\n",
    "import numpy as np"
   ]
  },
  {
   "cell_type": "code",
   "execution_count": 3,
   "metadata": {},
   "outputs": [],
   "source": [
    "vocStates = 2\n",
    "vocObs = 3\n",
    "\n",
    "trA = np.array(\n",
    "    [\n",
    "        [0, 0.6, 0.4],\n",
    "        [0, 0.7, 0.3],\n",
    "        [0, 0.4, 0.6]\n",
    "    ]\n",
    ")\n",
    "\n",
    "emB = np.array(\n",
    "    [\n",
    "        [None, None, None],\n",
    "        [0.1, 0.4, 0.5],\n",
    "        [0.7, 0.2, 0.1]\n",
    "    ]\n",
    ")\n",
    "\n",
    "obX = [0, 1, 0, 2]"
   ]
  },
  {
   "cell_type": "markdown",
   "metadata": {},
   "source": [
    "### Task 1\n",
    "Given $A, B, \\pi$ and a observed sequence $\\vec{x} = (0, 1, 0, 2)$, what is the probability of observing this sequence?"
   ]
  },
  {
   "cell_type": "markdown",
   "metadata": {},
   "source": [
    "As derived, for a sequence $\\vec x$ given $A, B$, we can arrive at the following:\n",
    "$$\n",
    "P(\\vec x; A,B) = \\sum_{\\vec z} P(\\vec x, \\vec z; A,B) \\\\\n",
    "= \\sum_{\\vec z} \\big(\\prod_{t=1}^T B_{z_t, x_t}\\big) \\big(\\prod_{t=1}^T A_{z_{t-1}, z_t}\\big) \n",
    "$$"
   ]
  },
  {
   "cell_type": "markdown",
   "metadata": {},
   "source": [
    "This solution involves considering every possible state assignment combination for the output sequence."
   ]
  },
  {
   "cell_type": "code",
   "execution_count": 4,
   "metadata": {},
   "outputs": [
    {
     "name": "stdout",
     "output_type": "stream",
     "text": [
      "(1, 1, 1, 1) 0.000412 0.0004116\n",
      "(1, 1, 1, 2) 3.5e-05 0.00044688\n",
      "(1, 1, 2, 1) 0.000706 0.00115248\n",
      "(1, 1, 2, 2) 0.000212 0.00136416\n",
      "(1, 2, 1, 1) 5e-05 0.0014145599999999998\n",
      "(1, 2, 1, 2) 4e-06 0.0014188799999999998\n",
      "(1, 2, 2, 1) 0.000302 0.0017212799999999997\n",
      "(1, 2, 2, 2) 9.1e-05 0.0018119999999999998\n",
      "(2, 1, 1, 1) 0.001098 0.0029095999999999996\n",
      "(2, 1, 1, 2) 9.4e-05 0.0030036799999999995\n",
      "(2, 1, 2, 1) 0.001882 0.004885279999999999\n",
      "(2, 1, 2, 2) 0.000564 0.005449759999999999\n",
      "(2, 2, 1, 1) 0.00047 0.005920159999999999\n",
      "(2, 2, 1, 2) 4e-05 0.005960479999999999\n",
      "(2, 2, 2, 1) 0.002822 0.008782879999999998\n",
      "(2, 2, 2, 2) 0.000847 0.009629599999999999\n",
      "0.009629599999999999\n"
     ]
    }
   ],
   "source": [
    "total_prob = 0\n",
    "for i in range(1, 3):\n",
    "    for j in range(1, 3):\n",
    "        for k in range(1, 3):\n",
    "            for l in range(1, 3):\n",
    "                zprob = 1.0\n",
    "                zseq = (i, j, k, l)\n",
    "                for t, (z, x) in enumerate(zip(zseq, obX)):\n",
    "                    _b = emB[z, x]\n",
    "                    \n",
    "                    if t == 0:\n",
    "                        zprev = 0\n",
    "                    else:\n",
    "                        zprev = zseq[t-1]\n",
    "                    \n",
    "                    _a = trA[zprev, z]\n",
    "                    \n",
    "                    zprob = zprob * _a * _b\n",
    "                    \n",
    "                total_prob += zprob\n",
    "                print zseq, round(zprob, 6), total_prob\n",
    "                \n",
    "print total_prob"
   ]
  },
  {
   "cell_type": "markdown",
   "metadata": {},
   "source": [
    "This solution is naive. We are iterating over every combination of $\\vec z$ over time. Let's see if it can be done faster."
   ]
  },
  {
   "cell_type": "markdown",
   "metadata": {},
   "source": [
    "The task is to find $P(\\vec x)$ (matrices $A$, $B$ omitted for brevity). This can be expressed as\n",
    "$$\n",
    "P(\\vec x) = \\sum_{z_t} P(z_t, \\vec x)  \\tag0\n",
    "$$\n",
    "\n",
    "The equation above is true for any expression. Let's now try to expand $P(z_t, \\vec x)$ in terms of our emission and transition terms ...\n",
    "\n",
    "$$\n",
    "\\begin{align}\n",
    "P(z_t, x_{1:t}) &= \\sum_{z_{t-1}} P(z_t, z_{t-1}, x_{1:t}) \\tag1 \\\\\n",
    "&= \\sum_{z_{t-1}} P(x_t, z_t, z_{t-1}, x_{t-1}, x_{t-2}, ... , x_1) \\tag2 \\\\\n",
    "&= \\sum_{z_{t-1}} P(x_t | z_t) P(z_t, z_{t-1}, x_{1:t-1}) \\tag3 \\\\\n",
    "&= \\sum_{z_{t-1}} P(x_t | z_t) P(z_t | z_{t-1}) P(z_{t-1}, x_{1:t-1}) \\tag4 \\\\\n",
    "&= P(x_t | z_t) \\sum_{z_{t-1}} P(z_t | z_{t-1}) P(z_{t-1}, x_{1:t-1}) \\tag5\n",
    "\\end{align}\n",
    "$$"
   ]
  },
  {
   "cell_type": "markdown",
   "metadata": {},
   "source": [
    "In eq 1, we introduce a new hidden state var from previous timestep. Eq 2 simple expands $x_{1:t}$ before applying the Markov assumptions. In eq 3 we apply the emission prob. assumption and in eq 4 we apply the transition prob. assumption. Finally, in eq 5, we can take $P(x_t, z_t)$ out of the summand since we are iterating over values of $z_{t-1}$ only."
   ]
  },
  {
   "cell_type": "markdown",
   "metadata": {},
   "source": [
    "Observe that there is a recurrence b/w EQ1 and EQ5. If we define $\\alpha_z(t)$ to be $P(z_t, x_{1:t})$, then we can rewrite EQ 5 as follows:\n",
    "\n",
    "$$\n",
    "\\begin{align}\n",
    "P(z_t, x_{1:t}) &= P(x_t | z_t) \\sum_{z_{t-1}} P(z_t | z_{t-1}) P(z_{t-1}, x_{1:t-1}) \\\\\n",
    "\\rightarrow \\alpha_z(t) &= P(x_t | z_t) \\sum_{z_{t-1}} P(z_t | z_{t-1}) \\alpha_z(t-1) \\\\\n",
    "&= B_{z_t, x_t} \\sum_{z_{t-1}} A_{z_t, z_{t-1}} \\alpha_z(t-1)\n",
    "\\end{align}\n",
    "$$"
   ]
  },
  {
   "cell_type": "markdown",
   "metadata": {},
   "source": [
    "This expression only involves summing over all possible states of $z_i$, which in our example is 2. Our original expression EQ 0, thus becomes\n",
    "\n",
    "$$\n",
    "P(\\vec x) = \\sum_{z_t} P(z_t, \\vec x) = \\sum_z \\alpha_z(t = T)\n",
    "$$"
   ]
  },
  {
   "cell_type": "markdown",
   "metadata": {},
   "source": [
    "Now, we are no longer considering all possible combinations of the entire sequence of hidden states, but rather, the possible values of $z$, which in our example is 2. And to calculate $\\alpha(T)$, we will have to iterate over all timesteps."
   ]
  },
  {
   "cell_type": "code",
   "execution_count": 5,
   "metadata": {},
   "outputs": [],
   "source": [
    "from copy import deepcopy\n",
    "from IPython.core.debugger import set_trace"
   ]
  },
  {
   "cell_type": "code",
   "execution_count": 6,
   "metadata": {},
   "outputs": [],
   "source": [
    "_toy = \"\"\"\n",
    "====\n",
    "Init\n",
    "====\n",
    "_|_H_|_L_\n",
    "*|0.5|0.5\n",
    "\n",
    "============\n",
    "Transmission\n",
    "============\n",
    "_|_H_|_L_\n",
    "H|0.5|0.5\n",
    "L|0.4|0.6\n",
    "\n",
    "========\n",
    "Emission\n",
    "========\n",
    "_|_A_|_C_|_G_|_T_\n",
    "H|0.2|0.3|0.3|0.2\n",
    "L|0.3|0.2|0.2|0.3\n",
    "\n",
    "========\n",
    "Observed\n",
    "========\n",
    "[G G C A]\n",
    "\"\"\"\n",
    "states = ['H', 'L']\n",
    "genes = ['A', 'C', 'G', 'T']\n",
    "\n",
    "inits = [0.5, 0.5]\n",
    "\n",
    "trans = np.array(\n",
    "    [\n",
    "        [0.5, 0.5],\n",
    "        [0.4, 0.6]\n",
    "    ]\n",
    ")\n",
    "emmit = np.array(\n",
    "    [\n",
    "        [0.2, 0.3, 0.3, 0.2],\n",
    "        [0.3, 0.2, 0.2, 0.3]\n",
    "    ]\n",
    ")\n",
    "\n",
    "obsX = [2, 2, 1, 0]"
   ]
  },
  {
   "cell_type": "code",
   "execution_count": 7,
   "metadata": {},
   "outputs": [
    {
     "name": "stdout",
     "output_type": "stream",
     "text": [
      "(0, 0, 0, 0) 0.0003375 0.0003375\n",
      "(0, 0, 0, 1) 0.00050625 0.00084375\n",
      "(0, 0, 1, 0) 0.00018 0.00102375\n",
      "(0, 0, 1, 1) 0.0004049999999999999 0.00142875\n",
      "(0, 1, 0, 0) 0.00018 0.00160875\n",
      "(0, 1, 0, 1) 0.00027 0.00187875\n",
      "(0, 1, 1, 0) 0.000144 0.00202275\n",
      "(0, 1, 1, 1) 0.000324 0.00234675\n",
      "(1, 0, 0, 0) 0.00018000000000000004 0.00252675\n",
      "(1, 0, 0, 1) 0.00027 0.0027967499999999998\n",
      "(1, 0, 1, 0) 9.600000000000004e-05 0.00289275\n",
      "(1, 0, 1, 1) 0.00021600000000000005 0.00310875\n",
      "(1, 1, 0, 0) 0.000144 0.00325275\n",
      "(1, 1, 0, 1) 0.00021600000000000002 0.00346875\n",
      "(1, 1, 1, 0) 0.00011520000000000001 0.0035839500000000002\n",
      "(1, 1, 1, 1) 0.0002592 0.00384315\n"
     ]
    }
   ],
   "source": [
    "## Priyam, forget whatever shit you wrote on top.\n",
    "## We define `\\alpha` for every timestep AND every hidden state ==> `\\alpha_i(t)`.\n",
    "total_prob = 0\n",
    "\n",
    "for i in range(2):\n",
    "    for j in range(2):\n",
    "        for k in range(2):\n",
    "            for l in range(2):\n",
    "                prob = 1.0\n",
    "                zstates = (i, j, k, l)\n",
    "                \n",
    "                for t, (z, x) in enumerate(zip(zstates, obsX)):\n",
    "                    if t == 0:\n",
    "                        prob = prob * inits[z] * emmit[z, x]\n",
    "                    else:\n",
    "                        prob = prob * trans[zstates[t-1], z] * emmit[z, x]\n",
    "                \n",
    "                total_prob += prob\n",
    "                print zstates, prob, total_prob"
   ]
  },
  {
   "cell_type": "code",
   "execution_count": 8,
   "metadata": {},
   "outputs": [
    {
     "name": "stdout",
     "output_type": "stream",
     "text": [
      "\n",
      "====\n",
      "Init\n",
      "====\n",
      "_|_H_|_L_\n",
      "*|0.5|0.5\n",
      "\n",
      "============\n",
      "Transmission\n",
      "============\n",
      "_|_H_|_L_\n",
      "H|0.5|0.5\n",
      "L|0.4|0.6\n",
      "\n",
      "========\n",
      "Emission\n",
      "========\n",
      "_|_A_|_C_|_G_|_T_\n",
      "H|0.2|0.3|0.3|0.2\n",
      "L|0.3|0.2|0.2|0.3\n",
      "\n",
      "========\n",
      "Observed\n",
      "========\n",
      "[G G C A]\n",
      "\n"
     ]
    }
   ],
   "source": [
    "print _toy"
   ]
  },
  {
   "cell_type": "code",
   "execution_count": 10,
   "metadata": {},
   "outputs": [
    {
     "name": "stdout",
     "output_type": "stream",
     "text": [
      "0.0038431500000000005\n",
      "Matches brute force!\n"
     ]
    }
   ],
   "source": [
    "for t,x in enumerate(obsX):\n",
    "    if t == 0:\n",
    "        alpha_prev = []\n",
    "        for i in range(2):\n",
    "            alpha_prev.append(inits[i] * emmit[i, x])\n",
    "            \n",
    "    else:\n",
    "        alpha_new = []\n",
    "        for i in range(2):\n",
    "            _jsum = 0\n",
    "            for j in range(2):\n",
    "                _jsum += alpha_prev[j] * trans[j, i]\n",
    "            \n",
    "            alpha_new.append(_jsum * emmit[i, x])\n",
    "        \n",
    "        alpha_prev = deepcopy(alpha_new)\n",
    "        \n",
    "print sum(alpha_new)\n",
    "assert round(total_prob, 6) == round(sum(alpha_new), 6)\n",
    "print \"Matches brute force!\""
   ]
  },
  {
   "cell_type": "markdown",
   "metadata": {},
   "source": [
    "Now that we have it working, let's try deriving the *alpha-pass* algorithm again."
   ]
  },
  {
   "cell_type": "markdown",
   "metadata": {},
   "source": [
    "Following EQ 5, we can express the joint probability $P(z_t, x_{1:t})$ as \n",
    "\n",
    "$$\n",
    "\\begin{align}\n",
    "P(z_t, x_{1:t}) &= P(x_t | z_t) \\sum_{z_{t-1}} P(z_t | z_{t-1}) P(z_{t-1}, x_{1:t-1}) \\tag6\n",
    "\\end{align}\n",
    "$$"
   ]
  },
  {
   "cell_type": "markdown",
   "metadata": {},
   "source": [
    "Here, $z_t$ is simply a random variable whose value exists in the set of state values $S$; the joint distribution \"table\" is defined for all possible values that $z_t$ can have. Concretely, we can define the joint probability for a particular state value $s_i$ as:\n",
    "\n",
    "$$\n",
    "\\begin{align}\n",
    "P(z_t=s_i, x_{1:t}) &= P(x_t | z_t=s_i) \\sum_{s_j \\in S} P(z_t = s_i | z_{t-1} = s_j) \\times P(z_{t-1} = s_j, x_{1:t-1}) \\tag7\n",
    "\\end{align}\n",
    "$$"
   ]
  },
  {
   "cell_type": "markdown",
   "metadata": {},
   "source": [
    "With this view, we can define $\\alpha_t(s_i)$, as the probability of the observed partial sequnce upto time $t$ where $z_t = s_i$ :\n",
    "\n",
    "$$\n",
    "\\alpha_t(s_i) = P(z_t = s_i, x_{1:t}) \\tag8\n",
    "$$"
   ]
  },
  {
   "cell_type": "markdown",
   "metadata": {},
   "source": [
    "Now, we can re-write EQ7 in terms of $\\alpha, A, B$:\n",
    "\n",
    "$$\n",
    "\\alpha_t(s_i) = B_{s_i, x_t} \\sum_{s_j \\in S} A_{s_j, s_i} \\times \\alpha_{t-1}(s_j) \\tag9\n",
    "$$"
   ]
  },
  {
   "cell_type": "markdown",
   "metadata": {},
   "source": [
    "The base-case, for this recursive definition is for the first observation $x_1$. This is simply the probability of observing $x_1$ for all possible state assignment to $z_1$.\n",
    "\n",
    "$$\n",
    "\\alpha_1(s_i) = B_{s_i, x_1} \\pi_{s_i} \\tag{10}\n",
    "$$"
   ]
  },
  {
   "cell_type": "markdown",
   "metadata": {},
   "source": [
    "Using EQs 8, 9 and 10, we can express the probability of observing any sequnce $x_{1:T}$ as \n",
    "\n",
    "$$\n",
    "\\begin{align}\n",
    "P(x_{1:T}) &= \\sum_{s_i \\in S} P(x_{1:T}, z_T=s_i) \\\\\n",
    "&= \\sum_{s_i \\in S} \\alpha_T(s_i)\n",
    "\\end{align}\n",
    "$$"
   ]
  },
  {
   "cell_type": "markdown",
   "metadata": {},
   "source": [
    "Finally! We have now reduced the time-complexity from $O(|S|^T)$ to $O(|S|^2T)$. How?\n",
    "- To arrive at $\\alpha_T$, we will have to loop over all possible values of $T$.\n",
    "```python\n",
    "for t,x in enumerate(obsX):\n",
    "```\n",
    "\n",
    "- At every iteration, we will compute the intermediate value $\\alpha_t(s_i)$ for all $i$, which will require a sum over every state value $j$ from the previously computer $\\alpha_{t-1}$ (from EQ 9) -- hence the $|S|^2$.\n",
    "```python\n",
    "        alpha_new = []\n",
    "        for i in range(2): ## For current $\\alpha_t$\n",
    "            _jsum = 0\n",
    "            for j in range(2): ## From previous $\\alpha_{t-1}$\n",
    "                _jsum += alpha_prev[j] * trans[j, i]\n",
    "            \n",
    "            alpha_new.append(_jsum * emmit[i, x])\n",
    "        \n",
    "        alpha_prev = deepcopy(alpha_new)\n",
    "```\n",
    "\n",
    "Once the last `alpha_new` has been computed, the joint is simply the sum of probabilities over the states : `return sum(alpha_new)`"
   ]
  }
 ],
 "metadata": {
  "kernelspec": {
   "display_name": "Python 2",
   "language": "python",
   "name": "python2"
  },
  "language_info": {
   "codemirror_mode": {
    "name": "ipython",
    "version": 2
   },
   "file_extension": ".py",
   "mimetype": "text/x-python",
   "name": "python",
   "nbconvert_exporter": "python",
   "pygments_lexer": "ipython2",
   "version": "2.7.14"
  }
 },
 "nbformat": 4,
 "nbformat_minor": 2
}
